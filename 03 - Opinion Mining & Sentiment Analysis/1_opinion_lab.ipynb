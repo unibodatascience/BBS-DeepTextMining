{
  "cells": [
    {
      "cell_type": "markdown",
      "metadata": {
        "id": "view-in-github"
      },
      "source": [
        "<a href=\"https://colab.research.google.com/github/unibodatascience/BBS-TextMining/blob/gh-pages/05%20-%20Opinion%20Mining%20with%20Python%20(part%201)/1_opinion_lab.ipynb\" target=\"_parent\"><img src=\"https://colab.research.google.com/assets/colab-badge.svg\" alt=\"Open In Colab\"/></a>"
      ]
    },
    {
      "cell_type": "markdown",
      "metadata": {
        "id": "9Ff1tWjz9IMU"
      },
      "source": [
        "# Opinion Mining & Sentiment Analysis - part 1: Lab Activities\n",
        "\n",
        "**Text Mining unit**\n",
        "\n",
        "_Prof. Gianluca Moro, DISI, University of Bologna_\n",
        "\n",
        "**Bologna Business School** - Alma Mater Studiorum Università di Bologna"
      ]
    },
    {
      "cell_type": "markdown",
      "metadata": {
        "id": "UNVEJNfK9IMV"
      },
      "source": [
        "## Setup\n",
        "\n",
        "Import external libraries (thus verifying they are correctly installed)"
      ]
    },
    {
      "cell_type": "code",
      "execution_count": null,
      "metadata": {
        "id": "mahnniQH9IMV"
      },
      "outputs": [],
      "source": [
        "import pandas as pd\n",
        "import matplotlib.pyplot as plt\n",
        "import sklearn\n",
        "import nltk"
      ]
    },
    {
      "cell_type": "markdown",
      "metadata": {
        "id": "LqGAJAwE9IMY"
      },
      "source": [
        "If using IPython/Jupyter, run the following to render plots inline"
      ]
    },
    {
      "cell_type": "code",
      "execution_count": null,
      "metadata": {
        "id": "4F4jCZtw9IMY"
      },
      "outputs": [],
      "source": [
        "%matplotlib inline"
      ]
    },
    {
      "cell_type": "markdown",
      "metadata": {
        "id": "7XQSMiSN9IMa"
      },
      "source": [
        "Set some options in pandas for printing DataFrames"
      ]
    },
    {
      "cell_type": "code",
      "execution_count": null,
      "metadata": {
        "id": "p72mmuD39IMb"
      },
      "outputs": [],
      "source": [
        "pd.options.display.max_colwidth = 100\n",
        "pd.options.display.precision = 3"
      ]
    },
    {
      "cell_type": "markdown",
      "metadata": {
        "id": "naIH999P9IMd"
      },
      "source": [
        "Define a utility function to download data files if they are not already present in working directory"
      ]
    },
    {
      "cell_type": "code",
      "execution_count": null,
      "metadata": {
        "id": "N8v0EsMy9IMd"
      },
      "outputs": [],
      "source": [
        "import os\n",
        "from urllib.request import urlretrieve\n",
        "def download(file, url):\n",
        "    if not os.path.exists(file):\n",
        "        urlretrieve(url, file)"
      ]
    },
    {
      "cell_type": "markdown",
      "metadata": {
        "id": "ELPuiZa99IMf"
      },
      "source": [
        "## Activity 1: Twitter-based Opinion Mining\n",
        "\n",
        "**Goal:** evaluate from Twitter how much customers are satisfied of airline companies\n",
        "\n",
        "1. Collect tweets mentioning airline companies\n",
        "2. Define lists of opinion keywords\n",
        "3. Evaluate sentiment of each tweet\n",
        "4. Summarize sentiment for each airline company\n",
        "5. Extract customer satisfaction for companies from the ACSI website\n",
        "6. Compare scores estimated from Twitter with those extracted from ACSI"
      ]
    },
    {
      "cell_type": "markdown",
      "metadata": {
        "id": "wAkDuqRx9IMf"
      },
      "source": [
        "This is a list of the Twitter accounts of airline companies taken into consideration"
      ]
    },
    {
      "cell_type": "code",
      "execution_count": null,
      "metadata": {
        "id": "EZwtwx3F9IMg"
      },
      "outputs": [],
      "source": [
        "airlines = [\n",
        "    \"delta\",\n",
        "    \"americanair\",\n",
        "    \"jetblue\",\n",
        "    \"southwestair\",\n",
        "    \"united\"\n",
        "]"
      ]
    },
    {
      "cell_type": "markdown",
      "metadata": {
        "id": "VeYYAQJN9IMj"
      },
      "source": [
        "### Collect tweets citing airline companies\n",
        "\n",
        "Recent tweets matching a given query can be searched using the Twitter Search API; many libraries exist for Python and other languages providing easy access to the API\n",
        "\n",
        "We see here how to obtain tweets using the `TwitterSearch` package, installable with `pip install TwitterSearch`; a Twitter account with an associated mobile number is needed in order to use the API\n",
        "\n",
        "If you can't or don't want to use your Twitter account and/or install the package, you can use a set of pre-collected tweets we provide"
      ]
    },
    {
      "cell_type": "code",
      "execution_count": null,
      "metadata": {
        "colab": {
          "base_uri": "https://localhost:8080/"
        },
        "id": "-OoGLa6FsR9P",
        "outputId": "e23458c3-813e-40c6-a567-3f7eebdc34a2"
      },
      "outputs": [
        {
          "output_type": "stream",
          "name": "stdout",
          "text": [
            "Looking in indexes: https://pypi.org/simple, https://us-python.pkg.dev/colab-wheels/public/simple/\n",
            "Collecting TwitterSearch==1.0.2\n",
            "  Downloading TwitterSearch-1.0.2.tar.gz (20 kB)\n",
            "Requirement already satisfied: requests>=1.0.0 in /usr/local/lib/python3.7/dist-packages (from TwitterSearch==1.0.2) (2.23.0)\n",
            "Requirement already satisfied: requests-oauthlib>=0.3.0 in /usr/local/lib/python3.7/dist-packages (from TwitterSearch==1.0.2) (1.3.1)\n",
            "Requirement already satisfied: certifi>=2017.4.17 in /usr/local/lib/python3.7/dist-packages (from requests>=1.0.0->TwitterSearch==1.0.2) (2022.5.18.1)\n",
            "Requirement already satisfied: urllib3!=1.25.0,!=1.25.1,<1.26,>=1.21.1 in /usr/local/lib/python3.7/dist-packages (from requests>=1.0.0->TwitterSearch==1.0.2) (1.24.3)\n",
            "Requirement already satisfied: chardet<4,>=3.0.2 in /usr/local/lib/python3.7/dist-packages (from requests>=1.0.0->TwitterSearch==1.0.2) (3.0.4)\n",
            "Requirement already satisfied: idna<3,>=2.5 in /usr/local/lib/python3.7/dist-packages (from requests>=1.0.0->TwitterSearch==1.0.2) (2.10)\n",
            "Requirement already satisfied: oauthlib>=3.0.0 in /usr/local/lib/python3.7/dist-packages (from requests-oauthlib>=0.3.0->TwitterSearch==1.0.2) (3.2.0)\n",
            "Building wheels for collected packages: TwitterSearch\n",
            "  Building wheel for TwitterSearch (setup.py) ... \u001b[?25l\u001b[?25hdone\n",
            "  Created wheel for TwitterSearch: filename=TwitterSearch-1.0.2-py3-none-any.whl size=18463 sha256=1c88d75f56720f5d0a7ada49835dc7ac62f3fd3573b2ac8ca21cefa3cf6d2355\n",
            "  Stored in directory: /root/.cache/pip/wheels/d5/74/5f/f344ffff31a93ee504581a51aad34120bf05bd749493365840\n",
            "Successfully built TwitterSearch\n",
            "Installing collected packages: TwitterSearch\n",
            "Successfully installed TwitterSearch-1.0.2\n"
          ]
        }
      ],
      "source": [
        "!pip install TwitterSearch==1.0.2"
      ]
    },
    {
      "cell_type": "markdown",
      "metadata": {
        "id": "HORmDG1V9IMj"
      },
      "source": [
        "#### Creating a Twitter application\n",
        "\n",
        "In order to use Twitter APIs you need API keys: follow these steps to obtain one\n",
        "\n",
        "1. Go to https://developer.twitter.com/en/apps and login with your Twitter account\n",
        "2. Click the \"Create New App\" button, fill the form with short descriptive values (you may use e.g. \"http://example.com\" as the URL) and confirm\n",
        "3. Click on the app you just created and open the \"Key and Access Tokens\" tab\n",
        "4. For better security, ensure to set the Access Level to Read-only\n",
        "5. Click on the \"Create my access token\" button below\n",
        "\n",
        "You will need strings labeled with _Consumer Key_, _Consumer Secret_, _Access Token_ and _Access Token Secret_ shown in the page to use the API\n",
        "\n",
        "Create and load here the json file exactly like this filling it with your twitter data into the 4 strings\n",
        "\n",
        "{  \n",
        "    \"consumer_key\": \"\",  \n",
        "    \"consumer_secret\": \"\",  \n",
        "    \"access_token\": \"\",   \n",
        "    \"access_token_secret\": \"\"  \n",
        "}"
      ]
    },
    {
      "cell_type": "markdown",
      "metadata": {
        "id": "2tCYLFbaTyZ2"
      },
      "source": [
        "#### Loading keys\n",
        "\n",
        "Load the necessary Twitter security keys from file. \n",
        "\n",
        "*Software Security note*: avoid to leave secret keys hardcoded or write them in shell commands. Prefer keeping them in protected files or using secrets management tools"
      ]
    },
    {
      "cell_type": "code",
      "execution_count": null,
      "metadata": {
        "id": "e4T4LzxiT1UX",
        "colab": {
          "base_uri": "https://localhost:8080/",
          "height": 218
        },
        "outputId": "83cd4326-b679-4010-fb7c-3e1b04711afa"
      },
      "outputs": [
        {
          "output_type": "error",
          "ename": "FileNotFoundError",
          "evalue": "ignored",
          "traceback": [
            "\u001b[0;31m---------------------------------------------------------------------------\u001b[0m",
            "\u001b[0;31mFileNotFoundError\u001b[0m                         Traceback (most recent call last)",
            "\u001b[0;32m<ipython-input-8-7c235d384e25>\u001b[0m in \u001b[0;36m<module>\u001b[0;34m()\u001b[0m\n\u001b[1;32m      1\u001b[0m \u001b[0;32mimport\u001b[0m \u001b[0mjson\u001b[0m\u001b[0;34m\u001b[0m\u001b[0;34m\u001b[0m\u001b[0m\n\u001b[1;32m      2\u001b[0m \u001b[0;34m\u001b[0m\u001b[0m\n\u001b[0;32m----> 3\u001b[0;31m \u001b[0;32mwith\u001b[0m \u001b[0mopen\u001b[0m\u001b[0;34m(\u001b[0m\u001b[0;34m'twitter_keys.json'\u001b[0m\u001b[0;34m)\u001b[0m \u001b[0;32mas\u001b[0m \u001b[0mf\u001b[0m\u001b[0;34m:\u001b[0m\u001b[0;34m\u001b[0m\u001b[0;34m\u001b[0m\u001b[0m\n\u001b[0m\u001b[1;32m      4\u001b[0m   \u001b[0mkeys\u001b[0m \u001b[0;34m=\u001b[0m \u001b[0mjson\u001b[0m\u001b[0;34m.\u001b[0m\u001b[0mload\u001b[0m\u001b[0;34m(\u001b[0m\u001b[0mf\u001b[0m\u001b[0;34m)\u001b[0m\u001b[0;34m\u001b[0m\u001b[0;34m\u001b[0m\u001b[0m\n",
            "\u001b[0;31mFileNotFoundError\u001b[0m: [Errno 2] No such file or directory: 'twitter_keys.json'"
          ]
        }
      ],
      "source": [
        "import json\n",
        "\n",
        "with open('twitter_keys.json') as f:\n",
        "  keys = json.load(f)"
      ]
    },
    {
      "cell_type": "markdown",
      "metadata": {
        "id": "JYBhW_i09IMk"
      },
      "source": [
        "#### Authenticating\n",
        "\n",
        "Import the necessary classes and create a `TwitterSearch` object providing the API codes obtained above"
      ]
    },
    {
      "cell_type": "code",
      "execution_count": null,
      "metadata": {
        "id": "o5muh0UR9IMk"
      },
      "outputs": [],
      "source": [
        "from TwitterSearch import TwitterSearch, TwitterSearchOrder\n",
        "\n",
        "ts = TwitterSearch(\n",
        "    consumer_key = keys[\"consumer_key\"],\n",
        "    consumer_secret = keys[\"consumer_secret\"], \n",
        "    access_token = keys[\"access_token\"], \n",
        "    access_token_secret = keys[\"access_token_secret\"] \n",
        ")"
      ]
    },
    {
      "cell_type": "markdown",
      "metadata": {
        "id": "wnKcbMR79IMm"
      },
      "source": [
        "#### Obtaining tweets\n",
        "\n",
        "Create a `TwitterSearchOrder` indicating the tweets to search: we start for example by searching tweets about Delta Air Lines, whose Twitter account is \"@delta\"; by default the search will return up to 100 tweets, the upper limit set by Twitter for each request"
      ]
    },
    {
      "cell_type": "code",
      "execution_count": null,
      "metadata": {
        "id": "bfMohlNI9IMn"
      },
      "outputs": [],
      "source": [
        "tso = TwitterSearchOrder()\n",
        "tso.set_keywords([\"@delta\"]) # for query syntax see https://twittersearch.readthedocs.io/en/latest/advanced_usage_tso.html \n",
        "tso.set_language(\"en\")\n",
        "tso.set_include_entities(False)  # such as hashtags, symbols, user_mentions, urls\n",
        "tso.set_count(5) # To limit the search to five tweets"
      ]
    },
    {
      "cell_type": "markdown",
      "metadata": {
        "id": "B_MWWTcN9IMo"
      },
      "source": [
        "We can now issue the request to the Twitter API\n",
        "\n",
        "**Warning:** the Twitter API has usage rate limitations, `search_tweets` and other API methods will temporarily stop working if executed many times in few minutes"
      ]
    },
    {
      "cell_type": "code",
      "execution_count": null,
      "metadata": {
        "id": "w2GkB71N9IMp"
      },
      "outputs": [],
      "source": [
        "tsresp = ts.search_tweets(tso)\n",
        "tsresp  # Print the search result retrieved as JSON object"
      ]
    },
    {
      "cell_type": "code",
      "execution_count": null,
      "metadata": {
        "id": "bzIvL9l5lqZ8"
      },
      "outputs": [],
      "source": [
        "list(tsresp['content']['statuses'])[:2] # first two tweets"
      ]
    },
    {
      "cell_type": "markdown",
      "metadata": {
        "id": "sDdUPf659IMq"
      },
      "source": [
        "We obtain an object with detailed information about the request and the response by Twitter, to obtain the list of tweets:"
      ]
    },
    {
      "cell_type": "code",
      "execution_count": null,
      "metadata": {
        "id": "AWwj7bEy9IMr"
      },
      "outputs": [],
      "source": [
        "delta_tweets = tsresp[\"content\"][\"statuses\"]\n",
        "delta_tweets[0] # First tweet data"
      ]
    },
    {
      "cell_type": "markdown",
      "metadata": {
        "id": "FjUN5pSD9IMs"
      },
      "source": [
        "For each tweet we have an object with many details: among the key ones we have its unique ID, the name of the author and its actual text"
      ]
    },
    {
      "cell_type": "code",
      "execution_count": null,
      "metadata": {
        "id": "ncZvBikP9IMt"
      },
      "outputs": [],
      "source": [
        "delta_tweets[0][\"id\"]"
      ]
    },
    {
      "cell_type": "code",
      "execution_count": null,
      "metadata": {
        "id": "7MjVSGsJ9IMv"
      },
      "outputs": [],
      "source": [
        "delta_tweets[0][\"user\"][\"name\"]"
      ]
    },
    {
      "cell_type": "code",
      "execution_count": null,
      "metadata": {
        "id": "HMTV3-cQ9IMx"
      },
      "outputs": [],
      "source": [
        "delta_tweets[0][\"text\"]"
      ]
    },
    {
      "cell_type": "markdown",
      "metadata": {
        "id": "KTfoH9L89IMz"
      },
      "source": [
        "Define a function to repeat the operations given above on any search string and return a list of the contents of each tweet (without metadata)"
      ]
    },
    {
      "cell_type": "code",
      "execution_count": null,
      "metadata": {
        "id": "dIJlfOIX9IMz"
      },
      "outputs": [],
      "source": [
        "def get_recent_tweets(query):\n",
        "    print(\"getting tweets for '{}' ... \".format(query), end=\"\")\n",
        "    tso = TwitterSearchOrder()\n",
        "    tso.set_keywords([query]) # the keywords of our tweets search\n",
        "    tso.set_language(\"en\") # fetch only english tweets\n",
        "    tso.set_include_entities(False) # Entities provide metadata and additional contextual information about content posted on Twitter (e.g. hashtags, urls, user_mentions, symbols). https://developer.twitter.com/en/docs/twitter-api/v1/data-dictionary/object-model/entities\n",
        "    tso.set_count(5) # the number of tweets we want to get. If ommitted it is set to 100 that is also the maximum value\n",
        "    tsresp = ts.search_tweets(tso)\n",
        "    texts = [status[\"text\"] for status in tsresp[\"content\"][\"statuses\"]]\n",
        "    print(\"{} retrieved\".format(len(texts)))\n",
        "    return texts"
      ]
    },
    {
      "cell_type": "markdown",
      "metadata": {
        "id": "xDC-Z8Md9IM1"
      },
      "source": [
        "Use then this function to create a dictionary mapping airline names to list of relevant tweets"
      ]
    },
    {
      "cell_type": "code",
      "execution_count": null,
      "metadata": {
        "id": "HeWeR8-h9IM1"
      },
      "outputs": [],
      "source": [
        "current_tweets = {\n",
        "    airline: get_recent_tweets(\"@\" + airline)\n",
        "    for airline in airlines\n",
        "}"
      ]
    },
    {
      "cell_type": "code",
      "execution_count": null,
      "metadata": {
        "id": "6WUU2w7RlJFE"
      },
      "outputs": [],
      "source": [
        "current_tweets"
      ]
    },
    {
      "cell_type": "code",
      "execution_count": null,
      "metadata": {
        "id": "hW7g6aIYleKr"
      },
      "outputs": [],
      "source": [
        "current_tweets[\"delta\"][:3] # first 3 tweets about delta"
      ]
    },
    {
      "cell_type": "markdown",
      "metadata": {
        "id": "pjfbPhaw9IM4"
      },
      "source": [
        "### Using pre-collected tweets\n",
        "\n",
        "For convenience, we provide a set of precollected tweets about the airline companies as an alternative to latest tweets"
      ]
    },
    {
      "cell_type": "code",
      "execution_count": null,
      "metadata": {
        "id": "rJXE4I_I9IM4"
      },
      "outputs": [],
      "source": [
        "download(\"tweets.zip\", \"https://github.com/unibodatascience/BBS-TextMining/raw/3ad6643b698f652f200dfbf463a3cb49de8c0e9f/05%20-%20Opinion%20Mining%20with%20Python%20(part%201)/data/tweets.zip\")"
      ]
    },
    {
      "cell_type": "markdown",
      "metadata": {
        "id": "4sEkMrRK9IM6"
      },
      "source": [
        "The ZIP archive contains a `company_name.txt` file for each airline company, each with a list of tweets (one per line): we load them into a dict mapping the name of each company to the list of relevant tweets"
      ]
    },
    {
      "cell_type": "code",
      "execution_count": null,
      "metadata": {
        "id": "MQzbR0hz9IM7"
      },
      "outputs": [],
      "source": [
        "from zipfile import ZipFile\n",
        "archive_tweets = {}\n",
        "with ZipFile(\"tweets.zip\") as zipf:\n",
        "    for airline in airlines:\n",
        "        with zipf.open(airline + \".txt\") as f:\n",
        "            archive_tweets[airline] = list(line.decode().strip() for line in f)"
      ]
    },
    {
      "cell_type": "markdown",
      "metadata": {
        "id": "ScC5ge499IM8"
      },
      "source": [
        "You can read for example some tweets about Delta airlines:"
      ]
    },
    {
      "cell_type": "code",
      "execution_count": null,
      "metadata": {
        "colab": {
          "base_uri": "https://localhost:8080/"
        },
        "id": "3rg0Nu9e9IM9",
        "outputId": "ca46cb1a-c6b3-4358-adb2-7f23185e9050"
      },
      "outputs": [
        {
          "output_type": "execute_result",
          "data": {
            "text/plain": [
              "['\"@LAKings: Are you the #LAKings biggest fan? Prove it and win a trip on @Delta to see the Kings vs Rangers in NY - http://t.co/JXBc5kDXnZ\"RT',\n",
              " '@AneetharPweety am @delta state buh on ma way to benin city now',\n",
              " 'RT @iamdiddy: If you’re flying out of JFK on @Delta you NEED to check out the new @CIROC VIP lounge at @Delta terminal at JFK. http://t.co/…']"
            ]
          },
          "metadata": {},
          "execution_count": 12
        }
      ],
      "source": [
        "archive_tweets[\"delta\"][:3]"
      ]
    },
    {
      "cell_type": "markdown",
      "metadata": {
        "id": "9-dWEteC9IM-"
      },
      "source": [
        "In the following we will work on these `archive_tweets`, replace that in the line below with `current_tweets` if you want to use downloaded tweets instead"
      ]
    },
    {
      "cell_type": "code",
      "execution_count": null,
      "metadata": {
        "id": "qO407nji9IM-"
      },
      "outputs": [],
      "source": [
        "tweets = archive_tweets # current_tweets"
      ]
    },
    {
      "cell_type": "markdown",
      "metadata": {
        "id": "khZAVoZV9INA"
      },
      "source": [
        "To better deal with them later, we represents tweets into a pandas DataFrame with two columns\n",
        "- a `text` column with the text of the tweet\n",
        "- an `airline` column with the airline each tweet refers to"
      ]
    },
    {
      "cell_type": "code",
      "execution_count": null,
      "metadata": {
        "id": "6_q-5J0N9INA"
      },
      "outputs": [],
      "source": [
        "tweets = pd.DataFrame(\n",
        "    {\"airline\": airline, \"text\": text}\n",
        "    for airline, tweetlist in tweets.items()\n",
        "    for text in tweetlist\n",
        ")"
      ]
    },
    {
      "cell_type": "code",
      "execution_count": null,
      "metadata": {
        "colab": {
          "base_uri": "https://localhost:8080/",
          "height": 143
        },
        "id": "BVxwWYH79INC",
        "outputId": "bc5e006e-4588-4fbb-c473-74cfa8dcffa7"
      },
      "outputs": [
        {
          "output_type": "execute_result",
          "data": {
            "text/plain": [
              "  airline  \\\n",
              "0   delta   \n",
              "1   delta   \n",
              "2   delta   \n",
              "\n",
              "                                                                                                  text  \n",
              "0  \"@LAKings: Are you the #LAKings biggest fan? Prove it and win a trip on @Delta to see the Kings ...  \n",
              "1                                      @AneetharPweety am @delta state buh on ma way to benin city now  \n",
              "2  RT @iamdiddy: If you’re flying out of JFK on @Delta you NEED to check out the new @CIROC VIP lou...  "
            ],
            "text/html": [
              "\n",
              "  <div id=\"df-7ef425f1-c918-4245-a0f2-85a7c907d84c\">\n",
              "    <div class=\"colab-df-container\">\n",
              "      <div>\n",
              "<style scoped>\n",
              "    .dataframe tbody tr th:only-of-type {\n",
              "        vertical-align: middle;\n",
              "    }\n",
              "\n",
              "    .dataframe tbody tr th {\n",
              "        vertical-align: top;\n",
              "    }\n",
              "\n",
              "    .dataframe thead th {\n",
              "        text-align: right;\n",
              "    }\n",
              "</style>\n",
              "<table border=\"1\" class=\"dataframe\">\n",
              "  <thead>\n",
              "    <tr style=\"text-align: right;\">\n",
              "      <th></th>\n",
              "      <th>airline</th>\n",
              "      <th>text</th>\n",
              "    </tr>\n",
              "  </thead>\n",
              "  <tbody>\n",
              "    <tr>\n",
              "      <th>0</th>\n",
              "      <td>delta</td>\n",
              "      <td>\"@LAKings: Are you the #LAKings biggest fan? Prove it and win a trip on @Delta to see the Kings ...</td>\n",
              "    </tr>\n",
              "    <tr>\n",
              "      <th>1</th>\n",
              "      <td>delta</td>\n",
              "      <td>@AneetharPweety am @delta state buh on ma way to benin city now</td>\n",
              "    </tr>\n",
              "    <tr>\n",
              "      <th>2</th>\n",
              "      <td>delta</td>\n",
              "      <td>RT @iamdiddy: If you’re flying out of JFK on @Delta you NEED to check out the new @CIROC VIP lou...</td>\n",
              "    </tr>\n",
              "  </tbody>\n",
              "</table>\n",
              "</div>\n",
              "      <button class=\"colab-df-convert\" onclick=\"convertToInteractive('df-7ef425f1-c918-4245-a0f2-85a7c907d84c')\"\n",
              "              title=\"Convert this dataframe to an interactive table.\"\n",
              "              style=\"display:none;\">\n",
              "        \n",
              "  <svg xmlns=\"http://www.w3.org/2000/svg\" height=\"24px\"viewBox=\"0 0 24 24\"\n",
              "       width=\"24px\">\n",
              "    <path d=\"M0 0h24v24H0V0z\" fill=\"none\"/>\n",
              "    <path d=\"M18.56 5.44l.94 2.06.94-2.06 2.06-.94-2.06-.94-.94-2.06-.94 2.06-2.06.94zm-11 1L8.5 8.5l.94-2.06 2.06-.94-2.06-.94L8.5 2.5l-.94 2.06-2.06.94zm10 10l.94 2.06.94-2.06 2.06-.94-2.06-.94-.94-2.06-.94 2.06-2.06.94z\"/><path d=\"M17.41 7.96l-1.37-1.37c-.4-.4-.92-.59-1.43-.59-.52 0-1.04.2-1.43.59L10.3 9.45l-7.72 7.72c-.78.78-.78 2.05 0 2.83L4 21.41c.39.39.9.59 1.41.59.51 0 1.02-.2 1.41-.59l7.78-7.78 2.81-2.81c.8-.78.8-2.07 0-2.86zM5.41 20L4 18.59l7.72-7.72 1.47 1.35L5.41 20z\"/>\n",
              "  </svg>\n",
              "      </button>\n",
              "      \n",
              "  <style>\n",
              "    .colab-df-container {\n",
              "      display:flex;\n",
              "      flex-wrap:wrap;\n",
              "      gap: 12px;\n",
              "    }\n",
              "\n",
              "    .colab-df-convert {\n",
              "      background-color: #E8F0FE;\n",
              "      border: none;\n",
              "      border-radius: 50%;\n",
              "      cursor: pointer;\n",
              "      display: none;\n",
              "      fill: #1967D2;\n",
              "      height: 32px;\n",
              "      padding: 0 0 0 0;\n",
              "      width: 32px;\n",
              "    }\n",
              "\n",
              "    .colab-df-convert:hover {\n",
              "      background-color: #E2EBFA;\n",
              "      box-shadow: 0px 1px 2px rgba(60, 64, 67, 0.3), 0px 1px 3px 1px rgba(60, 64, 67, 0.15);\n",
              "      fill: #174EA6;\n",
              "    }\n",
              "\n",
              "    [theme=dark] .colab-df-convert {\n",
              "      background-color: #3B4455;\n",
              "      fill: #D2E3FC;\n",
              "    }\n",
              "\n",
              "    [theme=dark] .colab-df-convert:hover {\n",
              "      background-color: #434B5C;\n",
              "      box-shadow: 0px 1px 3px 1px rgba(0, 0, 0, 0.15);\n",
              "      filter: drop-shadow(0px 1px 2px rgba(0, 0, 0, 0.3));\n",
              "      fill: #FFFFFF;\n",
              "    }\n",
              "  </style>\n",
              "\n",
              "      <script>\n",
              "        const buttonEl =\n",
              "          document.querySelector('#df-7ef425f1-c918-4245-a0f2-85a7c907d84c button.colab-df-convert');\n",
              "        buttonEl.style.display =\n",
              "          google.colab.kernel.accessAllowed ? 'block' : 'none';\n",
              "\n",
              "        async function convertToInteractive(key) {\n",
              "          const element = document.querySelector('#df-7ef425f1-c918-4245-a0f2-85a7c907d84c');\n",
              "          const dataTable =\n",
              "            await google.colab.kernel.invokeFunction('convertToInteractive',\n",
              "                                                     [key], {});\n",
              "          if (!dataTable) return;\n",
              "\n",
              "          const docLinkHtml = 'Like what you see? Visit the ' +\n",
              "            '<a target=\"_blank\" href=https://colab.research.google.com/notebooks/data_table.ipynb>data table notebook</a>'\n",
              "            + ' to learn more about interactive tables.';\n",
              "          element.innerHTML = '';\n",
              "          dataTable['output_type'] = 'display_data';\n",
              "          await google.colab.output.renderOutput(dataTable, element);\n",
              "          const docLink = document.createElement('div');\n",
              "          docLink.innerHTML = docLinkHtml;\n",
              "          element.appendChild(docLink);\n",
              "        }\n",
              "      </script>\n",
              "    </div>\n",
              "  </div>\n",
              "  "
            ]
          },
          "metadata": {},
          "execution_count": 15
        }
      ],
      "source": [
        "tweets.head(3)"
      ]
    },
    {
      "cell_type": "markdown",
      "metadata": {
        "id": "qKrg7s8f9INF"
      },
      "source": [
        "### Estimating sentiment using lists of opinion words\n",
        "\n",
        "Several methods and algorithms have been proposed in literature to estimate the sentiment of a document (or sentence), usually quite complex.\n",
        "\n",
        "To get started, we will use a simple lexicon-based method which assigns a score by counting known positive and negative words in each tweet.\n",
        "\n",
        "Hu and Liu made available for download a list of about 6,800 words labeled as either positive or negative.\n",
        "\n",
        "- **Positive:** love, best, cool, great, good, amazing, ...\n",
        "- **Negative:** hate, worst, sucks, awful, nightmare, ..."
      ]
    },
    {
      "cell_type": "markdown",
      "metadata": {
        "id": "ZrgWberF9INF"
      },
      "source": [
        "We write\n",
        "- a function used to process word lists, ignoring lines either empty or starting with \";\" (comments)\n",
        "- another function using the first one to get a set of words contained in a named file"
      ]
    },
    {
      "cell_type": "code",
      "execution_count": null,
      "metadata": {
        "id": "BBxH-BSW9ING"
      },
      "outputs": [],
      "source": [
        "def scan_hu_liu(f):\n",
        "    for line in f:\n",
        "        line = line.decode(errors=\"ignore\").strip() # strip() function removes spaces at the beginning and at the end of the string\n",
        "        if line and not line.startswith(\";\"):\n",
        "            yield line\n",
        "\n",
        "def load_hu_liu(filename):\n",
        "    with open(filename, \"rb\") as f:  # b binary mode\n",
        "        return set(scan_hu_liu(f)) # set(...) is the build function to create a new Python set {}"
      ]
    },
    {
      "cell_type": "markdown",
      "metadata": {
        "id": "mqbslQd69INI"
      },
      "source": [
        "We then download the two sets (one for positive words and one for negative ones) and use the latter function to load them"
      ]
    },
    {
      "cell_type": "code",
      "execution_count": null,
      "metadata": {
        "colab": {
          "base_uri": "https://localhost:8080/"
        },
        "id": "xAfuoln99INI",
        "outputId": "e9cf9ab2-725a-4e8f-940c-c94040b29988"
      },
      "outputs": [
        {
          "output_type": "stream",
          "name": "stdout",
          "text": [
            "Positive words\n",
            "{'erudite', 'convincingly', 'truthfulness', 'masterful', 'proving', 'indulgent', 'cure-all', 'enlighten', 'contribution', 'softer', 'compatible', 'wonder', 'whooa', 'sturdier', 'cherub', 'awe', 'wowing', 'goodness', 'work', 'hallowed', 'successful', 'famed', 'providence', 'encouragement', 'playful', 'beneficial', 'bravery', 'frugal', 'recovery', 'eminence', 'bless', 'pep', 'unrestricted', 'prize', 'feasibly', 'patience', 'geeky', 'straightforward', 'celebrate', 'cooperatively', 'prosper', 'charismatic', 'courageous', 'sincerity', 'doubtless', 'nicely', 'agreeably', 'bargain', 'ardently', 'fervid', 'precise', 'well-positioned', 'enchantingly', 'excited', 'thrills', 'maturity', 'examplary', 'fidelity', 'rewardingly', 'stirringly', 'stellar', 'beautifully', 'succeeded', 'backbone', 'unwavering', 'integrated', 'joyously', 'proficiently', 'leverage', 'warmer', 'dominated', 'industrious', 'versatile', 'dotingly', 'indebted', 'treasure', 'poised', 'humor', 'solidarity', 'enjoyment', 'tranquil', 'crisper', 'fabulous', 'radiant', 'ameliorate', 'catchy', 'delightfully', 'marvelously', 'neatly', 'effectively', 'individualized', 'lively', 'exhilarating', 'palatial', 'upliftment', 'appreciated', 'nourishment', 'enhanced', 'likable', 'morality', 'cute', 'pride', 'available', 'refund', 'tingle', 'radiance', 'windfall', 'charisma', 'likes', 'sweeping', 'bonus', 'gallant', 'thankful', 'subsidizing', 'charitable', 'jubilant', 'tidy', 'award', 'comforting', 'efficacious', 'foremost', 'ample', 'outperformed', 'respectful', 'peaceful', 'civilize', 'truthful', 'wisdom', 'fanfare', 'enraptured', 'impeccably', 'works', 'heros', 'low-price', 'perfect', 'clearly', 'thrift', 'redeeming', 'delight', 'colorful', 'skillful', 'capable', 'principled', 'reliably', 'enrapt', 'credible', 'richly', 'quieter', 'enthralled', 'compliant', 'cherished', 'abounds', 'significant', 'meaningful', 'laudable', 'stylized', 'slick', 'admirer', 'outstanding', 'liking', 'high-quality', 'affability', 'freedom', 'viewable', 'preferable', 'punctual', 'sagely', 'enhance', 'expertly', 'energy-saving', 'kindliness', 'blessing', 'blithe', 'strikingly', 'relish', 'talented', 'invincibility', 'flashy', 'satisified', 'fastest', 'steadiness', 'advantageous', 'smoothest', 'admirably', 'elan', 'lawful', 'nicer', 'luxuriously', 'reasoned', 'elegance', 'compactly', 'sturdy', 'mind-blowing', 'nimble', 'sensibly', 'dead-on', 'valiantly', 'worked', 'invincible', 'revive', 'rapturously', 'reward', 'prospros', 'peps', 'astonishing', 'coherence', 'accomodative', 'famous', 'gutsy', 'easier', 'smartest', 'pleasurable', 'quaint', 'fiery', 'jubilate', 'benefit', 'hooray', 'redeem', 'enjoy', 'unassailable', 'glorify', 'smoothes', 'exemplar', 'unselfish', 'gentlest', 'alluring', 'surpass', 'brotherly', 'accomplishments', 'faultless', 'unabashedly', 'captivate', 'titillate', 'obsessions', 'happy', 'convienient', 'poignant', 'cleanest', 'exhilaratingly', 'excels', 'abundant', 'regally', 'joyous', 'jolly', 'brave', 'lover', 'propitiously', 'remunerate', 'sensitive', 'light-hearted', 'responsive', 'passionately', 'bullish', 'godsend', 'winner', 'exhilaration', 'acclaim', 'innocuous', 'enjoyed', 'gratify', 'master', 'exhilarate', 'tender', 'toll-free', 'fantastically', 'uplift', 'ecstatic', 'well-run', 'well-being', 'angelic', 'excitement', 'steadfastly', 'helpful', 'agilely', 'flawless', 'sustainable', 'advocated', 'mastery', 'enthusiasm', 'admiring', 'lean', 'reachable', 'dignify', 'promoter', 'recommended', 'tenacity', 'pamper', 'cherish', 'dazzling', 'rejoice', 'substantive', 'adorer', 'thrilled', 'congratulations', 'relent', 'wow', 'innovative', 'fervently', 'famously', 'liberate', 'advocate', 'suave', 'liberty', 'fast-growing', 'well-known', 'effortlessly', 'smooth', 'propitious', 'elation', 'swankiest', 'chic', 'remarkable', 'painlessly', 'miraculously', 'tempting', 'productive', 'luckiness', 'lush', 'revel', 'renaissance', 'purposeful', 'gain', 'rectifying', 'gratified', 'ingeniously', 'triumph', 'graciousness', 'enviousness', 'heroically', 'bolster', 'sincerely', 'flexible', 'vivid', 'elevate', 'speedily', 'educated', 'noble', 'modesty', 'gaiety', 'pampers', 'generosity', 'razor-sharp', 'top', 'humorous', 'sharp', 'proves', 'youthful', 'mesmerizingly', 'champ', 'spellbound', 'indulgence', 'poeticize', 'succes', 'uplifting', 'acumen', 'comfortable', 'delighted', 'outshone', 'skilled', 'foresight', 'masterfully', 'civility', 'miracle', 'fortunately', 'oasis', 'profoundly', 'congratulatory', 'irresistible', 'relief', 'upscale', 'perfectly', 'eagerly', 'marvelousness', 'enviably', 'wholeheartedly', 'magical', 'stable', 'ardent', 'revolutionized', 'magnificence', 'exalt', 'calm', 'fabulously', 'breakthrough', 'goodly', 'luckiest', 'best-known', 'gold', 'ilu', 'gorgeous', 'revitalize', 'rapture', 'brainiest', 'accolades', 'ideally', 'stupendously', 'intricate', 'improvement', 'affluent', 'dignity', 'mesmerize', 'well-bred', 'heartwarming', 'rock-stars', 'exemplary', 'reputable', 'perfection', 'freed', 'wealthy', 'ecstasies', 'dirt-cheap', 'thrilling', 'enthuse', 'hearten', 'fast', 'rightfully', 'keen', 'intimate', 'first-rate', 'infallible', 'succeeding', 'fascinating', 'advantage', 'well-established', 'fondly', 'right', 'adoringly', 'calmness', 'prudence', 'succeeds', 'aspiration', 'flourish', 'righteousness', 'unencumbered', 'thrillingly', 'ecenomical', 'splendidly', 'jaw-dropping', 'peach', 'altruistic', 'excellant', 'genius', 'illuminate', 'courageousness', 'hilarious', 'exultation', 'sweetness', 'goodwill', 'hardy', 'excel', 'restructuring', 'heaven', 'upbeat', 'resplendent', 'affirmative', 'obsession', 'exonerate', 'prompt', 'compassion', 'excelent', 'fruitful', 'galore', 'pepping', 'modern', 'cleaner', 'steady', 'aspire', 'delightful', 'joyful', 'beauteous', 'opulent', 'incredibly', 'rapt', 'idealize', 'trustworthiness', 'idolize', 'monumentally', 'cheapest', 'sane', 'justly', 'fond', 'undisputed', 'tolerable', 'peacefully', 'sleek', 'blossom', 'earnest', 'rectify', 'illustrious', 'passion', 'finely', 'stunningly', 'inpressed', 'thriving', 'saint', 'darling', 'praising', 'serenity', 'self-sufficient', 'prodigiously', 'classic', 'flattering', 'well-informed', 'shimmeringly', 'fertile', 'satisfying', 'amity', 'impress', 'lionhearted', 'persevere', 'amenable', 'cushy', 'supporting', 'veritable', 'danken', 'desirable', 'prefer', 'beauty', 'gained', 'appropriate', 'joyfully', 'formidable', 'marvelled', 'trendy', 'blissful', 'outperforms', 'elegant', 'generously', 'flourishing', 'smilingly', 'reassure', 'raptureous', 'glowing', 'glitz', 'comfy', 'uncomplicated', 'fondness', 'exalting', 'impartial', 'snazzy', 'cleanliness', 'amenity', 'diligence', 'romanticize', 'pleasantly', 'illuminati', 'fair', 'comely', 'fastest-growing', 'plusses', 'awed', 'thoughtfulness', 'enviously', 'stimulative', 'top-quality', 'dead-cheap', 'immaculately', 'effusiveness', 'amiable', 'great', 'suffices', 'swank', 'trust', 'prudent', 'considerate', 'fairness', 'memorable', 'ovation', 'succeed', 'fashionable', 'engaging', 'faithfulness', 'appreciatively', 'exceeding', 'affirmation', 'delicate', 'consistent', 'conciliatory', 'lighter', 'beckoned', 'smiling', 'merit', 'energy-efficient', 'flexibility', 'victory', 'astonished', 'lavishly', 'enchanted', 'soothe', 'low-cost', 'marveled', 'patient', 'fancy', 'low-risk', 'immense', 'accurate', 'gainfully', 'harmonize', 'effectual', 'charm', 'responsibly', 'temptingly', 'improving', 'phenomenally', 'enhancement', 'champion', 'fortuitously', 'swanky', 'daring', 'incredible', 'pamperedness', 'best-performing', 'reasonably', 'loves', 'winners', 'pre-eminent', 'resounding', 'exceeds', 'prolific', 'bliss', 'hale', 'glee', 'thoughtfully', 'handsomely', 'qualified', 'fave', 'loved', 'luminous', 'covenant', 'majestic', 'liked', 'gracious', 'non-violence', 'clean', 'victorious', 'manageable', 'quicker', 'cheer', 'noteworthy', 'complements', 'spellbinding', 'brilliances', 'progress', 'keenness', 'well-rounded', 'knowledgeable', 'restored', 'ambitious', 'wonderful', 'inviolable', 'benefits', 'straighten', 'defeated', 'excallent', 'fearless', 'sporty', 'marvellous', 'speedy', 'superiority', 'accurately', 'spontaneous', 'supremely', 'wins', 'remedy', 'pinnacle', 'supremacy', 'promising', 'ecstasy', 'pardon', 'enjoyable', 'faith', 'openness', 'genial', 'stately', 'revival', 'awesome', 'detachable', 'revere', 'saver', 'stimulates', 'novelty', 'soulful', 'roomy', 'willing', 'enthusiast', 'accolade', 'righten', 'restful', 'simplifies', 'brilliance', 'satisfy', 'heartening', 'extol', 'euphoric', 'pleasingly', 'hallmark', 'romantically', 'inventive', 'interesting', 'diligently', 'intuitive', 'restructured', 'secure', 'useful', 'enviable', 'acclamation', 'agreeable', 'intrigue', 'salute', 'entertain', 'reforming', 'hard-working', 'fearlessly', 'replaceable', 'handily', 'welcome', 'consistently', 'crisp', 'homage', 'intelligent', 'elegantly', 'rejoicing', 'believeable', 'evaluative', 'firmer', 'feature-rich', 'large-capacity', 'worthy', 'stability', 'blameless', 'insightfully', 'wowed', 'realistic', 'adaptable', 'prominent', 'attune', 'topnotch', 'prestigious', 'prodigious', 'talent', 'decisive', 'instructive', 'pure', 'celebratory', 'staunchly', 'magnanimously', 'outsmart', 'heroize', 'grateful', 'precious', 'influential', 'successfully', 'dynamic', 'luxuriant', 'uphold', 'mercy', 'affirm', 'inexpensive', 'leading', 'praiseworthy', 'rosy', 'motivated', 'faster', 'thrive', 'well-received', 'flutter', 'well', 'affectionate', 'humility', 'gratifies', 'obtainable', 'willingly', 'irreplaceable', 'fortunate', 'accomplished', 'fashionably', 'advantages', 'humane', 'sufficient', 'soft', 'miraculous', 'progressive', 'zippy', 'cheaper', 'important', 'exultingly', 'extraordinarily', 'marvel', 'gladden', 'unbeatable', 'adjustable', 'breeze', 'endear', 'greatness', 'enchant', 'respectable', 'counter-attacks', 'amazing', 'trusty', 'satisfactorily', 'renowned', 'prudently', 'fortitude', 'cost-effective', 'overtaking', 'gaily', 'enticing', 'beneficent', 'continuity', 'fresh', 'optimism', 'delightfulness', 'fortuitous', 'agility', 'affluence', 'harmless', 'heal', 'intelligible', 'refinement', 'kid-friendly', 'useable', 'gumption', 'wholesome', 'merriment', 'glowingly', 'advantageously', 'jollify', 'illuminating', 'accommodative', 'stunned', 'helping', 'beautifullly', 'tempt', 'resourceful', 'well-mannered', 'boom', 'handy', 'profuse', 'lawfully', 'hospitable', 'felicitate', 'gem', 'trump', 'coolest', 'entrancing', 'commend', 'distinguished', 'ergonomical', 'honor', 'smarter', 'simplifying', 'graceful', 'hottest', 'endorses', 'captivating', 'amusing', 'protect', 'impressed', 'majesty', 'gorgeously', 'modest', 'enchanting', 'articulate', 'glory', 'swift', 'fast-paced', 'gracefully', 'envy', 'vouchsafe', 'refresh', 'clever', 'unquestionable', 'enthral', 'beneficially', 'effective', 'unforgettable', 'innovation', 'effectiveness', 'courage', 'skill', 'tops', 'appreciates', 'mesmerized', 'felicity', 'beautify', 'rapport', 'richness', 'guidance', 'balanced', 'originality', 'lifesaver', 'exaltedly', 'approve', 'low-priced', 'poise', 'unrivaled', 'receptive', 'comprehensive', 'credence', 'beautiful', 'harmoniously', 'understandable', 'fulfillment', 'zenith', 'autonomous', 'adore', 'stabilize', 'impartiality', 'agile', 'deservedly', 'encouragingly', 'affable', 'handsome', 'regal', 'rejuvenating', 'sprightly', 'spectacular', 'timely', 'cohere', 'problem-solver', 'rightly', 'cleanly', 'respite', 'stylishly', 'surreal', 'revelation', 'nourishing', 'fairly', 'affinity', 'unlimited', 'amazement', 'outstrip', 'fine', 'problem-free', 'overtaken', 'tougher', 'astonishment', 'breathtaking', 'paramount', 'reconciliation', 'readable', 'stupendous', 'assuredly', 'nobly', 'eager', 'solace', 'celebration', 'bonny', 'reforms', 'bonuses', 'pleasant', 'reconcile', 'supported', 'healthy', 'rapid', 'notably', 'love', 'triumphant', 'jubiliant', 'exuberantly', 'unfettered', 'staunch', 'benevolence', 'charmingly', 'decency', 'accessable', 'masters', 'dumbfounding', 'eagerness', 'twinkly', 'benevolent', 'sumptuous', 'unmatched', 'outstandingly', 'dedicated', 'hotcakes', 'enrich', 'excellently', 'sensible', 'authoritative', 'slammin', 'hero', 'pleasure', 'mercifully', 'steadiest', 'subsidizes', 'rightness', 'irreproachable', 'spectacularly', 'undisputably', 'dominates', 'refined', 'flawlessly', 'tenaciously', 'avid', 'suitable', 'supurb', 'amuse', 'traction', 'vigilance', 'creative', 'encouraging', 'err-free', 'dependably', 'favorited', 'instantly', 'pretty', 'insightful', 'afford', 'tremendously', 'efficient', 'consummate', 'ingenious', 'sensation', 'embolden', 'excelled', 'genuine', 'congratulation', 'god-send', 'amusingly', 'appreciate', 'positive', 'inspirational', 'invigorate', 'luster', 'adulation', 'honored', 'prosperity', 'better-than-expected', 'correctly', 'stunning', 'jaw-droping', 'patriot', 'dauntless', 'wisely', 'ambitiously', 'idyllic', 'mightily', 'mesmerizes', 'commendably', 'astonish', 'beneficiary', 'promises', 'refreshing', 'securely', 'eases', 'perseverance', 'congratulate', 'support', 'impressiveness', 'better-known', 'safely', 'vibrantly', 'sociable', 'god-given', 'upliftingly', 'amiabily', 'overtook', 'entice', 'eyecatching', 'convience', 'luxuriate', 'attractively', 'unbiased', 'enjoys', 'astounded', 'outshine', 'euphorically', 'adaptive', 'intriguingly', 'dummy-proof', 'auspicious', 'positives', 'holy', 'self-determination', 'achievement', 'agreeableness', 'endorsing', 'grin', 'chaste', 'economical', 'exult', 'deginified', 'luxury', 'warmly', 'panoramic', 'reaffirmation', 'tantalizing', 'expansive', 'eventful', 'rockstars', 'sparkling', 'preferably', 'comfort', 'sufficiently', 'stronger', 'thumb-up', 'commendable', 'portable', 'undamaged', 'amicable', 'cajole', 'openly', 'astutely', 'celebrated', 'improve', 'dextrous', 'staunchness', 'joy', 'adventuresome', 'mature', 'fascination', 'blockbuster', 'unconditional', 'miraculousness', 'delicacy', 'sparkle', 'festive', 'geekier', 'supurbly', 'overtake', 'friendly', 'glimmering', 'impressively', 'cost-saving', 'savvy', 'sumptuousness', 'personages', 'reasonable', 'enticed', 'effusive', 'aver', 'gainful', 'merry', 'rich', 'affectation', 'tranquility', 'prominence', 'excitingly', 'complemented', 'exquisitely', 'cashbacks', 'phenomenal', 'sustainability', 'enlightenment', 'endorsed', 'state-of-the-art', 'gooood', 'recover', 'heroine', 'coherent', 'unabashed', 'correct', 'counter-attack', 'desirous', 'valiant', 'triumphantly', 'remarkably', 'inestimable', 'triumphal', 'accessible', 'breakthroughs', 'diplomatic', 'wonderously', 'rewarding', 'striving', 'smart', 'euphoria', 'helped', 'bloom', 'clear-cut', 'efficiently', 'lovable', 'self-respect', 'reform', 'inspiration', 'abundance', 'romantic', 'fav', 'accomplishment', 'avidly', 'realizable', 'adorable', 'attractive', 'clear', 'pleasurably', 'interests', 'super', 'commitment', 'heartfelt', 'awsome', 'dignified', 'gladness', 'worthwhile', 'distinction', 'tough', 'law-abiding', 'protection', 'glow', 'personalized', 'amaze', 'deft', 'feisty', 'amiability', 'unequivocal', 'evenly', 'clears', 'pain-free', 'gush', 'eulogize', 'ready', 'proper', 'deference', 'nurturing', 'generous', 'hail', 'upgraded', 'gratitude', 'supporter', 'favored', 'strongest', 'complementary', 'handier', 'bright', 'assure', 'productively', 'fervidly', 'outdo', 'first-in-class', 'illumine', 'skillfully', 'unfazed', 'gratification', 'wellbeing', 'honest', 'pamperedly', 'sharper', 'faithfully', 'sincere', 'confident', 'believable', 'soundly', 'entertaining', 'facilitate', 'good', 'beckon', 'verifiable', 'bravo', 'wonderfully', 'refine', 'promised', 'heartily', 'revolutionize', 'led', 'lucidly', 'grand', 'peaceable', 'trophy', 'brighten', 'smiles', 'compact', 'effusively', 'lovably', 'breathlessness', 'eye-catch', 'deserving', 'diversified', 'adequate', 'carefree', 'exceeded', 'imaculate', 'lucky', 'hotcake', 'polished', 'unaffected', 'seasoned', 'goood', 'fancinating', 'soothingly', 'stimulate', 'rejuvenate', 'positively', 'exceed', 'fantastic', 'dashing', 'honoring', 'hug', 'silent', 'rejoicingly', 'satisfies', 'fragrant', 'idolized', 'dote', 'scenic', 'advocates', 'wonders', 'merriness', 'astound', 'profusion', 'wondrous', 'desiring', 'rapturous', 'loyalty', 'spellbind', 'sumptuously', 'outperform', 'diligent', 'beloved', 'undaunted', 'popular', 'idol', 'ideal', 'plentiful', 'splendid', 'capably', 'thank', 'trivially', 'talents', 'excite', 'eyecatch', 'witty', 'merciful', 'protective', 'survival', 'gains', 'self-sufficiency', 'recomend', 'warmth', 'saintliness', 'variety', 'afordable', 'electrify', 'judicious', 'retractable', 'unparalleled', 'won', 'inviolate', 'sexy', 'finer', 'warmhearted', 'ebullient', 'salutary', 'intimacy', 'suffice', 'happily', 'supreme', 'solid', 'ingenuity', 'worth', 'brightest', 'distinctive', 'earnestly', 'elate', 'exceptional', 'divine', 'saintly', 'purify', 'trustingly', 'peppy', 'easing', 'well-managed', 'courtly', 'enliven', 'laudably', 'everlasting', 'lucrative', 'irresistibly', 'decisiveness', 'vouch', 'easy', 'smoother', 'swankier', 'trusted', 'a+', 'gratefully', 'adroitly', 'accomplish', 'fortune', 'issue-free', 'roomier', 'invulnerable', 'exellent', 'logical', 'brilliantly', 'vigilant', 'fine-looking', 'gifted', 'savior', 'reverent', 'nice', 'praise', 'enthrall', 'fervent', 'well-connected', 'solicitous', 'long-lasting', 'win', 'appeal', 'luxurious', 'altruistically', 'immaculate', 'delicious', 'authentic', 'versatility', 'impartially', 'superbly', 'privilege', 'defeating', 'edify', 'leads', 'inspiring', 'usable', 'whoooa', 'simpler', 'glorious', 'empathy', 'ebulliently', 'superior', 'gems', 'spiritual', 'breathtakingly', 'exultant', 'clarity', 'painless', 'preferring', 'striking', 'sagacity', 'sweeten', 'marvels', 'energize', 'stainless', 'navigable', 'infallibility', 'impeccable', 'wows', 'warm', 'beckons', 'visionary', 'self-satisfaction', 'sharpest', 'peerless', 'masterpieces', 'happier', 'bountiful', 'amazes', 'glisten', 'virtuously', 'well-made', 'effortless', 'righteously', 'expeditiously', 'exuberant', 'exceled', 'exuberance', 'enhances', 'sensational', 'dreamland', 'brilliant', 'permissible', 'sweetly', 'fascinate', 'pleased', 'lustrous', 'futurestic', 'felicitous', 'futuristic', 'enrapture', 'proven', 'preeminent', 'stimulating', 'adulate', 'dominate', 'elated', 'best-selling', 'proactive', 'honorable', 'monumental', 'stylish', 'boundless', 'first-class', 'maturely', 'compassionate', 'righteous', 'angel', 'patiently', 'defeats', 'dexterous', 'dawn', 'lyrical', 'devout', 'savings', 'pepped', 'world-famous', 'applaud', 'astoundingly', 'properly', 'adulatory', 'gratifying', 'reliable', 'eye-catching', 'affordable', 'examplar', 'kindness', 'imaginative', 'user-replaceable', 'rectification', 'terrific', 'proficient', 'precisely', 'gratifyingly', 'ftw', 'awesomely', 'exceedingly', 'enrichment', 'success', 'winnable', 'extraordinary', 'maneuverable', 'jubilantly', 'intelligence', 'classy', 'steadfast', 'awesomeness', 'dazzle', 'seamless', 'thumbs-up', 'advanced', 'infallibly', 'complimentary', 'prefered', 'confidence', 'better', 'wise', 'contentment', 'whoa', 'liberation', 'amply', 'thinner', 'daringly', 'mesmerizing', 'surmount', 'concise', 'integral', 'easy-to-use', 'beutifully', 'fans', 'admire', 'premier', 'regard', 'sensationally', 'hallmarks', 'headway', 'polite', 'resourcefulness', 'best', 'loveliness', 'record-setting', 'approval', 'supportive', 'tantalize', 'exciting', 'masterpiece', 'exaltation', 'proud', 'glamorous', 'audible', 'prodigy', 'neat', 'laud', 'risk-free', 'assurances', 'rejuvenated', 'amicability', 'earnestness', 'heroic', 'convient', 'amazed', 'enterprising', 'splendor', 'fancier', 'well-regarded', 'pleases', 'cohesive', 'convincing', 'courageously', 'spacious', 'gusto', 'awarded', 'assurance', 'ethical', 'picturesque', 'appreciable', 'audibly', 'prosperous', 'attraction', 'brighter', 'ingenuous', 'sufficed', 'excellency', 'cashback', 'endorsement', 'favour', 'lead', 'equitable', 'magnanimous', 'valor', 'adventurous', 'worth-while', 'adored', 'unreal', 'glad', 'enjoyably', 'high-spirited', 'respectfully', 'affordably', 'encourage', 'gentle', 'raptureously', 'resilient', 'richer', 'ingenuously', 'fresher', 'piety', 'powerful', 'harmony', 'amazingly', 'attentive', 'brainy', 'divinely', 'alluringly', 'truthfully', 'top-notch', 'appealing', 'time-honored', 'terrifically', 'all-around', 'spirited', 'meticulously', 'durable', 'optimal', 'eloquently', 'cooperative', 'robust', 'suavely', 'refunded', 'thoughtful', 'upheld', 'tenderly', 'amicably', 'selective', 'successes', 'subsidized', 'optimistic', 'readily', 'jubilation', 'flatter', 'astonishingly', 'unity', 'profound', 'favorite', 'conciliate', 'entrust', 'heavenly', 'fluent', 'harmonious', 'hands-down', 'momentous', 'rational', 'spellbindingly', 'trouble-free', 'reaffirm', 'patriotic', 'standout', 'comfortably', 'keenly', 'inestimably', 'pleasing', 'streamlined', 'prestige', 'contrasty', 'priceless', 'feasible', 'buoyant', 'dazzled', 'affection', 'simplest', 'nifty', 'chivalrous', 'rockstar', 'woo', 'steadfastness', 'cleared', 'prefers', 'winning', 'beckoning', 'solicitously', 'apotheosis', 'easiness', 'renewed', 'kudos', 'resound', 'glitter', 'entranced', 'outwit', 'lavish', 'excitedly', 'grace', 'elite', 'courteous', 'ease', 'cleverly', 'freshest', 'freedoms', 'finest', 'exceptionally', 'gloriously', 'redemption', 'energetic', 'levity', 'reformed', 'defender', 'brand-new', 'assuring', 'unequivocally', 'qualify', 'friendliness', 'frolic', 'shiny', 'fecilitous', 'yay', 'restructure', 'empower', 'valuable', 'fervor', 'resolute', 'meritorious', 'enticingly', 'glimmer', 'improvements', 'graciously', 'well-educated', 'mighty', 'satisfactory', 'flatteringly', 'ecstatically', 'legendary', 'shine', 'titillating', 'guiltless', 'hot', 'groundbreaking', 'outdone', 'rightful', 'dumbfounded', 'rock-star', 'poetic', 'fame', 'quiet', 'strong', 'easygoing', 'acclaimed', 'decent', 'eminent', 'serene', 'virtuous', 'posh', 'revolutionizes', 'intriguing', 'safe', 'revolutionary', 'simplified', 'unbound', 'glistening', 'complement', 'lower-priced', 'gleeful', 'subsidize', 'ultra-crisp', 'happiness', 'reverence', 'well-backlit', 'upgradeable', 'convenience', 'envious', 'tickle', 'trustworthy', 'humour', 'benifits', 'cure', 'delectable', 'ebullience', 'engrossing', 'elatedly', 'evocative', 'overtakes', 'excitedness', 'humourous', 'achievements', 'playfully', 'extoll', 'easiest', 'fascinatingly', 'excites', 'venerate', 'magic', 'compliment', 'loving', 'feat', 'pros', 'overjoyed', 'sweet', 'achievable', 'invaluablely', 'zeal', 'well-balanced', 'revives', 'stellarly', 'foolproof', 'lucid', 'lovely', 'like', 'constructive', 'undisputable', 'orderly', 'inspire', 'plush', 'prettily', 'capability', 'excellence', 'humorously', 'commodious', 'merrily', 'golden', 'meticulous', 'free', 'clearer', 'dexterously', 'competitive', 'favorable', 'promise', 'survivor', 'benefactor', 'exquisite', 'outperforming', 'statuesque', 'humble', 'hopeful', 'impresses', 'cozy', 'gaining', 'spotless', 'smitten', 'kindly', 'titillatingly', 'renown', 'enough', 'trumpet', 'impressive', 'enthusiastically', 'sophisticated', 'ennoble', 'luckier', 'snappy', 'calming', 'admiration', 'entertains', 'cornerstone', 'guarantee', 'admirable', 'respect', 'well-intentioned', 'thrifty', 'toughest', 'upgradable', 'overture', 'non-violent', 'zest', 'conveniently', 'brisk', 'vivacious', 'workable', 'shimmering', 'pampered', 'sublime', 'transparent', 'relaxed', 'peace', 'blissfully', 'dependable', 'gallantly', 'noiseless', 'improved', 'convenient', 'recommend', 'eloquence', 'togetherness', 'user-friendly', 'prowess', 'gladly', 'invaluable', 'reclaim', 'loyal', 'thrill', 'superb', 'tenacious', 'simplify', 'boost', 'passionate', 'privileged', 'chivalry', 'endorse', 'worthiness', 'ardor', 'supports', 'astounding', 'sensations', 'pluses', 'faithful', 'miracles', 'trusting', 'virtue', 'hardier', 'recommendation', 'fun', 'paradise', 'willingness', 'conscientious', 'unquestionably', 'cuteness', 'sweetheart', 'abound', 'favor', 'smoothly', 'recommendations', 'luck', 'charming', 'exaltingly', 'invigorating', 'nicest', 'adoring', 'aspirations', 'soundness', 'honesty', 'multi-purpose', 'promptly', 'enjoying', 'politeness', 'empowerment', 'peacekeepers', 'eloquent', 'magnificently', 'danke', 'reverently', 'greatest', 'neatest', 'smile', 'smartly', 'grandeur', 'effusion', 'admiringly', 'supple', 'marvelous', 'awestruck', 'congenial', 'eased', 'gleefully', 'tantalizingly', 'cheerful', 'affably', 'appreciative', 'booming', 'improves', 'preferes', 'vibrant', 'reputation', 'well-wishers', 'defeat', 'adroit', 'instrumental', 'halcyon', 'enthusiastic', 'well-behaved', 'swiftness', 'reassurance', 'matchless', 'excellent', 'achievible', 'destiny', 'nourish', 'awards', 'cool', 'godlike', 'wieldy', 'empathize', 'endearing', 'satisfied', 'impassioned', 'jovial', 'exalted', 'refreshed', 'cheery', 'powerfully', 'magnificent', 'wonderous', 'healthful', 'remission'}\n",
            "\n",
            "Negative words\n",
            "{'bumpy', 'delays', 'irreformable', 'flicering', 'miscreants', 'lazy', 'unhappy', 'stuttering', 'disgustedly', 'offender', 'overbalance', 'subvert', 'absurd', 'infringement', 'farce', 'insolence', 'omit', 'protest', 'uneasy', 'inhibition', 'precariously', 'leaky', 'disquieting', 'isolated', 'manic', 'skeptic', 'mope', 'farfetched', 'staid', 'obscure', 'uproot', 'compulsion', 'ill-advised', 'overkill', 'venomously', 'reticent', 'irresolvable', 'dishonestly', 'panicking', 'stumbled', 'timidity', 'dishonest', 'diss', 'lone', 'miff', 'outlaw', 'persecution', 'swindle', 'illogical', 'capricious', 'revengefully', 'tenderness', 'unattractive', 'slaughtered', 'inaptitude', 'scornfully', 'crummy', 'scapegoat', 'acrimony', 'fluster', 'haters', 'finagle', 'hard-line', 'scream', 'sillily', 'dismal', 'drained', 'stupidity', 'tenuously', 'snob', 'earsplitting', 'helplessness', 'idiotically', 'awkward', 'drain', 'dismayingly', 'scornful', 'insignificance', 'wripped', 'nightmarishly', 'fulminate', 'chastisement', 'wobbles', 'reviled', 'slashing', 'frantically', 'reprehensible', 'ruining', 'malevolent', 'scare', 'revulsion', 'unusually', 'undercuts', 'drawbacks', 'inevitably', 'redundant', 'restriction', 'spookier', 'maniacal', 'disdainful', 'incendiary', 'overpayed', 'barbaric', 'maddeningly', 'lumpy', 'wallow', 'mortify', 'unsound', 'subversive', 'regretfully', 'zealously', 'undue', 'sticky', 'irked', 'cussed', 'bewitch', 'nitpick', 'fastidious', 'inflammation', 'babble', 'irrecoverablenesses', 'pillage', 'sickeningly', 'vociferous', 'frightening', 'ineffective', 'restlessness', 'stagnant', 'weary', 'biases', 'galling', 'detraction', 'lost', 'friction', 'inculcate', 'spoonfed', 'sugar-coated', 'extremist', 'ailment', 'ineptly', 'mashed', 'coercive', 'stinging', 'dissident', 'corruptted', 'distaste', 'evildoer', 'disoobedient', 'covetous', 'irresponsibly', 'disclaim', 'hating', 'over-hyped', 'picketing', 'pitifully', 'plunderer', 'discomfititure', 'unclean', 'partisan', 'distract', 'cheat', 'objectionable', 'jealous', 'leer', 'superstitious', 'apprehensively', 'cronyism', 'inconsistence', 'loss', 'repugnant', 'unnerved', 'break', 'mournfully', 'critical', 'deceitful', 'perilous', 'falsehood', 'incongruously', 'zap', 'immovable', 'damning', 'derisive', 'feckless', 'cheerless', 'unwanted', 'exaggerate', 'condemnation', 'oddest', 'steals', 'jeer', 'liability', 'outrageously', 'scandals', 'powerless', 'dissatisfying', 'fanatically', 'upset', 'warp', 'depress', 'dungeon', 'weep', 'catastrophies', 'lurch', 'subjected', 'indignity', 'indignantly', 'sloppily', 'infamy', 'disobey', 'furor', 'illogic', 'revenge', 'senselessly', 'unreadable', 'breakups', 'calumniation', 'flickering', 'begging', 'glib', 'jeering', 'childish', 'hopeless', 'inaccurate', 'frazzled', 'squeaks', 'irately', 'intimidation', 'pest', 'franticly', 'rogue', 'lifeless', 'sarcastic', 'stinks', 'exasperate', 'bloated', 'miscalculation', 'crumple', 'scathing', 'blatantly', 'indifferent', 'losses', 'disconcerting', 'disrepute', 'rift', 'downturns', 'torture', 'bombard', 'liars', 'dismaying', 'grumpily', 'deride', 'tauntingly', 'inimically', 'rampage', 'dreadfully', 'tyrannical', 'hypocricy', 'flake', 'admonish', 'grapple', 'obstinate', 'disappoint', 'irking', 'fickle', 'self-interested', 'lackeys', 'incoherently', 'scandalize', 'shockingly', 'strange', 'fragmented', 'inconsistent', 'noise', 'relentlessness', 'travesty', 'extravagance', 'inundated', 'malignant', 'malodorous', 'struggle', 'nervousness', 'unorthodoxy', 'laid-off', 'insociable', 'meddle', 'scramble', 'jumpy', 'fierce', 'inconsequent', 'negatives', 'contemptuous', 'sorrow', 'stingingly', 'disinterest', 'sermonize', 'smear', 'dullard', 'finicky', 'damnation', 'irksome', 'fragile', 'mangled', 'narrower', 'harpy', 'insincerely', 'alarm', 'disadvantaged', 'savages', 'horde', 'uprising', 'aggravating', 'disordered', 'hypocritically', 'imbroglio', 'slander', 'nosey', 'criticized', 'ineloquently', 'showdown', 'neglected', 'unexplained', 'raping', 'downcast', 'strangest', 'explosive', 'murder', 'kaput', 'bullshyt', 'tetchy', 'sloooow', 'snobby', 'dirt', 'obstruct', 'overloaded', 'frighteningly', 'irascible', 'wearisome', 'disabled', 'imprecate', 'snobs', 'obsessively', 'oddity', 'superstition', 'unsatisfactory', 'annoyance', 'feint', 'joker', 'leech', 'sinful', 'scoffingly', 'virulently', 'denies', 'protests', 'dogged', 'unproductive', 'traitor', 'dimmer', 'sinister', 'smelled', 'tedious', 'grieve', 'wrestle', 'untruthful', 'sidetrack', 'ding', 'smolder', 'idiotic', 'battering', 'cave', 'waste', 'addicts', 'accuses', 'irregularity', 'obscured', 'tantrum', 'stiffness', 'whores', 'bash', 'rusts', 'rhetoric', 'sack', 'zealous', 'ricer', 'hazy', 'sagged', 'belligerence', 'fool', 'oversight', 'pitilessly', 'handicapped', 'blatant', 'danger', 'wheedle', 'died', 'dumb', 'unsupported', 'dick', 'confounded', 'dispiriting', 'feeblely', 'irrationals', 'flagrantly', 'intense', 'pervert', 'inextricably', 'exhausted', 'undersized', 'unhappiness', 'irksomely', 'beguile', 'flighty', 'anxious', 'excessive', 'misuse', 'corrosion', 'pry', 'loot', 'quack', 'disrespectable', 'revolt', 'unjustifiable', 'breaks', 'emaciated', 'grudging', 'droop', 'venomous', 'dissatisfactory', 'audacious', 'strident', 'displeased', 'upbraid', 'disrespect', 'invalid', 'criticism', 'disputed', 'expired', 'harmed', 'vex', 'apocalyptic', 'loathe', 'rotten', 'warned', 'harridan', 'wince', 'barbarian', 'dishonorablely', 'perplexed', 'dissonant', 'controversial', 'inessential', 'overstates', 'braggart', 'contemptible', 'lackadaisical', 'spewing', 'fallen', 'fictional', 'misrepresentation', 'traduce', 'conceded', 'mysteriously', 'overwhelmed', 'feeble', 'corruption', 'disintegrated', 'chagrin', 'fastuous', 'repugnantly', 'hate', 'hysterics', 'fainthearted', 'mocks', 'time-consuming', 'paranoid', 'poorest', 'debatable', 'flakieness', 'precipitous', 'reckless', 'unfortunate', 'punk', 'wrinkles', 'undetermined', 'idiot', 'topple', 'inefficiency', 'abuse', 'infuriated', 'hectic', 'loud', 'brazenly', 'incessantly', 'itchy', 'undissolved', 'degenerately', 'forfeit', 'haughtily', 'imperiously', 'bull****', 'downfall', 'smoulder', 'stereotypically', 'undermines', 'confounding', 'unavailable', 'infidel', 'mistress', 'shabby', 'shameful', 'pretense', 'castrated', 'impatiently', 'scorn', 'laggy', 'belated', 'forceful', 'prejudge', 'uproariously', 'savage', 'queer', 'outbursts', 'jealousness', 'spoils', 'agonizingly', 'scariest', 'aggressor', 'imposition', 'hogs', 'conservative', 'crazy', 'creeping', 'errors', 'bemoan', 'nave', 'obtrusive', 'irritant', 'sore', 'pale', 'spinster', 'stalemate', 'coarse', 'two-faces', 'bleakly', 'over-balanced', 'fearfully', 'inanely', 'incongruous', 'glut', 'swelled', 'vociferously', 'obstacle', 'phobic', 'clunky', 'forsaken', 'mockery', 'worry', 'hegemonism', 'whips', 'imperfection', 'discomfort', 'immobilized', 'repugnance', 'unsteadiness', 'polemize', 'hypocrite', 'insincerity', 'pan', 'back-logged', 'discouragingly', 'rattles', 'aground', 'propagandize', 'travesties', 'unspecified', 'fat-cat', 'slower', 'humiliate', 'bestial', 'contempt', 'disapproval', 'badly', 'bitterly', 'unnervingly', 'helpless', 'smother', 'backwoods', 'disaccord', 'feverish', 'hard', 'overwhelms', 'gibber', 'antagonistic', 'whore', 'depressingly', 'crowded', 'bragger', 'chill', 'incorrect', 'inundate', 'fussy', 'shriek', 'volatility', 'crass', 'ugliest', 'lunaticism', 'taint', 'browbeat', 'scandal', 'enmity', 'occlude', 'disgraceful', 'ineligible', 'smudge', 'lied', 'virulent', 'instable', 'misinterpret', 'calamity', 'stressful', 'spoil', 'loner', 'unviewable', 'diappointed', 'erratically', 'prik', 'tout', 'monstrosity', 'untenable', 'deject', 'deprecate', 'naughty', 'aggravation', 'ineffectiveness', 'inconsistencies', 'prisoner', 'bullying', 'detracting', 'sueing', 'chore', 'dump', 'costlier', 'hallucinate', 'depressing', 'improbably', 'reprehensibly', 'annoy', 'suspect', 'toughness', 'perversion', 'hindrance', 'inconsolable', 'unfaithfully', 'unwell', 'ill-usage', 'suspicions', 'spiritless', 'darkened', 'lurid', 'execrate', 'scam', 'averse', 'imperfections', 'inarticulate', 'shunned', 'creeps', 'snare', 'fascism', 'intrude', 'chintzy', 'discourteously', 'disloyalty', 'immorally', 'stigmatize', 'crashed', 'disquietingly', 'impolitic', 'fatcats', 'droops', 'oppress', 'unkind', 'hysteria', 'ruthlessly', 'preoccupy', 'hobble', 'faltered', 'bewilder', 'deploring', 'frustrating', 'brazenness', 'diametrically', 'distraughtness', 'importune', 'prosecute', 'lagged', 'quash', 'tank', 'wanton', 'embroiled', 'pedantic', 'nauseates', 'downhearted', 'denying', 'mordant', 'insults', 'intolerable', 'brat', 'apathy', 'nitpicking', 'tetchily', 'starkly', 'contaminated', 'unilateralism', 'rough', 'impede', 'freak', 'rattled', 'warning', 'second-tier', 'stumble', 'downturn', 'hater', 'deplorable', 'desperation', 'hothead', 'moan', 'challenging', 'offend', 'disallow', 'flee', 'jaundiced', 'mendacity', 'grievous', 'traitorously', 'mercilessly', 'useless', 'wane', 'jutters', 'suicide', 'craps', 'seething', 'torturously', 'overthrow', 'rumbling', 'unwarranted', 'defrauding', 'broken', 'lambast', 'conspirator', 'complacent', 'immaterial', 'indiscretion', 'abysmal', 'painful', 'provocative', 'thicker', 'infamous', 'petrify', 'vengeance', 'delusion', 'dishearten', 'erratic', 'admonishingly', 'disinclination', 'enfeeble', 'irrecoverably', 'cunts', 'displeasure', 'err', 'cheapen', 'unravel', 'lure', 'disconcert', 'cramping', 'illiterate', 'dead', 'intractable', 'ruffian', 'superficiality', 'tangled', 'unaffordable', 'misreading', 'crisis', 'unhelpful', 'angry', 'selfish', 'shrug', 'illogically', 'impolitely', 'inefficient', 'stifling', 'forbidden', 'irritated', 'dissappointing', 'jerk', 'revulsive', 'forbidding', 'trouble', 'unfaithful', 'unsuccessful', 'perilously', 'occluded', 'irreversible', 'deign', 'prick', 'gainsayer', 'invasive', 'degenerate', 'fibber', 'enemy', 'negation', 'distrustful', 'fake', 'heartbreaking', 'invective', 'enviousness', 'unthinkably', 'mortification', 'revoke', 'unlawfulness', 'aborted', 'whimper', 'aggression', 'adamant', 'infection', 'intefere', 'chaotic', 'distastefully', 'relapse', 'shadowy', 'infest', 'sinisterly', 'disrespectfulness', 'disgust', 'jeopardy', 'taunting', 'breaking', 'negativity', 'oversize', 'neurotic', 'inequitably', 'pauper', 'arrogantly', 'risks', 'penalty', 'exorbitant', 'flout', 'spoilage', 'wily', 'enraged', 'tarnishing', 'shimmer', 'retract', 'pleas', 'cruelness', 'freakishly', 'convoluted', 'criticizing', 'scant', 'dissolution', 'cuplrit', 'deluge', 'unskilled', 'beastly', 'deform', 'stupid', 'unipolar', 'fails', 'impolite', 'thug', 'treacherously', 'derisiveness', 'distort', 'injurious', 'nauseating', 'cunt', 'squealing', 'dissocial', 'fanciful', 'hacks', 'conspiracies', 'indeterminable', 'monotony', 'limit', 'disturb', 'pertinacity', 'plagiarize', 'smells', 'repulsiveness', 'omission', 'flaking', 'debauch', 'woebegone', 'upsetting', 'snub', 'concern', 'expel', 'abolish', 'overshadow', 'uncouth', 'decay', 'disastrous', 'cataclysmal', 'sloppy', 'unhappily', 'woe', 'smash', 'degradation', 'niggle', 'appal', 'misleadingly', 'problem', 'smutty', 'dehumanize', 'tortured', 'odor', 'retreat', 'dizzy', 'inadvisably', 'inglorious', 'misaligns', 'apprehensions', 'regrettable', 'usurp', 'deceive', 'bumping', 'grim', 'indecorum', 'disagreed', 'calumny', 'scorchingly', 'plasticky', 'deplore', 'disunity', 'deception', 'imbecile', 'pugnacious', 'reactionary', 'dearth', 'conspicuous', 'dismay', 'screwy', 'intermittent', 'extermination', 'inexorable', 'ill-treatment', 'madden', 'strictly', 'screwed-up', 'heck', 'moribund', 'meager', 'grossly', 'lengthy', 'shady', 'hazard', 'nasty', 'troublemaker', 'languid', 'meaningless', 'craven', 'invisible', 'furious', 'ineffectively', 'irritations', 'crashes', 'worriedly', 'inefficiently', 'gallingly', 'impinge', 'bumps', 'gaffe', 'self-destructive', 'mispronounced', 'emasculate', 'unproving', 'insolent', 'conflicting', 'inequalities', 'adamantly', 'harmful', 'slanders', 'terrorize', 'insinuate', 'imposers', 'mistrustful', 'atrocious', 'extremism', 'patronize', 'pugnacity', 'hassle', 'distorted', 'itching', 'nightmare', 'sh*t', 'friggin', 'puzzled', 'audacity', 'disappointingly', 'remorsefully', 'hamper', 'crumble', 'madly', 'devastatingly', 'mawkish', 'obstructs', 'violate', 'shipwreck', 'daze', 'menacingly', 'ghosting', 'fear', 'beggar', 'allergy', 'ambiguity', 'fist', 'stains', 'pig', 'disaffirm', 'ignominy', 'sneak', 'scrambling', 'worthlessness', 'doggedly', 'blurring', 'creepy', 'slumping', 'frozen', 'catastrophe', 'dizzing', 'overheat', 'failed', 'deformed', 'unwillingly', 'kooky', 'confused', 'cliche', 'yawn', 'disapointment', 'discourage', 'rifts', 'ruins', 'warlike', 'havoc', 'jitter', 'sty', 'contaminating', 'insensitive', 'indignation', 'insufferable', 'overstatement', 'languor', 'butchery', 'grief', 'salacious', 'accusations', 'bearish', 'liar', 'obnoxious', 'ruthless', 'adversarial', 'hypocrites', 'refutation', 'crazily', 'extravagant', 'fearsome', 'cataclysmic', 'harm', 'hostage', 'perversely', 'fracture', 'brash', 'sunder', 'insensitively', 'allege', 'dilly-dally', 'irresponsible', 'conceited', 'devilishly', 'disbelieve', 'cranky', 'error', 'improper', 'discontented', 'glitch', 'questionable', 'boil', 'defect', 'heckle', 'desolate', 'raked', 'fall', 'loses', 'ignorant', 'oppose', 'divisively', 'lying', 'debasement', 'dying', 'kook', 'worries', 'anguish', 'harassed', 'mischievously', 'hassled', 'slime', 'smudged', 'misalign', 'rigidness', 'backwood', 'glitches', 'besiege', 'rubbish', 'treasonous', 'exorbitantly', 'destroy', 'foreboding', 'rant', 'aspersion', 'trickery', 'inconveniently', 'exasperatingly', 'loveless', 'starve', 'monstrous', 'recant', 'stormy', 'chastise', 'aversion', 'transgression', 'damages', 'urgent', 'frantic', 'gripes', 'unresponsive', 'haunting', 'loser', 'naive', 'reproachful', 'terror', 'killer', 'hedge', 'slaves', 'dissonantly', 'nebulously', 'asininely', 'alarmed', 'arrogant', 'discombobulate', 'dissatisfy', 'surrender', 'unconvincingly', 'wickedly', 'tarnish', 'irredeemably', 'anxiousness', 'shimmy', 'burdensome', 'nettle', 'ranting', 'dubiously', 'forbid', 'parasite', 'curt', 'disobedience', 'falling', 'election-rigger', 'despoiler', 'procrastinate', 'refuses', 'stark', 'oblique', 'unwillingness', 'hack', 'stuttered', 'incite', 'spitefully', 'gimmicking', 'inexorably', 'hideous', 'morbid', 'congestion', 'panic', 'get-rich', 'prohibit', 'despair', 'heavyhearted', 'lagging', 'mockingly', 'monotonous', 'ploy', 'idiocies', 'clamorous', 'trap', 'inefficacy', 'presumptuous', 'downside', 'corrode', 'disturbingly', 'disdained', 'gawk', 'insolently', 'anarchistic', 'crumpled', 'foolish', 'exhorbitant', 'doubt', 'vomiting', 'spoon-feed', 'egomania', 'dripping', 'avaricious', 'miscellaneous', 'corrupting', 'demoralize', 'drastically', 'filthy', 'oppressors', 'disparagingly', 'precipitate', 'thorny', 'grudgingly', 'dismally', 'mediocrity', 'setbacks', 'cursed', 'violator', 'painfully', 'fiend', 'water-down', 'rivalry', 'wreak', 'ruffle', 'cripple', 'barbarous', 'gossip', 'hell', 'pernicious', 'dust', 'punitive', 'stalls', 'dismayed', 'distains', 'taunts', 'backache', 'displace', 'worst', 'uneasily', 'idle', 'incomparably', 'galls', 'apocalypse', 'languorous', 'disconsolation', 'fallacies', 'uglier', 'unsettle', 'blockhead', 'hated', 'uncompromisingly', 'impetuously', 'unuseably', 'banish', 'confession', 'coward', 'teasingly', 'disagrees', 'discrepant', 'eccentric', 'famine', 'inhospitable', 'manipulation', 'mystery', 'paucity', 'unfit', 'distressed', 'exasperating', 'repel', 'insane', 'vainly', 'immorality', 'catastrophic', 'stupify', 'uproarous', 'crushed', 'indigent', 'paralyzed', 'disses', 'obsolete', 'debaser', 'scandalous', 'faults', 'horrendously', 'occluding', 'insupportable', 'scathingly', 'contrive', 'conflict', 'stingy', 'snobbish', 'strike', 'disagreeing', 'smelly', 'sags', 'troubling', 'fanatics', 'extraneous', 'rejects', 'sass', 'unnoticed', 'inconsequential', 'matte', 'unconstitutional', 'menial', 'regrets', 'semi-retarded', 'bleeds', 'inexperience', 'unsupportive', 'discriminatory', 'left-leaning', 'insufficiency', 'mortified', 'subtract', 'disagreement', 'desperate', 'drought', 'calamitously', 'garbage', 'subversively', 'traped', 'litigious', 'apathetically', 'worrisome', 'kill', 'wobbled', 'standstill', 'irrational', 'discord', 'exclusion', 'fractiously', 'hardened', 'motley', 'alienate', 'scoff', 'sleazy', 'notoriety', 'slooow', 'lapsed', 'contaminates', 'uncivil', 'gimmicked', 'isolation', 'insignificantly', 'overbalanced', 'rejection', 'shortcomings', 'trivial', 'inappropriate', 'unconvincing', 'regret', 'altercation', 'dangerousness', 'downgrade', 'enviously', 'mudslinging', 'simplistically', 'presumptuously', 'pricier', 'damper', 'insensitivity', 'fleeing', 'annoyed', 'unnaturally', 'grind', 'doomed', 'back-woods', 'listless', 'criticize', 'insubordinate', 'whiny', 'unconfirmed', 'dissidence', 'servitude', 'unsavory', 'affliction', 'overawe', 'ill-fated', 'devoid', 'long-winded', 'misjudge', 'pretend', 'farcically', 'disgraced', 'martyrdom', 'unacceptable', 'chunky', 'extravagantly', 'dismissive', 'wary', 'grudges', 'ache', 'incomparable', 'doom', 'damaged', 'drastic', 'perturbed', 'shrouded', 'scolding', 'troubles', 'disloyal', 'slowww', 'grouch', 'taunt', 'acridness', 'deceivers', 'disliking', 'peril', 'ruinous', 'furiously', 'depression', 'brutalities', 'castigate', 'morbidly', 'anti-', 'impotent', 'over-acted', 'problematic', 'shatter', 'adulterate', 'pigs', 'unbelievably', 'daunt', 'monster', 'perverse', 'overwhelming', 'imperious', 'frets', 'clumsy', 'dubitable', 'repudiate', 'desultory', 'stupor', 'sketchy', 'disliked', 'full-blown', 'leaks', 'snags', 'overbearing', 'snappish', 'dissidents', 'acridly', 'deny', 'ho-hum', 'worthless', 'lame', 'bafflement', 'accost', 'inability', 'deteriorate', 'spendy', 'downbeat', 'incompetently', 'war-like', 'egregiously', 'petrified', 'repugn', 'bullyingly', 'unauthentic', 'truant', 'ineloquent', 'cravenly', 'bother', 'displaced', 'avenge', 'calamities', 'outrageous', 'stubbornness', 'casualty', 'unbearable', 'imperfect', 'plight', 'saggy', 'pretentiously', 'resentful', 'rife', 'crooks', 'audaciously', 'junky', 'gruesomely', 'conflicted', 'reluctant', 'shrivel', 'befoul', 'hothouse', 'pimple', 'aggressiveness', 'hardship', 'stumped', 'radically', 'unproven', 'mysterious', 'scarce', 'dirtbag', 'shamelessness', 'wripping', 'choleric', 'cataclysmically', 'lapse', 'addicting', 'repulsively', 'scratched', 'detesting', 'discountenance', 'dupe', 'avarice', 'hubris', 'irksomenesses', 'renounce', 'dispirited', 'fearful', 'puzzling', 'outcast', 'dissembler', 'inaccuracies', 'inconsistency', 'insensible', 'lamentable', 'offensively', 'vague', 'miss', 'fractious', 'audiciously', 'sadly', 'overzealously', 'besmirch', 'curse', 'immature', 'cancer', 'falls', 'inconsequentially', 'entrapment', 'lag', 'diabolic', 'offenses', 'discourteous', 'expulse', 'harden', 'indecently', 'rebellious', 'grievance', 'berserk', 'dislike', 'agonize', 'cracked', 'guiltily', 'bleeding', 'panicked', 'unreasonably', 'scarcity', 'murderously', 'unworkable', 'maddening', 'scoldingly', 'ridicule', 'unequal', 'low-rated', 'misdirection', 'combust', 'bungle', 'fooled', 'slump', '2-faces', 'cynical', 'offending', 'overdone', 'inefficacious', 'invalidity', 'expropriate', 'isolate', 'onerous', 'belabor', 'clash', 'overwhelmingly', 'repulsing', 'virulence', 'insurrection', 'allergies', 'cons', 'poverty', 'unyielding', 'worse', 'rankle', 'stress', 'humiliation', 'erroneously', 'gravely', 'brood', 'innuendo', 'strut', 'blind', 'unfriendly', 'delayed', 'unsettled', 'disturbance', 'disturbed', 'rash', 'torment', 'crumples', 'declaim', 'resistance', 'jolt', 'succumb', 'tanked', 'defy', 'dilemma', 'sluts', 'overlook', 'poorly', 'stigma', 'discouragement', 'disquiet', 'forgetful', 'dreadful', 'grievously', 'frustrate', 'delaying', 'throbbing', 'insanity', 'mundane', 'sneer', 'wounds', 'stump', 'terribleness', 'stink', 'bicker', 'hatred', 'lags', 'assail', 'anemic', 'disapproving', 'tragically', 'broken-hearted', 'unclear', 'escapade', 'unable', 'erode', 'melodramatic', 'aggravate', 'rebuke', 'cringe', 'sorrowful', 'issue', 'bias', 'disgruntle', 'chaff', 'hang', 'shortness', 'blow', 'mobster', 'archaic', 'ached', 'mystify', 'retaliate', 'complaining', 'untrustworthy', 'scandalously', 'steeply', 'dissing', 'detests', 'frustrated', 'shortage', 'sucked', 'lacked', 'ultimatum', 'abyss', 'hateful', 'grieving', 'hates', 'mocking', 'lull', 'haunt', 'antagonize', 'pickets', 'anxieties', 'maladjustment', 'exhaustion', 'concens', 'fawningly', 'fever', 'pestilent', 'leak', 'baffle', 'hellion', 'mire', 'intoxicate', 'unsuspecting', 'noisy', 'undercutting', 'imprudence', 'disapprobation', 'impractical', 'plotters', 'gall', 'critic', 'hostility', 'impertinent', 'inappropriately', 'nonsense', 'turmoil', 'confrontation', 'deceptive', 'snag', 'deceiver', 'emptiness', 'illusions', 'frenzy', 'pitiful', 'chatterbox', 'startlingly', 'regretful', 'bigotry', 'impeach', 'bonkers', 'cuss', 'multi-polarization', 'drunk', 'flabbergast', 'blotchy', 'plague', 'incitement', 'abysmally', 'overtaxed', 'iniquitous', 'blasphemous', 'falter', 'accusingly', 'pillory', 'unwisely', 'unemployed', 'brusque', 'distorts', 'bickering', 'demoralizing', 'futile', 'gibberish', 'primitive', 'unmoved', 'villianous', 'louder', 'discordant', 'distraughtly', 'rancor', 'cautionary', 'absurdness', 'dehumanization', 'indiscriminately', 'rebuff', 'syndrome', 'outrage', 'discontentedly', 'disillusion', 'foul', 'concession', 'nonresponsive', 'unresolved', 'fruitless', 'boggle', 'pessimistically', 'pout', 'misbecoming', 'thankless', 'uncomfy', 'snarl', 'forebodingly', 'flairs', 'agonies', 'confuse', 'pain', 'deploringly', 'mocked', 'demean', 'hypocritical', 'aggrieve', 'flagrant', 'inapt', 'stun', 'partisans', 'implicate', 'irksomeness', 'misconceptions', 'bulkyness', 'misunderstandings', 'washed-out', 'stubbornly', 'fried', 'shirker', 'flimflam', 'oversimplified', 'delusional', 'detract', 'debauchery', 'scrambled', 'tricky', 'vomits', 'life-threatening', 'bellicose', 'mania', 'hallucination', 'limitations', 'slow-moving', 'gabble', 'streaky', 'leaking', 'sink', 'disadvantages', 'slanderer', 'uneconomical', 'sidetracked', 'douchbag', 'brashly', 'bad', 'bungler', 'infringements', 'deviously', 'denigrate', 'spoilages', 'upseting', 'estranged', 'enervate', 'dictatorial', 'hoodwink', 'belittling', 'runaway', 'lambaste', 'expropriation', 'displease', 'overemphasize', 'frictions', 'screech', 'sin', 'inane', 'refused', 'insultingly', 'unlawfully', 'allergic', 'jeeringly', 'admonisher', 'overstate', 'retaliatory', 'unpleasant', 'dented', 'inescapable', 'god-awful', 'molest', 'obtuse', 'unspeakable', 'degrading', 'oversimplify', 'bastards', 'outbreak', 'insouciance', 'unreliability', 'condemn', 'dispiritedly', 'jealousy', 'breakdown', 'needless', 'shortcoming', 'fateful', 'sober', 'wrong', 'petty', 'wrongly', 'awfulness', 'ashamed', 'incorrigibly', 'inflated', 'cramped', 'damnably', 'derisively', 'bombardment', 'irrepressible', 'ambivalent', 'anti-american', 'quitter', 'sneering', 'struggling', 'discontent', 'stumbles', 'disrespectablity', 'autocratic', 'foully', 'acerbically', 'demon', 'irreconcilable', 'rail', 'over-priced', 'resentment', 'weed', 'threat', 'cringed', 'bumped', 'dirts', 'devastate', 'bitterness', 'stagnation', 'frustrations', 'hardships', 'incoherence', 'miser', 'pales', 'remorselessly', 'derision', 'rumple', 'uneasiness', 'dissonance', 'attacks', 'hopelessness', 'mock', 'polarisation', 'puppets', 'snagged', 'timidly', 'abominate', 'hurt', 'impasse', 'horrified', 'slanderous', 'fault', 'slowly', 'conspiracy', 'despondent', 'thirst', 'blemish', 'gloom', 'impious', 'crafty', 'bowdlerize', 'debilitate', 'deviate', 'gaff', 'insurmountable', 'complex', 'accusing', 'hefty', 'officious', 'wrought', 'defiantly', 'indeterminate', 'ominous', 'invalidate', 'overwhelm', 'contravene', 'disillusions', 'deviation', 'invidious', 'gruff', 'undocumented', 'irrationalities', 'forswear', 'imminence', 'perverted', 'disconcertingly', 'lewdly', 'preposterously', 'bleed', 'ostracize', 'gimmicky', 'shortchange', 'jagged', 'bitchy', 'flagging', 'lurk', 'stampede', 'shoddy', 'issues', 'unsophisticated', 'lament', 'embarrassing', 'loopholes', 'discoutinous', 'hardhearted', 'hinder', 'ominously', 'pique', 'risk', 'traitorous', 'two-faced', 'whining', 'misunderstanding', 'restrict', 'disgruntled', 'sufferer', 'heartbreakingly', 'unimportant', 'greedy', 'revoltingly', 'brutality', 'chasten', 'hurting', 'vengeful', 'panicky', 'irretrievable', 'sever', 'erroneous', 'steep', 'abrasive', 'ironically', 'tediously', 'decrepit', 'selfishness', 'fanatic', 'elimination', 'disown', 'wretchedness', 'costly', 'draconian', 'ignoble', 'excuses', 'credulous', 'displeasing', 'fuck', 'fetid', 'goofy', 'hoard', 'unforeseen', 'overpriced', 'denunciate', 'groundless', 'disconcerted', 'misbegotten', 'overplay', 'totalitarian', 'unfunded', 'run-down', 'desperately', 'debaucher', 'defensive', 'inconsolably', 'blur', 'skeletons', 'rejecting', 'conspicuously', 'apprehensive', 'demolisher', 'flabbergasted', 'belligerently', 'demonize', 'invidiously', 'bedlam', 'fury', 'unlawful', 'dumped', 'proprietary', 'disrupt', 'drab', 'embroil', 'intrusive', 'sadness', 'suffering', 'fume', 'disturbing', 'fright', 'dejectedly', 'mistrustfully', 'prejudice', 'sorely', 'refuse', 'exile', 'punishable', 'brutish', 'marginal', 'floundering', 'object', 'spoon-fed', 'superficially', 'barbarously', 'madder', 'ill-formed', 'uproarious', 'drags', 'askance', 'disrespectful', 'intransigence', 'extremists', 'felon', 'tyrant', 'tragedy', 'brutal', 'bereave', 'concen', 'harbors', 'incessant', 'misinform', 'swagger', 'affront', 'undermine', 'racist', 'smell', 'hangs', 'perturb', 'adulterated', 'incommensurate', 'massacres', 'farcical', 'abominable', 'blundering', 'declines', 'loose', 'injustices', 'rantingly', 'wrest', 'gross', 'frost', 'discriminate', 'blunt', 'delay', 'bored', 'laughably', 'shrilly', 'wariness', 'backbite', 'oppressiveness', 'indefensible', 'fatuously', 'bullies', 'frustrates', 'scarily', 'misrepresent', 'tyrannically', 'hostilities', 'lawless', 'flaw', 'dope', 'confound', 'murderous', 'undone', 'zaps', 'skeptically', 'inexperienced', 'dilapidated', 'ironical', 'ironic', 'stridently', 'senseless', 'detriment', 'insolvent', 'predatory', 'perplex', 'inadequately', 'weaker', 'unwelcome', 'spurious', 'erodes', 'bumpping', 'unachievable', 'arduously', 'deterrent', 'disgrace', 'fatigued', 'molestation', 'ungovernable', 'scarred', 'cliched', 'byzantine', 'fretful', 'prison', 'disarm', 'solicitude', 'unnecessary', 'unsteady', 'scrambles', 'unsteadily', 'biased', 'idiocy', 'inelegance', 'misread', 'ultimatums', 'imposing', 'torrent', 'huckster', 'vulgar', 'appall', 'disable', 'excuse', 'wayward', 'bum', 'dumps', 'hissed', 'undid', 'dismalness', 'threesome', 'exhort', 'fallaciously', 'coercion', 'irregular', 'pariah', 'screw-up', 'squander', 'haughty', 'pitiless', 'impatient', 'disinterested', 'rue', 'rabid', 'devastation', 'smack', 'hasty', 'provoke', 'stiflingly', 'overpower', 'anomaly', 'qualms', 'treachery', 'mischief', 'eruptions', 'rants', 'ambivalence', 'preposterous', 'stolen', 'horrifying', 'flickers', 'self-interest', 'betray', 'scarcely', 'inconvenience', 'tentatively', 'discontinuity', 'slowest', 'errant', 'worn', 'lonesome', 'inadverently', 'lethargic', 'impediment', 'spooky', 'hysterical', 'bemoaning', 'violent', 'funnily', 'radicals', 'stall', 'disparage', 'absent-minded', 'insufficient', 'jabber', 'anxiety', 'capitulate', 'indecisive', 'insincere', 'musty', 'disadvantageous', 'ruts', 'conceit', 'blab', 'decrepitude', 'dents', 'straggle', 'killing', 'abominably', 'shake', 'sneaky', 'steal', 'lame-duck', 'downer', 'ignominiously', 'gruesome', 'vindictiveness', 'barbarity', 'mistakenly', 'hollow', 'womanizing', 'bothered', 'inaction', 'devil', 'dropouts', 'anti-semites', 'mangles', 'strangely', 'stubborn', 'heartless', 'quarrellous', 'dings', 'effrontery', 'unhealthy', 'boiling', 'unseemly', 'deluded', 'rust', 'misgiving', 'filth', 'ragged', 'anxiously', 'clamor', 'scratch', 'fallaciousness', 'vagueness', 'cancerous', 'impenitent', 'snobish', 'untested', 'antagonist', 'scuff', 'stressfully', 'confusion', 'appallingly', 'precarious', 'bitter', 'indecency', 'irrecoverable', 'lapses', 'clog', 'zapped', 'refusal', 'sucks', 'deadweight', 'doubtful', 'direly', 'stale', 'prejudicial', 'flirty', 'goad', 'balk', 'nemesis', 'squeaky', 'idiots', 'trash', 'hedonistic', 'grisly', 'aggrieved', 'expire', 'ire', 'lack', 'draining', 'smut', 'sorrowfully', 'contamination', 'belligerent', 'shocked', 'unneeded', 'frighten', 'humming', 'abnormal', 'delusions', 'miseries', 'inadequate', 'stymied', 'discontinued', 'destitution', 'divisive', 'absurdly', 'inveigle', 'bungling', 'unreasonable', 'imprisonment', 'peculiarly', 'worried', 'incompliant', 'messy', 'restrictive', 'disruptive', 'judder', 'impersonal', 'sloooooooooooooow', 'bait', 'spewed', 'annoyingly', 'slowwww', 'vile', 'inhumanity', 'flees', 'merciless', 'thwart', 'fustigate', 'inexplainable', 'cracks', 'unbelievable', 'high-priced', 'snarky', 'shrill', 'plunder', 'graceless', 'insecurity', 'shamefulness', 'abomination', 'wedge', 'detested', 'exorbitantance', 'relentlessly', 'brute', 'miscalculate', 'unprove', 'scum', 'weirdly', 'burned', 'hopelessly', 'sardonically', 'grate', 'irragularity', 'abrade', 'commonplace', 'condemns', 'poorer', 'madness', 'touchy', 'invader', 'bust', 'interruption', 'recklessly', 'regress', 'taut', 'tease', 'wobble', 'helplessly', 'ignominious', 'lousy', 'tumbles', 'bemused', 'aggrivation', 'ill-natured', 'incomprehensible', 'involuntarily', 'quarrel', 'deplete', 'emphatically', 'uproar', 'difficulty', 'daunting', 'arbitrary', 'annoying', 'cannibal', 'aghast', 'grumpiest', 'crippling', 'hardliner', 'overpaid', 'restless', 'facetiously', 'disappointing', 'defamations', 'jutter', 'pettifog', 'tawdry', 'villainous', 'twists', 'bondage', 'inactive', 'disputable', 'dreary', 'massacre', 'adulteration', 'gimmicks', 'slap', 'scandalized', 'macabre', 'picket', 'tattered', 'peeled', 'overacted', 'diabolical', 'bewildering', 'indistinguishable', 'peeve', 'villian', 'undermining', 'unacceptablely', 'unappealing', 'wrinkled', 'bulky', 'condescendingly', 'thoughtlessness', 'forgetfully', 'lividly', 'discompose', 'incredulous', 'bereavement', 'compulsive', 'craftily', 'dangerous', 'gritty', 'fatuous', 'frustration', 'uninformed', 'hesitant', 'untouched', 'agony', 'boring', 'incautious', 'annihilate', 'incompatability', 'humid', 'sues', 'busybody', 'unuseable', 'fiction', 'brutalising', 'inimical', 'lovelorn', 'disvalue', 'frigging', 'disappoints', 'rhapsodize', 'pity', 'morons', 'tiresome', 'risky', 'injury', 'despondency', 'calumniously', 'cannibalize', 'complicit', 'detest', 'frightfully', 'unimaginable', 'wreaks', 'impetuous', 'quarrels', 'misfit', 'inclement', 'desecrate', 'laconic', 'tenuous', 'decrement', 'revert', 'dies', 'egotistical', 'self-serving', 'buggy', 'outcry', 'blockage', 'untimely', 'bewail', 'confined', 'lukewarm', 'exploit', 'headache', 'imperil', 'brimstone', 'cheated', 'fleer', 'impoverish', 'ironies', 'mist', 'protesting', 'antiquated', 'symptom', 'languorously', 'paltry', 'betrayer', 'egotistically', 'hatefully', 'stringently', 'horrific', 'degrade', 'mushy', 'indiscriminate', 'bribery', 'die', 'impugn', 'disrespectfully', 'incognizant', 'incompetent', 'wasting', 'irk', 'capriciousness', 'boastful', 'drains', 'militancy', 'hairloss', 'tacky', 'foolishness', 'malcontent', 'unscrupulous', 'weaknesses', 'rascals', 'break-ups', 'distrusting', 'seethe', 'annoys', 'disdainfully', 'foolhardy', 'hegemonistic', 'splatter', 'conspire', 'inequality', 'mistified', 'obscurity', 'unexpectedly', 'repressive', 'decadent', 'wastefulness', 'misjudgment', 'fatique', 'addict', 'dropout', 'infuriating', 'sulk', 'slogging', 'corrosions', 'overrated', 'defamation', 'pathetic', 'tumble', 'severity', 'false', 'outrages', 'scuffs', 'unsecure', 'clogged', 'oppositions', 'eccentricity', 'apologist', 'squeak', 'starvation', 'clogs', 'troubled', 'sanctimonious', 'darker', 'anomalous', 'cruelly', 'glum', 'weaken', 'fraudulent', 'fanatical', 'dastard', 'cartoonish', 'far-fetched', 'nebulous', 'curses', 'subversion', 'vain', 'weariness', 'junkyard', 'trauma', 'womanizer', 'uncertain', 'downfallen', 'inconsiderate', 'misunderstood', 'indecision', 'misaligned', 'sloww', 'ax', 'doubts', 'indiscreetly', 'afflict', 'incorrectly', 'uncooperative', 'contradiction', 'sorry', 'fat-cats', 'freaking', 'oversights', 'expensive', 'crippled', 'polluter', 'hampered', 'tainted', 'disagreeable', 'riled', 'suffers', 'hurts', 'loathsomely', 'bugs', 'rumors', 'tin-y', 'banal', 'dwindling', 'traumatized', 'feign', 'ill-designed', 'carnage', 'lemon', 'skeptical', 'perish', 'rigid', 'irritating', 'egregious', 'vibration', 'criminal', 'incoherent', 'irrationality', 'unavoidably', 'longingly', 'disgustingly', 'dirty', 'asperse', 'brainless', 'juddering', 'maliciously', 'ravage', 'unnatural', 'thrash', 'lawbreaking', 'conspiratorial', 'conflicts', 'reluctantly', 'scowl', 'short-lived', 'smugly', 'hazardous', 'ambiguous', 'infiltrators', 'raving', 'afraid', 'abort', 'murky', 'rhetorical', 'underdog', 'fatuity', 'dreadfulness', 'inflict', 'unlamentably', 'cheap', 'baffled', 'stunted', 'disbeliever', 'improbable', 'dissension', 'disgustfully', 'loathing', 'manipulate', 'melancholy', 'unlamentable', 'decayed', 'tragic', 'incredulously', 'adverse', 'rattle', 'inconceivable', 'parody', 'randomly', 'posturing', 'insubstantially', 'tingled', 'insurmountably', 'sob', 'condescension', 'collude', 'hiliarious', 'hostile', 'tiringly', 'bluring', 'complaint', 'moron', 'unscrupulously', 'so-cal', 'delirium', 'fret', 'greasy', 'spews', 'siege', 'blasted', 'licentiousness', 'disagree', 'pessimistic', 'plaything', 'inextricable', 'disfavor', 'disruption', 'scandels', 'temerity', 'loophole', 'remorse', 'intrusion', 'overdue', 'overzelous', 'flareups', 'cynicism', 'confront', 'dazed', 'lier', 'dusty', 'hooligan', 'illegal', 'impudence', 'polution', 'thoughtless', 'clique', 'derogatory', 'perplexity', 'pathetically', 'defame', 'destroyer', 'pretentious', 'stodgy', 'timidness', 'wasteful', 'layoff', 'greed', 'jerky', 'denunciations', 'sedentary', 'insatiable', 'seedy', 'impatience', 'wrongful', 'immoderately', 'traumatize', 'threats', 'tyranny', 'fudge', 'needy', 'messing', 'rip', 'delinquency', 'stupidly', 'battered', 'protracted', 'inexcusable', 'mulish', 'scared', 'rival', 'killjoy', 'blindside', 'distressing', 'defiance', 'kills', 'poison', 'inelegant', 'unleash', 'sag', 'destitute', 'bruise', 'irks', 'misguide', 'malicious', 'dislikes', 'abrupt', 'doldrums', 'scummy', 'fruitlessly', 'figurehead', 'bullshit', 'cry', 'inadverent', 'miserably', 'smudging', 'stew', 'bothering', 'uninsured', 'vomit', 'anarchist', 'slave', 'extortion', 'unjust', 'jitters', 'demise', 'gimmick', 'unrelentingly', 'complain', 'angrily', 'upsets', 'aggressive', 'undesirable', 'outburst', 'heresy', 'senile', 'detestable', 'audaciousness', 'bully', 'bugging', 'motionless', 'shortsightedness', 'emergency', 'egotism', 'despot', 'unwieldy', 'guile', 'snappishly', 'resigned', 'froze', 'cocky', 'burn', 'gloomy', 'indifference', 'vehement', 'enflame', 'gloatingly', 'obstinately', 'susceptible', 'throbbed', 'uneventful', 'sub-par', 'restricted', 'bastard', 'harried', 'wildly', 'bewilderingly', 'flaunt', 'prohibitive', 'obstruction', 'undignified', 'wrath', 'sourly', 'irrationally', 'recessionary', 'stutter', 'despoil', 'discouraging', 'puppet', 'aloof', 'cruelties', 'fictitious', 'stupified', 'ugh', 'bruised', 'inflexible', 'rut', 'shemale', 'paralize', 'distraction', 'unworthy', 'troublingly', 'unsafe', 'monstrously', 'junk', 'obsessiveness', 'ambush', 'funky', 'racism', 'mourner', 'cramp', 'quarrellously', 'subservience', 'betrays', 'evasive', 'rigidity', 'bores', 'silly', 'stench', 'decry', 'lecherous', 'bewildered', 'uncaring', 'vicious', 'demoralizingly', 'wickedness', 'grudge', 'blameworthy', 'douchebags', 'grumpy', 'mishandle', 'refute', 'revolting', 'stunt', 'harass', 'indignant', 'desertion', 'lechery', 'direness', 'beware', 'insidious', 'unqualified', 'horrendous', 'disorganized', 'guilt', 'spotty', 'unaccustomed', 'caustic', 'embroilment', 'epidemic', 'endanger', 'self-humiliation', 'insulted', 'falsely', 'redundancy', 'confess', 'defects', 'spade', 'contention', 'hustler', 'blather', 'damaging', 'submissive', 'mindlessly', 'mourn', 'pervasive', 'callous', 'aweful', 'devious', 'horrible', 'scams', 'stern', 'blurry', 'disappointment', 'impair', 'glaringly', 'culprit', 'hoodium', 'nefariously', 'scaly', 'strain', 'unease', 'bleakness', 'gaudy', 'forgetfulness', 'malign', 'weakness', 'choke', 'neglect', 'miserable', 'fidgety', 'deprave', 'mar', 'oppressively', 'ferociously', 'simplistic', 'underestimate', 'decadence', 'catastrophes', 'picketed', 'goading', 'hypocrisy', 'clouding', 'non-confidence', 'despondently', 'obscenely', 'quandary', 'fleeting', 'gracelessly', 'frail', 'racists', 'rremediable', 'objections', 'self-coup', 'smokescreen', 'stranger', 'embarrassment', 'unfounded', 'disservice', 'ruthlessness', 'unimaginably', 'lackluster', 'facetious', 'shrew', 'deaf', 'banishment', 'strict', 'irretating', 'rollercoaster', 'shroud', 'censure', 'noxious', 'paradoxical', 'puny', 'sharply', 'concerns', 'barren', 'profane', 'uncontrolled', 'stagnate', 'appalled', 'distasteful', 'stammer', 'vanity', 'losing', 'obsessive', 'reproach', 'infirm', 'disconsolate', 'dungeons', 'failures', 'corrosive', 'drop-outs', 'ignore', 'indiscriminating', 'lascivious', 'obnoxiously', 'usurper', 'repudiation', 'decline', 'unpopular', 'flair', 'uncomfortable', 'encroach', 'overdo', 'trivialize', 'deficiency', 'gullible', 'inhuman', 'obscenity', 'rascal', 'farcical-yet-provocative', 'insecure', 'banalize', 'bashful', 'disgustful', 'sceptical', 'hideousness', 'interferes', 'obscene', 'unethical', 'wrip', 'beggarly', 'anti-proliferation', 'draconic', 'fuzzy', 'gibe', 'unwise', 'congested', 'immodest', 'insular', 'offensive', 'retardedness', 'sued', 'knotted', 'inconceivably', 'negligent', 'barbarically', 'contradict', 'ineffectually', 'criticisms', 'autocrat', 'struck', 'instigate', 'destruction', 'unfavorable', 'subjection', 'disingenuously', 'ill-defined', 'backbiting', 'insignificant', 'qualm', 'recalcitrant', 'spilling', 'stutters', 'undermined', 'importunate', 'lamentably', 'wasted', 'nettlesome', 'obstructing', 'subdued', 'craftly', 'disasterous', 'collusion', 'irate', 'deprived', 'toxic', 'harshly', 'aching', 'dismissively', 'fastidiously', 'remorseful', 'sham', 'sabotage', 'mad', 'offence', 'lies', 'rage', 'jeopardize', 'smudges', 'long-time', 'unfortunately', 'breakup', 'pollute', 'unnerve', 'outmoded', 'irrelevant', 'opposition', 'explode', 'donside', 'demonized', 'haggle', 'mirage', 'scary', 'cloudy', 'muscle-flexing', 'betraying', 'chilly', 'harassment', 'catastrophically', 'stooges', 'pricey', 'spew', 'reluctance', 'disagreeably', 'backwardness', 'mockeries', 'pander', 'apprehension', 'strained', 'inoperable', 'limited', 'nastiness', 'deterioration', 'deceiving', 'limitation', 'aspersions', 'detracts', 'waning', 'avalanche', 'testily', 'fabrication', 'mistaken', 'nagging', 'cripples', 'distressingly', 'sacrificed', 'douchebag', 'blaspheme', 'impropriety', 'crowdedness', 'laughingstock', 'hysterically', 'inferior', 'lech', 'adversary', 'back-wood', 'repulse', 'demeaning', 'shameless', 'profanity', 'shaky', 'domineering', 'clueless', 'incomplete', 'lethal', 'ludicrously', 'transgress', 'ailing', 'roadblocks', 'desert', 'boisterous', 'thumb-down', 'intimidating', 'squabbling', 'longing', 'confuses', 'disrespecting', 'betrayal', 'imperfectly', 'interfere', 'vice', 'rile', 'intolerance', 'bomb', 'chafe', 'indeterminably', 'jaded', 'contrariness', 'ridiculous', 'smoke', 'raped', 'severe', 'unrest', 'vibrating', 'unaccessible', 'disappointments', 'desiccated', 'imprecision', 'rupture', 'vexing', 'debts', 'defunct', 'brazen', 'hawkish', 'partiality', 'faulty', 'imperialist', 'skittish', 'despicably', 'dauntingly', 'unusable', 'nauseate', 'passiveness', 'unwatchable', 'poisonously', 'die-hard', 'doddering', 'blurs', 'mediocre', 'sue', 'pointlessly', 'assassin', 'asunder', 'indecisively', 'cruel', 'complication', 'dull', 'offensiveness', 'stealing', 'terribly', 'attack', 'fatalistic', 'encroachment', 'illness', 'freakish', 'sickening', 'undependability', 'infiltrator', 'demonizing', 'horrifys', 'orphan', 'enjoin', 'laughable', 'treason', 'pertinaciously', 'dogmatic', 'buzzing', 'broke', 'disaffected', 'disproportionate', 'pratfall', 'rampant', 'harrow', 'punish', 'unusably', 'infuriate', 'thoughtlessly', 'irrelevance', 'interrupt', 'malevolently', 'bloodthirsty', 'goon', 'sufferers', 'dodgey', 'spurn', 'warily', 'devastated', 'dishonor', 'exterminate', 'fail', 'extort', 'impiety', 'niggles', 'crabby', 'upheaval', 'leakage', 'lunatic', 'uncollectible', 'gape', 'bereft', 'desolation', 'noisier', 'ruined', 'anti-occupation', 'savaged', 'underlings', 'absentee', 'acrimonious', 'giddy', 'counterproductive', 'limits', 'craziness', 'haggard', 'peevishly', 'sarcasm', 'spook', 'overturn', 'exploitation', 'whine', 'crueler', 'exaggeration', 'commotion', 'fanaticism', 'inordinately', 'prevaricate', 'sullen', 'menace', 'lonely', 'ghetto', 'suspiciously', 'imprecisely', 'cheaply', 'fatty', 'nonexistent', 'blasphemy', 'throttle', 'anti-israeli', 'abusive', 'dejection', 'heavy-handed', 'dragged', 'leery', 'deficiencies', 'depressed', 'provocation', 'divisiveness', 'mishap', 'quibble', 'sensationalize', 'harsh', 'sagging', 'infuriatingly', 'terrorism', 'zombie', 'manipulators', 'deceit', 'oppression', 'unpleasantries', 'egocentric', 'impurity', 'despairing', 'undercut', 'despotic', 'fumes', 'sunken', 'authoritarian', 'engulf', 'madman', 'maniac', 'dissolute', 'passive', 'unrelenting', 'terror-genic', 'notorious', 'crashing', 'reprovingly', 'suspicious', 'careless', 'debacle', 'lanky', 'joke', 'missed', 'strenuous', 'suffered', 'victimize', 'awkwardness', 'stupidest', 'unusual', 'retarded', 'prohibitively', 'tepid', 'occludes', 'painfull', 'avariciously', 'smouldering', 'heinous', 'irritation', 'ingrate', 'adulterier', 'bedlamite', 'nervously', 'glower', 'naively', 'dent', 'wretched', 'cumbersome', 'unlikely', 'inflame', 'dumbfound', 'enslave', 'revile', 'rusty', 'condescending', 'pessimism', 'freezing', 'brashness', 'inferiority', 'threaten', 'gripe', 'emphatic', 'slug', 'backaches', 'quibbles', 'combative', 'embarrassingly', 'conscons', 'skinny', 'harms', 'deprive', 'discrimination', 'fraught', 'misbehave', 'unpredictable', 'glibly', 'shortsighted', 'judders', 'enemies', 'persecute', 'evil', 'overbearingly', 'rot', 'stuck', 'disparaging', 'accursed', 'vulnerable', 'chide', 'dunce', 'irreparable', 'savagery', 'shamelessly', 'sputter', 'unfinished', 'maliciousness', 'insulting', 'heretical', 'brittle', 'grimace', 'impoverished', 'dark', 'ghastly', 'unspeakablely', 'blunders', 'crime', 'negate', 'devilish', 'implode', 'annoyances', 'shame', 'apologists', 'shocking', 'stab', 'afflictive', 'slothful', 'slack', 'amputate', 'addicted', 'irrecoverableness', 'wrinkle', 'hum', 'impulsive', 'abruptly', 'exhaust', 'mistakes', 'moronic', 'muddle', 'spoilled', 'inattentive', 'fabricate', 'heathen', 'unstable', 'swamped', 'unlucky', 'evasion', 'midget', 'malcontented', 'knife', 'cataclysm', 'inhumane', 'lethargy', 'bull----', 'failing', 'freezes', 'improbability', 'mistrust', 'floored', 'stuffy', 'unsustainable', 'villify', 'inflammatory', 'ferocity', 'gasp', 'racy', 'renunciation', 'meddlesome', 'misinformed', 'hardheaded', 'erosion', 'flaws', 'jealously', 'impossible', 'slogged', 'corrupt', 'bitingly', 'despise', 'drippy', 'eviscerate', 'touts', 'spookily', 'destains', 'disobedient', 'despicable', 'deadlock', 'gangster', 'maledict', 'inadvisable', 'despotism', 'insanely', 'sting', 'rejected', 'shiver', 'scratches', 'monstrosities', 'unfamiliar', 'infections', 'crushing', 'crack', 'misstatement', 'dissed', 'irritable', 'violators', 'slowed', 'mismanage', 'fiasco', 'outrageousness', 'inexcusably', 'grumble', 'disdain', 'injure', 'nightmarish', 'cold', 'gawky', 'inept', 'prejudices', 'hard-liner', 'adversity', 'inflationary', 'illegally', 'trample', 'woeful', 'lewd', 'scandel', 'stain', 'scarier', 'subpoenas', 'backaching', 'loath', 'viciously', 'mess', 'sobering', 'desiccate', 'despondence', 'unproves', 'touted', 'worsening', 'enraging', 'perfunctory', 'toil', 'somber', 'downhill', 'hurted', 'malady', 'growl', 'foolishly', 'tarnished', 'disavow', 'inaccurately', 'irresolute', 'unobserved', 'concede', 'destructive', 'sugar-coat', 'felonious', 'deter', 'fevers', 'death', 'straggler', 'discredit', 'hoax', 'gutter', 'abscond', 'assault', 'horrid', 'dishonorable', 'haywire', 'glare', 'impulsively', 'licentious', 'mawkishness', 'plot', 'taxing', 'delinquent', 'deceptively', 'inexpert', 'measly', 'over-valuation', 'misfortune', 'misapprehend', 'devilry', 'disaster', 'timid', 'screwed', 'confusing', 'carelessness', 'stricken', 'indolent', 'payback', 'ugliness', 'uncomfortably', 'worthlessly', 'miscreant', 'blame', 'nervous', 'over-awe', 'squeals', 'gauche', 'plebeian', 'wiles', 'bigotries', 'fumble', 'impunity', 'ripped', 'unnerving', 'retreated', 'misbehavior', 'jittery', 'straining', 'stringent', 'imprison', 'languish', 'traumatic', 'shirk', 'frazzle', 'aborts', 'caustically', 'excessively', 'dissent', 'imaginary', 'beset', 'loathsome', 'unknown', 'diabolically', 'deviousness', 'nag', 'blabber', 'cackle', 'commiserate', 'losers', 'obsess', 'faithless', 'pertinacious', 'disinclined', 'twisted', 'betrayals', 'onerously', 'unfeeling', 'pandering', 'perfidious', 'gutless', 'biting', 'frustratingly', 'remorselessness', 'overthrows', 'improperly', 'sucky', 'imminently', 'procrastinates', 'unreachable', 'disorderly', 'anger', 'virus', 'dispensable', 'assult', 'capsize', 'darkness', 'famished', 'throb', 'ripoff', 'solemn', 'disaffect', 'unfulfilled', 'vibrated', 'warped', 'bewilderment', 'scratchy', 'flicker', 'static', 'selfishly', 'spitefulness', 'sneakily', 'despised', 'ineffectual', 'bothers', 'vexation', 'equivocal', 'flat-out', 'acrid', 'apathetic', 'marginally', 'splitting', 'suspicion', 'frenzied', 'hapless', 'dizzingly', 'scars', 'detracted', 'self-defeating', 'pretence', 'vengefully', 'vexingly', 'inconsiderately', 'unlicensed', 'rumor', 'halfheartedly', 'grating', 'smuttier', 'bruising', 'crept', 'f**k', 'doomsday', 'extinguish', 'stole', 'bunk', 'batty', 'butcher', 'unprepared', 'worrier', 'unintelligile', 'haze', 'stifle', 'vomited', 'break-up', 'unsettlingly', 'antithetical', 'limp', 'fears', 'injustice', 'carp', 'enrage', 'inordinate', 'watered-down', 'rude', 'deteriorating', 'drunken', 'infidels', 'awfully', 'crash', 'quarrelsome', 'blandish', 'dissemble', 'puzzlement', 'grouse', 'uneven', 'rape', 'feebleminded', 'obstructed', 'choppy', 'insidiously', 'grainy', 'craze', 'belittle', 'disarray', 'neurotically', 'wimpy', 'dejected', 'sneeringly', 'anarchism', 'breach', 'fissures', 'immoral', 'bitch', 'misguidance', 'refuted', 'rumours', 'unsure', 'vibrates', 'bogus', 'messes', 'obscures', 'distracting', 'worryingly', 'dumping', 'exasperation', 'confusions', 'doubtfully', 'defiant', 'flare', 'deceitfulness', 'imprudent', 'bloodshed', 'headaches', 'uncompromising', 'indiscreet', 'forlorn', 'hell-bent', 'lorn', 'coupists', 'bland', 'bs', 'corrupted', 'cringes', 'achey', 'objection', 'fraud', 'impaired', 'disgusting', 'debilitating', 'murderer', 'satirical', 'unruly', 'vengefulness', 'denunciation', 'distortion', 'fallacy', 'utterly', 'wretch', 'contaminate', 'overblown', 'crumbling', 'bid-rigging', 'resent', 'strangle', 'tempest', 'inevitable', 'taboo', 'shamefully', 'shark', 'suffer', 'indelicate', 'disappointed', 'pittance', 'stresses', 'embattled', 'fathomless', 'weird', 'impossiblity', 'toll', 'leakages', 'crush', 'sarcastically', 'intolerablely', 'dissatisfied', 'disgracefully', 'drones', 'geezer', 'nastily', 'perverts', 'ungrateful', 'unproved', 'dissention', 'grumpish', 'mindless', 'vehemently', 'indoctrinate', 'panick', 'smelt', 'radical', 'ruin', 'fucking', 'inconsequently', 'overstatements', 'diffidence', 'tension', 'contrived', 'intransigent', 'brainwash', 'lewdness', 'sickness', 'mispronounce', 'undecided', 'arduous', 'frenetic', 'bothersome', 'disbelief', 'malice', 'futility', 'prideful', 'nauseatingly', 'blah', 'brutally', 'degradingly', 'grotesque', 'd*mn', 'vileness', 'repulsed', 'tramp', 'exagerate', 'grouchy', 'squash', 'complains', 'passe', 'excoriate', 'inteferes', 'traumatically', 'underpaid', 'vagrant', 'sunk', 'ill-used', 'problems', 'disillusioned', 'diatribes', 'refutes', 'temper', 'tormented', 'unwilling', 'treacherous', 'peevish', 'shock', 'fidget', 'loathly', 'invidiousness', 'pugnaciously', 'cheesy', 'wreck', 'sap', 'commotions', 'misses', 'animosity', 'prickle', 'suppression', 'dripped', 'alarming', 'distraught', 'fallout', 'muddy', 'disapprove', 'deplorably', 'peculiar', 'secretive', 'incompatible', 'shambles', 'effigy', 'scolded', 'predicament', 'ineptitude', 'unjustly', 'din', 'spank', 'sickly', 'insufficiently', 'head-aches', 'defile', 'tanks', 'degeneration', 'contentious', 'dishearteningly', 'chronic', 'flirt', 'damage', 'cash-strapped', 'dishonesty', 'humiliating', 'tangle', 'dastardly', 'venom', 'maladjusted', 'drunkard', 'soreness', 'overweight', 'fusty', 'grumpier', 'inequities', 'inconstant', 'mournful', 'frightful', 'torturous', 'thumbs-down', 'comical', 'meltdown', 'perplexing', 'subjugate', 'eschew', 'fascist', 'unprofitable', 'lugubrious', 'interference', 'notoriously', 'penalize', 'inaudible', 'faze', 'indecent', 'entrap', 'swelling', 'haste', 'obliterate', 'guilty', 'dissatisfaction', 'dim', 'depraved', 'hurtful', 'pinch', 'slog', 'smuttiest', 'tortuous', 'exasperated', 'unraveled', 'startling', 'premeditated', 'bristle', 'nefarious', 'complained', 'stumps', 'arrogance', 'diatribe', 'annihilation', 'satirize', 'dictator', 'testy', 'viper', 'dinky', 'failure', 'interruptions', 'misconception', 'fatefully', 'hard-hit', 'embarrass', 'punch', 'halfhearted', 'disapointed', 'freeze', 'misguided', 'demolish', 'hastily', 'hegemony', 'austere', 'sloow', 'cheats', 'unorthodox', 'poky', '2-faced', 'relentless', 'vindictive', 'misunderstand', 'jobless', 'imbalance', 'bulkiness', 'dissuasive', 'irritate', 'retards', 'misgivings', 'shallow', 'defamatory', 'lackey', 'odder', 'ordeal', 'ranted', 'smallish', 'instigators', 'bug', 'mistake', 'hasseling', 'boredom', 'lesser-known', 'tortures', 'inescapably', 'sloth', 'ulterior', 'confessions', 'infraction', 'tired', 'dawdle', 'heckles', 'acerbate', 'calumniate', 'smug', 'subservient', 'demonizes', 'checkered', 'excruciating', 'discomfit', 'drop-out', 'stooge', 'debt', 'unthinkable', 'culpable', 'bore', 'despairingly', 'pains', 'woefully', 'contortions', 'contort', 'oversimplification', 'downsides', 'shun', 'temptation', 'regrettably', 'outsider', 'accusation', 'reprove', 'refusing', 'ill-mannered', 'fatigue', 'divergent', 'horrify', 'vilify', 'panders', 'infernal', 'tense', 'fugitive', 'lawbreaker', 'harasses', 'incapably', 'recklessness', 'arcane', 'disregardful', 'mangle', 'implication', 'implausible', 'antipathy', 'protested', 'subpoena', 'anti-us', 'disquietude', 'pitiable', 'infected', 'threatening', 'troublesomely', 'inflammed', 'blackmail', 'foulness', 'little-known', 'calumnies', 'disorder', 'selfinterested', 'crude', 'dread', 'acerbic', 'hotheaded', 'sinking', 'superfluous', 'repression', 'fib', 'contradictory', 'spookiest', 'inadequacy', 'slow', 'obliterated', 'overzealous', 'insufferably', 'cheater', 'ail', 'creaks', 'devastating', 'ineffectualness', 'insinuation', 'fiendish', 'ridiculously', 'scold', 'deadbeat', 'paradoxically', 'wilt', 'viciousness', 'flares', 'tamper', 'demonic', 'writhe', 'blinding', 'hissing', 'killed', 'ludicrous', 'absurdity', 'denial', 'poisonous', 'pompous', 'antagonism', 'spiteful', 'struggled', 'mortifying', 'melodramatically', 'debility', 'raging', 'lawlessness', 'nepotism', 'tardy', 'difficult', 'botch', 'mislead', 'underpowered', 'amiss', 'evils', 'bulkier', 'trick', 'disorient', 'seriousness', 'unsettling', 'envious', 'accuse', 'aches', 'astray', 'procrastination', 'crappy', 'brutalizing', 'slanderously', 'wound', 'impudently', 'noises', 'lecher', 'prattle', 'reprehension', 'concessions', 'dissappointed', 'impure', 'flawed', 'layoff-happy', 'obese', 'perfidity', 'burden', 'fatally', 'forlornly', 'recourses', 'bashing', 'depravedly', 'cheating', 'flaky', 'unreliable', 'atrophy', 'misbecome', 'flak', 'skepticism', 'admonition', 'beg', 'drag', 'frenetically', 'hestitant', 'oddly', 'sully', 'abuses', 'tiring', 'suicidal', 'volatile', 'cruelty', 'iniquity', 'pokey', 'concerned', 'entangle', 'immoderate', 'disconsolately', 'blunder', 'polluters', 'set-up', 'irredeemable', 'blurred', 'hardball', 'bravado', 'wretchedly', 'villains', 'exagerated', 'belittled', 'boycott', 'unexpected', 'awful', 'drips', 'undefined', 'lowly', 'asinine', 'indiscernible', 'flareup', 'hype', 'discordance', 'bleak', 'mischievous', 'incompatibility', 'odd', 'indoctrination', 'coldly', 'lie', 'tumbled', 'skittishly', 'superficial', 'unrealistic', 'pandemonium', 'impending', 'perversity', 'soapy', 'dissapointed', 'complicated', 'instigator', 'belie', 'jarring', 'ramshackle', 'needlessly', 'inaccuracy', 'zealot', 'disintegration', 'recoil', 'martyrdom-seeking', 'inexpertly', 'regreted', 'reprimand', 'brutalize', 'crap', 'weakening', 'bruises', 'argumentative', 'burning', 'scorching', 'unjustified', 'depressions', 'mudslinger', 'disregard', 'disadvantage', 'crooked', 'blister', 'asinininity', 'top-heavy', 'slur', 'bent', 'miserly', 'misery', 'disprove', 'scar', 'illegitimate', 'eyesore', 'one-sided', 'sweaty', 'desolately', 'sucker', 'trashy', 'alienation', 'defective', 'damnable', 'downheartedly', 'corrupts', 'impermissible', 'mispronounces', 'overrun', 'hassles', 'substandard', 'controversy', 'subjugation', 'bankrupt', 'goof', 'confrontational', 'heckled', 'dragging', 'mendacious', 'numb', 'mists', 'upsettingly', 'chatter', 'busts', 'slogs', 'hysteric', 'opportunistic', 'nuisance', 'baffling', 'incense', 'spoiled', 'overact', 'buckle', 'subordinate', 'outraged', 'distrust', 'oppressive', 'oddities', 'skulk', 'disapointing', 'scrap', 'aimless', 'futilely', 'tingling', 'ill-tempered', 'admonishment', 'discontinuous', 'revengeful', 'disreputable', 'flounder', 'evade', 'last-ditch', 'regression', 'knock', 'tarnishes', 'unbearablely', 'unkindly', 'vibrate', 'rip-off', 'implacable', 'wicked', 'horrifies', 'flimsy', 'jeers', 'malaise', 'scoundrel', 'coerce', 'ignorance', 'throbs', 'inhospitality', 'phobia', 'heartbreaker', 'smoldering', 'letch', 'onslaught', 'genocide', 'allegation', 'destabilisation', 'accidental', 'collapse', 'abused', 'dire', 'hung', 'hardliners', 'regressive', 'incorrigible', 'caricature', 'uncreative', 'ill-sorted', 'detrimental', 'atrocity', 'fatcat', 'wrangle', 'torturing', 'graft', 'picky', 'stereotype', 'faint', 'devilment', 'loneliness', 'refuting', 'ridicules', 'alienated', 'bloody', 'illusory', 'indulge', 'impudent', 'irreplacible', 'menacing', 'swipe', 'miserableness', 'strife', 'insubstantial', 'defiler', 'blindingly', 'slut', 'acrimoniously', 'wack', 'dirtbags', 'anti-white', 'incivility', 'sluggish', 'split', 'lacking', 'uproarously', 'fatal', 'haphazard', 'hideously', 'declining', 'licentiously', 'disintegrate', 'inequitable', 'sly', 'bizarre', 'sad', 'absence', 'harangue', 'intimidate', 'unfairly', 'dense', 'exagerates', 'desititute', 'darken', 'dud', 'impossibly', 'peeved', 'bane', 'swollen', 'hatefulness', 'atrocities', 'untrue', 'stiff', 'lose', 'inexpiable', 'heretic', 'heedless', 'fleed', 'disheartening', 'meanness', 'gainsay', 'suppress', 'unintelligible', 'insinuating', 'fundamentalism', 'blurt', 'moody', 'erase', 'sinfully', 'squabble', 'sicken', 'contemptuously', 'cowardly', 'garish', 'un-viewable', 'illusion', 'drowning', 'infringe', 'cruelest', 'distress', 'troublesome', 'denied', 'undependable', 'appalling', 'liable', 'prickles', 'burdensomely', 'unacceptably', 'fatalistically', 'wild', 'forged', 'denounce', 'startle', 'terrible', 'devastates', 'villainously', 'worrying', 'remorseless', 'sporadic', 'deficient', 'damn', 'detestably', 'blistering', 'trapped', 'less-developed', 'contagious', 'falsify', 'livid', 'alarmingly', 'phony', 'turbulent', 'agonizing', 'condemnable', 'radicalization', 'illicit', 'plea', 'lurking', 'trashed', 'unjustifiably', 'angriness', 'entanglement', 'harboring', 'condescend', 'hiss', 'debase', 'jam', 'reject', 'anarchy', 'damned', 'critics', 'regretted', 'allegations', 'disintegrates', 'assassinate', 'opinionated', 'struggles', 'unforgiving', 'disillusionment', 'twist', 'disastrously', 'fell', 'complaints', 'rocky', 'ill-favored', 'involuntary', 'consternation', 'inopportune', 'knave', 'resurgent', 'paupers', 'unsuccessfully', 'fallacious', 'infested', 'wail', 'disavowal', 'foe', 'sardonic', 'mordantly', 'contend', 'disingenuous', 'opponent', 'calamitous', 'creaking', 'difficulties', 'scourge', 'sugarcoated', 'imprecise', 'negative', 'slaughter', 'gnawing', 'squeal', 'infamously', 'vindictively', 'exhausts', 'injudicious', 'uncompetitive', 'propaganda', 'repetitive', 'stereotypical', 'weak', 'insupportably', 'moot', 'symptoms', 'uncivilized', 'baseless', 'chaos', 'tangles', 'drawback', 'messed', 'paranoia', 'wreaked', 'mislike', 'implausibly', 'suffocate', 'incompetence', 'irritably', 'impedance', 'calumnious', 'overreach', 'frown', 'condemned', 'sick', 'smelling', 'recession', 'deceitfully', 'retard', 'sour', 'self-criticism', 'villianously', 'disoriented', 'worsen', 'frigid', 'dragoon', 'violation', 'burns', 'fat', 'counter-productive', 'second-class', 'ugly', 'violently', 'hotbeds', 'incomprehension', 'manipulative', 'funny', 'dislocated', 'repulsive', 'slumpping', 'ultra-hardline', 'creak', 'hells', 'impose', 'itch', 'oblivious', 'sadden', 'tricked', 'vestiges', 'crook', 'ill-conceived', 'ill-treated', 'creep', 'lacks', 'capriciously', 'dissenter', 'irony', 'shit', 'dispute', 'misleading', 'beseech', 'exacerbate', 'bombastic', 'dispirit', 'excruciatingly', 'grievances', 'ingratitude', 'skimpy', 'tentative', 'maltreatment', 'fuss', 'dubious', 'forsake', 'job-killing', 'mangling', 'expunge', 'beleaguer', 'latency', 'pointless', 'reprehensive', 'setback', 'prate', 'malevolence', 'berate', 'mawkishly', 'myth', 'cloud', 'tumultuous', 'flakey', 'deadly', 'inhibit', 'suck', 'delude', 'instability', 'delirious', 'backward', 'repress', 'negligence', 'squirm', 'bashed', 'dissuade', 'intimidatingly', 'poor', 'incapable', 'spite', 'bump', 'dissatisfies', 'snagging', 'domineer', 'disgusted', 'freaks', 'vent', 'resignation', 'anti-social', 'insult', 'cutthroat', 'overstated'}\n"
          ]
        }
      ],
      "source": [
        "download(\"positive-words.txt\", \"https://raw.githubusercontent.com/unibodatascience/BBS-TextMining/3ad6643b698f652f200dfbf463a3cb49de8c0e9f/05%20-%20Opinion%20Mining%20with%20Python%20(part%201)/data/positive-words.txt\")\n",
        "download(\"negative-words.txt\", \"https://raw.githubusercontent.com/unibodatascience/BBS-TextMining/3ad6643b698f652f200dfbf463a3cb49de8c0e9f/05%20-%20Opinion%20Mining%20with%20Python%20(part%201)/data/negative-words.txt\")\n",
        "\n",
        "hu_liu_pos = load_hu_liu(\"positive-words.txt\")\n",
        "print('Positive words')\n",
        "print(hu_liu_pos)\n",
        "\n",
        "print()\n",
        "\n",
        "hu_liu_neg = load_hu_liu(\"negative-words.txt\")\n",
        "print('Negative words')\n",
        "print(hu_liu_neg)"
      ]
    },
    {
      "cell_type": "markdown",
      "metadata": {
        "id": "HzWuXxEq9INJ"
      },
      "source": [
        "The words in the list are general, but we can add some domain-specific word (\"`|`\" is the \"set union\" operator)."
      ]
    },
    {
      "cell_type": "code",
      "execution_count": null,
      "metadata": {
        "id": "XHAevZFs9INK"
      },
      "outputs": [],
      "source": [
        "airline_pos_words = hu_liu_pos | {\"upgrade\"}\n",
        "airline_neg_words = hu_liu_neg | {\"wtf\", \"wait\", \"waiting\", \"epicfail\", \"mechanical\"} # wtf what the fu.k"
      ]
    },
    {
      "cell_type": "markdown",
      "metadata": {
        "id": "-w7GIElE9INL"
      },
      "source": [
        "_Performance note:_ we use sets here (denoted with braces: `{...}`) rather than lists (with square brackets: `[...]`) to make lookup faster"
      ]
    },
    {
      "cell_type": "code",
      "execution_count": null,
      "metadata": {
        "colab": {
          "base_uri": "https://localhost:8080/"
        },
        "id": "Oy45mfQ79INL",
        "outputId": "ac27a4fc-8284-4152-9670-5c09ff20b9b9"
      },
      "outputs": [
        {
          "output_type": "stream",
          "name": "stdout",
          "text": [
            "1000000 loops, best of 5: 238 ns per loop\n"
          ]
        }
      ],
      "source": [
        "%%timeit -n 1000000 \n",
        "# -n represents the number of loops, i.e. the number of times the code will be executed\n",
        "# 5 is the test repeat count; the tests are repeated several times. The fastest time of those 5 is then taken.\n",
        "\n",
        "\"e\" in [\"a\", \"b\", \"c\", \"d\", \"e\"]   # list"
      ]
    },
    {
      "cell_type": "code",
      "execution_count": null,
      "metadata": {
        "colab": {
          "base_uri": "https://localhost:8080/"
        },
        "id": "ADOFvNSD9INN",
        "outputId": "373f3f45-0de7-4506-d238-ddc8aa7be538"
      },
      "outputs": [
        {
          "output_type": "stream",
          "name": "stdout",
          "text": [
            "1000000 loops, best of 5: 70.1 ns per loop\n"
          ]
        }
      ],
      "source": [
        "%%timeit -n 1000000\n",
        "\"e\" in {\"a\", \"b\", \"c\", \"d\", \"e\"}   # set"
      ]
    },
    {
      "cell_type": "markdown",
      "metadata": {
        "id": "h8XH_H6d9INP"
      },
      "source": [
        "### Text tokenization\n",
        "\n",
        "We have to decompose tweets into the single words they contain in order to search for the opinion words within it\n",
        "\n",
        "A _tokenization_ algorithm splits a text string into a sequence of _tokens_ each representing a single word (or other entities such as numbers and punctuation)"
      ]
    },
    {
      "cell_type": "markdown",
      "metadata": {
        "id": "mSDplc_P9INP"
      },
      "source": [
        "A simple tokenization algorithm can consist in removing all characters different from letters and spaces from text, than splitting text in words using spaces as boundaries"
      ]
    },
    {
      "cell_type": "code",
      "execution_count": null,
      "metadata": {
        "id": "TJORMSRs9INP"
      },
      "outputs": [],
      "source": [
        "import re\n",
        "\n",
        "# Considering \"This isn't a test, or is it?\" sentence as text\n",
        "# re.sub(\"[^A-Za-z ]\", \"\", text) will transform it as 'This isnt a test or is it'. \n",
        "# In general, it removes (that is equivalent to: substitute with \"\") every character that is not a upperase/lowercase letter or space\n",
        "def my_tokenizer(text):\n",
        "    # split(\" \") is used to split the sentence in a list of strings using the space \" \" as separator\n",
        "    return re.sub(\"[^A-Za-z ]\", \"\", text).split(\" \") "
      ]
    },
    {
      "cell_type": "markdown",
      "metadata": {
        "id": "Lw9xbtIU9INQ"
      },
      "source": [
        "An example usage is..."
      ]
    },
    {
      "cell_type": "code",
      "execution_count": null,
      "metadata": {
        "colab": {
          "base_uri": "https://localhost:8080/"
        },
        "id": "3W6juY_S9INR",
        "outputId": "ee4c2ae7-872a-4fc5-f8c0-5d0cf0e57ede"
      },
      "outputs": [
        {
          "output_type": "execute_result",
          "data": {
            "text/plain": [
              "['This', 'isnt', 'a', 'test', 'or', 'is', 'it']"
            ]
          },
          "metadata": {},
          "execution_count": 22
        }
      ],
      "source": [
        "my_tokenizer(\"This isn't a test, or is it?\")"
      ]
    },
    {
      "cell_type": "markdown",
      "metadata": {
        "id": "YFoRFRJM9INS"
      },
      "source": [
        "NLTK provides a finer tokenization algorithm, based on a knowledge model of the English language: in order to make it work, we have first to download the model"
      ]
    },
    {
      "cell_type": "code",
      "execution_count": null,
      "metadata": {
        "colab": {
          "base_uri": "https://localhost:8080/"
        },
        "id": "nnBPTc5E9INT",
        "outputId": "31a680ad-f2ff-4f17-b126-24713e784e84"
      },
      "outputs": [
        {
          "output_type": "stream",
          "name": "stdout",
          "text": [
            "[nltk_data] Downloading package punkt to /root/nltk_data...\n",
            "[nltk_data]   Unzipping tokenizers/punkt.zip.\n"
          ]
        },
        {
          "output_type": "execute_result",
          "data": {
            "text/plain": [
              "True"
            ]
          },
          "metadata": {},
          "execution_count": 23
        }
      ],
      "source": [
        "nltk.download(\"punkt\") # PunktSentenceTokenizer"
      ]
    },
    {
      "cell_type": "markdown",
      "metadata": {
        "id": "pS5JsR0E9INU"
      },
      "source": [
        "We can then use the `word_tokenize` function"
      ]
    },
    {
      "cell_type": "code",
      "execution_count": null,
      "metadata": {
        "colab": {
          "base_uri": "https://localhost:8080/"
        },
        "id": "Su1bApvb9INU",
        "outputId": "127da94f-13d5-4b9e-f7fd-cbf253a9ca89"
      },
      "outputs": [
        {
          "output_type": "execute_result",
          "data": {
            "text/plain": [
              "['This', 'is', \"n't\", 'a', 'test', ',', 'or', 'is', 'it', '?']"
            ]
          },
          "metadata": {},
          "execution_count": 24
        }
      ],
      "source": [
        "nltk.word_tokenize(\"This isn't a test, or is it?\")"
      ]
    },
    {
      "cell_type": "markdown",
      "metadata": {
        "id": "ftuN515Y9INW"
      },
      "source": [
        "Other than keeping punctuation marks as separate tokens, NLTK was able to correctly split \"isn't\" into its two component words"
      ]
    },
    {
      "cell_type": "markdown",
      "metadata": {
        "id": "trAmVK-69INX"
      },
      "source": [
        "### Sentiment scoring\n",
        "\n",
        "We define a function to compute the \"sentiment score\" of some text, computed as the difference between counts of positive and negative opinion words contained in it. Notice we have to convert all words in lowercase to be sure to find them in the lists."
      ]
    },
    {
      "cell_type": "code",
      "execution_count": null,
      "metadata": {
        "id": "walyIml89INX"
      },
      "outputs": [],
      "source": [
        "def sentiment_score(text, pos_words, neg_words):\n",
        "    words = nltk.word_tokenize(text)\n",
        "    # count 1 for each word present in the positive words list\n",
        "    pos_matches = sum(1 for word in words if word.lower() in pos_words)\n",
        "    # same count with the negative words list\n",
        "    neg_matches = sum(1 for word in words if word.lower() in neg_words)\n",
        "    # return the difference between the two counts\n",
        "    return pos_matches - neg_matches"
      ]
    },
    {
      "cell_type": "markdown",
      "metadata": {
        "id": "OEiDe6fv9INZ"
      },
      "source": [
        "This functions accept the lists of positive and negative words as input, we can wrap it in a version specific for the \"airline\" opinion words lists"
      ]
    },
    {
      "cell_type": "code",
      "execution_count": null,
      "metadata": {
        "id": "njkdCZha9INZ"
      },
      "outputs": [],
      "source": [
        "def airline_sentiment_score(text):\n",
        "    return sentiment_score(text, airline_pos_words, airline_neg_words)"
      ]
    },
    {
      "cell_type": "markdown",
      "metadata": {
        "id": "gwKz63o99INb"
      },
      "source": [
        "Example: a sentence with one positive word..."
      ]
    },
    {
      "cell_type": "code",
      "execution_count": null,
      "metadata": {
        "colab": {
          "base_uri": "https://localhost:8080/"
        },
        "id": "KsCtI9SU9INb",
        "outputId": "54ec8cfe-c629-4954-e098-b53893b849ed"
      },
      "outputs": [
        {
          "output_type": "execute_result",
          "data": {
            "text/plain": [
              "1"
            ]
          },
          "metadata": {},
          "execution_count": 27
        }
      ],
      "source": [
        "airline_sentiment_score(\"This is an awesome test!\")"
      ]
    },
    {
      "cell_type": "markdown",
      "metadata": {
        "id": "-aQ1fUrK9INd"
      },
      "source": [
        "Let's consider a small set of sample sentences to evaluate"
      ]
    },
    {
      "cell_type": "code",
      "execution_count": null,
      "metadata": {
        "id": "DvZj3Qg59INd"
      },
      "outputs": [],
      "source": [
        "sample = [\n",
        "    \"You're awesome and I love you\",\n",
        "    \"I hate and hate and hate. So angry. Die!\",\n",
        "    \"Impressed and amazed: you are peerless in your achievement of unparalleled mediocrity.\"\n",
        "]"
      ]
    },
    {
      "cell_type": "markdown",
      "metadata": {
        "id": "ZVxGd4jj9INf"
      },
      "source": [
        "We can use `map` to apply the scoring function to each of the samples and get the sequence of corresponding scores wrapped in a list"
      ]
    },
    {
      "cell_type": "code",
      "execution_count": null,
      "metadata": {
        "id": "8hzGXMsQ9INf"
      },
      "outputs": [],
      "source": [
        "sample_scores = list(map(airline_sentiment_score, sample))"
      ]
    },
    {
      "cell_type": "code",
      "execution_count": null,
      "metadata": {
        "colab": {
          "base_uri": "https://localhost:8080/"
        },
        "id": "wJ5dPnud9INh",
        "outputId": "f75539d9-2fff-4483-89e5-3a5f747b9c49"
      },
      "outputs": [
        {
          "output_type": "execute_result",
          "data": {
            "text/plain": [
              "[2, -5, 4]"
            ]
          },
          "metadata": {},
          "execution_count": 30
        }
      ],
      "source": [
        "sample_scores"
      ]
    },
    {
      "cell_type": "markdown",
      "metadata": {
        "id": "I306cBAA9INj"
      },
      "source": [
        "Using a pandas DataFrame, we can get a table of sample sentences matched with scores"
      ]
    },
    {
      "cell_type": "code",
      "execution_count": null,
      "metadata": {
        "colab": {
          "base_uri": "https://localhost:8080/",
          "height": 143
        },
        "id": "kWoqjh6f9INk",
        "outputId": "4d7c3196-e953-4562-efa0-a7fb6e671c47"
      },
      "outputs": [
        {
          "output_type": "execute_result",
          "data": {
            "text/plain": [
              "   score  \\\n",
              "0      2   \n",
              "1     -5   \n",
              "2      4   \n",
              "\n",
              "                                                                                     text  \n",
              "0                                                           You're awesome and I love you  \n",
              "1                                                I hate and hate and hate. So angry. Die!  \n",
              "2  Impressed and amazed: you are peerless in your achievement of unparalleled mediocrity.  "
            ],
            "text/html": [
              "\n",
              "  <div id=\"df-0b30d861-01ec-4f14-a078-b16497b6746c\">\n",
              "    <div class=\"colab-df-container\">\n",
              "      <div>\n",
              "<style scoped>\n",
              "    .dataframe tbody tr th:only-of-type {\n",
              "        vertical-align: middle;\n",
              "    }\n",
              "\n",
              "    .dataframe tbody tr th {\n",
              "        vertical-align: top;\n",
              "    }\n",
              "\n",
              "    .dataframe thead th {\n",
              "        text-align: right;\n",
              "    }\n",
              "</style>\n",
              "<table border=\"1\" class=\"dataframe\">\n",
              "  <thead>\n",
              "    <tr style=\"text-align: right;\">\n",
              "      <th></th>\n",
              "      <th>score</th>\n",
              "      <th>text</th>\n",
              "    </tr>\n",
              "  </thead>\n",
              "  <tbody>\n",
              "    <tr>\n",
              "      <th>0</th>\n",
              "      <td>2</td>\n",
              "      <td>You're awesome and I love you</td>\n",
              "    </tr>\n",
              "    <tr>\n",
              "      <th>1</th>\n",
              "      <td>-5</td>\n",
              "      <td>I hate and hate and hate. So angry. Die!</td>\n",
              "    </tr>\n",
              "    <tr>\n",
              "      <th>2</th>\n",
              "      <td>4</td>\n",
              "      <td>Impressed and amazed: you are peerless in your achievement of unparalleled mediocrity.</td>\n",
              "    </tr>\n",
              "  </tbody>\n",
              "</table>\n",
              "</div>\n",
              "      <button class=\"colab-df-convert\" onclick=\"convertToInteractive('df-0b30d861-01ec-4f14-a078-b16497b6746c')\"\n",
              "              title=\"Convert this dataframe to an interactive table.\"\n",
              "              style=\"display:none;\">\n",
              "        \n",
              "  <svg xmlns=\"http://www.w3.org/2000/svg\" height=\"24px\"viewBox=\"0 0 24 24\"\n",
              "       width=\"24px\">\n",
              "    <path d=\"M0 0h24v24H0V0z\" fill=\"none\"/>\n",
              "    <path d=\"M18.56 5.44l.94 2.06.94-2.06 2.06-.94-2.06-.94-.94-2.06-.94 2.06-2.06.94zm-11 1L8.5 8.5l.94-2.06 2.06-.94-2.06-.94L8.5 2.5l-.94 2.06-2.06.94zm10 10l.94 2.06.94-2.06 2.06-.94-2.06-.94-.94-2.06-.94 2.06-2.06.94z\"/><path d=\"M17.41 7.96l-1.37-1.37c-.4-.4-.92-.59-1.43-.59-.52 0-1.04.2-1.43.59L10.3 9.45l-7.72 7.72c-.78.78-.78 2.05 0 2.83L4 21.41c.39.39.9.59 1.41.59.51 0 1.02-.2 1.41-.59l7.78-7.78 2.81-2.81c.8-.78.8-2.07 0-2.86zM5.41 20L4 18.59l7.72-7.72 1.47 1.35L5.41 20z\"/>\n",
              "  </svg>\n",
              "      </button>\n",
              "      \n",
              "  <style>\n",
              "    .colab-df-container {\n",
              "      display:flex;\n",
              "      flex-wrap:wrap;\n",
              "      gap: 12px;\n",
              "    }\n",
              "\n",
              "    .colab-df-convert {\n",
              "      background-color: #E8F0FE;\n",
              "      border: none;\n",
              "      border-radius: 50%;\n",
              "      cursor: pointer;\n",
              "      display: none;\n",
              "      fill: #1967D2;\n",
              "      height: 32px;\n",
              "      padding: 0 0 0 0;\n",
              "      width: 32px;\n",
              "    }\n",
              "\n",
              "    .colab-df-convert:hover {\n",
              "      background-color: #E2EBFA;\n",
              "      box-shadow: 0px 1px 2px rgba(60, 64, 67, 0.3), 0px 1px 3px 1px rgba(60, 64, 67, 0.15);\n",
              "      fill: #174EA6;\n",
              "    }\n",
              "\n",
              "    [theme=dark] .colab-df-convert {\n",
              "      background-color: #3B4455;\n",
              "      fill: #D2E3FC;\n",
              "    }\n",
              "\n",
              "    [theme=dark] .colab-df-convert:hover {\n",
              "      background-color: #434B5C;\n",
              "      box-shadow: 0px 1px 3px 1px rgba(0, 0, 0, 0.15);\n",
              "      filter: drop-shadow(0px 1px 2px rgba(0, 0, 0, 0.3));\n",
              "      fill: #FFFFFF;\n",
              "    }\n",
              "  </style>\n",
              "\n",
              "      <script>\n",
              "        const buttonEl =\n",
              "          document.querySelector('#df-0b30d861-01ec-4f14-a078-b16497b6746c button.colab-df-convert');\n",
              "        buttonEl.style.display =\n",
              "          google.colab.kernel.accessAllowed ? 'block' : 'none';\n",
              "\n",
              "        async function convertToInteractive(key) {\n",
              "          const element = document.querySelector('#df-0b30d861-01ec-4f14-a078-b16497b6746c');\n",
              "          const dataTable =\n",
              "            await google.colab.kernel.invokeFunction('convertToInteractive',\n",
              "                                                     [key], {});\n",
              "          if (!dataTable) return;\n",
              "\n",
              "          const docLinkHtml = 'Like what you see? Visit the ' +\n",
              "            '<a target=\"_blank\" href=https://colab.research.google.com/notebooks/data_table.ipynb>data table notebook</a>'\n",
              "            + ' to learn more about interactive tables.';\n",
              "          element.innerHTML = '';\n",
              "          dataTable['output_type'] = 'display_data';\n",
              "          await google.colab.output.renderOutput(dataTable, element);\n",
              "          const docLink = document.createElement('div');\n",
              "          docLink.innerHTML = docLinkHtml;\n",
              "          element.appendChild(docLink);\n",
              "        }\n",
              "      </script>\n",
              "    </div>\n",
              "  </div>\n",
              "  "
            ]
          },
          "metadata": {},
          "execution_count": 31
        }
      ],
      "source": [
        "pd.DataFrame({\"score\": sample_scores, \"text\": sample})"
      ]
    },
    {
      "cell_type": "markdown",
      "metadata": {
        "id": "O4iDxy-y9INl"
      },
      "source": [
        "As we can see, the scoring function correctly evaluates straightforward sentences, although it fails to detect more elaborate text (e.g. using sarcasm)"
      ]
    },
    {
      "cell_type": "markdown",
      "metadata": {
        "id": "hAPiIBPC9INl"
      },
      "source": [
        "Let's apply the scoring functions to all tweets for one of the companies, e.g. Delta. We wrap scores in a pandas Series so we can use its functionalities."
      ]
    },
    {
      "cell_type": "code",
      "execution_count": null,
      "metadata": {
        "id": "UHfh_kQf9INm"
      },
      "outputs": [],
      "source": [
        "delta_scores = pd.Series(map(airline_sentiment_score, tweets[\"text\"][tweets[\"airline\"] == \"delta\"]))"
      ]
    },
    {
      "cell_type": "code",
      "execution_count": null,
      "metadata": {
        "colab": {
          "base_uri": "https://localhost:8080/"
        },
        "id": "XANhbzGVgva_",
        "outputId": "5f362b8d-eb28-4fc7-f4bc-6f1e7e0dc82a"
      },
      "outputs": [
        {
          "output_type": "execute_result",
          "data": {
            "text/plain": [
              "0       1\n",
              "1       0\n",
              "2       0\n",
              "3      -1\n",
              "4       0\n",
              "       ..\n",
              "1140   -1\n",
              "1141   -1\n",
              "1142    0\n",
              "1143    0\n",
              "1144    0\n",
              "Length: 1145, dtype: int64"
            ]
          },
          "metadata": {},
          "execution_count": 33
        }
      ],
      "source": [
        "delta_scores"
      ]
    },
    {
      "cell_type": "markdown",
      "metadata": {
        "id": "yTqV-3Y19INn"
      },
      "source": [
        "We can get for example the mean score of tweets..."
      ]
    },
    {
      "cell_type": "code",
      "execution_count": null,
      "metadata": {
        "colab": {
          "base_uri": "https://localhost:8080/"
        },
        "id": "7SX8uoX49INo",
        "outputId": "d1bdf5fe-4eb3-430f-8207-4b4e4a515429"
      },
      "outputs": [
        {
          "output_type": "execute_result",
          "data": {
            "text/plain": [
              "0.23406113537117904"
            ]
          },
          "metadata": {},
          "execution_count": 34
        }
      ],
      "source": [
        "delta_scores.mean()"
      ]
    },
    {
      "cell_type": "markdown",
      "metadata": {
        "id": "JFAM9PgZ9INp"
      },
      "source": [
        "...and even plot an histogram of the distribution of scores"
      ]
    },
    {
      "cell_type": "code",
      "execution_count": null,
      "metadata": {
        "colab": {
          "base_uri": "https://localhost:8080/",
          "height": 282
        },
        "id": "IdnDfrX49INq",
        "outputId": "cd737f27-fcd9-4a94-e886-e9c4c584aeef"
      },
      "outputs": [
        {
          "output_type": "execute_result",
          "data": {
            "text/plain": [
              "<matplotlib.axes._subplots.AxesSubplot at 0x7fc51727a1d0>"
            ]
          },
          "metadata": {},
          "execution_count": 35
        },
        {
          "output_type": "display_data",
          "data": {
            "text/plain": [
              "<Figure size 432x288 with 1 Axes>"
            ],
            "image/png": "[encoded data removed]"
          },
          "metadata": {
            "needs_background": "light"
          }
        }
      ],
      "source": [
        "delta_scores.plot.hist()"
      ]
    },
    {
      "cell_type": "markdown",
      "metadata": {
        "id": "_0TSBjii9INr"
      },
      "source": [
        "Let's now work with the whole collection of tweets related to all airlines\n",
        "\n",
        "We compute sentiment scores for each tweet by applying the `airline_sentiment_score` function to the `text` columns; scores are saved in a `score` column added to a copy of the `tweets` DataFrame"
      ]
    },
    {
      "cell_type": "code",
      "execution_count": null,
      "metadata": {
        "id": "-DsQ0Pd39INr"
      },
      "outputs": [],
      "source": [
        "tweets_with_scores = tweets.copy() # to leave unchanged the tweets DataFramce\n",
        "tweets_with_scores[\"score\"] = tweets_with_scores[\"text\"].apply(airline_sentiment_score)"
      ]
    },
    {
      "cell_type": "markdown",
      "metadata": {
        "id": "GOG2mmQe9INs"
      },
      "source": [
        "Let's see some random rows from it..."
      ]
    },
    {
      "cell_type": "code",
      "execution_count": null,
      "metadata": {
        "colab": {
          "base_uri": "https://localhost:8080/",
          "height": 206
        },
        "id": "O6sqT54S9INt",
        "outputId": "21c390f5-7345-48f0-8ae2-6781f236bfac"
      },
      "outputs": [
        {
          "output_type": "execute_result",
          "data": {
            "text/plain": [
              "           airline  \\\n",
              "2851  southwestair   \n",
              "1674   americanair   \n",
              "2440  southwestair   \n",
              "1769   americanair   \n",
              "2186  southwestair   \n",
              "\n",
              "                                                                                                     text  \\\n",
              "2851  RT @SouthwestAir: LUVing @JackIngram's Freedom Story in this month's issue of @SpiritMagazine. C...   \n",
              "1674                                               @alixrose Deep breathes... It'll show up! @AmericanAir   \n",
              "2440  .@SouthwestAir recognizes National #Disability Employment Awareness through open dialogue, conve...   \n",
              "1769                                                                                      ░█░░║█║║░║╠═╣╚═   \n",
              "2186  @_BEAST_MODE_ I just so happen to be flying @SouthwestAir to Denver on Thursday morning so I’ll ...   \n",
              "\n",
              "      score  \n",
              "2851      0  \n",
              "1674      0  \n",
              "2440      0  \n",
              "1769      0  \n",
              "2186      0  "
            ],
            "text/html": [
              "\n",
              "  <div id=\"df-20c8a131-b677-40f9-98dd-24e007cae4a5\">\n",
              "    <div class=\"colab-df-container\">\n",
              "      <div>\n",
              "<style scoped>\n",
              "    .dataframe tbody tr th:only-of-type {\n",
              "        vertical-align: middle;\n",
              "    }\n",
              "\n",
              "    .dataframe tbody tr th {\n",
              "        vertical-align: top;\n",
              "    }\n",
              "\n",
              "    .dataframe thead th {\n",
              "        text-align: right;\n",
              "    }\n",
              "</style>\n",
              "<table border=\"1\" class=\"dataframe\">\n",
              "  <thead>\n",
              "    <tr style=\"text-align: right;\">\n",
              "      <th></th>\n",
              "      <th>airline</th>\n",
              "      <th>text</th>\n",
              "      <th>score</th>\n",
              "    </tr>\n",
              "  </thead>\n",
              "  <tbody>\n",
              "    <tr>\n",
              "      <th>2851</th>\n",
              "      <td>southwestair</td>\n",
              "      <td>RT @SouthwestAir: LUVing @JackIngram's Freedom Story in this month's issue of @SpiritMagazine. C...</td>\n",
              "      <td>0</td>\n",
              "    </tr>\n",
              "    <tr>\n",
              "      <th>1674</th>\n",
              "      <td>americanair</td>\n",
              "      <td>@alixrose Deep breathes... It'll show up! @AmericanAir</td>\n",
              "      <td>0</td>\n",
              "    </tr>\n",
              "    <tr>\n",
              "      <th>2440</th>\n",
              "      <td>southwestair</td>\n",
              "      <td>.@SouthwestAir recognizes National #Disability Employment Awareness through open dialogue, conve...</td>\n",
              "      <td>0</td>\n",
              "    </tr>\n",
              "    <tr>\n",
              "      <th>1769</th>\n",
              "      <td>americanair</td>\n",
              "      <td>░█░░║█║║░║╠═╣╚═</td>\n",
              "      <td>0</td>\n",
              "    </tr>\n",
              "    <tr>\n",
              "      <th>2186</th>\n",
              "      <td>southwestair</td>\n",
              "      <td>@_BEAST_MODE_ I just so happen to be flying @SouthwestAir to Denver on Thursday morning so I’ll ...</td>\n",
              "      <td>0</td>\n",
              "    </tr>\n",
              "  </tbody>\n",
              "</table>\n",
              "</div>\n",
              "      <button class=\"colab-df-convert\" onclick=\"convertToInteractive('df-20c8a131-b677-40f9-98dd-24e007cae4a5')\"\n",
              "              title=\"Convert this dataframe to an interactive table.\"\n",
              "              style=\"display:none;\">\n",
              "        \n",
              "  <svg xmlns=\"http://www.w3.org/2000/svg\" height=\"24px\"viewBox=\"0 0 24 24\"\n",
              "       width=\"24px\">\n",
              "    <path d=\"M0 0h24v24H0V0z\" fill=\"none\"/>\n",
              "    <path d=\"M18.56 5.44l.94 2.06.94-2.06 2.06-.94-2.06-.94-.94-2.06-.94 2.06-2.06.94zm-11 1L8.5 8.5l.94-2.06 2.06-.94-2.06-.94L8.5 2.5l-.94 2.06-2.06.94zm10 10l.94 2.06.94-2.06 2.06-.94-2.06-.94-.94-2.06-.94 2.06-2.06.94z\"/><path d=\"M17.41 7.96l-1.37-1.37c-.4-.4-.92-.59-1.43-.59-.52 0-1.04.2-1.43.59L10.3 9.45l-7.72 7.72c-.78.78-.78 2.05 0 2.83L4 21.41c.39.39.9.59 1.41.59.51 0 1.02-.2 1.41-.59l7.78-7.78 2.81-2.81c.8-.78.8-2.07 0-2.86zM5.41 20L4 18.59l7.72-7.72 1.47 1.35L5.41 20z\"/>\n",
              "  </svg>\n",
              "      </button>\n",
              "      \n",
              "  <style>\n",
              "    .colab-df-container {\n",
              "      display:flex;\n",
              "      flex-wrap:wrap;\n",
              "      gap: 12px;\n",
              "    }\n",
              "\n",
              "    .colab-df-convert {\n",
              "      background-color: #E8F0FE;\n",
              "      border: none;\n",
              "      border-radius: 50%;\n",
              "      cursor: pointer;\n",
              "      display: none;\n",
              "      fill: #1967D2;\n",
              "      height: 32px;\n",
              "      padding: 0 0 0 0;\n",
              "      width: 32px;\n",
              "    }\n",
              "\n",
              "    .colab-df-convert:hover {\n",
              "      background-color: #E2EBFA;\n",
              "      box-shadow: 0px 1px 2px rgba(60, 64, 67, 0.3), 0px 1px 3px 1px rgba(60, 64, 67, 0.15);\n",
              "      fill: #174EA6;\n",
              "    }\n",
              "\n",
              "    [theme=dark] .colab-df-convert {\n",
              "      background-color: #3B4455;\n",
              "      fill: #D2E3FC;\n",
              "    }\n",
              "\n",
              "    [theme=dark] .colab-df-convert:hover {\n",
              "      background-color: #434B5C;\n",
              "      box-shadow: 0px 1px 3px 1px rgba(0, 0, 0, 0.15);\n",
              "      filter: drop-shadow(0px 1px 2px rgba(0, 0, 0, 0.3));\n",
              "      fill: #FFFFFF;\n",
              "    }\n",
              "  </style>\n",
              "\n",
              "      <script>\n",
              "        const buttonEl =\n",
              "          document.querySelector('#df-20c8a131-b677-40f9-98dd-24e007cae4a5 button.colab-df-convert');\n",
              "        buttonEl.style.display =\n",
              "          google.colab.kernel.accessAllowed ? 'block' : 'none';\n",
              "\n",
              "        async function convertToInteractive(key) {\n",
              "          const element = document.querySelector('#df-20c8a131-b677-40f9-98dd-24e007cae4a5');\n",
              "          const dataTable =\n",
              "            await google.colab.kernel.invokeFunction('convertToInteractive',\n",
              "                                                     [key], {});\n",
              "          if (!dataTable) return;\n",
              "\n",
              "          const docLinkHtml = 'Like what you see? Visit the ' +\n",
              "            '<a target=\"_blank\" href=https://colab.research.google.com/notebooks/data_table.ipynb>data table notebook</a>'\n",
              "            + ' to learn more about interactive tables.';\n",
              "          element.innerHTML = '';\n",
              "          dataTable['output_type'] = 'display_data';\n",
              "          await google.colab.output.renderOutput(dataTable, element);\n",
              "          const docLink = document.createElement('div');\n",
              "          docLink.innerHTML = docLinkHtml;\n",
              "          element.appendChild(docLink);\n",
              "        }\n",
              "      </script>\n",
              "    </div>\n",
              "  </div>\n",
              "  "
            ]
          },
          "metadata": {},
          "execution_count": 37
        }
      ],
      "source": [
        "tweets_with_scores.sample(5)"
      ]
    },
    {
      "cell_type": "markdown",
      "metadata": {
        "id": "Id6S53XS9INu"
      },
      "source": [
        "### Summarizing sentiment for each company\n",
        "\n",
        "Let’s focus our analysis only on very negative (score <= 2) and very positive (score >= 2) tweets, adding columns which identify them"
      ]
    },
    {
      "cell_type": "code",
      "execution_count": null,
      "metadata": {
        "id": "UNKPLeHv9INu"
      },
      "outputs": [],
      "source": [
        "tweets_with_scores[\"very_pos\"] = tweets_with_scores[\"score\"] >= 2\n",
        "tweets_with_scores[\"very_neg\"] = tweets_with_scores[\"score\"] <= -2"
      ]
    },
    {
      "cell_type": "markdown",
      "metadata": {
        "id": "FUiKdp6G9INx"
      },
      "source": [
        "We group the frame by companies, keeping just the columns indicating very positive or negative tweets and counting the number of them for each group"
      ]
    },
    {
      "cell_type": "code",
      "execution_count": null,
      "metadata": {
        "id": "BLlyCc2u9INx"
      },
      "outputs": [],
      "source": [
        "twitter_score = tweets_with_scores.groupby(\"airline\")[[\"very_pos\", \"very_neg\"]].sum().sort_index()"
      ]
    },
    {
      "cell_type": "markdown",
      "metadata": {
        "id": "RsmBFK-U9INz"
      },
      "source": [
        "Let's view the obtained grouped table..."
      ]
    },
    {
      "cell_type": "code",
      "execution_count": null,
      "metadata": {
        "colab": {
          "base_uri": "https://localhost:8080/",
          "height": 237
        },
        "id": "KEzM87Un9IN0",
        "outputId": "50b5b97a-f932-4d79-9f86-af75e12de66f"
      },
      "outputs": [
        {
          "output_type": "execute_result",
          "data": {
            "text/plain": [
              "              very_pos  very_neg\n",
              "airline                         \n",
              "americanair        118        31\n",
              "delta              116        55\n",
              "jetblue             10         2\n",
              "southwestair       122        34\n",
              "united             116        99"
            ],
            "text/html": [
              "\n",
              "  <div id=\"df-1f451cec-bb56-4aa6-8e24-dfd8e4a7b62e\">\n",
              "    <div class=\"colab-df-container\">\n",
              "      <div>\n",
              "<style scoped>\n",
              "    .dataframe tbody tr th:only-of-type {\n",
              "        vertical-align: middle;\n",
              "    }\n",
              "\n",
              "    .dataframe tbody tr th {\n",
              "        vertical-align: top;\n",
              "    }\n",
              "\n",
              "    .dataframe thead th {\n",
              "        text-align: right;\n",
              "    }\n",
              "</style>\n",
              "<table border=\"1\" class=\"dataframe\">\n",
              "  <thead>\n",
              "    <tr style=\"text-align: right;\">\n",
              "      <th></th>\n",
              "      <th>very_pos</th>\n",
              "      <th>very_neg</th>\n",
              "    </tr>\n",
              "    <tr>\n",
              "      <th>airline</th>\n",
              "      <th></th>\n",
              "      <th></th>\n",
              "    </tr>\n",
              "  </thead>\n",
              "  <tbody>\n",
              "    <tr>\n",
              "      <th>americanair</th>\n",
              "      <td>118</td>\n",
              "      <td>31</td>\n",
              "    </tr>\n",
              "    <tr>\n",
              "      <th>delta</th>\n",
              "      <td>116</td>\n",
              "      <td>55</td>\n",
              "    </tr>\n",
              "    <tr>\n",
              "      <th>jetblue</th>\n",
              "      <td>10</td>\n",
              "      <td>2</td>\n",
              "    </tr>\n",
              "    <tr>\n",
              "      <th>southwestair</th>\n",
              "      <td>122</td>\n",
              "      <td>34</td>\n",
              "    </tr>\n",
              "    <tr>\n",
              "      <th>united</th>\n",
              "      <td>116</td>\n",
              "      <td>99</td>\n",
              "    </tr>\n",
              "  </tbody>\n",
              "</table>\n",
              "</div>\n",
              "      <button class=\"colab-df-convert\" onclick=\"convertToInteractive('df-1f451cec-bb56-4aa6-8e24-dfd8e4a7b62e')\"\n",
              "              title=\"Convert this dataframe to an interactive table.\"\n",
              "              style=\"display:none;\">\n",
              "        \n",
              "  <svg xmlns=\"http://www.w3.org/2000/svg\" height=\"24px\"viewBox=\"0 0 24 24\"\n",
              "       width=\"24px\">\n",
              "    <path d=\"M0 0h24v24H0V0z\" fill=\"none\"/>\n",
              "    <path d=\"M18.56 5.44l.94 2.06.94-2.06 2.06-.94-2.06-.94-.94-2.06-.94 2.06-2.06.94zm-11 1L8.5 8.5l.94-2.06 2.06-.94-2.06-.94L8.5 2.5l-.94 2.06-2.06.94zm10 10l.94 2.06.94-2.06 2.06-.94-2.06-.94-.94-2.06-.94 2.06-2.06.94z\"/><path d=\"M17.41 7.96l-1.37-1.37c-.4-.4-.92-.59-1.43-.59-.52 0-1.04.2-1.43.59L10.3 9.45l-7.72 7.72c-.78.78-.78 2.05 0 2.83L4 21.41c.39.39.9.59 1.41.59.51 0 1.02-.2 1.41-.59l7.78-7.78 2.81-2.81c.8-.78.8-2.07 0-2.86zM5.41 20L4 18.59l7.72-7.72 1.47 1.35L5.41 20z\"/>\n",
              "  </svg>\n",
              "      </button>\n",
              "      \n",
              "  <style>\n",
              "    .colab-df-container {\n",
              "      display:flex;\n",
              "      flex-wrap:wrap;\n",
              "      gap: 12px;\n",
              "    }\n",
              "\n",
              "    .colab-df-convert {\n",
              "      background-color: #E8F0FE;\n",
              "      border: none;\n",
              "      border-radius: 50%;\n",
              "      cursor: pointer;\n",
              "      display: none;\n",
              "      fill: #1967D2;\n",
              "      height: 32px;\n",
              "      padding: 0 0 0 0;\n",
              "      width: 32px;\n",
              "    }\n",
              "\n",
              "    .colab-df-convert:hover {\n",
              "      background-color: #E2EBFA;\n",
              "      box-shadow: 0px 1px 2px rgba(60, 64, 67, 0.3), 0px 1px 3px 1px rgba(60, 64, 67, 0.15);\n",
              "      fill: #174EA6;\n",
              "    }\n",
              "\n",
              "    [theme=dark] .colab-df-convert {\n",
              "      background-color: #3B4455;\n",
              "      fill: #D2E3FC;\n",
              "    }\n",
              "\n",
              "    [theme=dark] .colab-df-convert:hover {\n",
              "      background-color: #434B5C;\n",
              "      box-shadow: 0px 1px 3px 1px rgba(0, 0, 0, 0.15);\n",
              "      filter: drop-shadow(0px 1px 2px rgba(0, 0, 0, 0.3));\n",
              "      fill: #FFFFFF;\n",
              "    }\n",
              "  </style>\n",
              "\n",
              "      <script>\n",
              "        const buttonEl =\n",
              "          document.querySelector('#df-1f451cec-bb56-4aa6-8e24-dfd8e4a7b62e button.colab-df-convert');\n",
              "        buttonEl.style.display =\n",
              "          google.colab.kernel.accessAllowed ? 'block' : 'none';\n",
              "\n",
              "        async function convertToInteractive(key) {\n",
              "          const element = document.querySelector('#df-1f451cec-bb56-4aa6-8e24-dfd8e4a7b62e');\n",
              "          const dataTable =\n",
              "            await google.colab.kernel.invokeFunction('convertToInteractive',\n",
              "                                                     [key], {});\n",
              "          if (!dataTable) return;\n",
              "\n",
              "          const docLinkHtml = 'Like what you see? Visit the ' +\n",
              "            '<a target=\"_blank\" href=https://colab.research.google.com/notebooks/data_table.ipynb>data table notebook</a>'\n",
              "            + ' to learn more about interactive tables.';\n",
              "          element.innerHTML = '';\n",
              "          dataTable['output_type'] = 'display_data';\n",
              "          await google.colab.output.renderOutput(dataTable, element);\n",
              "          const docLink = document.createElement('div');\n",
              "          docLink.innerHTML = docLinkHtml;\n",
              "          element.appendChild(docLink);\n",
              "        }\n",
              "      </script>\n",
              "    </div>\n",
              "  </div>\n",
              "  "
            ]
          },
          "metadata": {},
          "execution_count": 40
        }
      ],
      "source": [
        "twitter_score"
      ]
    },
    {
      "cell_type": "markdown",
      "metadata": {
        "id": "In3HBOxx9IN2"
      },
      "source": [
        "`airline` is now the _index_ of the frame: values of the index identify each row (much like a primary key in a database)"
      ]
    },
    {
      "cell_type": "markdown",
      "metadata": {
        "id": "TQLL_qnb9IN2"
      },
      "source": [
        "For every company, we compute the sum of very positive and very negative tweets..."
      ]
    },
    {
      "cell_type": "code",
      "execution_count": null,
      "metadata": {
        "id": "c8cE82zg9IN2"
      },
      "outputs": [],
      "source": [
        "twitter_score[\"all_count\"] = twitter_score.very_pos + twitter_score.very_neg"
      ]
    },
    {
      "cell_type": "markdown",
      "metadata": {
        "id": "ZFcIG4YN9IN4"
      },
      "source": [
        "...then we compute a \"global sentiment score\" as the percentage between the count of positive tweets and the total count of tweets above"
      ]
    },
    {
      "cell_type": "code",
      "execution_count": null,
      "metadata": {
        "id": "1UwlgKs19IN5"
      },
      "outputs": [],
      "source": [
        "twitter_score[\"score\"] = 100 * twitter_score.very_pos / twitter_score.all_count"
      ]
    },
    {
      "cell_type": "markdown",
      "metadata": {
        "id": "QNz_-VSt9IN7"
      },
      "source": [
        "Let's now list the companies ranked by their score"
      ]
    },
    {
      "cell_type": "code",
      "execution_count": null,
      "metadata": {
        "colab": {
          "base_uri": "https://localhost:8080/",
          "height": 237
        },
        "id": "KlEyMUuX9IN7",
        "outputId": "3a33de5a-593b-4e46-84f4-6c2aaa30b936"
      },
      "outputs": [
        {
          "output_type": "execute_result",
          "data": {
            "text/plain": [
              "              very_pos  very_neg  all_count   score\n",
              "airline                                            \n",
              "jetblue             10         2         12  83.333\n",
              "americanair        118        31        149  79.195\n",
              "southwestair       122        34        156  78.205\n",
              "delta              116        55        171  67.836\n",
              "united             116        99        215  53.953"
            ],
            "text/html": [
              "\n",
              "  <div id=\"df-a19fc875-7660-4eb3-8ae8-4323b14c0ea5\">\n",
              "    <div class=\"colab-df-container\">\n",
              "      <div>\n",
              "<style scoped>\n",
              "    .dataframe tbody tr th:only-of-type {\n",
              "        vertical-align: middle;\n",
              "    }\n",
              "\n",
              "    .dataframe tbody tr th {\n",
              "        vertical-align: top;\n",
              "    }\n",
              "\n",
              "    .dataframe thead th {\n",
              "        text-align: right;\n",
              "    }\n",
              "</style>\n",
              "<table border=\"1\" class=\"dataframe\">\n",
              "  <thead>\n",
              "    <tr style=\"text-align: right;\">\n",
              "      <th></th>\n",
              "      <th>very_pos</th>\n",
              "      <th>very_neg</th>\n",
              "      <th>all_count</th>\n",
              "      <th>score</th>\n",
              "    </tr>\n",
              "    <tr>\n",
              "      <th>airline</th>\n",
              "      <th></th>\n",
              "      <th></th>\n",
              "      <th></th>\n",
              "      <th></th>\n",
              "    </tr>\n",
              "  </thead>\n",
              "  <tbody>\n",
              "    <tr>\n",
              "      <th>jetblue</th>\n",
              "      <td>10</td>\n",
              "      <td>2</td>\n",
              "      <td>12</td>\n",
              "      <td>83.333</td>\n",
              "    </tr>\n",
              "    <tr>\n",
              "      <th>americanair</th>\n",
              "      <td>118</td>\n",
              "      <td>31</td>\n",
              "      <td>149</td>\n",
              "      <td>79.195</td>\n",
              "    </tr>\n",
              "    <tr>\n",
              "      <th>southwestair</th>\n",
              "      <td>122</td>\n",
              "      <td>34</td>\n",
              "      <td>156</td>\n",
              "      <td>78.205</td>\n",
              "    </tr>\n",
              "    <tr>\n",
              "      <th>delta</th>\n",
              "      <td>116</td>\n",
              "      <td>55</td>\n",
              "      <td>171</td>\n",
              "      <td>67.836</td>\n",
              "    </tr>\n",
              "    <tr>\n",
              "      <th>united</th>\n",
              "      <td>116</td>\n",
              "      <td>99</td>\n",
              "      <td>215</td>\n",
              "      <td>53.953</td>\n",
              "    </tr>\n",
              "  </tbody>\n",
              "</table>\n",
              "</div>\n",
              "      <button class=\"colab-df-convert\" onclick=\"convertToInteractive('df-a19fc875-7660-4eb3-8ae8-4323b14c0ea5')\"\n",
              "              title=\"Convert this dataframe to an interactive table.\"\n",
              "              style=\"display:none;\">\n",
              "        \n",
              "  <svg xmlns=\"http://www.w3.org/2000/svg\" height=\"24px\"viewBox=\"0 0 24 24\"\n",
              "       width=\"24px\">\n",
              "    <path d=\"M0 0h24v24H0V0z\" fill=\"none\"/>\n",
              "    <path d=\"M18.56 5.44l.94 2.06.94-2.06 2.06-.94-2.06-.94-.94-2.06-.94 2.06-2.06.94zm-11 1L8.5 8.5l.94-2.06 2.06-.94-2.06-.94L8.5 2.5l-.94 2.06-2.06.94zm10 10l.94 2.06.94-2.06 2.06-.94-2.06-.94-.94-2.06-.94 2.06-2.06.94z\"/><path d=\"M17.41 7.96l-1.37-1.37c-.4-.4-.92-.59-1.43-.59-.52 0-1.04.2-1.43.59L10.3 9.45l-7.72 7.72c-.78.78-.78 2.05 0 2.83L4 21.41c.39.39.9.59 1.41.59.51 0 1.02-.2 1.41-.59l7.78-7.78 2.81-2.81c.8-.78.8-2.07 0-2.86zM5.41 20L4 18.59l7.72-7.72 1.47 1.35L5.41 20z\"/>\n",
              "  </svg>\n",
              "      </button>\n",
              "      \n",
              "  <style>\n",
              "    .colab-df-container {\n",
              "      display:flex;\n",
              "      flex-wrap:wrap;\n",
              "      gap: 12px;\n",
              "    }\n",
              "\n",
              "    .colab-df-convert {\n",
              "      background-color: #E8F0FE;\n",
              "      border: none;\n",
              "      border-radius: 50%;\n",
              "      cursor: pointer;\n",
              "      display: none;\n",
              "      fill: #1967D2;\n",
              "      height: 32px;\n",
              "      padding: 0 0 0 0;\n",
              "      width: 32px;\n",
              "    }\n",
              "\n",
              "    .colab-df-convert:hover {\n",
              "      background-color: #E2EBFA;\n",
              "      box-shadow: 0px 1px 2px rgba(60, 64, 67, 0.3), 0px 1px 3px 1px rgba(60, 64, 67, 0.15);\n",
              "      fill: #174EA6;\n",
              "    }\n",
              "\n",
              "    [theme=dark] .colab-df-convert {\n",
              "      background-color: #3B4455;\n",
              "      fill: #D2E3FC;\n",
              "    }\n",
              "\n",
              "    [theme=dark] .colab-df-convert:hover {\n",
              "      background-color: #434B5C;\n",
              "      box-shadow: 0px 1px 3px 1px rgba(0, 0, 0, 0.15);\n",
              "      filter: drop-shadow(0px 1px 2px rgba(0, 0, 0, 0.3));\n",
              "      fill: #FFFFFF;\n",
              "    }\n",
              "  </style>\n",
              "\n",
              "      <script>\n",
              "        const buttonEl =\n",
              "          document.querySelector('#df-a19fc875-7660-4eb3-8ae8-4323b14c0ea5 button.colab-df-convert');\n",
              "        buttonEl.style.display =\n",
              "          google.colab.kernel.accessAllowed ? 'block' : 'none';\n",
              "\n",
              "        async function convertToInteractive(key) {\n",
              "          const element = document.querySelector('#df-a19fc875-7660-4eb3-8ae8-4323b14c0ea5');\n",
              "          const dataTable =\n",
              "            await google.colab.kernel.invokeFunction('convertToInteractive',\n",
              "                                                     [key], {});\n",
              "          if (!dataTable) return;\n",
              "\n",
              "          const docLinkHtml = 'Like what you see? Visit the ' +\n",
              "            '<a target=\"_blank\" href=https://colab.research.google.com/notebooks/data_table.ipynb>data table notebook</a>'\n",
              "            + ' to learn more about interactive tables.';\n",
              "          element.innerHTML = '';\n",
              "          dataTable['output_type'] = 'display_data';\n",
              "          await google.colab.output.renderOutput(dataTable, element);\n",
              "          const docLink = document.createElement('div');\n",
              "          docLink.innerHTML = docLinkHtml;\n",
              "          element.appendChild(docLink);\n",
              "        }\n",
              "      </script>\n",
              "    </div>\n",
              "  </div>\n",
              "  "
            ]
          },
          "metadata": {},
          "execution_count": 43
        }
      ],
      "source": [
        "twitter_score.sort_values(\"score\", ascending=False)"
      ]
    },
    {
      "cell_type": "markdown",
      "metadata": {
        "id": "pav5BKXF9IN8"
      },
      "source": [
        "To simplify subsequent tests, we create a function which, given a series of scores for tweets, executes the steps above to extract summary scores for each airline"
      ]
    },
    {
      "cell_type": "code",
      "execution_count": null,
      "metadata": {
        "id": "VNj8OLsF9IN8"
      },
      "outputs": [],
      "source": [
        "def get_summary_scores(tweet_scores):\n",
        "    very_pos_tweets = tweet_scores >= 2\n",
        "    very_neg_tweets = tweet_scores <= -2\n",
        "    very_pos = very_pos_tweets.groupby(tweets[\"airline\"]).sum()\n",
        "    very_neg = very_neg_tweets.groupby(tweets[\"airline\"]).sum()\n",
        "    total = very_pos + very_neg\n",
        "    return 100 * (very_pos / total)"
      ]
    },
    {
      "cell_type": "markdown",
      "metadata": {
        "id": "7Img7WOX9IN-"
      },
      "source": [
        "### Comparing results with known customer satisfaction\n",
        "\n",
        "We can extract known information about the general satisfaction of airline companies from the ACSI (_American Customer Satisfaction Index_) website\n",
        "\n",
        "A table of the satisfaction index by year about airline companies is available at\n",
        "\n",
        "https://web.archive.org/web/20200203093734/https://www.theacsi.org/index.php?option=com_content&view=article&id=147&catid=&Itemid=212&i=Airlines\n",
        "\n",
        "<!-- http://www.theacsi.org/index.php?option=com_content&view=article&id=147&catid=&Itemid=212&i=Airlines -->\n",
        "\n",
        "We can import such data and use it to validate the satisfaction score extracted from Twitter"
      ]
    },
    {
      "cell_type": "markdown",
      "metadata": {
        "id": "gWYVF1x09IN-"
      },
      "source": [
        "pandas provides the `read_html` function to get DataFrames by scraping tables from a Web page (the `lxml` and `BeautifulSoup4` packages must be installed)"
      ]
    },
    {
      "cell_type": "code",
      "execution_count": null,
      "metadata": {
        "id": "PzQcr8ci9IN-"
      },
      "outputs": [],
      "source": [
        "import ssl\n",
        "# it overrides the default function for context creation with the function to create an unverified context\n",
        "# namely to disable certificate verification\n",
        "ssl._create_default_https_context = ssl._create_unverified_context\n",
        "\n",
        "acsi_table = pd.read_html(\n",
        "    \"https://web.archive.org/web/20200203093734/https://www.theacsi.org/index.php?option=com_content&view=article&id=147&catid=&Itemid=212&i=Airlines\",\n",
        "    header=0, index_col=0)[1]\n",
        "\n",
        "# use the local copy of ACSI table just in case of network troubles\n",
        "# acsi_table = pd.read_html(\"https://www.dropbox.com/s/xgkqtcd9bu6jres/acsi_arlines.html?raw=1\",\n",
        "#    header=0, index_col=0)[0]"
      ]
    },
    {
      "cell_type": "code",
      "execution_count": null,
      "metadata": {
        "colab": {
          "base_uri": "https://localhost:8080/",
          "height": 363
        },
        "id": "_-CPi6_M9IOA",
        "outputId": "0bfe7757-2ec6-4683-be0f-0f3dc2038aab"
      },
      "outputs": [
        {
          "output_type": "execute_result",
          "data": {
            "text/plain": [
              "              16    17    18    19  PreviousYear%Change\n",
              "Alaska      77.0  78.0  79.0  80.0                  1.3\n",
              "Southwest   80.0  80.0  80.0  79.0                 -1.3\n",
              "JetBlue     80.0  82.0  79.0  79.0                  0.0\n",
              "Delta       71.0  76.0  74.0  75.0                  1.4\n",
              "Airlines    72.0  75.0  73.0  74.0                  1.4\n",
              "American    72.0  76.0  74.0  73.0                 -1.4\n",
              "All Others  74.0  74.0  73.0  71.0                 -2.7\n",
              "Allegiant   65.0  71.0  74.0  71.0                 -4.1\n",
              "United      68.0  70.0  67.0  70.0                  4.5\n",
              "Frontier    66.0  63.0  62.0  64.0                  3.2"
            ],
            "text/html": [
              "\n",
              "  <div id=\"df-d96ad82f-eae8-4f63-a61b-01bc358f2385\">\n",
              "    <div class=\"colab-df-container\">\n",
              "      <div>\n",
              "<style scoped>\n",
              "    .dataframe tbody tr th:only-of-type {\n",
              "        vertical-align: middle;\n",
              "    }\n",
              "\n",
              "    .dataframe tbody tr th {\n",
              "        vertical-align: top;\n",
              "    }\n",
              "\n",
              "    .dataframe thead th {\n",
              "        text-align: right;\n",
              "    }\n",
              "</style>\n",
              "<table border=\"1\" class=\"dataframe\">\n",
              "  <thead>\n",
              "    <tr style=\"text-align: right;\">\n",
              "      <th></th>\n",
              "      <th>16</th>\n",
              "      <th>17</th>\n",
              "      <th>18</th>\n",
              "      <th>19</th>\n",
              "      <th>PreviousYear%Change</th>\n",
              "    </tr>\n",
              "  </thead>\n",
              "  <tbody>\n",
              "    <tr>\n",
              "      <th>Alaska</th>\n",
              "      <td>77.0</td>\n",
              "      <td>78.0</td>\n",
              "      <td>79.0</td>\n",
              "      <td>80.0</td>\n",
              "      <td>1.3</td>\n",
              "    </tr>\n",
              "    <tr>\n",
              "      <th>Southwest</th>\n",
              "      <td>80.0</td>\n",
              "      <td>80.0</td>\n",
              "      <td>80.0</td>\n",
              "      <td>79.0</td>\n",
              "      <td>-1.3</td>\n",
              "    </tr>\n",
              "    <tr>\n",
              "      <th>JetBlue</th>\n",
              "      <td>80.0</td>\n",
              "      <td>82.0</td>\n",
              "      <td>79.0</td>\n",
              "      <td>79.0</td>\n",
              "      <td>0.0</td>\n",
              "    </tr>\n",
              "    <tr>\n",
              "      <th>Delta</th>\n",
              "      <td>71.0</td>\n",
              "      <td>76.0</td>\n",
              "      <td>74.0</td>\n",
              "      <td>75.0</td>\n",
              "      <td>1.4</td>\n",
              "    </tr>\n",
              "    <tr>\n",
              "      <th>Airlines</th>\n",
              "      <td>72.0</td>\n",
              "      <td>75.0</td>\n",
              "      <td>73.0</td>\n",
              "      <td>74.0</td>\n",
              "      <td>1.4</td>\n",
              "    </tr>\n",
              "    <tr>\n",
              "      <th>American</th>\n",
              "      <td>72.0</td>\n",
              "      <td>76.0</td>\n",
              "      <td>74.0</td>\n",
              "      <td>73.0</td>\n",
              "      <td>-1.4</td>\n",
              "    </tr>\n",
              "    <tr>\n",
              "      <th>All Others</th>\n",
              "      <td>74.0</td>\n",
              "      <td>74.0</td>\n",
              "      <td>73.0</td>\n",
              "      <td>71.0</td>\n",
              "      <td>-2.7</td>\n",
              "    </tr>\n",
              "    <tr>\n",
              "      <th>Allegiant</th>\n",
              "      <td>65.0</td>\n",
              "      <td>71.0</td>\n",
              "      <td>74.0</td>\n",
              "      <td>71.0</td>\n",
              "      <td>-4.1</td>\n",
              "    </tr>\n",
              "    <tr>\n",
              "      <th>United</th>\n",
              "      <td>68.0</td>\n",
              "      <td>70.0</td>\n",
              "      <td>67.0</td>\n",
              "      <td>70.0</td>\n",
              "      <td>4.5</td>\n",
              "    </tr>\n",
              "    <tr>\n",
              "      <th>Frontier</th>\n",
              "      <td>66.0</td>\n",
              "      <td>63.0</td>\n",
              "      <td>62.0</td>\n",
              "      <td>64.0</td>\n",
              "      <td>3.2</td>\n",
              "    </tr>\n",
              "  </tbody>\n",
              "</table>\n",
              "</div>\n",
              "      <button class=\"colab-df-convert\" onclick=\"convertToInteractive('df-d96ad82f-eae8-4f63-a61b-01bc358f2385')\"\n",
              "              title=\"Convert this dataframe to an interactive table.\"\n",
              "              style=\"display:none;\">\n",
              "        \n",
              "  <svg xmlns=\"http://www.w3.org/2000/svg\" height=\"24px\"viewBox=\"0 0 24 24\"\n",
              "       width=\"24px\">\n",
              "    <path d=\"M0 0h24v24H0V0z\" fill=\"none\"/>\n",
              "    <path d=\"M18.56 5.44l.94 2.06.94-2.06 2.06-.94-2.06-.94-.94-2.06-.94 2.06-2.06.94zm-11 1L8.5 8.5l.94-2.06 2.06-.94-2.06-.94L8.5 2.5l-.94 2.06-2.06.94zm10 10l.94 2.06.94-2.06 2.06-.94-2.06-.94-.94-2.06-.94 2.06-2.06.94z\"/><path d=\"M17.41 7.96l-1.37-1.37c-.4-.4-.92-.59-1.43-.59-.52 0-1.04.2-1.43.59L10.3 9.45l-7.72 7.72c-.78.78-.78 2.05 0 2.83L4 21.41c.39.39.9.59 1.41.59.51 0 1.02-.2 1.41-.59l7.78-7.78 2.81-2.81c.8-.78.8-2.07 0-2.86zM5.41 20L4 18.59l7.72-7.72 1.47 1.35L5.41 20z\"/>\n",
              "  </svg>\n",
              "      </button>\n",
              "      \n",
              "  <style>\n",
              "    .colab-df-container {\n",
              "      display:flex;\n",
              "      flex-wrap:wrap;\n",
              "      gap: 12px;\n",
              "    }\n",
              "\n",
              "    .colab-df-convert {\n",
              "      background-color: #E8F0FE;\n",
              "      border: none;\n",
              "      border-radius: 50%;\n",
              "      cursor: pointer;\n",
              "      display: none;\n",
              "      fill: #1967D2;\n",
              "      height: 32px;\n",
              "      padding: 0 0 0 0;\n",
              "      width: 32px;\n",
              "    }\n",
              "\n",
              "    .colab-df-convert:hover {\n",
              "      background-color: #E2EBFA;\n",
              "      box-shadow: 0px 1px 2px rgba(60, 64, 67, 0.3), 0px 1px 3px 1px rgba(60, 64, 67, 0.15);\n",
              "      fill: #174EA6;\n",
              "    }\n",
              "\n",
              "    [theme=dark] .colab-df-convert {\n",
              "      background-color: #3B4455;\n",
              "      fill: #D2E3FC;\n",
              "    }\n",
              "\n",
              "    [theme=dark] .colab-df-convert:hover {\n",
              "      background-color: #434B5C;\n",
              "      box-shadow: 0px 1px 3px 1px rgba(0, 0, 0, 0.15);\n",
              "      filter: drop-shadow(0px 1px 2px rgba(0, 0, 0, 0.3));\n",
              "      fill: #FFFFFF;\n",
              "    }\n",
              "  </style>\n",
              "\n",
              "      <script>\n",
              "        const buttonEl =\n",
              "          document.querySelector('#df-d96ad82f-eae8-4f63-a61b-01bc358f2385 button.colab-df-convert');\n",
              "        buttonEl.style.display =\n",
              "          google.colab.kernel.accessAllowed ? 'block' : 'none';\n",
              "\n",
              "        async function convertToInteractive(key) {\n",
              "          const element = document.querySelector('#df-d96ad82f-eae8-4f63-a61b-01bc358f2385');\n",
              "          const dataTable =\n",
              "            await google.colab.kernel.invokeFunction('convertToInteractive',\n",
              "                                                     [key], {});\n",
              "          if (!dataTable) return;\n",
              "\n",
              "          const docLinkHtml = 'Like what you see? Visit the ' +\n",
              "            '<a target=\"_blank\" href=https://colab.research.google.com/notebooks/data_table.ipynb>data table notebook</a>'\n",
              "            + ' to learn more about interactive tables.';\n",
              "          element.innerHTML = '';\n",
              "          dataTable['output_type'] = 'display_data';\n",
              "          await google.colab.output.renderOutput(dataTable, element);\n",
              "          const docLink = document.createElement('div');\n",
              "          docLink.innerHTML = docLinkHtml;\n",
              "          element.appendChild(docLink);\n",
              "        }\n",
              "      </script>\n",
              "    </div>\n",
              "  </div>\n",
              "  "
            ]
          },
          "metadata": {},
          "execution_count": 46
        }
      ],
      "source": [
        "acsi_table.iloc[:10,-5:] # display the first ten rows and the last five columuns"
      ]
    },
    {
      "cell_type": "code",
      "execution_count": null,
      "metadata": {
        "id": "vz8CFcpZlqaJ",
        "outputId": "6c70bc0d-a73d-4abb-a4ec-343e7ffed0d3",
        "colab": {
          "base_uri": "https://localhost:8080/",
          "height": 380
        }
      },
      "outputs": [
        {
          "output_type": "stream",
          "name": "stdout",
          "text": [
            "(14, 27)\n"
          ]
        },
        {
          "output_type": "execute_result",
          "data": {
            "text/plain": [
              "            13  14  15    16    17    18    19  PreviousYear%Change\n",
              "Alaska      NM  NM  75  77.0  78.0  79.0  80.0                  1.3\n",
              "Southwest   81  78  78  80.0  80.0  80.0  79.0                 -1.3\n",
              "JetBlue     83  79  81  80.0  82.0  79.0  79.0                  0.0\n",
              "Delta       68  71  71  71.0  76.0  74.0  75.0                  1.4\n",
              "Airlines    69  69  69  72.0  75.0  73.0  74.0                  1.4\n",
              "American    65  66  66  72.0  76.0  74.0  73.0                 -1.4\n",
              "All Others  72  70  73  74.0  74.0  73.0  71.0                 -2.7\n",
              "Allegiant   NM  NM  65  65.0  71.0  74.0  71.0                 -4.1\n",
              "United      62  60  60  68.0  70.0  67.0  70.0                  4.5\n",
              "Frontier    NM  NM  58  66.0  63.0  62.0  64.0                  3.2"
            ],
            "text/html": [
              "\n",
              "  <div id=\"df-f8e93887-7925-4b2d-91df-6bce0f5decde\">\n",
              "    <div class=\"colab-df-container\">\n",
              "      <div>\n",
              "<style scoped>\n",
              "    .dataframe tbody tr th:only-of-type {\n",
              "        vertical-align: middle;\n",
              "    }\n",
              "\n",
              "    .dataframe tbody tr th {\n",
              "        vertical-align: top;\n",
              "    }\n",
              "\n",
              "    .dataframe thead th {\n",
              "        text-align: right;\n",
              "    }\n",
              "</style>\n",
              "<table border=\"1\" class=\"dataframe\">\n",
              "  <thead>\n",
              "    <tr style=\"text-align: right;\">\n",
              "      <th></th>\n",
              "      <th>13</th>\n",
              "      <th>14</th>\n",
              "      <th>15</th>\n",
              "      <th>16</th>\n",
              "      <th>17</th>\n",
              "      <th>18</th>\n",
              "      <th>19</th>\n",
              "      <th>PreviousYear%Change</th>\n",
              "    </tr>\n",
              "  </thead>\n",
              "  <tbody>\n",
              "    <tr>\n",
              "      <th>Alaska</th>\n",
              "      <td>NM</td>\n",
              "      <td>NM</td>\n",
              "      <td>75</td>\n",
              "      <td>77.0</td>\n",
              "      <td>78.0</td>\n",
              "      <td>79.0</td>\n",
              "      <td>80.0</td>\n",
              "      <td>1.3</td>\n",
              "    </tr>\n",
              "    <tr>\n",
              "      <th>Southwest</th>\n",
              "      <td>81</td>\n",
              "      <td>78</td>\n",
              "      <td>78</td>\n",
              "      <td>80.0</td>\n",
              "      <td>80.0</td>\n",
              "      <td>80.0</td>\n",
              "      <td>79.0</td>\n",
              "      <td>-1.3</td>\n",
              "    </tr>\n",
              "    <tr>\n",
              "      <th>JetBlue</th>\n",
              "      <td>83</td>\n",
              "      <td>79</td>\n",
              "      <td>81</td>\n",
              "      <td>80.0</td>\n",
              "      <td>82.0</td>\n",
              "      <td>79.0</td>\n",
              "      <td>79.0</td>\n",
              "      <td>0.0</td>\n",
              "    </tr>\n",
              "    <tr>\n",
              "      <th>Delta</th>\n",
              "      <td>68</td>\n",
              "      <td>71</td>\n",
              "      <td>71</td>\n",
              "      <td>71.0</td>\n",
              "      <td>76.0</td>\n",
              "      <td>74.0</td>\n",
              "      <td>75.0</td>\n",
              "      <td>1.4</td>\n",
              "    </tr>\n",
              "    <tr>\n",
              "      <th>Airlines</th>\n",
              "      <td>69</td>\n",
              "      <td>69</td>\n",
              "      <td>69</td>\n",
              "      <td>72.0</td>\n",
              "      <td>75.0</td>\n",
              "      <td>73.0</td>\n",
              "      <td>74.0</td>\n",
              "      <td>1.4</td>\n",
              "    </tr>\n",
              "    <tr>\n",
              "      <th>American</th>\n",
              "      <td>65</td>\n",
              "      <td>66</td>\n",
              "      <td>66</td>\n",
              "      <td>72.0</td>\n",
              "      <td>76.0</td>\n",
              "      <td>74.0</td>\n",
              "      <td>73.0</td>\n",
              "      <td>-1.4</td>\n",
              "    </tr>\n",
              "    <tr>\n",
              "      <th>All Others</th>\n",
              "      <td>72</td>\n",
              "      <td>70</td>\n",
              "      <td>73</td>\n",
              "      <td>74.0</td>\n",
              "      <td>74.0</td>\n",
              "      <td>73.0</td>\n",
              "      <td>71.0</td>\n",
              "      <td>-2.7</td>\n",
              "    </tr>\n",
              "    <tr>\n",
              "      <th>Allegiant</th>\n",
              "      <td>NM</td>\n",
              "      <td>NM</td>\n",
              "      <td>65</td>\n",
              "      <td>65.0</td>\n",
              "      <td>71.0</td>\n",
              "      <td>74.0</td>\n",
              "      <td>71.0</td>\n",
              "      <td>-4.1</td>\n",
              "    </tr>\n",
              "    <tr>\n",
              "      <th>United</th>\n",
              "      <td>62</td>\n",
              "      <td>60</td>\n",
              "      <td>60</td>\n",
              "      <td>68.0</td>\n",
              "      <td>70.0</td>\n",
              "      <td>67.0</td>\n",
              "      <td>70.0</td>\n",
              "      <td>4.5</td>\n",
              "    </tr>\n",
              "    <tr>\n",
              "      <th>Frontier</th>\n",
              "      <td>NM</td>\n",
              "      <td>NM</td>\n",
              "      <td>58</td>\n",
              "      <td>66.0</td>\n",
              "      <td>63.0</td>\n",
              "      <td>62.0</td>\n",
              "      <td>64.0</td>\n",
              "      <td>3.2</td>\n",
              "    </tr>\n",
              "  </tbody>\n",
              "</table>\n",
              "</div>\n",
              "      <button class=\"colab-df-convert\" onclick=\"convertToInteractive('df-f8e93887-7925-4b2d-91df-6bce0f5decde')\"\n",
              "              title=\"Convert this dataframe to an interactive table.\"\n",
              "              style=\"display:none;\">\n",
              "        \n",
              "  <svg xmlns=\"http://www.w3.org/2000/svg\" height=\"24px\"viewBox=\"0 0 24 24\"\n",
              "       width=\"24px\">\n",
              "    <path d=\"M0 0h24v24H0V0z\" fill=\"none\"/>\n",
              "    <path d=\"M18.56 5.44l.94 2.06.94-2.06 2.06-.94-2.06-.94-.94-2.06-.94 2.06-2.06.94zm-11 1L8.5 8.5l.94-2.06 2.06-.94-2.06-.94L8.5 2.5l-.94 2.06-2.06.94zm10 10l.94 2.06.94-2.06 2.06-.94-2.06-.94-.94-2.06-.94 2.06-2.06.94z\"/><path d=\"M17.41 7.96l-1.37-1.37c-.4-.4-.92-.59-1.43-.59-.52 0-1.04.2-1.43.59L10.3 9.45l-7.72 7.72c-.78.78-.78 2.05 0 2.83L4 21.41c.39.39.9.59 1.41.59.51 0 1.02-.2 1.41-.59l7.78-7.78 2.81-2.81c.8-.78.8-2.07 0-2.86zM5.41 20L4 18.59l7.72-7.72 1.47 1.35L5.41 20z\"/>\n",
              "  </svg>\n",
              "      </button>\n",
              "      \n",
              "  <style>\n",
              "    .colab-df-container {\n",
              "      display:flex;\n",
              "      flex-wrap:wrap;\n",
              "      gap: 12px;\n",
              "    }\n",
              "\n",
              "    .colab-df-convert {\n",
              "      background-color: #E8F0FE;\n",
              "      border: none;\n",
              "      border-radius: 50%;\n",
              "      cursor: pointer;\n",
              "      display: none;\n",
              "      fill: #1967D2;\n",
              "      height: 32px;\n",
              "      padding: 0 0 0 0;\n",
              "      width: 32px;\n",
              "    }\n",
              "\n",
              "    .colab-df-convert:hover {\n",
              "      background-color: #E2EBFA;\n",
              "      box-shadow: 0px 1px 2px rgba(60, 64, 67, 0.3), 0px 1px 3px 1px rgba(60, 64, 67, 0.15);\n",
              "      fill: #174EA6;\n",
              "    }\n",
              "\n",
              "    [theme=dark] .colab-df-convert {\n",
              "      background-color: #3B4455;\n",
              "      fill: #D2E3FC;\n",
              "    }\n",
              "\n",
              "    [theme=dark] .colab-df-convert:hover {\n",
              "      background-color: #434B5C;\n",
              "      box-shadow: 0px 1px 3px 1px rgba(0, 0, 0, 0.15);\n",
              "      filter: drop-shadow(0px 1px 2px rgba(0, 0, 0, 0.3));\n",
              "      fill: #FFFFFF;\n",
              "    }\n",
              "  </style>\n",
              "\n",
              "      <script>\n",
              "        const buttonEl =\n",
              "          document.querySelector('#df-f8e93887-7925-4b2d-91df-6bce0f5decde button.colab-df-convert');\n",
              "        buttonEl.style.display =\n",
              "          google.colab.kernel.accessAllowed ? 'block' : 'none';\n",
              "\n",
              "        async function convertToInteractive(key) {\n",
              "          const element = document.querySelector('#df-f8e93887-7925-4b2d-91df-6bce0f5decde');\n",
              "          const dataTable =\n",
              "            await google.colab.kernel.invokeFunction('convertToInteractive',\n",
              "                                                     [key], {});\n",
              "          if (!dataTable) return;\n",
              "\n",
              "          const docLinkHtml = 'Like what you see? Visit the ' +\n",
              "            '<a target=\"_blank\" href=https://colab.research.google.com/notebooks/data_table.ipynb>data table notebook</a>'\n",
              "            + ' to learn more about interactive tables.';\n",
              "          element.innerHTML = '';\n",
              "          dataTable['output_type'] = 'display_data';\n",
              "          await google.colab.output.renderOutput(dataTable, element);\n",
              "          const docLink = document.createElement('div');\n",
              "          docLink.innerHTML = docLinkHtml;\n",
              "          element.appendChild(docLink);\n",
              "        }\n",
              "      </script>\n",
              "    </div>\n",
              "  </div>\n",
              "  "
            ]
          },
          "metadata": {},
          "execution_count": 47
        }
      ],
      "source": [
        "print(acsi_table.shape) # 14 rows, 27 columns \n",
        "acsi_table.iloc[:10,-8:] # display the last 7 years since 2013"
      ]
    },
    {
      "cell_type": "markdown",
      "metadata": {
        "id": "-4mE8sbW9IOB"
      },
      "source": [
        "We select the column \"13\" for the year when tweets were extracted (use \"21\" in case you are analyzing current tweets) and the rows related to analyzed companies"
      ]
    },
    {
      "cell_type": "code",
      "execution_count": null,
      "metadata": {
        "id": "8jJfNKq39IOB"
      },
      "outputs": [],
      "source": [
        "airline_names = [\"Southwest\", \"JetBlue\", \"American\", \"Delta\", \"United\"]\n",
        "acsi_score = acsi_table.loc[airline_names, \"13\"].astype(float).sort_index() # loc() function let us select only certain columns"
      ]
    },
    {
      "cell_type": "code",
      "execution_count": null,
      "metadata": {
        "colab": {
          "base_uri": "https://localhost:8080/"
        },
        "id": "kkg7Ug9C9IOE",
        "outputId": "85faf4f5-a279-4a61-b51c-ce604392df90"
      },
      "outputs": [
        {
          "output_type": "execute_result",
          "data": {
            "text/plain": [
              "American     65.0\n",
              "Delta        68.0\n",
              "JetBlue      83.0\n",
              "Southwest    81.0\n",
              "United       62.0\n",
              "Name: 13, dtype: float64"
            ]
          },
          "metadata": {},
          "execution_count": 49
        }
      ],
      "source": [
        "acsi_score"
      ]
    },
    {
      "cell_type": "markdown",
      "metadata": {
        "id": "E5F0584r9IOF"
      },
      "source": [
        "In case you miss the required libraries, here are two alternative instructions to create the ACSI scores series without using the `read_html` function"
      ]
    },
    {
      "cell_type": "code",
      "execution_count": null,
      "metadata": {
        "id": "wroivXas9IOF"
      },
      "outputs": [],
      "source": [
        "# 2021 (current_tweets)\n",
        "acsi_score = pd.Series(\n",
        "          [      79.0 ,     77.0 ,      75.0 ,   79.0 ,    75.0 ],\n",
        "    index=[\"Southwest\", \"JetBlue\", \"American\", \"Delta\", \"United\"]\n",
        ").sort_index()"
      ]
    },
    {
      "cell_type": "code",
      "execution_count": null,
      "metadata": {
        "colab": {
          "base_uri": "https://localhost:8080/"
        },
        "id": "lpIwLxb39IOG",
        "outputId": "0ac7823f-9723-49a4-c565-576aad50e768"
      },
      "outputs": [
        {
          "output_type": "execute_result",
          "data": {
            "text/plain": [
              "American     65.0\n",
              "Delta        68.0\n",
              "JetBlue      83.0\n",
              "Southwest    81.0\n",
              "United       62.0\n",
              "dtype: float64"
            ]
          },
          "metadata": {},
          "execution_count": 51
        }
      ],
      "source": [
        "# 2013 (archive_tweets)\n",
        "acsi_score = pd.Series(\n",
        "          [      81.0 ,     83.0 ,      65.0 ,   68.0 ,    62.0 ],\n",
        "    index=[\"Southwest\", \"JetBlue\", \"American\", \"Delta\", \"United\"]\n",
        ").sort_index()\n",
        "\n",
        "acsi_score"
      ]
    },
    {
      "cell_type": "markdown",
      "metadata": {
        "id": "iOIy6Cvd9IOH"
      },
      "source": [
        "We extracted a single column of the table along with the index containing company names: we change ACSI airline names in order to match the index from `twitter_scores` "
      ]
    },
    {
      "cell_type": "code",
      "execution_count": null,
      "metadata": {
        "id": "-B_8edSA9IOH"
      },
      "outputs": [],
      "source": [
        "acsi_score.index = (acsi_score.index\n",
        "                    .str.lower()\n",
        "                    .str.replace(\"american\", \"americanair\")\n",
        "                    .str.replace(\"southwest\", \"southwestair\"))"
      ]
    },
    {
      "cell_type": "code",
      "execution_count": null,
      "metadata": {
        "colab": {
          "base_uri": "https://localhost:8080/"
        },
        "id": "rJTUitHH9IOI",
        "outputId": "703c8dfa-e9cc-4753-e7c1-0ee99a7cb931"
      },
      "outputs": [
        {
          "output_type": "execute_result",
          "data": {
            "text/plain": [
              "americanair     65.0\n",
              "delta           68.0\n",
              "jetblue         83.0\n",
              "southwestair    81.0\n",
              "united          62.0\n",
              "dtype: float64"
            ]
          },
          "metadata": {},
          "execution_count": 53
        }
      ],
      "source": [
        "acsi_score"
      ]
    },
    {
      "cell_type": "markdown",
      "metadata": {
        "id": "dDcu3Kfx9IOJ"
      },
      "source": [
        "We have now the `acsi_score` series and the `score` column of the `twitter_score` frame indexed with the same labels, but in different order: we can merge them into a new frame to align the series"
      ]
    },
    {
      "cell_type": "code",
      "execution_count": null,
      "metadata": {
        "colab": {
          "base_uri": "https://localhost:8080/",
          "height": 206
        },
        "id": "hhtsXGno9IOJ",
        "outputId": "8ed03ba2-7105-476a-cbce-ecc4ca8ccd8e"
      },
      "outputs": [
        {
          "output_type": "execute_result",
          "data": {
            "text/plain": [
              "              twitter  acsi\n",
              "americanair    79.195  65.0\n",
              "delta          67.836  68.0\n",
              "jetblue        83.333  83.0\n",
              "southwestair   78.205  81.0\n",
              "united         53.953  62.0"
            ],
            "text/html": [
              "\n",
              "  <div id=\"df-c622d93a-cffe-4612-93f6-960ecea13417\">\n",
              "    <div class=\"colab-df-container\">\n",
              "      <div>\n",
              "<style scoped>\n",
              "    .dataframe tbody tr th:only-of-type {\n",
              "        vertical-align: middle;\n",
              "    }\n",
              "\n",
              "    .dataframe tbody tr th {\n",
              "        vertical-align: top;\n",
              "    }\n",
              "\n",
              "    .dataframe thead th {\n",
              "        text-align: right;\n",
              "    }\n",
              "</style>\n",
              "<table border=\"1\" class=\"dataframe\">\n",
              "  <thead>\n",
              "    <tr style=\"text-align: right;\">\n",
              "      <th></th>\n",
              "      <th>twitter</th>\n",
              "      <th>acsi</th>\n",
              "    </tr>\n",
              "  </thead>\n",
              "  <tbody>\n",
              "    <tr>\n",
              "      <th>americanair</th>\n",
              "      <td>79.195</td>\n",
              "      <td>65.0</td>\n",
              "    </tr>\n",
              "    <tr>\n",
              "      <th>delta</th>\n",
              "      <td>67.836</td>\n",
              "      <td>68.0</td>\n",
              "    </tr>\n",
              "    <tr>\n",
              "      <th>jetblue</th>\n",
              "      <td>83.333</td>\n",
              "      <td>83.0</td>\n",
              "    </tr>\n",
              "    <tr>\n",
              "      <th>southwestair</th>\n",
              "      <td>78.205</td>\n",
              "      <td>81.0</td>\n",
              "    </tr>\n",
              "    <tr>\n",
              "      <th>united</th>\n",
              "      <td>53.953</td>\n",
              "      <td>62.0</td>\n",
              "    </tr>\n",
              "  </tbody>\n",
              "</table>\n",
              "</div>\n",
              "      <button class=\"colab-df-convert\" onclick=\"convertToInteractive('df-c622d93a-cffe-4612-93f6-960ecea13417')\"\n",
              "              title=\"Convert this dataframe to an interactive table.\"\n",
              "              style=\"display:none;\">\n",
              "        \n",
              "  <svg xmlns=\"http://www.w3.org/2000/svg\" height=\"24px\"viewBox=\"0 0 24 24\"\n",
              "       width=\"24px\">\n",
              "    <path d=\"M0 0h24v24H0V0z\" fill=\"none\"/>\n",
              "    <path d=\"M18.56 5.44l.94 2.06.94-2.06 2.06-.94-2.06-.94-.94-2.06-.94 2.06-2.06.94zm-11 1L8.5 8.5l.94-2.06 2.06-.94-2.06-.94L8.5 2.5l-.94 2.06-2.06.94zm10 10l.94 2.06.94-2.06 2.06-.94-2.06-.94-.94-2.06-.94 2.06-2.06.94z\"/><path d=\"M17.41 7.96l-1.37-1.37c-.4-.4-.92-.59-1.43-.59-.52 0-1.04.2-1.43.59L10.3 9.45l-7.72 7.72c-.78.78-.78 2.05 0 2.83L4 21.41c.39.39.9.59 1.41.59.51 0 1.02-.2 1.41-.59l7.78-7.78 2.81-2.81c.8-.78.8-2.07 0-2.86zM5.41 20L4 18.59l7.72-7.72 1.47 1.35L5.41 20z\"/>\n",
              "  </svg>\n",
              "      </button>\n",
              "      \n",
              "  <style>\n",
              "    .colab-df-container {\n",
              "      display:flex;\n",
              "      flex-wrap:wrap;\n",
              "      gap: 12px;\n",
              "    }\n",
              "\n",
              "    .colab-df-convert {\n",
              "      background-color: #E8F0FE;\n",
              "      border: none;\n",
              "      border-radius: 50%;\n",
              "      cursor: pointer;\n",
              "      display: none;\n",
              "      fill: #1967D2;\n",
              "      height: 32px;\n",
              "      padding: 0 0 0 0;\n",
              "      width: 32px;\n",
              "    }\n",
              "\n",
              "    .colab-df-convert:hover {\n",
              "      background-color: #E2EBFA;\n",
              "      box-shadow: 0px 1px 2px rgba(60, 64, 67, 0.3), 0px 1px 3px 1px rgba(60, 64, 67, 0.15);\n",
              "      fill: #174EA6;\n",
              "    }\n",
              "\n",
              "    [theme=dark] .colab-df-convert {\n",
              "      background-color: #3B4455;\n",
              "      fill: #D2E3FC;\n",
              "    }\n",
              "\n",
              "    [theme=dark] .colab-df-convert:hover {\n",
              "      background-color: #434B5C;\n",
              "      box-shadow: 0px 1px 3px 1px rgba(0, 0, 0, 0.15);\n",
              "      filter: drop-shadow(0px 1px 2px rgba(0, 0, 0, 0.3));\n",
              "      fill: #FFFFFF;\n",
              "    }\n",
              "  </style>\n",
              "\n",
              "      <script>\n",
              "        const buttonEl =\n",
              "          document.querySelector('#df-c622d93a-cffe-4612-93f6-960ecea13417 button.colab-df-convert');\n",
              "        buttonEl.style.display =\n",
              "          google.colab.kernel.accessAllowed ? 'block' : 'none';\n",
              "\n",
              "        async function convertToInteractive(key) {\n",
              "          const element = document.querySelector('#df-c622d93a-cffe-4612-93f6-960ecea13417');\n",
              "          const dataTable =\n",
              "            await google.colab.kernel.invokeFunction('convertToInteractive',\n",
              "                                                     [key], {});\n",
              "          if (!dataTable) return;\n",
              "\n",
              "          const docLinkHtml = 'Like what you see? Visit the ' +\n",
              "            '<a target=\"_blank\" href=https://colab.research.google.com/notebooks/data_table.ipynb>data table notebook</a>'\n",
              "            + ' to learn more about interactive tables.';\n",
              "          element.innerHTML = '';\n",
              "          dataTable['output_type'] = 'display_data';\n",
              "          await google.colab.output.renderOutput(dataTable, element);\n",
              "          const docLink = document.createElement('div');\n",
              "          docLink.innerHTML = docLinkHtml;\n",
              "          element.appendChild(docLink);\n",
              "        }\n",
              "      </script>\n",
              "    </div>\n",
              "  </div>\n",
              "  "
            ]
          },
          "metadata": {},
          "execution_count": 54
        }
      ],
      "source": [
        "pd.DataFrame({\"twitter\": twitter_score[\"score\"], \"acsi\": acsi_score})"
      ]
    },
    {
      "cell_type": "markdown",
      "metadata": {
        "id": "eZhczxte9IOK"
      },
      "source": [
        "We can now evaluate the degree of agreement between the two scores: we may do it graphically using a _scatter plot_..."
      ]
    },
    {
      "cell_type": "code",
      "execution_count": null,
      "metadata": {
        "colab": {
          "base_uri": "https://localhost:8080/",
          "height": 279
        },
        "id": "pFLxT67U9IOK",
        "outputId": "9dc6d436-6796-484b-8595-6484fcb1b95e"
      },
      "outputs": [
        {
          "output_type": "display_data",
          "data": {
            "text/plain": [
              "<Figure size 432x288 with 1 Axes>"
            ],
            "image/png": "[encoded data removed]"
          },
          "metadata": {
            "needs_background": "light"
          }
        }
      ],
      "source": [
        "# plt.scatter() function is used to plot points. 's' parameters can be use to set the point dimension\n",
        "plt.scatter(twitter_score[\"score\"], acsi_score, s=50) \n",
        "\n",
        "# plot a x=y segment. First two parameters represents the coordinates of the segment, \n",
        "# while the third one let us draw red dashes\n",
        "plt.plot([50, 100], [50, 100], \"r--\")  \n",
        "plt.xlabel(\"Twitter score\")\n",
        "plt.ylabel(\"ACSI score\");"
      ]
    },
    {
      "cell_type": "markdown",
      "metadata": {
        "id": "DL-_tWRJ9IOL"
      },
      "source": [
        "Each point indicates the scores of a company, the dashed line indicates where scores match: the most the points are close to the line, the most the scores agree"
      ]
    },
    {
      "cell_type": "markdown",
      "metadata": {
        "id": "ZJ8Q-miJ9IOM"
      },
      "source": [
        "To properly verify the agreement of the two scores, we measure the _Pearson's correlation coefficient_"
      ]
    },
    {
      "cell_type": "code",
      "execution_count": null,
      "metadata": {
        "colab": {
          "base_uri": "https://localhost:8080/"
        },
        "id": "7fLMeuQd9IOM",
        "outputId": "136e3a27-c76c-464d-ad06-65804a09306d"
      },
      "outputs": [
        {
          "output_type": "execute_result",
          "data": {
            "text/plain": [
              "(0.722923515861678, 0.16761172800845608)"
            ]
          },
          "metadata": {},
          "execution_count": 56
        }
      ],
      "source": [
        "from scipy.stats import pearsonr\n",
        "pearson_coeff, pvalue = pearsonr(twitter_score[\"score\"], acsi_score)\n",
        "pearson_coeff, pvalue"
      ]
    },
    {
      "cell_type": "markdown",
      "metadata": {
        "id": "igRoHtv-9ION"
      },
      "source": [
        "The first value is the Pearson's coefficient, while the second value is the associated p-value, i.e. the probability that the correlation between the two series was obtained by chance."
      ]
    },
    {
      "cell_type": "markdown",
      "metadata": {
        "id": "p1wEVYlPl1Wh"
      },
      "source": [
        "To decide if the two ACSI distributions and ours are equivalent it is necessary\n",
        "1. set a confidence level, for example $0.80$\n",
        "2. check if $pvalue < (1-0.80) = 0.20$; \n",
        "\n",
        "\n",
        "In this case pvalue is $< 0.20$ so we decide that the difference between the two distributions is the result of chance, i.e. the difference is not statistically significant, in other words they are equivalent."
      ]
    },
    {
      "cell_type": "code",
      "execution_count": null,
      "metadata": {
        "colab": {
          "base_uri": "https://localhost:8080/"
        },
        "id": "Ps1-Zgh-lkMw",
        "outputId": "70143cba-eb14-43e2-9218-68f2fb45cf7b"
      },
      "outputs": [
        {
          "output_type": "stream",
          "name": "stdout",
          "text": [
            "Our distribution and ACSI one are equivalent!\n"
          ]
        }
      ],
      "source": [
        "confidence_level = 0.80\n",
        "alpha = (1 - confidence_level)\n",
        "\n",
        "if pvalue < alpha:\n",
        "  print(\"Our distribution and ACSI one are equivalent!\")\n",
        "else:\n",
        "  print(\"Our distribution and ACSI one are different!\")"
      ]
    },
    {
      "cell_type": "markdown",
      "metadata": {
        "id": "_x0CVCda9ION"
      },
      "source": [
        "### Exercise 1: interpreting negations\n",
        "\n",
        "In the `sentiment_score` function, when we look for positive or negative words, we do not consider whether they are negated\n",
        "\n",
        "**A)** The `sentiment_score_neg` function below implements the same logic of `sentiment_score` so that it can be more easily changed: modify it in order to count any positive word immediately preceded by \"not\" (case-insensitive) as negative and vice versa"
      ]
    },
    {
      "cell_type": "code",
      "execution_count": null,
      "metadata": {
        "id": "7_ebKPt09IOP"
      },
      "outputs": [],
      "source": [
        "def sentiment_score_neg(text, pos_words, neg_words):\n",
        "    words = nltk.word_tokenize(text)\n",
        "    score = 0\n",
        "    for i in range(len(words)):\n",
        "        word_score = 0\n",
        "        if words[i] in pos_words:\n",
        "            word_score = 1\n",
        "        elif words[i] in neg_words:\n",
        "            word_score = -1\n",
        "        score += word_score\n",
        "    return score"
      ]
    },
    {
      "cell_type": "markdown",
      "metadata": {
        "id": "eozF1o_R9IOQ"
      },
      "source": [
        "**B)** Create a series `tweet_scores_neg` (using the `sentiment_score_neg` function developed in the previous point) with scores of tweets in `tweets[\"text\"]`"
      ]
    },
    {
      "cell_type": "markdown",
      "metadata": {
        "id": "GYBWW05y9IOQ"
      },
      "source": [
        "**C)** Compute the mean absolute difference between this previous score and the new score of each tweet"
      ]
    },
    {
      "cell_type": "markdown",
      "metadata": {
        "id": "v8wVHZ-R9IOQ"
      },
      "source": [
        "**D)** Use the `get_summary_scores` defined above to get a series `twitter_score_neg` with summary scores for each airline"
      ]
    },
    {
      "cell_type": "markdown",
      "metadata": {
        "id": "g9sRf63e9IOQ"
      },
      "source": [
        "**E)** Verify the correlation between the new Twitter score and the ACSI score using a scatter plot and Pearson's coefficient as above"
      ]
    },
    {
      "cell_type": "markdown",
      "metadata": {
        "id": "yygvv94X9IOQ"
      },
      "source": [
        "## Activity 2: Sentiment Analysis at sentence and feature level\n",
        "\n",
        "We reuse techniques seen above to perform sentiment analysis at sentence and feature level on reviews of hotels\n",
        "\n",
        "TripAdvisor used to provide a summary of hotel ratings against 6 different features: **Location, Sleep Quality, Rooms, Service, Value, Cleanliness**"
      ]
    },
    {
      "cell_type": "markdown",
      "metadata": {
        "id": "ZwNfCgBU9IOR"
      },
      "source": [
        "### Activity plan\n",
        "\n",
        "1. Define lists of opinion and feature words\n",
        "  - for opinion words, we reuse the lists of Hu and Liu from above\n",
        "2. Break reviews into sentences\n",
        "3. Detect sentences dealing with a specific feature and score its sentiment\n",
        "4. Summarize evaluation of each hotel and each feature\n",
        "5. Compare features of each hotel\n",
        "6. Compare results with scores on TripAdvisor"
      ]
    },
    {
      "cell_type": "markdown",
      "metadata": {
        "id": "Hf0Kw1v49IOR"
      },
      "source": [
        "### Loading reviews\n",
        "\n",
        "We provide a ZIP file with reviews of 6 different Hotels in Chicago, in a format similar to that of airline tweets used above (one file per hotel, one review per line)"
      ]
    },
    {
      "cell_type": "code",
      "execution_count": null,
      "metadata": {
        "id": "kOhA6CRF9IOR"
      },
      "outputs": [],
      "source": [
        "download(\"hotel-reviews.zip\", \"https://github.com/unibodatascience/BBS-TextMining/raw/3ad6643b698f652f200dfbf463a3cb49de8c0e9f/05%20-%20Opinion%20Mining%20with%20Python%20(part%201)/data/hotel-reviews.zip\")"
      ]
    },
    {
      "cell_type": "code",
      "execution_count": null,
      "metadata": {
        "colab": {
          "base_uri": "https://localhost:8080/"
        },
        "id": "WMYKO7r39IOT",
        "outputId": "e3023ffa-0b33-49d6-a8d4-217902b44ee4"
      },
      "outputs": [
        {
          "output_type": "stream",
          "name": "stdout",
          "text": [
            "usa_illinois_chicago_affinia_chicago.txt\n",
            "affinia_chicago\n",
            "usa_illinois_chicago_hyatt_regency_chicago.txt\n",
            "hyatt_regency_chicago\n",
            "usa_illinois_chicago_intercontinental_chicago.txt\n",
            "intercontinental_chicago\n",
            "usa_illinois_chicago_james_chicago.txt\n",
            "james_chicago\n",
            "usa_illinois_chicago_swissotel_chicago.txt\n",
            "swissotel_chicago\n",
            "usa_illinois_chicago_the_palmer_house_hilton.txt\n",
            "the_palmer_house_hilton\n"
          ]
        }
      ],
      "source": [
        "from zipfile import ZipFile\n",
        "import re\n",
        "\n",
        "all_reviews = {} # Init an empty dictionary that will be used to collect all the reviews\n",
        "\n",
        "# Define the regular expression that matches the reviews filenames.\n",
        "filename_pattern = re.compile(\"usa_illinois_chicago_([a-z_]+).txt\") # ([a-z_]+) means: \"one or more groups of alphabetic characters followed by an underscore\"\n",
        "\n",
        "with ZipFile(\"hotel-reviews.zip\") as zip: # open the zip file and read the files inside\n",
        "\n",
        "    for filename in zip.namelist(): # we repeat the following statements for each file inside the zip in order to collect the text of each hotel. 1 file --> 1 hotel\n",
        "        print(filename)\n",
        "        # match() returns a match object if one or more characters at the beginning of string match this regular expression, None otherwise. \n",
        "        # Then we call the group() method on the match object: group(1) returns the matched content of the first parenthesized subgroup in the regular expression\n",
        "        hotel = filename_pattern.match(filename).group(1) \n",
        "\n",
        "        print(hotel)\n",
        "\n",
        "        with zip.open(filename) as f: # open each txt file to read its content (i.e the reviews texts)\n",
        "            # for each file: decode each line of the file to UTF-8 encoding (to properly read the string), delete spaces at beginning/end of the string using strip()\n",
        "            # put each transformed line in a list using list()\n",
        "            # put the list of lines of the current file in a new entry of all_reviews dictionary\n",
        "            all_reviews[hotel] = list(line.decode(errors=\"ignore\").strip() for line in f) "
      ]
    },
    {
      "cell_type": "markdown",
      "metadata": {
        "id": "9aGIOvin9IOU"
      },
      "source": [
        "As an example, we will use reviews for the Intercontinental hotel"
      ]
    },
    {
      "cell_type": "code",
      "execution_count": null,
      "metadata": {
        "id": "DjuPCyyq9IOV"
      },
      "outputs": [],
      "source": [
        "reviews_interc = all_reviews[\"intercontinental_chicago\"]"
      ]
    },
    {
      "cell_type": "code",
      "execution_count": null,
      "metadata": {
        "colab": {
          "base_uri": "https://localhost:8080/",
          "height": 35
        },
        "id": "WHYJMRsK9IOX",
        "outputId": "93c45cc1-4556-4a50-c1a4-ba4b9c7d5307"
      },
      "outputs": [
        {
          "output_type": "execute_result",
          "data": {
            "text/plain": [
              "'A great spot! We have always been pleased with our stays at Intercontinental hotels. Chicago was especially pleasant with a helpful staff.'"
            ],
            "application/vnd.google.colaboratory.intrinsic+json": {
              "type": "string"
            }
          },
          "metadata": {},
          "execution_count": 111
        }
      ],
      "source": [
        "reviews_interc[0]"
      ]
    },
    {
      "cell_type": "markdown",
      "metadata": {
        "id": "ZbemiaFE9IOY"
      },
      "source": [
        "### Lists of feature words\n",
        "\n",
        "To detect sentences dealing with a specific feature, we search for feature-related keywords\n",
        "\n",
        "Using only the names of the 6 features as keywords, would produce few results: lists of _feature words_ which are synonyms or anyhow else related to each feature is created (manually in this case)"
      ]
    },
    {
      "cell_type": "code",
      "execution_count": null,
      "metadata": {
        "id": "S-3DBtSl9IOZ"
      },
      "outputs": [],
      "source": [
        "feature_words = {\n",
        "    'location': {'location', 'airport', 'center', 'island', 'lake', 'ocean',\n",
        "                 'sea', 'around', 'university', 'romantic', 'coast', 'beach',\n",
        "                 'disco', 'nightlife'},\n",
        "    'sleepquality': {'silence','sleep','night','noise','nightlife'},\n",
        "    'rooms': {'room', 'rooms', 'space', 'bed', 'bath', 'bathroom', 'toilet',\n",
        "              'degrade', 'disorder','shower','jacuzzi','frigo'},\n",
        "    'service': {'service','pet','friendly','swimming', 'pool', 'pools', 'spa',\n",
        "                'waiters', 'severs', 'waiter', 'manservant', 'cordial',\n",
        "                'hearty', 'restorative', 'disagreeable', 'unpleasant',\n",
        "                'restaurant', 'food', 'breakfast', 'lunch', 'dinner', 'bar'},\n",
        "    'value': {'cheap','affordable','afford','woth', 'price', 'value', 'cost',\n",
        "              'expensive', 'economical', 'depreciate', 'discount', 'luxury',\n",
        "              'hall', 'meal'},\n",
        "    'cleanliness': {'clean', 'cleanliness', 'place', 'neatness', 'sweeping',\n",
        "                    'dirty', 'soiled', 'grubby', 'foul', 'mucky'}\n",
        "}"
      ]
    },
    {
      "cell_type": "markdown",
      "metadata": {
        "id": "aa3tsTGX9IOa"
      },
      "source": [
        "### Breaking reviews into sentences\n",
        "\n",
        "We break reviews into single sentences, assuming that each sentence deals with (at most) one of the features\n",
        "\n",
        "Breaking text into sentences (_sentence tokenization_) is not straightforward: sentences usually end with a period (\".\"), but may also end with other punctuation (\"!\", \"?\")"
      ]
    },
    {
      "cell_type": "markdown",
      "metadata": {
        "id": "MLGtjlvH9IOa"
      },
      "source": [
        "This is an example of function for sentence tokenization, which splits text on \".\", \"?\" and \"!\""
      ]
    },
    {
      "cell_type": "code",
      "execution_count": null,
      "metadata": {
        "id": "GtYfbWuB9IOa"
      },
      "outputs": [],
      "source": [
        "def my_sent_tokenizer(text):\n",
        "    return re.split(\"[\\\\.\\\\?!]\", text) #\\\\ operator escapes the dot and question mark characters. This is needed because '.' and '?' are special characters in regex syntax"
      ]
    },
    {
      "cell_type": "code",
      "execution_count": null,
      "metadata": {
        "colab": {
          "base_uri": "https://localhost:8080/"
        },
        "id": "w-qawU1O9IOb",
        "outputId": "9ff8b493-82c9-421c-a276-13139b3b0dab"
      },
      "outputs": [
        {
          "output_type": "execute_result",
          "data": {
            "text/plain": [
              "['A great spot',\n",
              " ' We have always been pleased with our stays at Intercontinental hotels',\n",
              " ' Chicago was especially pleasant with a helpful staff',\n",
              " '']"
            ]
          },
          "metadata": {},
          "execution_count": 65
        }
      ],
      "source": [
        "my_sent_tokenizer(reviews_interc[0])"
      ]
    },
    {
      "cell_type": "markdown",
      "metadata": {
        "id": "Vsr537m99IOe"
      },
      "source": [
        "However this function fails when these characters are used in the middle of a sentence, e.g. in an ellipsis"
      ]
    },
    {
      "cell_type": "code",
      "execution_count": null,
      "metadata": {
        "colab": {
          "base_uri": "https://localhost:8080/"
        },
        "id": "sOwOjGfT9IOe",
        "outputId": "257fa5ec-b627-4265-90c6-a3b44a3c21cf"
      },
      "outputs": [
        {
          "output_type": "execute_result",
          "data": {
            "text/plain": [
              "['This works', '', '', ' or not', ' Maybe not', '']"
            ]
          },
          "metadata": {},
          "execution_count": 66
        }
      ],
      "source": [
        "my_sent_tokenizer(\"This works... or not? Maybe not.\")"
      ]
    },
    {
      "cell_type": "markdown",
      "metadata": {
        "id": "fGF6ez9s9IOf"
      },
      "source": [
        "Similarly to the word tokenizer used above, NLTK provides a sentence tokenizer based on knowledge of English language to detect such exceptions"
      ]
    },
    {
      "cell_type": "code",
      "execution_count": null,
      "metadata": {
        "colab": {
          "base_uri": "https://localhost:8080/"
        },
        "id": "2urU6hiB9IOg",
        "outputId": "2296196d-576b-43b8-d3ed-2cabcd196e74"
      },
      "outputs": [
        {
          "output_type": "execute_result",
          "data": {
            "text/plain": [
              "['This works... or not?', 'Maybe not.']"
            ]
          },
          "metadata": {},
          "execution_count": 67
        }
      ],
      "source": [
        "nltk.sent_tokenize(\"This works... or not? Maybe not.\")"
      ]
    },
    {
      "cell_type": "markdown",
      "metadata": {
        "id": "FFIWabkV9IOh"
      },
      "source": [
        "Using this tokenization function, we turn the list of reviews into a list of single sentences"
      ]
    },
    {
      "cell_type": "code",
      "execution_count": null,
      "metadata": {
        "id": "Hz-aaqP39IOh"
      },
      "outputs": [],
      "source": [
        "sentences_interc = [sent for review in reviews_interc for sent in nltk.sent_tokenize(review)]"
      ]
    },
    {
      "cell_type": "code",
      "source": [
        "sentences_interc"
      ],
      "metadata": {
        "id": "HPNMJ7ofzsEh"
      },
      "execution_count": null,
      "outputs": []
    },
    {
      "cell_type": "markdown",
      "metadata": {
        "id": "QWUuSZu49IOi"
      },
      "source": [
        "### Detecting features and opinions in sentences\n",
        "\n",
        "We define a function which counts, for each feature, the number of sentences in a given list expressing a positive or negative judgement about it"
      ]
    },
    {
      "cell_type": "code",
      "execution_count": null,
      "metadata": {
        "id": "1Qxb70Fj9IOi"
      },
      "outputs": [],
      "source": [
        "def feature_pos_neg_counts(sentences, feature_words, pos_words, neg_words):\n",
        "    # initialize to 0 counts of positive and negative sentences per feature\n",
        "    pos_counts = {feat: 0 for feat in feature_words.keys()}\n",
        "    neg_counts = {feat: 0 for feat in feature_words.keys()} \n",
        "    # {\n",
        "    #  \"value\": 0,\n",
        "    #  \"service\": 0,\n",
        "    #  ...\n",
        "    # }\n",
        "\n",
        "    for sent in sentences: # analyze each sentence in the sentences list passed as argument to this function\n",
        "\n",
        "        # evaluate sentiment of sentence\n",
        "        word_list = nltk.word_tokenize(sent) # e.g. nltk.word_tokenize(\"This isn't a test, or is it?\") --> ['This', 'is', \"n't\", 'a', 'test', ',', 'or', 'is', 'it', '?']\n",
        "        pos_word_count = sum(1 for word in word_list if word in pos_words) # Sum 1 for each positive word found in the sentence. E.g. 2\n",
        "        neg_word_count = sum(1 for word in word_list if word in neg_words) # Sum 1 for each negative word found in the sentence. E.g. 3\n",
        "        sent_score = pos_word_count - neg_word_count # E.g. 2 - 3 = -1\n",
        "\n",
        "        # detect features in sentence\n",
        "        word_set = set(word_list) # e.g. {'this', 'is', \"n't\", \"a\", \"test\", \",\", \"or\", \"it\", \"?\"}   No words are repeated since we use a set!\n",
        "        # loop over each feature (e.g. value, service, ...) to analyze features in the current sentence \n",
        "        # (i.e. the variable named 'sent')\n",
        "        for feat, keywords in feature_words.items(): \n",
        "            # if the intersection between the sentence word set and the feature keywords is not empty \n",
        "            # (i.e. the sentence contains at least one of the current feature keywords)\n",
        "            if word_set & keywords: \n",
        "                if sent_score > 0: # if the sentence polarity is positive\n",
        "                    pos_counts[feat] += 1 # increment by one the positive counter of the current feature we are analyzing\n",
        "                elif sent_score < 0: # if the sentence polarity is negative\n",
        "                    neg_counts[feat] += 1 # increment by one the negative counter of the current feature we are analyzing\n",
        "\n",
        "    # At the end of the positive/negative counts for each feature, we create a new dataframe containing the features \n",
        "    # as rows and the two counters as columns\n",
        "    return pd.DataFrame({\"pos_count\": pos_counts, \"neg_count\": neg_counts})"
      ]
    },
    {
      "cell_type": "markdown",
      "metadata": {
        "id": "5qmR31Yb9IOj"
      },
      "source": [
        "For each list of sentences, the function returns a DataFrame with counts of positive and negative sentences for each feature\n",
        "\n",
        "Let's apply it for example to reviews of Intercontinental"
      ]
    },
    {
      "cell_type": "code",
      "execution_count": null,
      "metadata": {
        "id": "Sl6kJjaF9IOk"
      },
      "outputs": [],
      "source": [
        "scores_interc = feature_pos_neg_counts(sentences_interc, feature_words, hu_liu_pos, hu_liu_neg)"
      ]
    },
    {
      "cell_type": "code",
      "execution_count": null,
      "metadata": {
        "colab": {
          "base_uri": "https://localhost:8080/",
          "height": 237
        },
        "id": "ODajRR8-9IOk",
        "outputId": "0f7da547-8c67-4948-ed1a-26028392eaa1"
      },
      "outputs": [
        {
          "output_type": "execute_result",
          "data": {
            "text/plain": [
              "              pos_count  neg_count\n",
              "location            231         18\n",
              "sleepquality         50         28\n",
              "rooms               423         92\n",
              "service             370         55\n",
              "value                70         34\n",
              "cleanliness         131         11"
            ],
            "text/html": [
              "\n",
              "  <div id=\"df-e3f0bbeb-43f5-48d8-a121-77f44ca41c7f\">\n",
              "    <div class=\"colab-df-container\">\n",
              "      <div>\n",
              "<style scoped>\n",
              "    .dataframe tbody tr th:only-of-type {\n",
              "        vertical-align: middle;\n",
              "    }\n",
              "\n",
              "    .dataframe tbody tr th {\n",
              "        vertical-align: top;\n",
              "    }\n",
              "\n",
              "    .dataframe thead th {\n",
              "        text-align: right;\n",
              "    }\n",
              "</style>\n",
              "<table border=\"1\" class=\"dataframe\">\n",
              "  <thead>\n",
              "    <tr style=\"text-align: right;\">\n",
              "      <th></th>\n",
              "      <th>pos_count</th>\n",
              "      <th>neg_count</th>\n",
              "    </tr>\n",
              "  </thead>\n",
              "  <tbody>\n",
              "    <tr>\n",
              "      <th>location</th>\n",
              "      <td>231</td>\n",
              "      <td>18</td>\n",
              "    </tr>\n",
              "    <tr>\n",
              "      <th>sleepquality</th>\n",
              "      <td>50</td>\n",
              "      <td>28</td>\n",
              "    </tr>\n",
              "    <tr>\n",
              "      <th>rooms</th>\n",
              "      <td>423</td>\n",
              "      <td>92</td>\n",
              "    </tr>\n",
              "    <tr>\n",
              "      <th>service</th>\n",
              "      <td>370</td>\n",
              "      <td>55</td>\n",
              "    </tr>\n",
              "    <tr>\n",
              "      <th>value</th>\n",
              "      <td>70</td>\n",
              "      <td>34</td>\n",
              "    </tr>\n",
              "    <tr>\n",
              "      <th>cleanliness</th>\n",
              "      <td>131</td>\n",
              "      <td>11</td>\n",
              "    </tr>\n",
              "  </tbody>\n",
              "</table>\n",
              "</div>\n",
              "      <button class=\"colab-df-convert\" onclick=\"convertToInteractive('df-e3f0bbeb-43f5-48d8-a121-77f44ca41c7f')\"\n",
              "              title=\"Convert this dataframe to an interactive table.\"\n",
              "              style=\"display:none;\">\n",
              "        \n",
              "  <svg xmlns=\"http://www.w3.org/2000/svg\" height=\"24px\"viewBox=\"0 0 24 24\"\n",
              "       width=\"24px\">\n",
              "    <path d=\"M0 0h24v24H0V0z\" fill=\"none\"/>\n",
              "    <path d=\"M18.56 5.44l.94 2.06.94-2.06 2.06-.94-2.06-.94-.94-2.06-.94 2.06-2.06.94zm-11 1L8.5 8.5l.94-2.06 2.06-.94-2.06-.94L8.5 2.5l-.94 2.06-2.06.94zm10 10l.94 2.06.94-2.06 2.06-.94-2.06-.94-.94-2.06-.94 2.06-2.06.94z\"/><path d=\"M17.41 7.96l-1.37-1.37c-.4-.4-.92-.59-1.43-.59-.52 0-1.04.2-1.43.59L10.3 9.45l-7.72 7.72c-.78.78-.78 2.05 0 2.83L4 21.41c.39.39.9.59 1.41.59.51 0 1.02-.2 1.41-.59l7.78-7.78 2.81-2.81c.8-.78.8-2.07 0-2.86zM5.41 20L4 18.59l7.72-7.72 1.47 1.35L5.41 20z\"/>\n",
              "  </svg>\n",
              "      </button>\n",
              "      \n",
              "  <style>\n",
              "    .colab-df-container {\n",
              "      display:flex;\n",
              "      flex-wrap:wrap;\n",
              "      gap: 12px;\n",
              "    }\n",
              "\n",
              "    .colab-df-convert {\n",
              "      background-color: #E8F0FE;\n",
              "      border: none;\n",
              "      border-radius: 50%;\n",
              "      cursor: pointer;\n",
              "      display: none;\n",
              "      fill: #1967D2;\n",
              "      height: 32px;\n",
              "      padding: 0 0 0 0;\n",
              "      width: 32px;\n",
              "    }\n",
              "\n",
              "    .colab-df-convert:hover {\n",
              "      background-color: #E2EBFA;\n",
              "      box-shadow: 0px 1px 2px rgba(60, 64, 67, 0.3), 0px 1px 3px 1px rgba(60, 64, 67, 0.15);\n",
              "      fill: #174EA6;\n",
              "    }\n",
              "\n",
              "    [theme=dark] .colab-df-convert {\n",
              "      background-color: #3B4455;\n",
              "      fill: #D2E3FC;\n",
              "    }\n",
              "\n",
              "    [theme=dark] .colab-df-convert:hover {\n",
              "      background-color: #434B5C;\n",
              "      box-shadow: 0px 1px 3px 1px rgba(0, 0, 0, 0.15);\n",
              "      filter: drop-shadow(0px 1px 2px rgba(0, 0, 0, 0.3));\n",
              "      fill: #FFFFFF;\n",
              "    }\n",
              "  </style>\n",
              "\n",
              "      <script>\n",
              "        const buttonEl =\n",
              "          document.querySelector('#df-e3f0bbeb-43f5-48d8-a121-77f44ca41c7f button.colab-df-convert');\n",
              "        buttonEl.style.display =\n",
              "          google.colab.kernel.accessAllowed ? 'block' : 'none';\n",
              "\n",
              "        async function convertToInteractive(key) {\n",
              "          const element = document.querySelector('#df-e3f0bbeb-43f5-48d8-a121-77f44ca41c7f');\n",
              "          const dataTable =\n",
              "            await google.colab.kernel.invokeFunction('convertToInteractive',\n",
              "                                                     [key], {});\n",
              "          if (!dataTable) return;\n",
              "\n",
              "          const docLinkHtml = 'Like what you see? Visit the ' +\n",
              "            '<a target=\"_blank\" href=https://colab.research.google.com/notebooks/data_table.ipynb>data table notebook</a>'\n",
              "            + ' to learn more about interactive tables.';\n",
              "          element.innerHTML = '';\n",
              "          dataTable['output_type'] = 'display_data';\n",
              "          await google.colab.output.renderOutput(dataTable, element);\n",
              "          const docLink = document.createElement('div');\n",
              "          docLink.innerHTML = docLinkHtml;\n",
              "          element.appendChild(docLink);\n",
              "        }\n",
              "      </script>\n",
              "    </div>\n",
              "  </div>\n",
              "  "
            ]
          },
          "metadata": {},
          "execution_count": 114
        }
      ],
      "source": [
        "scores_interc"
      ]
    },
    {
      "cell_type": "markdown",
      "metadata": {
        "id": "m5smNWpx9IOl"
      },
      "source": [
        "### Summarizing evaluation of hotel features\n",
        "\n",
        "Similarly to above, we compute for each feature a sentiment score in a 0-50 scale from the ratio of positive sentences about a feature w.r.t. their total"
      ]
    },
    {
      "cell_type": "code",
      "execution_count": null,
      "metadata": {
        "id": "hvyHtRYs9IOm"
      },
      "outputs": [],
      "source": [
        "scores_interc[\"tot_count\"] = scores_interc.pos_count + scores_interc.neg_count"
      ]
    },
    {
      "cell_type": "code",
      "execution_count": null,
      "metadata": {
        "id": "NxSaH52X9IOn"
      },
      "outputs": [],
      "source": [
        "scores_interc[\"score\"] = round(50 * scores_interc.pos_count / scores_interc.tot_count)"
      ]
    },
    {
      "cell_type": "code",
      "execution_count": null,
      "metadata": {
        "colab": {
          "base_uri": "https://localhost:8080/",
          "height": 237
        },
        "id": "TPqAtJN99IOo",
        "outputId": "9f723595-7ff9-4220-e0bc-a124e06b59bb"
      },
      "outputs": [
        {
          "output_type": "execute_result",
          "data": {
            "text/plain": [
              "              pos_count  neg_count  tot_count  score\n",
              "location            231         18        249   46.0\n",
              "sleepquality         50         28         78   32.0\n",
              "rooms               423         92        515   41.0\n",
              "service             370         55        425   44.0\n",
              "value                70         34        104   34.0\n",
              "cleanliness         131         11        142   46.0"
            ],
            "text/html": [
              "\n",
              "  <div id=\"df-017d35af-7b1b-4168-b0fb-7ac47c24a220\">\n",
              "    <div class=\"colab-df-container\">\n",
              "      <div>\n",
              "<style scoped>\n",
              "    .dataframe tbody tr th:only-of-type {\n",
              "        vertical-align: middle;\n",
              "    }\n",
              "\n",
              "    .dataframe tbody tr th {\n",
              "        vertical-align: top;\n",
              "    }\n",
              "\n",
              "    .dataframe thead th {\n",
              "        text-align: right;\n",
              "    }\n",
              "</style>\n",
              "<table border=\"1\" class=\"dataframe\">\n",
              "  <thead>\n",
              "    <tr style=\"text-align: right;\">\n",
              "      <th></th>\n",
              "      <th>pos_count</th>\n",
              "      <th>neg_count</th>\n",
              "      <th>tot_count</th>\n",
              "      <th>score</th>\n",
              "    </tr>\n",
              "  </thead>\n",
              "  <tbody>\n",
              "    <tr>\n",
              "      <th>location</th>\n",
              "      <td>231</td>\n",
              "      <td>18</td>\n",
              "      <td>249</td>\n",
              "      <td>46.0</td>\n",
              "    </tr>\n",
              "    <tr>\n",
              "      <th>sleepquality</th>\n",
              "      <td>50</td>\n",
              "      <td>28</td>\n",
              "      <td>78</td>\n",
              "      <td>32.0</td>\n",
              "    </tr>\n",
              "    <tr>\n",
              "      <th>rooms</th>\n",
              "      <td>423</td>\n",
              "      <td>92</td>\n",
              "      <td>515</td>\n",
              "      <td>41.0</td>\n",
              "    </tr>\n",
              "    <tr>\n",
              "      <th>service</th>\n",
              "      <td>370</td>\n",
              "      <td>55</td>\n",
              "      <td>425</td>\n",
              "      <td>44.0</td>\n",
              "    </tr>\n",
              "    <tr>\n",
              "      <th>value</th>\n",
              "      <td>70</td>\n",
              "      <td>34</td>\n",
              "      <td>104</td>\n",
              "      <td>34.0</td>\n",
              "    </tr>\n",
              "    <tr>\n",
              "      <th>cleanliness</th>\n",
              "      <td>131</td>\n",
              "      <td>11</td>\n",
              "      <td>142</td>\n",
              "      <td>46.0</td>\n",
              "    </tr>\n",
              "  </tbody>\n",
              "</table>\n",
              "</div>\n",
              "      <button class=\"colab-df-convert\" onclick=\"convertToInteractive('df-017d35af-7b1b-4168-b0fb-7ac47c24a220')\"\n",
              "              title=\"Convert this dataframe to an interactive table.\"\n",
              "              style=\"display:none;\">\n",
              "        \n",
              "  <svg xmlns=\"http://www.w3.org/2000/svg\" height=\"24px\"viewBox=\"0 0 24 24\"\n",
              "       width=\"24px\">\n",
              "    <path d=\"M0 0h24v24H0V0z\" fill=\"none\"/>\n",
              "    <path d=\"M18.56 5.44l.94 2.06.94-2.06 2.06-.94-2.06-.94-.94-2.06-.94 2.06-2.06.94zm-11 1L8.5 8.5l.94-2.06 2.06-.94-2.06-.94L8.5 2.5l-.94 2.06-2.06.94zm10 10l.94 2.06.94-2.06 2.06-.94-2.06-.94-.94-2.06-.94 2.06-2.06.94z\"/><path d=\"M17.41 7.96l-1.37-1.37c-.4-.4-.92-.59-1.43-.59-.52 0-1.04.2-1.43.59L10.3 9.45l-7.72 7.72c-.78.78-.78 2.05 0 2.83L4 21.41c.39.39.9.59 1.41.59.51 0 1.02-.2 1.41-.59l7.78-7.78 2.81-2.81c.8-.78.8-2.07 0-2.86zM5.41 20L4 18.59l7.72-7.72 1.47 1.35L5.41 20z\"/>\n",
              "  </svg>\n",
              "      </button>\n",
              "      \n",
              "  <style>\n",
              "    .colab-df-container {\n",
              "      display:flex;\n",
              "      flex-wrap:wrap;\n",
              "      gap: 12px;\n",
              "    }\n",
              "\n",
              "    .colab-df-convert {\n",
              "      background-color: #E8F0FE;\n",
              "      border: none;\n",
              "      border-radius: 50%;\n",
              "      cursor: pointer;\n",
              "      display: none;\n",
              "      fill: #1967D2;\n",
              "      height: 32px;\n",
              "      padding: 0 0 0 0;\n",
              "      width: 32px;\n",
              "    }\n",
              "\n",
              "    .colab-df-convert:hover {\n",
              "      background-color: #E2EBFA;\n",
              "      box-shadow: 0px 1px 2px rgba(60, 64, 67, 0.3), 0px 1px 3px 1px rgba(60, 64, 67, 0.15);\n",
              "      fill: #174EA6;\n",
              "    }\n",
              "\n",
              "    [theme=dark] .colab-df-convert {\n",
              "      background-color: #3B4455;\n",
              "      fill: #D2E3FC;\n",
              "    }\n",
              "\n",
              "    [theme=dark] .colab-df-convert:hover {\n",
              "      background-color: #434B5C;\n",
              "      box-shadow: 0px 1px 3px 1px rgba(0, 0, 0, 0.15);\n",
              "      filter: drop-shadow(0px 1px 2px rgba(0, 0, 0, 0.3));\n",
              "      fill: #FFFFFF;\n",
              "    }\n",
              "  </style>\n",
              "\n",
              "      <script>\n",
              "        const buttonEl =\n",
              "          document.querySelector('#df-017d35af-7b1b-4168-b0fb-7ac47c24a220 button.colab-df-convert');\n",
              "        buttonEl.style.display =\n",
              "          google.colab.kernel.accessAllowed ? 'block' : 'none';\n",
              "\n",
              "        async function convertToInteractive(key) {\n",
              "          const element = document.querySelector('#df-017d35af-7b1b-4168-b0fb-7ac47c24a220');\n",
              "          const dataTable =\n",
              "            await google.colab.kernel.invokeFunction('convertToInteractive',\n",
              "                                                     [key], {});\n",
              "          if (!dataTable) return;\n",
              "\n",
              "          const docLinkHtml = 'Like what you see? Visit the ' +\n",
              "            '<a target=\"_blank\" href=https://colab.research.google.com/notebooks/data_table.ipynb>data table notebook</a>'\n",
              "            + ' to learn more about interactive tables.';\n",
              "          element.innerHTML = '';\n",
              "          dataTable['output_type'] = 'display_data';\n",
              "          await google.colab.output.renderOutput(dataTable, element);\n",
              "          const docLink = document.createElement('div');\n",
              "          docLink.innerHTML = docLinkHtml;\n",
              "          element.appendChild(docLink);\n",
              "        }\n",
              "      </script>\n",
              "    </div>\n",
              "  </div>\n",
              "  "
            ]
          },
          "metadata": {},
          "execution_count": 74
        }
      ],
      "source": [
        "scores_interc"
      ]
    },
    {
      "cell_type": "markdown",
      "metadata": {
        "id": "BCoak-S39IOp"
      },
      "source": [
        "In order to easily repeat this process for every hotel, we wrap it in a function which takes as input the list of reviews and returns the Series with the final scores per feature"
      ]
    },
    {
      "cell_type": "code",
      "execution_count": null,
      "metadata": {
        "id": "xL4QJitL9IOp"
      },
      "outputs": [],
      "source": [
        "def feature_scores(reviews, feature_words, pos_words, neg_words):\n",
        "    sentences = [sent for review in reviews for sent in nltk.sent_tokenize(review)]\n",
        "    counts = feature_pos_neg_counts(sentences, feature_words, pos_words, neg_words)\n",
        "    total = counts.pos_count + counts.neg_count\n",
        "    return round(50 * counts.pos_count / total)"
      ]
    },
    {
      "cell_type": "code",
      "execution_count": null,
      "metadata": {
        "colab": {
          "base_uri": "https://localhost:8080/"
        },
        "id": "BF2X1PJN9IOq",
        "outputId": "f5d7329f-e78f-4cd6-aaba-089ec86dde64"
      },
      "outputs": [
        {
          "output_type": "execute_result",
          "data": {
            "text/plain": [
              "location        46.0\n",
              "sleepquality    32.0\n",
              "rooms           41.0\n",
              "service         44.0\n",
              "value           34.0\n",
              "cleanliness     46.0\n",
              "dtype: float64"
            ]
          },
          "metadata": {},
          "execution_count": 76
        }
      ],
      "source": [
        "feature_scores(reviews_interc, feature_words, hu_liu_pos, hu_liu_neg)"
      ]
    },
    {
      "cell_type": "markdown",
      "metadata": {
        "id": "ovCL19qT9IOr"
      },
      "source": [
        "Let's create a DataFrame with feature scores for all analyzed hotels"
      ]
    },
    {
      "cell_type": "code",
      "execution_count": null,
      "metadata": {
        "id": "RnPw_fR_9IOr"
      },
      "outputs": [],
      "source": [
        "scores = pd.DataFrame({hotel: feature_scores(reviews, feature_words, hu_liu_pos, hu_liu_neg) for hotel, reviews in all_reviews.items()})"
      ]
    },
    {
      "cell_type": "code",
      "execution_count": null,
      "metadata": {
        "colab": {
          "base_uri": "https://localhost:8080/",
          "height": 637
        },
        "id": "eZMYfs7G9IOs",
        "outputId": "639453e3-9396-489a-9b1c-26e11708b3bd"
      },
      "outputs": [
        {
          "output_type": "stream",
          "name": "stdout",
          "text": [
            "              affinia_chicago  hyatt_regency_chicago  \\\n",
            "location                 45.0                   45.0   \n",
            "sleepquality             25.0                   27.0   \n",
            "rooms                    42.0                   37.0   \n",
            "service                  45.0                   39.0   \n",
            "value                    39.0                   30.0   \n",
            "cleanliness              46.0                   42.0   \n",
            "\n",
            "              intercontinental_chicago  james_chicago  swissotel_chicago  \\\n",
            "location                          46.0           47.0               44.0   \n",
            "sleepquality                      32.0           30.0               32.0   \n",
            "rooms                             41.0           41.0               40.0   \n",
            "service                           44.0           44.0               43.0   \n",
            "value                             34.0           35.0               34.0   \n",
            "cleanliness                       46.0           46.0               46.0   \n",
            "\n",
            "              the_palmer_house_hilton  \n",
            "location                         45.0  \n",
            "sleepquality                     26.0  \n",
            "rooms                            37.0  \n",
            "service                          40.0  \n",
            "value                            35.0  \n",
            "cleanliness                      44.0  \n"
          ]
        },
        {
          "output_type": "execute_result",
          "data": {
            "text/plain": [
              "                          location  sleepquality  rooms  service  value  \\\n",
              "affinia_chicago               45.0          25.0   42.0     45.0   39.0   \n",
              "hyatt_regency_chicago         45.0          27.0   37.0     39.0   30.0   \n",
              "intercontinental_chicago      46.0          32.0   41.0     44.0   34.0   \n",
              "james_chicago                 47.0          30.0   41.0     44.0   35.0   \n",
              "swissotel_chicago             44.0          32.0   40.0     43.0   34.0   \n",
              "the_palmer_house_hilton       45.0          26.0   37.0     40.0   35.0   \n",
              "\n",
              "                          cleanliness  \n",
              "affinia_chicago                  46.0  \n",
              "hyatt_regency_chicago            42.0  \n",
              "intercontinental_chicago         46.0  \n",
              "james_chicago                    46.0  \n",
              "swissotel_chicago                46.0  \n",
              "the_palmer_house_hilton          44.0  "
            ],
            "text/html": [
              "\n",
              "  <div id=\"df-b5ee3fc7-acd6-4c3e-bbe6-16769a683750\">\n",
              "    <div class=\"colab-df-container\">\n",
              "      <div>\n",
              "<style scoped>\n",
              "    .dataframe tbody tr th:only-of-type {\n",
              "        vertical-align: middle;\n",
              "    }\n",
              "\n",
              "    .dataframe tbody tr th {\n",
              "        vertical-align: top;\n",
              "    }\n",
              "\n",
              "    .dataframe thead th {\n",
              "        text-align: right;\n",
              "    }\n",
              "</style>\n",
              "<table border=\"1\" class=\"dataframe\">\n",
              "  <thead>\n",
              "    <tr style=\"text-align: right;\">\n",
              "      <th></th>\n",
              "      <th>location</th>\n",
              "      <th>sleepquality</th>\n",
              "      <th>rooms</th>\n",
              "      <th>service</th>\n",
              "      <th>value</th>\n",
              "      <th>cleanliness</th>\n",
              "    </tr>\n",
              "  </thead>\n",
              "  <tbody>\n",
              "    <tr>\n",
              "      <th>affinia_chicago</th>\n",
              "      <td>45.0</td>\n",
              "      <td>25.0</td>\n",
              "      <td>42.0</td>\n",
              "      <td>45.0</td>\n",
              "      <td>39.0</td>\n",
              "      <td>46.0</td>\n",
              "    </tr>\n",
              "    <tr>\n",
              "      <th>hyatt_regency_chicago</th>\n",
              "      <td>45.0</td>\n",
              "      <td>27.0</td>\n",
              "      <td>37.0</td>\n",
              "      <td>39.0</td>\n",
              "      <td>30.0</td>\n",
              "      <td>42.0</td>\n",
              "    </tr>\n",
              "    <tr>\n",
              "      <th>intercontinental_chicago</th>\n",
              "      <td>46.0</td>\n",
              "      <td>32.0</td>\n",
              "      <td>41.0</td>\n",
              "      <td>44.0</td>\n",
              "      <td>34.0</td>\n",
              "      <td>46.0</td>\n",
              "    </tr>\n",
              "    <tr>\n",
              "      <th>james_chicago</th>\n",
              "      <td>47.0</td>\n",
              "      <td>30.0</td>\n",
              "      <td>41.0</td>\n",
              "      <td>44.0</td>\n",
              "      <td>35.0</td>\n",
              "      <td>46.0</td>\n",
              "    </tr>\n",
              "    <tr>\n",
              "      <th>swissotel_chicago</th>\n",
              "      <td>44.0</td>\n",
              "      <td>32.0</td>\n",
              "      <td>40.0</td>\n",
              "      <td>43.0</td>\n",
              "      <td>34.0</td>\n",
              "      <td>46.0</td>\n",
              "    </tr>\n",
              "    <tr>\n",
              "      <th>the_palmer_house_hilton</th>\n",
              "      <td>45.0</td>\n",
              "      <td>26.0</td>\n",
              "      <td>37.0</td>\n",
              "      <td>40.0</td>\n",
              "      <td>35.0</td>\n",
              "      <td>44.0</td>\n",
              "    </tr>\n",
              "  </tbody>\n",
              "</table>\n",
              "</div>\n",
              "      <button class=\"colab-df-convert\" onclick=\"convertToInteractive('df-b5ee3fc7-acd6-4c3e-bbe6-16769a683750')\"\n",
              "              title=\"Convert this dataframe to an interactive table.\"\n",
              "              style=\"display:none;\">\n",
              "        \n",
              "  <svg xmlns=\"http://www.w3.org/2000/svg\" height=\"24px\"viewBox=\"0 0 24 24\"\n",
              "       width=\"24px\">\n",
              "    <path d=\"M0 0h24v24H0V0z\" fill=\"none\"/>\n",
              "    <path d=\"M18.56 5.44l.94 2.06.94-2.06 2.06-.94-2.06-.94-.94-2.06-.94 2.06-2.06.94zm-11 1L8.5 8.5l.94-2.06 2.06-.94-2.06-.94L8.5 2.5l-.94 2.06-2.06.94zm10 10l.94 2.06.94-2.06 2.06-.94-2.06-.94-.94-2.06-.94 2.06-2.06.94z\"/><path d=\"M17.41 7.96l-1.37-1.37c-.4-.4-.92-.59-1.43-.59-.52 0-1.04.2-1.43.59L10.3 9.45l-7.72 7.72c-.78.78-.78 2.05 0 2.83L4 21.41c.39.39.9.59 1.41.59.51 0 1.02-.2 1.41-.59l7.78-7.78 2.81-2.81c.8-.78.8-2.07 0-2.86zM5.41 20L4 18.59l7.72-7.72 1.47 1.35L5.41 20z\"/>\n",
              "  </svg>\n",
              "      </button>\n",
              "      \n",
              "  <style>\n",
              "    .colab-df-container {\n",
              "      display:flex;\n",
              "      flex-wrap:wrap;\n",
              "      gap: 12px;\n",
              "    }\n",
              "\n",
              "    .colab-df-convert {\n",
              "      background-color: #E8F0FE;\n",
              "      border: none;\n",
              "      border-radius: 50%;\n",
              "      cursor: pointer;\n",
              "      display: none;\n",
              "      fill: #1967D2;\n",
              "      height: 32px;\n",
              "      padding: 0 0 0 0;\n",
              "      width: 32px;\n",
              "    }\n",
              "\n",
              "    .colab-df-convert:hover {\n",
              "      background-color: #E2EBFA;\n",
              "      box-shadow: 0px 1px 2px rgba(60, 64, 67, 0.3), 0px 1px 3px 1px rgba(60, 64, 67, 0.15);\n",
              "      fill: #174EA6;\n",
              "    }\n",
              "\n",
              "    [theme=dark] .colab-df-convert {\n",
              "      background-color: #3B4455;\n",
              "      fill: #D2E3FC;\n",
              "    }\n",
              "\n",
              "    [theme=dark] .colab-df-convert:hover {\n",
              "      background-color: #434B5C;\n",
              "      box-shadow: 0px 1px 3px 1px rgba(0, 0, 0, 0.15);\n",
              "      filter: drop-shadow(0px 1px 2px rgba(0, 0, 0, 0.3));\n",
              "      fill: #FFFFFF;\n",
              "    }\n",
              "  </style>\n",
              "\n",
              "      <script>\n",
              "        const buttonEl =\n",
              "          document.querySelector('#df-b5ee3fc7-acd6-4c3e-bbe6-16769a683750 button.colab-df-convert');\n",
              "        buttonEl.style.display =\n",
              "          google.colab.kernel.accessAllowed ? 'block' : 'none';\n",
              "\n",
              "        async function convertToInteractive(key) {\n",
              "          const element = document.querySelector('#df-b5ee3fc7-acd6-4c3e-bbe6-16769a683750');\n",
              "          const dataTable =\n",
              "            await google.colab.kernel.invokeFunction('convertToInteractive',\n",
              "                                                     [key], {});\n",
              "          if (!dataTable) return;\n",
              "\n",
              "          const docLinkHtml = 'Like what you see? Visit the ' +\n",
              "            '<a target=\"_blank\" href=https://colab.research.google.com/notebooks/data_table.ipynb>data table notebook</a>'\n",
              "            + ' to learn more about interactive tables.';\n",
              "          element.innerHTML = '';\n",
              "          dataTable['output_type'] = 'display_data';\n",
              "          await google.colab.output.renderOutput(dataTable, element);\n",
              "          const docLink = document.createElement('div');\n",
              "          docLink.innerHTML = docLinkHtml;\n",
              "          element.appendChild(docLink);\n",
              "        }\n",
              "      </script>\n",
              "    </div>\n",
              "  </div>\n",
              "  "
            ]
          },
          "metadata": {},
          "execution_count": 78
        }
      ],
      "source": [
        "print(scores)\n",
        "\n",
        "scores.T   # transpose the table"
      ]
    },
    {
      "cell_type": "markdown",
      "metadata": {
        "id": "SRg2vywT9IOv"
      },
      "source": [
        "We can create a bar plot to compare the hotels by each feature"
      ]
    },
    {
      "cell_type": "code",
      "execution_count": null,
      "metadata": {
        "colab": {
          "base_uri": "https://localhost:8080/",
          "height": 333
        },
        "id": "Z77JJX999IOv",
        "outputId": "423b0422-a1ee-4ea3-ff9a-242b8a97986b"
      },
      "outputs": [
        {
          "output_type": "execute_result",
          "data": {
            "text/plain": [
              "<matplotlib.axes._subplots.AxesSubplot at 0x7fc515edb4d0>"
            ]
          },
          "metadata": {},
          "execution_count": 79
        },
        {
          "output_type": "display_data",
          "data": {
            "text/plain": [
              "<Figure size 432x288 with 1 Axes>"
            ],
            "image/png": "[encoded data removed]"
          },
          "metadata": {
            "needs_background": "light"
          }
        }
      ],
      "source": [
        "scores.plot.bar()"
      ]
    },
    {
      "cell_type": "markdown",
      "metadata": {
        "id": "Qr17VRMp9IOw"
      },
      "source": [
        "### Comparing scores with TripAdvisor\n",
        "\n",
        "Obtained scores can be compared with the feature ratings which were computed by TripAdvisor up to some time ago\n",
        "\n",
        "![hotel ratings](https://www.dropbox.com/s/pq6q9ugsaessow6/hotel-ratings.png?dl=1)"
      ]
    },
    {
      "cell_type": "markdown",
      "metadata": {
        "id": "3k9gENE_9IOw"
      },
      "source": [
        "## Activity 3: Classification of Reviews via Supervised Training\n",
        "\n",
        "**Goal:** classify user reviews of movies extracted from IMDB as positive or negative\n",
        "\n",
        "Contrarily to previous activities, this time we will train a classificaton model on existing reviews instead of using manually set keywords"
      ]
    },
    {
      "cell_type": "markdown",
      "metadata": {
        "id": "AXWxfW1Q9IOw"
      },
      "source": [
        "### Loading reviews\n",
        "\n",
        "We load reviews from a GZIP-compressed CSV file of 10,000 movie reviews, alternated between positive and negative"
      ]
    },
    {
      "cell_type": "code",
      "execution_count": null,
      "metadata": {
        "id": "gyb5edlH9IOx"
      },
      "outputs": [],
      "source": [
        "download(\"acl-10k.csv.gz\", \"https://github.com/unibodatascience/BBS-TextMining/raw/3ad6643b698f652f200dfbf463a3cb49de8c0e9f/05%20-%20Opinion%20Mining%20with%20Python%20(part%201)/data/acl-10k.csv.gz\")"
      ]
    },
    {
      "cell_type": "code",
      "execution_count": null,
      "metadata": {
        "id": "pUWkUCnB9IOy"
      },
      "outputs": [],
      "source": [
        "reviews = pd.read_csv(\"acl-10k.csv.gz\", sep=\"\\t\", header=None, names=[\"label\", \"text\"], compression=\"gzip\")"
      ]
    },
    {
      "cell_type": "code",
      "execution_count": null,
      "metadata": {
        "colab": {
          "base_uri": "https://localhost:8080/",
          "height": 206
        },
        "id": "gYE_BFzX9IOz",
        "outputId": "c84d5425-0287-40f0-bdc5-6c40e1a81461"
      },
      "outputs": [
        {
          "output_type": "execute_result",
          "data": {
            "text/plain": [
              "  label  \\\n",
              "0   pos   \n",
              "1   neg   \n",
              "2   pos   \n",
              "3   neg   \n",
              "4   pos   \n",
              "\n",
              "                                                                                                  text  \n",
              "0  Bromwell High is a cartoon comedy. It ran at the same time as some other programs about school l...  \n",
              "1  Story of a man who has unnatural feelings for a pig. Starts out with a opening scene that is a t...  \n",
              "2  If you like adult comedy cartoons, like South Park, then this is nearly a similar format about t...  \n",
              "3  Robert DeNiro plays the most unbelievably intelligent illiterate of all time. This movie is so w...  \n",
              "4  Bromwell High is nothing short of brilliant. Expertly scripted and perfectly delivered, this sea...  "
            ],
            "text/html": [
              "\n",
              "  <div id=\"df-6ac929da-2c82-4ad9-a7c3-c68da1212a18\">\n",
              "    <div class=\"colab-df-container\">\n",
              "      <div>\n",
              "<style scoped>\n",
              "    .dataframe tbody tr th:only-of-type {\n",
              "        vertical-align: middle;\n",
              "    }\n",
              "\n",
              "    .dataframe tbody tr th {\n",
              "        vertical-align: top;\n",
              "    }\n",
              "\n",
              "    .dataframe thead th {\n",
              "        text-align: right;\n",
              "    }\n",
              "</style>\n",
              "<table border=\"1\" class=\"dataframe\">\n",
              "  <thead>\n",
              "    <tr style=\"text-align: right;\">\n",
              "      <th></th>\n",
              "      <th>label</th>\n",
              "      <th>text</th>\n",
              "    </tr>\n",
              "  </thead>\n",
              "  <tbody>\n",
              "    <tr>\n",
              "      <th>0</th>\n",
              "      <td>pos</td>\n",
              "      <td>Bromwell High is a cartoon comedy. It ran at the same time as some other programs about school l...</td>\n",
              "    </tr>\n",
              "    <tr>\n",
              "      <th>1</th>\n",
              "      <td>neg</td>\n",
              "      <td>Story of a man who has unnatural feelings for a pig. Starts out with a opening scene that is a t...</td>\n",
              "    </tr>\n",
              "    <tr>\n",
              "      <th>2</th>\n",
              "      <td>pos</td>\n",
              "      <td>If you like adult comedy cartoons, like South Park, then this is nearly a similar format about t...</td>\n",
              "    </tr>\n",
              "    <tr>\n",
              "      <th>3</th>\n",
              "      <td>neg</td>\n",
              "      <td>Robert DeNiro plays the most unbelievably intelligent illiterate of all time. This movie is so w...</td>\n",
              "    </tr>\n",
              "    <tr>\n",
              "      <th>4</th>\n",
              "      <td>pos</td>\n",
              "      <td>Bromwell High is nothing short of brilliant. Expertly scripted and perfectly delivered, this sea...</td>\n",
              "    </tr>\n",
              "  </tbody>\n",
              "</table>\n",
              "</div>\n",
              "      <button class=\"colab-df-convert\" onclick=\"convertToInteractive('df-6ac929da-2c82-4ad9-a7c3-c68da1212a18')\"\n",
              "              title=\"Convert this dataframe to an interactive table.\"\n",
              "              style=\"display:none;\">\n",
              "        \n",
              "  <svg xmlns=\"http://www.w3.org/2000/svg\" height=\"24px\"viewBox=\"0 0 24 24\"\n",
              "       width=\"24px\">\n",
              "    <path d=\"M0 0h24v24H0V0z\" fill=\"none\"/>\n",
              "    <path d=\"M18.56 5.44l.94 2.06.94-2.06 2.06-.94-2.06-.94-.94-2.06-.94 2.06-2.06.94zm-11 1L8.5 8.5l.94-2.06 2.06-.94-2.06-.94L8.5 2.5l-.94 2.06-2.06.94zm10 10l.94 2.06.94-2.06 2.06-.94-2.06-.94-.94-2.06-.94 2.06-2.06.94z\"/><path d=\"M17.41 7.96l-1.37-1.37c-.4-.4-.92-.59-1.43-.59-.52 0-1.04.2-1.43.59L10.3 9.45l-7.72 7.72c-.78.78-.78 2.05 0 2.83L4 21.41c.39.39.9.59 1.41.59.51 0 1.02-.2 1.41-.59l7.78-7.78 2.81-2.81c.8-.78.8-2.07 0-2.86zM5.41 20L4 18.59l7.72-7.72 1.47 1.35L5.41 20z\"/>\n",
              "  </svg>\n",
              "      </button>\n",
              "      \n",
              "  <style>\n",
              "    .colab-df-container {\n",
              "      display:flex;\n",
              "      flex-wrap:wrap;\n",
              "      gap: 12px;\n",
              "    }\n",
              "\n",
              "    .colab-df-convert {\n",
              "      background-color: #E8F0FE;\n",
              "      border: none;\n",
              "      border-radius: 50%;\n",
              "      cursor: pointer;\n",
              "      display: none;\n",
              "      fill: #1967D2;\n",
              "      height: 32px;\n",
              "      padding: 0 0 0 0;\n",
              "      width: 32px;\n",
              "    }\n",
              "\n",
              "    .colab-df-convert:hover {\n",
              "      background-color: #E2EBFA;\n",
              "      box-shadow: 0px 1px 2px rgba(60, 64, 67, 0.3), 0px 1px 3px 1px rgba(60, 64, 67, 0.15);\n",
              "      fill: #174EA6;\n",
              "    }\n",
              "\n",
              "    [theme=dark] .colab-df-convert {\n",
              "      background-color: #3B4455;\n",
              "      fill: #D2E3FC;\n",
              "    }\n",
              "\n",
              "    [theme=dark] .colab-df-convert:hover {\n",
              "      background-color: #434B5C;\n",
              "      box-shadow: 0px 1px 3px 1px rgba(0, 0, 0, 0.15);\n",
              "      filter: drop-shadow(0px 1px 2px rgba(0, 0, 0, 0.3));\n",
              "      fill: #FFFFFF;\n",
              "    }\n",
              "  </style>\n",
              "\n",
              "      <script>\n",
              "        const buttonEl =\n",
              "          document.querySelector('#df-6ac929da-2c82-4ad9-a7c3-c68da1212a18 button.colab-df-convert');\n",
              "        buttonEl.style.display =\n",
              "          google.colab.kernel.accessAllowed ? 'block' : 'none';\n",
              "\n",
              "        async function convertToInteractive(key) {\n",
              "          const element = document.querySelector('#df-6ac929da-2c82-4ad9-a7c3-c68da1212a18');\n",
              "          const dataTable =\n",
              "            await google.colab.kernel.invokeFunction('convertToInteractive',\n",
              "                                                     [key], {});\n",
              "          if (!dataTable) return;\n",
              "\n",
              "          const docLinkHtml = 'Like what you see? Visit the ' +\n",
              "            '<a target=\"_blank\" href=https://colab.research.google.com/notebooks/data_table.ipynb>data table notebook</a>'\n",
              "            + ' to learn more about interactive tables.';\n",
              "          element.innerHTML = '';\n",
              "          dataTable['output_type'] = 'display_data';\n",
              "          await google.colab.output.renderOutput(dataTable, element);\n",
              "          const docLink = document.createElement('div');\n",
              "          docLink.innerHTML = docLinkHtml;\n",
              "          element.appendChild(docLink);\n",
              "        }\n",
              "      </script>\n",
              "    </div>\n",
              "  </div>\n",
              "  "
            ]
          },
          "metadata": {},
          "execution_count": 82
        }
      ],
      "source": [
        "reviews.head()"
      ]
    },
    {
      "cell_type": "markdown",
      "metadata": {
        "id": "U172DUlL9IO0"
      },
      "source": [
        "In order to validate the goodness of automated classification, we use the _hold-out_ approach: a part of the reviews is used to train a classifier, while the remaining ones are used to assess its accuracy\n",
        "\n",
        "Let's select the first half of the reviews as the _training set_ and the second half as the _test set_"
      ]
    },
    {
      "cell_type": "code",
      "execution_count": null,
      "metadata": {
        "id": "KxsrEToT9IO0"
      },
      "outputs": [],
      "source": [
        "reviews_train = reviews[:5000] # first 5000 reviews\n",
        "reviews_test = reviews[5000:] # last 5000 reviews"
      ]
    },
    {
      "cell_type": "markdown",
      "metadata": {
        "id": "nSndGPba9IO1"
      },
      "source": [
        "### Bag of Words and Vector Space Model\n",
        "\n",
        "In order to train and use a classifier on reviews, we have to define the _features_ which represent them\n",
        "\n",
        "With the _Bag of Words_ model we represent each review as the set of words contained in it, regardless of their order\n",
        "\n",
        "Once defined a set of known words, we can represent each review with a vector indicating for each word the number of occurrencies in the text; a set of reviews can be be consequently represented as a _document-term matrix_ with a row vector for each review"
      ]
    },
    {
      "cell_type": "markdown",
      "metadata": {
        "id": "f4Wvi4Uo9IO1"
      },
      "source": [
        "Let's define a list of example text documents..."
      ]
    },
    {
      "cell_type": "code",
      "execution_count": null,
      "metadata": {
        "id": "CV26ZAf49IO1"
      },
      "outputs": [],
      "source": [
        "docs = [\n",
        "    \"the sky is blue\",\n",
        "    \"sky is blue and sky is beautiful\",\n",
        "    \"the beautiful sky is so blue\",\n",
        "    \"i love blue cheese\"\n",
        "]"
      ]
    },
    {
      "cell_type": "markdown",
      "metadata": {
        "id": "MossE1cR9IO2"
      },
      "source": [
        "A `CountVectorizer` extracts a vector for each document with counts of distinct words in it: we start from creating an \"empty\" vectorizer"
      ]
    },
    {
      "cell_type": "code",
      "execution_count": null,
      "metadata": {
        "id": "WeRiIqIZ9IO2"
      },
      "outputs": [],
      "source": [
        "from sklearn.feature_extraction.text import CountVectorizer\n",
        "vect = CountVectorizer()"
      ]
    },
    {
      "cell_type": "markdown",
      "metadata": {
        "id": "Abjwprh_9IO3"
      },
      "source": [
        "We use the `fit_transform` method passing the list of documents to\n",
        "\n",
        "- \"build\" the vector space with dimensions corresponding to words within them (_fit_)\n",
        "- return the document-term matrix representing them (_transform_)"
      ]
    },
    {
      "cell_type": "code",
      "execution_count": null,
      "metadata": {
        "colab": {
          "base_uri": "https://localhost:8080/"
        },
        "id": "FaqE_cGv9IO3",
        "outputId": "5609fefc-ec0e-4034-c6d2-803a5cab2609"
      },
      "outputs": [
        {
          "output_type": "execute_result",
          "data": {
            "text/plain": [
              "<4x9 sparse matrix of type '<class 'numpy.int64'>'\n",
              "\twith 18 stored elements in Compressed Sparse Row format>"
            ]
          },
          "metadata": {},
          "execution_count": 86
        }
      ],
      "source": [
        "dtm = vect.fit_transform(docs)\n",
        "dtm # 4 x 9 matrix, 4 rows represent the number of documents, 9 columns represent the number of distinct words found within them"
      ]
    },
    {
      "cell_type": "markdown",
      "metadata": {
        "id": "sNyRpX6J9IO4"
      },
      "source": [
        "The obtained `dtm` matrix contains a row for each document and a column for each distinct word found within documents: we can obtain a list of the words \"learned\" by the vectorizer..."
      ]
    },
    {
      "cell_type": "code",
      "execution_count": null,
      "metadata": {
        "colab": {
          "base_uri": "https://localhost:8080/"
        },
        "id": "qsirTqtE9IO4",
        "outputId": "25e9616d-3ad8-40fe-e6e5-d16fe8926c3f"
      },
      "outputs": [
        {
          "output_type": "execute_result",
          "data": {
            "text/plain": [
              "array(['00', '000', '00001', ..., 'æsthetic', 'élan', 'über'],\n",
              "      dtype=object)"
            ]
          },
          "metadata": {},
          "execution_count": 116
        }
      ],
      "source": [
        "vect.get_feature_names_out()"
      ]
    },
    {
      "cell_type": "markdown",
      "metadata": {
        "id": "_vDbPWyr9IO5"
      },
      "source": [
        "Let's view the matrix as a DataFrame, labeling rows and columns with corresponding documents and features"
      ]
    },
    {
      "cell_type": "code",
      "execution_count": null,
      "metadata": {
        "colab": {
          "base_uri": "https://localhost:8080/",
          "height": 229
        },
        "id": "C8xOa6zB9IO5",
        "outputId": "efcd4393-577c-4b47-bcef-a17c04c92c64"
      },
      "outputs": [
        {
          "output_type": "stream",
          "name": "stderr",
          "text": [
            "/usr/local/lib/python3.7/dist-packages/sklearn/utils/deprecation.py:87: FutureWarning: Function get_feature_names is deprecated; get_feature_names is deprecated in 1.0 and will be removed in 1.2. Please use get_feature_names_out instead.\n",
            "  warnings.warn(msg, category=FutureWarning)\n"
          ]
        },
        {
          "output_type": "execute_result",
          "data": {
            "text/plain": [
              "                                  and  beautiful  blue  cheese  is  love  sky  \\\n",
              "the sky is blue                     0          0     1       0   1     0    1   \n",
              "sky is blue and sky is beautiful    1          1     1       0   2     0    2   \n",
              "the beautiful sky is so blue        0          1     1       0   1     0    1   \n",
              "i love blue cheese                  0          0     1       1   0     1    0   \n",
              "\n",
              "                                  so  the  \n",
              "the sky is blue                    0    1  \n",
              "sky is blue and sky is beautiful   0    0  \n",
              "the beautiful sky is so blue       1    1  \n",
              "i love blue cheese                 0    0  "
            ],
            "text/html": [
              "\n",
              "  <div id=\"df-51711114-9fd5-4c7b-8293-f60f233218f1\">\n",
              "    <div class=\"colab-df-container\">\n",
              "      <div>\n",
              "<style scoped>\n",
              "    .dataframe tbody tr th:only-of-type {\n",
              "        vertical-align: middle;\n",
              "    }\n",
              "\n",
              "    .dataframe tbody tr th {\n",
              "        vertical-align: top;\n",
              "    }\n",
              "\n",
              "    .dataframe thead th {\n",
              "        text-align: right;\n",
              "    }\n",
              "</style>\n",
              "<table border=\"1\" class=\"dataframe\">\n",
              "  <thead>\n",
              "    <tr style=\"text-align: right;\">\n",
              "      <th></th>\n",
              "      <th>and</th>\n",
              "      <th>beautiful</th>\n",
              "      <th>blue</th>\n",
              "      <th>cheese</th>\n",
              "      <th>is</th>\n",
              "      <th>love</th>\n",
              "      <th>sky</th>\n",
              "      <th>so</th>\n",
              "      <th>the</th>\n",
              "    </tr>\n",
              "  </thead>\n",
              "  <tbody>\n",
              "    <tr>\n",
              "      <th>the sky is blue</th>\n",
              "      <td>0</td>\n",
              "      <td>0</td>\n",
              "      <td>1</td>\n",
              "      <td>0</td>\n",
              "      <td>1</td>\n",
              "      <td>0</td>\n",
              "      <td>1</td>\n",
              "      <td>0</td>\n",
              "      <td>1</td>\n",
              "    </tr>\n",
              "    <tr>\n",
              "      <th>sky is blue and sky is beautiful</th>\n",
              "      <td>1</td>\n",
              "      <td>1</td>\n",
              "      <td>1</td>\n",
              "      <td>0</td>\n",
              "      <td>2</td>\n",
              "      <td>0</td>\n",
              "      <td>2</td>\n",
              "      <td>0</td>\n",
              "      <td>0</td>\n",
              "    </tr>\n",
              "    <tr>\n",
              "      <th>the beautiful sky is so blue</th>\n",
              "      <td>0</td>\n",
              "      <td>1</td>\n",
              "      <td>1</td>\n",
              "      <td>0</td>\n",
              "      <td>1</td>\n",
              "      <td>0</td>\n",
              "      <td>1</td>\n",
              "      <td>1</td>\n",
              "      <td>1</td>\n",
              "    </tr>\n",
              "    <tr>\n",
              "      <th>i love blue cheese</th>\n",
              "      <td>0</td>\n",
              "      <td>0</td>\n",
              "      <td>1</td>\n",
              "      <td>1</td>\n",
              "      <td>0</td>\n",
              "      <td>1</td>\n",
              "      <td>0</td>\n",
              "      <td>0</td>\n",
              "      <td>0</td>\n",
              "    </tr>\n",
              "  </tbody>\n",
              "</table>\n",
              "</div>\n",
              "      <button class=\"colab-df-convert\" onclick=\"convertToInteractive('df-51711114-9fd5-4c7b-8293-f60f233218f1')\"\n",
              "              title=\"Convert this dataframe to an interactive table.\"\n",
              "              style=\"display:none;\">\n",
              "        \n",
              "  <svg xmlns=\"http://www.w3.org/2000/svg\" height=\"24px\"viewBox=\"0 0 24 24\"\n",
              "       width=\"24px\">\n",
              "    <path d=\"M0 0h24v24H0V0z\" fill=\"none\"/>\n",
              "    <path d=\"M18.56 5.44l.94 2.06.94-2.06 2.06-.94-2.06-.94-.94-2.06-.94 2.06-2.06.94zm-11 1L8.5 8.5l.94-2.06 2.06-.94-2.06-.94L8.5 2.5l-.94 2.06-2.06.94zm10 10l.94 2.06.94-2.06 2.06-.94-2.06-.94-.94-2.06-.94 2.06-2.06.94z\"/><path d=\"M17.41 7.96l-1.37-1.37c-.4-.4-.92-.59-1.43-.59-.52 0-1.04.2-1.43.59L10.3 9.45l-7.72 7.72c-.78.78-.78 2.05 0 2.83L4 21.41c.39.39.9.59 1.41.59.51 0 1.02-.2 1.41-.59l7.78-7.78 2.81-2.81c.8-.78.8-2.07 0-2.86zM5.41 20L4 18.59l7.72-7.72 1.47 1.35L5.41 20z\"/>\n",
              "  </svg>\n",
              "      </button>\n",
              "      \n",
              "  <style>\n",
              "    .colab-df-container {\n",
              "      display:flex;\n",
              "      flex-wrap:wrap;\n",
              "      gap: 12px;\n",
              "    }\n",
              "\n",
              "    .colab-df-convert {\n",
              "      background-color: #E8F0FE;\n",
              "      border: none;\n",
              "      border-radius: 50%;\n",
              "      cursor: pointer;\n",
              "      display: none;\n",
              "      fill: #1967D2;\n",
              "      height: 32px;\n",
              "      padding: 0 0 0 0;\n",
              "      width: 32px;\n",
              "    }\n",
              "\n",
              "    .colab-df-convert:hover {\n",
              "      background-color: #E2EBFA;\n",
              "      box-shadow: 0px 1px 2px rgba(60, 64, 67, 0.3), 0px 1px 3px 1px rgba(60, 64, 67, 0.15);\n",
              "      fill: #174EA6;\n",
              "    }\n",
              "\n",
              "    [theme=dark] .colab-df-convert {\n",
              "      background-color: #3B4455;\n",
              "      fill: #D2E3FC;\n",
              "    }\n",
              "\n",
              "    [theme=dark] .colab-df-convert:hover {\n",
              "      background-color: #434B5C;\n",
              "      box-shadow: 0px 1px 3px 1px rgba(0, 0, 0, 0.15);\n",
              "      filter: drop-shadow(0px 1px 2px rgba(0, 0, 0, 0.3));\n",
              "      fill: #FFFFFF;\n",
              "    }\n",
              "  </style>\n",
              "\n",
              "      <script>\n",
              "        const buttonEl =\n",
              "          document.querySelector('#df-51711114-9fd5-4c7b-8293-f60f233218f1 button.colab-df-convert');\n",
              "        buttonEl.style.display =\n",
              "          google.colab.kernel.accessAllowed ? 'block' : 'none';\n",
              "\n",
              "        async function convertToInteractive(key) {\n",
              "          const element = document.querySelector('#df-51711114-9fd5-4c7b-8293-f60f233218f1');\n",
              "          const dataTable =\n",
              "            await google.colab.kernel.invokeFunction('convertToInteractive',\n",
              "                                                     [key], {});\n",
              "          if (!dataTable) return;\n",
              "\n",
              "          const docLinkHtml = 'Like what you see? Visit the ' +\n",
              "            '<a target=\"_blank\" href=https://colab.research.google.com/notebooks/data_table.ipynb>data table notebook</a>'\n",
              "            + ' to learn more about interactive tables.';\n",
              "          element.innerHTML = '';\n",
              "          dataTable['output_type'] = 'display_data';\n",
              "          await google.colab.output.renderOutput(dataTable, element);\n",
              "          const docLink = document.createElement('div');\n",
              "          docLink.innerHTML = docLinkHtml;\n",
              "          element.appendChild(docLink);\n",
              "        }\n",
              "      </script>\n",
              "    </div>\n",
              "  </div>\n",
              "  "
            ]
          },
          "metadata": {},
          "execution_count": 88
        }
      ],
      "source": [
        "pd.DataFrame(dtm.toarray(), index=docs, columns=vect.get_feature_names())"
      ]
    },
    {
      "cell_type": "markdown",
      "metadata": {
        "id": "SoJFPERf9IO6"
      },
      "source": [
        "As we can see, the matrix indicates for each document the number of occurrencies of each word"
      ]
    },
    {
      "cell_type": "markdown",
      "metadata": {
        "id": "BRH85pEK9IO6"
      },
      "source": [
        "Using the `transform` method, we can represent further documents in the same vector space"
      ]
    },
    {
      "cell_type": "code",
      "execution_count": null,
      "metadata": {
        "id": "MNvHGGTU9IO6"
      },
      "outputs": [],
      "source": [
        "new_docs = [\"loving this blue sky today\"]\n",
        "new_dtm = vect.transform(new_docs)"
      ]
    },
    {
      "cell_type": "code",
      "execution_count": null,
      "metadata": {
        "colab": {
          "base_uri": "https://localhost:8080/",
          "height": 135
        },
        "id": "k3ZWv5yl9IO7",
        "outputId": "ca5de81d-ef97-4bcc-973b-a5aa93fc2821"
      },
      "outputs": [
        {
          "output_type": "stream",
          "name": "stderr",
          "text": [
            "/usr/local/lib/python3.7/dist-packages/sklearn/utils/deprecation.py:87: FutureWarning: Function get_feature_names is deprecated; get_feature_names is deprecated in 1.0 and will be removed in 1.2. Please use get_feature_names_out instead.\n",
            "  warnings.warn(msg, category=FutureWarning)\n"
          ]
        },
        {
          "output_type": "execute_result",
          "data": {
            "text/plain": [
              "                            and  beautiful  blue  cheese  is  love  sky  so  \\\n",
              "loving this blue sky today    0          0     1       0   0     0    1   0   \n",
              "\n",
              "                            the  \n",
              "loving this blue sky today    0  "
            ],
            "text/html": [
              "\n",
              "  <div id=\"df-e02da751-8ec3-419c-a666-a355875b313e\">\n",
              "    <div class=\"colab-df-container\">\n",
              "      <div>\n",
              "<style scoped>\n",
              "    .dataframe tbody tr th:only-of-type {\n",
              "        vertical-align: middle;\n",
              "    }\n",
              "\n",
              "    .dataframe tbody tr th {\n",
              "        vertical-align: top;\n",
              "    }\n",
              "\n",
              "    .dataframe thead th {\n",
              "        text-align: right;\n",
              "    }\n",
              "</style>\n",
              "<table border=\"1\" class=\"dataframe\">\n",
              "  <thead>\n",
              "    <tr style=\"text-align: right;\">\n",
              "      <th></th>\n",
              "      <th>and</th>\n",
              "      <th>beautiful</th>\n",
              "      <th>blue</th>\n",
              "      <th>cheese</th>\n",
              "      <th>is</th>\n",
              "      <th>love</th>\n",
              "      <th>sky</th>\n",
              "      <th>so</th>\n",
              "      <th>the</th>\n",
              "    </tr>\n",
              "  </thead>\n",
              "  <tbody>\n",
              "    <tr>\n",
              "      <th>loving this blue sky today</th>\n",
              "      <td>0</td>\n",
              "      <td>0</td>\n",
              "      <td>1</td>\n",
              "      <td>0</td>\n",
              "      <td>0</td>\n",
              "      <td>0</td>\n",
              "      <td>1</td>\n",
              "      <td>0</td>\n",
              "      <td>0</td>\n",
              "    </tr>\n",
              "  </tbody>\n",
              "</table>\n",
              "</div>\n",
              "      <button class=\"colab-df-convert\" onclick=\"convertToInteractive('df-e02da751-8ec3-419c-a666-a355875b313e')\"\n",
              "              title=\"Convert this dataframe to an interactive table.\"\n",
              "              style=\"display:none;\">\n",
              "        \n",
              "  <svg xmlns=\"http://www.w3.org/2000/svg\" height=\"24px\"viewBox=\"0 0 24 24\"\n",
              "       width=\"24px\">\n",
              "    <path d=\"M0 0h24v24H0V0z\" fill=\"none\"/>\n",
              "    <path d=\"M18.56 5.44l.94 2.06.94-2.06 2.06-.94-2.06-.94-.94-2.06-.94 2.06-2.06.94zm-11 1L8.5 8.5l.94-2.06 2.06-.94-2.06-.94L8.5 2.5l-.94 2.06-2.06.94zm10 10l.94 2.06.94-2.06 2.06-.94-2.06-.94-.94-2.06-.94 2.06-2.06.94z\"/><path d=\"M17.41 7.96l-1.37-1.37c-.4-.4-.92-.59-1.43-.59-.52 0-1.04.2-1.43.59L10.3 9.45l-7.72 7.72c-.78.78-.78 2.05 0 2.83L4 21.41c.39.39.9.59 1.41.59.51 0 1.02-.2 1.41-.59l7.78-7.78 2.81-2.81c.8-.78.8-2.07 0-2.86zM5.41 20L4 18.59l7.72-7.72 1.47 1.35L5.41 20z\"/>\n",
              "  </svg>\n",
              "      </button>\n",
              "      \n",
              "  <style>\n",
              "    .colab-df-container {\n",
              "      display:flex;\n",
              "      flex-wrap:wrap;\n",
              "      gap: 12px;\n",
              "    }\n",
              "\n",
              "    .colab-df-convert {\n",
              "      background-color: #E8F0FE;\n",
              "      border: none;\n",
              "      border-radius: 50%;\n",
              "      cursor: pointer;\n",
              "      display: none;\n",
              "      fill: #1967D2;\n",
              "      height: 32px;\n",
              "      padding: 0 0 0 0;\n",
              "      width: 32px;\n",
              "    }\n",
              "\n",
              "    .colab-df-convert:hover {\n",
              "      background-color: #E2EBFA;\n",
              "      box-shadow: 0px 1px 2px rgba(60, 64, 67, 0.3), 0px 1px 3px 1px rgba(60, 64, 67, 0.15);\n",
              "      fill: #174EA6;\n",
              "    }\n",
              "\n",
              "    [theme=dark] .colab-df-convert {\n",
              "      background-color: #3B4455;\n",
              "      fill: #D2E3FC;\n",
              "    }\n",
              "\n",
              "    [theme=dark] .colab-df-convert:hover {\n",
              "      background-color: #434B5C;\n",
              "      box-shadow: 0px 1px 3px 1px rgba(0, 0, 0, 0.15);\n",
              "      filter: drop-shadow(0px 1px 2px rgba(0, 0, 0, 0.3));\n",
              "      fill: #FFFFFF;\n",
              "    }\n",
              "  </style>\n",
              "\n",
              "      <script>\n",
              "        const buttonEl =\n",
              "          document.querySelector('#df-e02da751-8ec3-419c-a666-a355875b313e button.colab-df-convert');\n",
              "        buttonEl.style.display =\n",
              "          google.colab.kernel.accessAllowed ? 'block' : 'none';\n",
              "\n",
              "        async function convertToInteractive(key) {\n",
              "          const element = document.querySelector('#df-e02da751-8ec3-419c-a666-a355875b313e');\n",
              "          const dataTable =\n",
              "            await google.colab.kernel.invokeFunction('convertToInteractive',\n",
              "                                                     [key], {});\n",
              "          if (!dataTable) return;\n",
              "\n",
              "          const docLinkHtml = 'Like what you see? Visit the ' +\n",
              "            '<a target=\"_blank\" href=https://colab.research.google.com/notebooks/data_table.ipynb>data table notebook</a>'\n",
              "            + ' to learn more about interactive tables.';\n",
              "          element.innerHTML = '';\n",
              "          dataTable['output_type'] = 'display_data';\n",
              "          await google.colab.output.renderOutput(dataTable, element);\n",
              "          const docLink = document.createElement('div');\n",
              "          docLink.innerHTML = docLinkHtml;\n",
              "          element.appendChild(docLink);\n",
              "        }\n",
              "      </script>\n",
              "    </div>\n",
              "  </div>\n",
              "  "
            ]
          },
          "metadata": {},
          "execution_count": 90
        }
      ],
      "source": [
        "pd.DataFrame(new_dtm.toarray(), index=new_docs, columns=vect.get_feature_names())"
      ]
    },
    {
      "cell_type": "markdown",
      "metadata": {
        "id": "pdXF5wcL9IO-"
      },
      "source": [
        "Notice that some words of the new document (e.g. \"loving\") are lost in the representation, because they are not known in the vector space, but this is generally a minor problem if the vector space is built on many documents"
      ]
    },
    {
      "cell_type": "markdown",
      "metadata": {
        "id": "gEB3lHRu9IO_"
      },
      "source": [
        "### Training a classifier\n",
        "\n",
        "We use the vector space model to represent reviews passed to a classifier: let's create a new vector space..."
      ]
    },
    {
      "cell_type": "code",
      "execution_count": null,
      "metadata": {
        "id": "AaeFZphn9IPA"
      },
      "outputs": [],
      "source": [
        "vect = CountVectorizer()"
      ]
    },
    {
      "cell_type": "markdown",
      "metadata": {
        "id": "sxVsu06v9IPB"
      },
      "source": [
        "...and fit it to reviews of the training set only (as we assume to _not_ know in advance documents of the test set), obtaining the document-term matrix representing them"
      ]
    },
    {
      "cell_type": "code",
      "execution_count": null,
      "metadata": {
        "id": "IJ19rE7L9IPB"
      },
      "outputs": [],
      "source": [
        "dtm_train = vect.fit_transform(reviews_train.text)"
      ]
    },
    {
      "cell_type": "markdown",
      "metadata": {
        "id": "EvHsj5Jh9IPC"
      },
      "source": [
        "We can get the total count of extracted feature words..."
      ]
    },
    {
      "cell_type": "code",
      "execution_count": null,
      "metadata": {
        "colab": {
          "base_uri": "https://localhost:8080/"
        },
        "id": "xUqEZwSn9IPC",
        "outputId": "8e56c1ed-56bc-4950-9e44-e66cb4b4c616"
      },
      "outputs": [
        {
          "output_type": "stream",
          "name": "stderr",
          "text": [
            "/usr/local/lib/python3.7/dist-packages/sklearn/utils/deprecation.py:87: FutureWarning: Function get_feature_names is deprecated; get_feature_names is deprecated in 1.0 and will be removed in 1.2. Please use get_feature_names_out instead.\n",
            "  warnings.warn(msg, category=FutureWarning)\n"
          ]
        },
        {
          "output_type": "execute_result",
          "data": {
            "text/plain": [
              "36272"
            ]
          },
          "metadata": {},
          "execution_count": 93
        }
      ],
      "source": [
        "len(vect.get_feature_names())"
      ]
    },
    {
      "cell_type": "markdown",
      "metadata": {
        "id": "Ao9puiLl9IPD"
      },
      "source": [
        "...and see some of them (they are in alphabetical order)"
      ]
    },
    {
      "cell_type": "code",
      "execution_count": null,
      "metadata": {
        "colab": {
          "base_uri": "https://localhost:8080/"
        },
        "id": "z8nvNkQL9IPD",
        "outputId": "f4d2970a-9db2-4016-ad84-192c54a12a3e"
      },
      "outputs": [
        {
          "output_type": "stream",
          "name": "stderr",
          "text": [
            "/usr/local/lib/python3.7/dist-packages/sklearn/utils/deprecation.py:87: FutureWarning: Function get_feature_names is deprecated; get_feature_names is deprecated in 1.0 and will be removed in 1.2. Please use get_feature_names_out instead.\n",
            "  warnings.warn(msg, category=FutureWarning)\n"
          ]
        },
        {
          "output_type": "execute_result",
          "data": {
            "text/plain": [
              "['affections', 'affects', 'afficinados', 'affiliated', 'affiliation']"
            ]
          },
          "metadata": {},
          "execution_count": 94
        }
      ],
      "source": [
        "vect.get_feature_names()[1000:1005]"
      ]
    },
    {
      "cell_type": "markdown",
      "metadata": {
        "id": "HEbpXAp49IPE"
      },
      "source": [
        "The document-term matrix is _sparse_, meaning that most of its elements are zero. We can verify the ratio of non-zero elements by converting them to booleans and computing the mean value (all non-zero values become 1)"
      ]
    },
    {
      "cell_type": "code",
      "execution_count": null,
      "metadata": {
        "colab": {
          "base_uri": "https://localhost:8080/"
        },
        "id": "nQ4TYTLb9IPE",
        "outputId": "96ff38b1-c554-419b-a5c6-15f9b9c7be34"
      },
      "outputs": [
        {
          "output_type": "execute_result",
          "data": {
            "text/plain": [
              "0.0037657973092192322"
            ]
          },
          "metadata": {},
          "execution_count": 95
        }
      ],
      "source": [
        "dtm_train.astype(bool).mean()"
      ]
    },
    {
      "cell_type": "markdown",
      "metadata": {
        "id": "E-5Ij_zz9IPF"
      },
      "source": [
        "Such matrix is represented in memory with a space-efficient data structure which explicitly stores non-zero values only"
      ]
    },
    {
      "cell_type": "markdown",
      "metadata": {
        "id": "4MtpO5hF9IPF"
      },
      "source": [
        "Now we can train any classification model on the generated vectors: let's use for example logistic regression, SVM and some bayesian models.\n",
        "\n",
        "As for the vectorizer, we first create the \"empty\" model..."
      ]
    },
    {
      "cell_type": "code",
      "execution_count": null,
      "metadata": {
        "id": "UV3gt-5wxKxW"
      },
      "outputs": [],
      "source": [
        "from sklearn.naive_bayes import MultinomialNB\n",
        "model = MultinomialNB() # Naive Bayes classifier for multinomial models"
      ]
    },
    {
      "cell_type": "markdown",
      "metadata": {
        "id": "aDV_JuKf-ieE"
      },
      "source": [
        "The multinomial Naive Bayes classifier is suitable for classification with discrete features (e.g., word counts for text classification). The multinomial distribution normally requires integer feature counts. However, in practice, fractional counts such as tf-idf may also work."
      ]
    },
    {
      "cell_type": "code",
      "execution_count": null,
      "metadata": {
        "id": "Hd6GUeZ6yEno"
      },
      "outputs": [],
      "source": [
        "from sklearn.naive_bayes import BernoulliNB # Naive Bayes classifier for multivariate Bernoulli models.\n",
        "# The default parameter named \"binarize\" will transform each input vector in a\n",
        "# binary vector based on the specified threshold (0.0)\n",
        "model = BernoulliNB(binarize=0.0) # if input > 0.0 then 1 else 0"
      ]
    },
    {
      "cell_type": "markdown",
      "metadata": {
        "id": "gxyakhXB4z-v"
      },
      "source": [
        "Like MultinomialNB, this classifier is suitable for discrete data but it usually works better with few features and **short docs**. \n",
        "Indeed, this latter Naive Bayes model will perform better (Accuracy: $\\approx$ 77% vs $\\approx$ 81%) than the multinomial version since we are dealing with short texts.\n",
        "\n",
        "The difference is that while MultinomialNB works better with occurrence counts, BernoulliNB is designed for binary/boolean features! Since we have the frequency count for each term, we have to convert it into a binary variable but the BernoulliNB implementation already do this mapping!"
      ]
    },
    {
      "cell_type": "code",
      "execution_count": null,
      "metadata": {
        "id": "0rNKFlWZ09Ko"
      },
      "outputs": [],
      "source": [
        "from sklearn.svm import SVC\n",
        "model = SVC() # default kernel is set to RBF"
      ]
    },
    {
      "cell_type": "code",
      "execution_count": null,
      "metadata": {
        "id": "2dY6AnK61uJ6"
      },
      "outputs": [],
      "source": [
        "from sklearn.svm import LinearSVC\n",
        "model = LinearSVC(max_iter = 5000) # max_iter param represents the maximum number of iterations performed by the optimization algorithm used to train the model by the sklearn library"
      ]
    },
    {
      "cell_type": "markdown",
      "metadata": {
        "id": "BYCAZu2v4C1L"
      },
      "source": [
        "SVM generally does just as well on textual data without using kernels because the multidimensional space is so vast that the probability of finding a separation hyperplane is similar to that of finding a nonlinear separation.\n",
        "In other words you can notice that with or without a kernel the result does not change significantly."
      ]
    },
    {
      "cell_type": "markdown",
      "metadata": {
        "id": "Vc_lVIQnAS-A"
      },
      "source": [
        "Let's go on creating a logistic regression model..."
      ]
    },
    {
      "cell_type": "code",
      "execution_count": null,
      "metadata": {
        "id": "1jtFH7fT9IPF"
      },
      "outputs": [],
      "source": [
        "from sklearn.linear_model import LogisticRegression\n",
        "model = LogisticRegression(solver=\"liblinear\") # liblinear is an optimization algorithm recommended for small volume (small number of rows) and high dimension (high number of columns) datasets"
      ]
    },
    {
      "cell_type": "markdown",
      "metadata": {
        "id": "-8die02Q9IPH"
      },
      "source": [
        "...then we fit it to the training set, passing the vector representation of the reviews along with their actual labels"
      ]
    },
    {
      "cell_type": "code",
      "execution_count": null,
      "metadata": {
        "colab": {
          "base_uri": "https://localhost:8080/"
        },
        "id": "4yda-8J79IPH",
        "outputId": "af3452ed-8a44-42f9-ab26-37e2a3dbf0c3"
      },
      "outputs": [
        {
          "output_type": "execute_result",
          "data": {
            "text/plain": [
              "LogisticRegression(solver='liblinear')"
            ]
          },
          "metadata": {},
          "execution_count": 101
        }
      ],
      "source": [
        "model.fit(dtm_train, reviews_train.label)"
      ]
    },
    {
      "cell_type": "markdown",
      "metadata": {
        "id": "_TiT04TP9IPI"
      },
      "source": [
        "### Using the classifier\n",
        "\n",
        "Once the classifier is trained, we can use it to estimate labels for further reviews"
      ]
    },
    {
      "cell_type": "code",
      "execution_count": null,
      "metadata": {
        "id": "quyMXP829IPI"
      },
      "outputs": [],
      "source": [
        "new_reviews = [\"What an awesome movie!\", \"It was really boring\"]"
      ]
    },
    {
      "cell_type": "markdown",
      "metadata": {
        "id": "aN_eCM4V9IPI"
      },
      "source": [
        "We first have to use the vectorizer to extract their representation in the vector space..."
      ]
    },
    {
      "cell_type": "code",
      "execution_count": null,
      "metadata": {
        "id": "TImYsSgC9IPJ"
      },
      "outputs": [],
      "source": [
        "dtm_new = vect.transform(new_reviews)"
      ]
    },
    {
      "cell_type": "markdown",
      "metadata": {
        "id": "b1JhS_eH9IPJ"
      },
      "source": [
        "...then we use the `predict` method of the model to get corresponding predicted labels"
      ]
    },
    {
      "cell_type": "code",
      "execution_count": null,
      "metadata": {
        "colab": {
          "base_uri": "https://localhost:8080/"
        },
        "id": "uH3B9x-A9IPJ",
        "outputId": "16951d8b-abe7-4b60-fd44-4e8c40f742ba"
      },
      "outputs": [
        {
          "output_type": "execute_result",
          "data": {
            "text/plain": [
              "array(['pos', 'neg'], dtype=object)"
            ]
          },
          "metadata": {},
          "execution_count": 104
        }
      ],
      "source": [
        "model.predict(dtm_new)"
      ]
    },
    {
      "cell_type": "markdown",
      "metadata": {
        "id": "s1XAeXqW9IPK"
      },
      "source": [
        "### Evaluating the classifier\n",
        "\n",
        "We can evaluate the goodness of the classifier by getting predicted labels for reviews in the test set and comparing them with known actual labels\n",
        "\n",
        "Given data and actual labels of the test set, the `score` method of the model computes the _accuracy_ as the ratio of test reviews for which classification is correct\n",
        "\n",
        "We first obtain the document-term matrix for the test set..."
      ]
    },
    {
      "cell_type": "code",
      "execution_count": null,
      "metadata": {
        "id": "5t3vPmrv9IPK"
      },
      "outputs": [],
      "source": [
        "dtm_test = vect.transform(reviews_test.text)"
      ]
    },
    {
      "cell_type": "markdown",
      "metadata": {
        "id": "8p-rRVcK9IPM"
      },
      "source": [
        "...then we call the `score` method on it and on the known labels"
      ]
    },
    {
      "cell_type": "code",
      "execution_count": null,
      "metadata": {
        "colab": {
          "base_uri": "https://localhost:8080/"
        },
        "id": "lUGulqIl9IPM",
        "outputId": "c7bf5fa3-e49c-482e-9c86-a1eb36895495"
      },
      "outputs": [
        {
          "output_type": "execute_result",
          "data": {
            "text/plain": [
              "0.8188"
            ]
          },
          "metadata": {},
          "execution_count": 106
        }
      ],
      "source": [
        "model.score(dtm_test, reviews_test.label) # classification accuracy"
      ]
    },
    {
      "cell_type": "markdown",
      "metadata": {
        "id": "7rSJPrJY9IPN"
      },
      "source": [
        "### Creating a pipeline\n",
        "\n",
        "In all the operations above (training, predicting, evaluating) we had to manually convert text reviews into their vector representations before passing them to the model\n",
        "\n",
        "scikit-learn allows to create _pipelines_, which combine a prediction model with a sequence of one or more pre-processing steps into a single object\n",
        "\n",
        "We first create the pipeline by specifying its components, in this case the vectorizer and the actual classifier; each component has a name, allowing it to be referenced after creation"
      ]
    },
    {
      "cell_type": "code",
      "execution_count": null,
      "metadata": {
        "id": "vGRxjDKU9IPO"
      },
      "outputs": [],
      "source": [
        "from sklearn.pipeline import Pipeline\n",
        "model = Pipeline([\n",
        "    (\"vectorizer\", CountVectorizer()), # Step 1\n",
        "    (\"classifier\", LogisticRegression(max_iter=500)) # Step 2\n",
        "])"
      ]
    },
    {
      "cell_type": "markdown",
      "metadata": {
        "id": "eS6yzG6m9IPO"
      },
      "source": [
        "Now, we can use the pipeline as we used the model above, but passing directly the text of reviews, as the vectorizer is 1) automatically fit to reviews used to fit the model and 2) used to transform all reviews passed to the classifier"
      ]
    },
    {
      "cell_type": "code",
      "execution_count": null,
      "metadata": {
        "id": "WXol6wfi9IPP"
      },
      "outputs": [],
      "source": [
        "model.fit(reviews_train.text, reviews_train.label);\n",
        "# \";\" is used to suppress output"
      ]
    },
    {
      "cell_type": "code",
      "execution_count": null,
      "metadata": {
        "colab": {
          "base_uri": "https://localhost:8080/"
        },
        "id": "3U9h8m8L9IPP",
        "outputId": "5e34d22f-c46c-4ad7-d560-eff0ca4f074d"
      },
      "outputs": [
        {
          "output_type": "execute_result",
          "data": {
            "text/plain": [
              "array(['pos', 'neg'], dtype=object)"
            ]
          },
          "metadata": {},
          "execution_count": 118
        }
      ],
      "source": [
        "model.predict(new_reviews)"
      ]
    },
    {
      "cell_type": "code",
      "execution_count": null,
      "metadata": {
        "colab": {
          "base_uri": "https://localhost:8080/"
        },
        "id": "1EYlXN3g9IPQ",
        "outputId": "266de719-57f7-42a9-8de9-98363b7ff5c4"
      },
      "outputs": [
        {
          "output_type": "execute_result",
          "data": {
            "text/plain": [
              "0.8186"
            ]
          },
          "metadata": {},
          "execution_count": 119
        }
      ],
      "source": [
        "model.score(reviews_test.text, reviews_test.label)"
      ]
    },
    {
      "cell_type": "markdown",
      "metadata": {
        "id": "9L8flQBB9IPS"
      },
      "source": [
        "We obtain the same result as above, but with cleaner code"
      ]
    },
    {
      "cell_type": "markdown",
      "metadata": {
        "id": "c_s0lFHW9IPS"
      },
      "source": [
        "### Applying tf.idf term weighting\n",
        "\n",
        "The `CountVectorizer` generates vectors with simple counts of occurrencies of terms within a document, without considering the relative importance of such terms with respect to each other\n",
        "\n",
        "The _tf.idf_ term weighting scheme uses a formula with two factors to better evaluate the weight of each term in each document\n",
        "\n",
        "- The _tf_ factor evaluates the _local_ importance of a term in a document: it is usually the usual count of occurrencies of the term (or its logarithm)\n",
        "- The _idf_ factor evaluates the _global_ importance of a term in the set of documents: it is higher for terms appearing in fewer documents, as they are supposed to be more specific\n",
        "\n",
        "In order to use tf.idf in place of raw counts of occurrencies, we simply use `TfidfVectorizer` in place of `CountVectorizer`"
      ]
    },
    {
      "cell_type": "markdown",
      "metadata": {
        "id": "dTWh-mql9IPS"
      },
      "source": [
        "Let's see for example the tf.idf applied to example documents used above..."
      ]
    },
    {
      "cell_type": "code",
      "execution_count": null,
      "metadata": {
        "colab": {
          "base_uri": "https://localhost:8080/",
          "height": 229
        },
        "id": "1adRlwwO9IPS",
        "outputId": "ee15f871-aa62-4ef8-a832-c170019afa42"
      },
      "outputs": [
        {
          "output_type": "stream",
          "name": "stderr",
          "text": [
            "/usr/local/lib/python3.7/dist-packages/sklearn/utils/deprecation.py:87: FutureWarning: Function get_feature_names is deprecated; get_feature_names is deprecated in 1.0 and will be removed in 1.2. Please use get_feature_names_out instead.\n",
            "  warnings.warn(msg, category=FutureWarning)\n"
          ]
        },
        {
          "output_type": "execute_result",
          "data": {
            "text/plain": [
              "                                    and  beautiful   blue  cheese     is  \\\n",
              "the sky is blue                   0.000      0.000  0.399   0.000  0.488   \n",
              "sky is blue and sky is beautiful  0.441      0.347  0.230   0.000  0.562   \n",
              "the beautiful sky is so blue      0.000      0.432  0.286   0.000  0.350   \n",
              "i love blue cheese                0.000      0.000  0.346   0.663  0.000   \n",
              "\n",
              "                                   love    sky     so    the  \n",
              "the sky is blue                   0.000  0.488  0.000  0.603  \n",
              "sky is blue and sky is beautiful  0.000  0.562  0.000  0.000  \n",
              "the beautiful sky is so blue      0.000  0.350  0.548  0.432  \n",
              "i love blue cheese                0.663  0.000  0.000  0.000  "
            ],
            "text/html": [
              "\n",
              "  <div id=\"df-c2066fae-da1c-4899-a70b-5dd4afdbd174\">\n",
              "    <div class=\"colab-df-container\">\n",
              "      <div>\n",
              "<style scoped>\n",
              "    .dataframe tbody tr th:only-of-type {\n",
              "        vertical-align: middle;\n",
              "    }\n",
              "\n",
              "    .dataframe tbody tr th {\n",
              "        vertical-align: top;\n",
              "    }\n",
              "\n",
              "    .dataframe thead th {\n",
              "        text-align: right;\n",
              "    }\n",
              "</style>\n",
              "<table border=\"1\" class=\"dataframe\">\n",
              "  <thead>\n",
              "    <tr style=\"text-align: right;\">\n",
              "      <th></th>\n",
              "      <th>and</th>\n",
              "      <th>beautiful</th>\n",
              "      <th>blue</th>\n",
              "      <th>cheese</th>\n",
              "      <th>is</th>\n",
              "      <th>love</th>\n",
              "      <th>sky</th>\n",
              "      <th>so</th>\n",
              "      <th>the</th>\n",
              "    </tr>\n",
              "  </thead>\n",
              "  <tbody>\n",
              "    <tr>\n",
              "      <th>the sky is blue</th>\n",
              "      <td>0.000</td>\n",
              "      <td>0.000</td>\n",
              "      <td>0.399</td>\n",
              "      <td>0.000</td>\n",
              "      <td>0.488</td>\n",
              "      <td>0.000</td>\n",
              "      <td>0.488</td>\n",
              "      <td>0.000</td>\n",
              "      <td>0.603</td>\n",
              "    </tr>\n",
              "    <tr>\n",
              "      <th>sky is blue and sky is beautiful</th>\n",
              "      <td>0.441</td>\n",
              "      <td>0.347</td>\n",
              "      <td>0.230</td>\n",
              "      <td>0.000</td>\n",
              "      <td>0.562</td>\n",
              "      <td>0.000</td>\n",
              "      <td>0.562</td>\n",
              "      <td>0.000</td>\n",
              "      <td>0.000</td>\n",
              "    </tr>\n",
              "    <tr>\n",
              "      <th>the beautiful sky is so blue</th>\n",
              "      <td>0.000</td>\n",
              "      <td>0.432</td>\n",
              "      <td>0.286</td>\n",
              "      <td>0.000</td>\n",
              "      <td>0.350</td>\n",
              "      <td>0.000</td>\n",
              "      <td>0.350</td>\n",
              "      <td>0.548</td>\n",
              "      <td>0.432</td>\n",
              "    </tr>\n",
              "    <tr>\n",
              "      <th>i love blue cheese</th>\n",
              "      <td>0.000</td>\n",
              "      <td>0.000</td>\n",
              "      <td>0.346</td>\n",
              "      <td>0.663</td>\n",
              "      <td>0.000</td>\n",
              "      <td>0.663</td>\n",
              "      <td>0.000</td>\n",
              "      <td>0.000</td>\n",
              "      <td>0.000</td>\n",
              "    </tr>\n",
              "  </tbody>\n",
              "</table>\n",
              "</div>\n",
              "      <button class=\"colab-df-convert\" onclick=\"convertToInteractive('df-c2066fae-da1c-4899-a70b-5dd4afdbd174')\"\n",
              "              title=\"Convert this dataframe to an interactive table.\"\n",
              "              style=\"display:none;\">\n",
              "        \n",
              "  <svg xmlns=\"http://www.w3.org/2000/svg\" height=\"24px\"viewBox=\"0 0 24 24\"\n",
              "       width=\"24px\">\n",
              "    <path d=\"M0 0h24v24H0V0z\" fill=\"none\"/>\n",
              "    <path d=\"M18.56 5.44l.94 2.06.94-2.06 2.06-.94-2.06-.94-.94-2.06-.94 2.06-2.06.94zm-11 1L8.5 8.5l.94-2.06 2.06-.94-2.06-.94L8.5 2.5l-.94 2.06-2.06.94zm10 10l.94 2.06.94-2.06 2.06-.94-2.06-.94-.94-2.06-.94 2.06-2.06.94z\"/><path d=\"M17.41 7.96l-1.37-1.37c-.4-.4-.92-.59-1.43-.59-.52 0-1.04.2-1.43.59L10.3 9.45l-7.72 7.72c-.78.78-.78 2.05 0 2.83L4 21.41c.39.39.9.59 1.41.59.51 0 1.02-.2 1.41-.59l7.78-7.78 2.81-2.81c.8-.78.8-2.07 0-2.86zM5.41 20L4 18.59l7.72-7.72 1.47 1.35L5.41 20z\"/>\n",
              "  </svg>\n",
              "      </button>\n",
              "      \n",
              "  <style>\n",
              "    .colab-df-container {\n",
              "      display:flex;\n",
              "      flex-wrap:wrap;\n",
              "      gap: 12px;\n",
              "    }\n",
              "\n",
              "    .colab-df-convert {\n",
              "      background-color: #E8F0FE;\n",
              "      border: none;\n",
              "      border-radius: 50%;\n",
              "      cursor: pointer;\n",
              "      display: none;\n",
              "      fill: #1967D2;\n",
              "      height: 32px;\n",
              "      padding: 0 0 0 0;\n",
              "      width: 32px;\n",
              "    }\n",
              "\n",
              "    .colab-df-convert:hover {\n",
              "      background-color: #E2EBFA;\n",
              "      box-shadow: 0px 1px 2px rgba(60, 64, 67, 0.3), 0px 1px 3px 1px rgba(60, 64, 67, 0.15);\n",
              "      fill: #174EA6;\n",
              "    }\n",
              "\n",
              "    [theme=dark] .colab-df-convert {\n",
              "      background-color: #3B4455;\n",
              "      fill: #D2E3FC;\n",
              "    }\n",
              "\n",
              "    [theme=dark] .colab-df-convert:hover {\n",
              "      background-color: #434B5C;\n",
              "      box-shadow: 0px 1px 3px 1px rgba(0, 0, 0, 0.15);\n",
              "      filter: drop-shadow(0px 1px 2px rgba(0, 0, 0, 0.3));\n",
              "      fill: #FFFFFF;\n",
              "    }\n",
              "  </style>\n",
              "\n",
              "      <script>\n",
              "        const buttonEl =\n",
              "          document.querySelector('#df-c2066fae-da1c-4899-a70b-5dd4afdbd174 button.colab-df-convert');\n",
              "        buttonEl.style.display =\n",
              "          google.colab.kernel.accessAllowed ? 'block' : 'none';\n",
              "\n",
              "        async function convertToInteractive(key) {\n",
              "          const element = document.querySelector('#df-c2066fae-da1c-4899-a70b-5dd4afdbd174');\n",
              "          const dataTable =\n",
              "            await google.colab.kernel.invokeFunction('convertToInteractive',\n",
              "                                                     [key], {});\n",
              "          if (!dataTable) return;\n",
              "\n",
              "          const docLinkHtml = 'Like what you see? Visit the ' +\n",
              "            '<a target=\"_blank\" href=https://colab.research.google.com/notebooks/data_table.ipynb>data table notebook</a>'\n",
              "            + ' to learn more about interactive tables.';\n",
              "          element.innerHTML = '';\n",
              "          dataTable['output_type'] = 'display_data';\n",
              "          await google.colab.output.renderOutput(dataTable, element);\n",
              "          const docLink = document.createElement('div');\n",
              "          docLink.innerHTML = docLinkHtml;\n",
              "          element.appendChild(docLink);\n",
              "        }\n",
              "      </script>\n",
              "    </div>\n",
              "  </div>\n",
              "  "
            ]
          },
          "metadata": {},
          "execution_count": 120
        }
      ],
      "source": [
        "from sklearn.feature_extraction.text import TfidfVectorizer\n",
        "vect = TfidfVectorizer()\n",
        "dtm = vect.fit_transform(docs)\n",
        "pd.DataFrame(dtm.toarray(), index=docs, columns=vect.get_feature_names())"
      ]
    },
    {
      "cell_type": "markdown",
      "metadata": {
        "id": "_TC1RFxK9IPU"
      },
      "source": [
        "We can see e.g. in the last document that \"cheese\" has an higher importance than \"blue\", being a less common and thus more discriminating word"
      ]
    },
    {
      "cell_type": "markdown",
      "metadata": {
        "id": "q6DC0EG49IPU"
      },
      "source": [
        "We employ tf.idf in our classification pipeline by replacing `CountVectorizer`"
      ]
    },
    {
      "cell_type": "code",
      "execution_count": null,
      "metadata": {
        "id": "ByQMYMeM9IPU"
      },
      "outputs": [],
      "source": [
        "model = Pipeline([\n",
        "    (\"vectorizer\", TfidfVectorizer()),\n",
        "    (\"classifier\", LogisticRegression())\n",
        "])"
      ]
    },
    {
      "cell_type": "markdown",
      "metadata": {
        "id": "7C2jNFgP9IPW"
      },
      "source": [
        "As above, we fit the model on the training set and then evaluate it on the test set"
      ]
    },
    {
      "cell_type": "code",
      "execution_count": null,
      "metadata": {
        "id": "GmSW_6aS9IPW"
      },
      "outputs": [],
      "source": [
        "model.fit(reviews_train.text, reviews_train.label);"
      ]
    },
    {
      "cell_type": "code",
      "execution_count": null,
      "metadata": {
        "colab": {
          "base_uri": "https://localhost:8080/"
        },
        "id": "YrIM5UFU9IPX",
        "outputId": "10052224-f386-4bc0-89e5-2d87302a7ba2"
      },
      "outputs": [
        {
          "output_type": "execute_result",
          "data": {
            "text/plain": [
              "0.8412"
            ]
          },
          "metadata": {},
          "execution_count": 123
        }
      ],
      "source": [
        "model.score(reviews_test.text, reviews_test.label)"
      ]
    },
    {
      "cell_type": "markdown",
      "metadata": {
        "id": "PRfG6tH99IPY"
      },
      "source": [
        "### Looking for the most influential words\n",
        "\n",
        "Logistic regression computes the likelihood of a review being positive (or negative) according to the following formula:\n",
        "$$ h_\\theta(\\mathbf{x})=\\frac{1}{1+\\exp\\left(-\\theta_0-\\sum_{i=1}^n{\\theta_i\\cdot x_i}\\right)} $$\n",
        "\n",
        "Every $x_i$ variable indicates the element $i$ of an input vector (i.e. the weight of the $i$-th word in the dictionary), while $\\theta_i$ is the model parameter indicating how much the word contributes to the review being estimated as positive or negative\n",
        "\n",
        "By looking at values of the parameters, we can find out which words contribute the most at the reviews being labeled as positive or negative"
      ]
    },
    {
      "cell_type": "markdown",
      "metadata": {
        "id": "1e7YGzS49IPZ"
      },
      "source": [
        "The $\\theta_i$ parameters are available as the `coef_` attribute of the `LogisticRegression` model, we get it from the pipeline and print some values"
      ]
    },
    {
      "cell_type": "code",
      "execution_count": null,
      "metadata": {
        "colab": {
          "base_uri": "https://localhost:8080/"
        },
        "id": "GbbzwNtK9IPZ",
        "outputId": "8584ea46-a9e0-4f52-a694-27f8fd0c6205"
      },
      "outputs": [
        {
          "output_type": "execute_result",
          "data": {
            "text/plain": [
              "array([-0.05094521, -0.01434774, -0.0256676 ,  0.04577293])"
            ]
          },
          "metadata": {},
          "execution_count": 124
        }
      ],
      "source": [
        "model_classifier = model.named_steps[\"classifier\"]\n",
        "\n",
        "model_classifier.coef_[0, :4]"
      ]
    },
    {
      "cell_type": "markdown",
      "metadata": {
        "id": "TUAtgdBA9IPa"
      },
      "source": [
        "In order to make sense of the values, we get from the `TfidfVectorizer` the names of features and match them to values using a series"
      ]
    },
    {
      "cell_type": "code",
      "execution_count": null,
      "metadata": {
        "colab": {
          "base_uri": "https://localhost:8080/"
        },
        "id": "yPsPGgMQ9IPa",
        "outputId": "d0262aa3-24b4-41c9-f89e-394a7793c42e"
      },
      "outputs": [
        {
          "output_type": "stream",
          "name": "stderr",
          "text": [
            "/usr/local/lib/python3.7/dist-packages/sklearn/utils/deprecation.py:87: FutureWarning: Function get_feature_names is deprecated; get_feature_names is deprecated in 1.0 and will be removed in 1.2. Please use get_feature_names_out instead.\n",
            "  warnings.warn(msg, category=FutureWarning)\n"
          ]
        }
      ],
      "source": [
        "model_vectorizer = model.named_steps[\"vectorizer\"]\n",
        "model_coefs = pd.Series(model_classifier.coef_[0],\n",
        "                        model_vectorizer.get_feature_names())"
      ]
    },
    {
      "cell_type": "markdown",
      "metadata": {
        "id": "qXPsMfL_9IPb"
      },
      "source": [
        "We sort the values in ascending order"
      ]
    },
    {
      "cell_type": "code",
      "execution_count": null,
      "metadata": {
        "id": "2EiVr4aC9IPc"
      },
      "outputs": [],
      "source": [
        "model_coefs.sort_values(inplace=True) # inplace=True let us sort the original pandas Series stored in model_coefs variable. Otherwise sort_values would return a copy of the sorted series without sorting the original one."
      ]
    },
    {
      "cell_type": "markdown",
      "metadata": {
        "id": "AMLV2Y5O9IPc"
      },
      "source": [
        "Now at the top of the series we find the terms with the lowest coefficients, which make the model decision most tend to the \"negative\" class"
      ]
    },
    {
      "cell_type": "code",
      "execution_count": null,
      "metadata": {
        "colab": {
          "base_uri": "https://localhost:8080/"
        },
        "id": "Q0ZpIVzE9IPd",
        "outputId": "b0b1fbc6-814c-4129-a6e6-e87e9cb09459"
      },
      "outputs": [
        {
          "output_type": "execute_result",
          "data": {
            "text/plain": [
              "bad      -5.200\n",
              "worst    -4.123\n",
              "awful    -2.801\n",
              "waste    -2.771\n",
              "boring   -2.760\n",
              "dtype: float64"
            ]
          },
          "metadata": {},
          "execution_count": 127
        }
      ],
      "source": [
        "model_coefs.head(5)"
      ]
    },
    {
      "cell_type": "markdown",
      "metadata": {
        "id": "idX8RZY09IPe"
      },
      "source": [
        "...while at the bottom of the series we find terms with the highest coefficients, whose presence makes the review positive"
      ]
    },
    {
      "cell_type": "code",
      "execution_count": null,
      "metadata": {
        "colab": {
          "base_uri": "https://localhost:8080/"
        },
        "id": "8ThCVy2X9IPe",
        "outputId": "8bd1c846-1f23-4701-ea13-cad6dde4aeaa"
      },
      "outputs": [
        {
          "output_type": "execute_result",
          "data": {
            "text/plain": [
              "and      2.434\n",
              "well     2.517\n",
              "love     2.688\n",
              "best     3.217\n",
              "great    4.528\n",
              "dtype: float64"
            ]
          },
          "metadata": {},
          "execution_count": 128
        }
      ],
      "source": [
        "model_coefs.tail(5)"
      ]
    },
    {
      "cell_type": "markdown",
      "metadata": {
        "id": "qeg3twi49IPf"
      },
      "source": [
        "In this way, we can generally find out the most important terms in deciding the orientation of a review"
      ]
    },
    {
      "cell_type": "markdown",
      "metadata": {
        "id": "pULaHu9z9IPf"
      },
      "source": [
        "### Regularization of parameters\n",
        "\n",
        "The logistic regression model uses _regularization_ to prevent parameters from having very high absolute values, which may lead to overfitting\n",
        "\n",
        "The C parameter controls the regularization strength: smaller values lead to stronger regularization, while larger values make the model fit more to training data\n",
        "\n",
        "This parameter can be tuned to improve the model accuracy"
      ]
    },
    {
      "cell_type": "markdown",
      "metadata": {
        "id": "78n6wGbC9IPg"
      },
      "source": [
        "Let's try for example to raise the C parameter from its default value 1 to 10, thus lowering the regularization"
      ]
    },
    {
      "cell_type": "code",
      "execution_count": null,
      "metadata": {
        "id": "flxU_m1R9IPg"
      },
      "outputs": [],
      "source": [
        "model = Pipeline([\n",
        "    (\"vectorizer\", TfidfVectorizer()),\n",
        "    (\"classifier\", LogisticRegression(C=10))\n",
        "])"
      ]
    },
    {
      "cell_type": "code",
      "execution_count": null,
      "metadata": {
        "id": "qNlSMPQt9IPh"
      },
      "outputs": [],
      "source": [
        "model.fit(reviews_train.text, reviews_train.label);"
      ]
    },
    {
      "cell_type": "code",
      "execution_count": null,
      "metadata": {
        "colab": {
          "base_uri": "https://localhost:8080/"
        },
        "id": "mQNnmdaj9IPh",
        "outputId": "18dc8b67-9426-4744-e97c-2d32e005a631"
      },
      "outputs": [
        {
          "output_type": "execute_result",
          "data": {
            "text/plain": [
              "0.829"
            ]
          },
          "metadata": {},
          "execution_count": 131
        }
      ],
      "source": [
        "model.score(reviews_test.text, reviews_test.label)"
      ]
    },
    {
      "cell_type": "markdown",
      "metadata": {
        "id": "ePLEJs_79IPi"
      },
      "source": [
        "In this case accuracy slightly drops, possibly due to overfitting"
      ]
    },
    {
      "cell_type": "markdown",
      "metadata": {
        "id": "72a-QgZt9IPi"
      },
      "source": [
        "If we check for model parameters, their absolute values are now higher"
      ]
    },
    {
      "cell_type": "code",
      "execution_count": null,
      "metadata": {
        "colab": {
          "base_uri": "https://localhost:8080/"
        },
        "id": "2613CtoE9IPi",
        "outputId": "3c0fb376-602f-4dee-9fcf-d36b2fe1424f"
      },
      "outputs": [
        {
          "output_type": "stream",
          "name": "stderr",
          "text": [
            "/usr/local/lib/python3.7/dist-packages/sklearn/utils/deprecation.py:87: FutureWarning: Function get_feature_names is deprecated; get_feature_names is deprecated in 1.0 and will be removed in 1.2. Please use get_feature_names_out instead.\n",
            "  warnings.warn(msg, category=FutureWarning)\n"
          ]
        }
      ],
      "source": [
        "model_classifier = model.named_steps[\"classifier\"]\n",
        "model_vectorizer = model.named_steps[\"vectorizer\"]\n",
        "model_coefs = pd.Series(model_classifier.coef_[0],\n",
        "                        model_vectorizer.get_feature_names())\n",
        "model_coefs.sort_values(inplace=True)"
      ]
    },
    {
      "cell_type": "code",
      "execution_count": null,
      "metadata": {
        "colab": {
          "base_uri": "https://localhost:8080/"
        },
        "id": "a5Qb8jwP9IPk",
        "outputId": "0cfad7cd-6b30-465d-ee46-ba8603c22ba8"
      },
      "outputs": [
        {
          "output_type": "execute_result",
          "data": {
            "text/plain": [
              "worst   -9.775\n",
              "bad     -9.499\n",
              "awful   -6.673\n",
              "dtype: float64"
            ]
          },
          "metadata": {},
          "execution_count": 133
        }
      ],
      "source": [
        "model_coefs.head(3)"
      ]
    },
    {
      "cell_type": "code",
      "execution_count": null,
      "metadata": {
        "colab": {
          "base_uri": "https://localhost:8080/"
        },
        "id": "7D1bH_gF9IPl",
        "outputId": "41b68443-59c3-4654-ac29-a0927192e3de"
      },
      "outputs": [
        {
          "output_type": "execute_result",
          "data": {
            "text/plain": [
              "perfect    6.164\n",
              "best       7.489\n",
              "great      8.936\n",
              "dtype: float64"
            ]
          },
          "metadata": {},
          "execution_count": 134
        }
      ],
      "source": [
        "model_coefs.tail(3)"
      ]
    },
    {
      "cell_type": "markdown",
      "metadata": {
        "id": "b-9mDJ7Z9IPm"
      },
      "source": [
        "### Reducing the dimensionality\n",
        "\n",
        "Considering the number of distinct terms across all training reviews, the dimensionality of the vector space is very high"
      ]
    },
    {
      "cell_type": "code",
      "execution_count": null,
      "metadata": {
        "colab": {
          "base_uri": "https://localhost:8080/"
        },
        "id": "BBGZBkZE9IPm",
        "outputId": "7c41a609-36e5-401f-92be-2d18852bb9e9"
      },
      "outputs": [
        {
          "output_type": "stream",
          "name": "stderr",
          "text": [
            "/usr/local/lib/python3.7/dist-packages/sklearn/utils/deprecation.py:87: FutureWarning: Function get_feature_names is deprecated; get_feature_names is deprecated in 1.0 and will be removed in 1.2. Please use get_feature_names_out instead.\n",
            "  warnings.warn(msg, category=FutureWarning)\n"
          ]
        },
        {
          "output_type": "execute_result",
          "data": {
            "text/plain": [
              "36272"
            ]
          },
          "metadata": {},
          "execution_count": 135
        }
      ],
      "source": [
        "len(model_vectorizer.get_feature_names())"
      ]
    },
    {
      "cell_type": "markdown",
      "metadata": {
        "id": "rLdnbUD69IPm"
      },
      "source": [
        "Methods exist to reduce the dimensionality in order to lower the time required for training the model with very small repercussion on its accuracy\n",
        "\n",
        "One possibility is to not consider words appearing only in very few reviews, such as very specific terms or misspelled words"
      ]
    },
    {
      "cell_type": "markdown",
      "metadata": {
        "id": "E6EMtre29IPn"
      },
      "source": [
        "We can configure the vectorizer with the `min_df` parameter to exclude terms appearing e.g. in less than 3 training reviews"
      ]
    },
    {
      "cell_type": "code",
      "execution_count": null,
      "metadata": {
        "id": "z6ZuZ4H-9IPn"
      },
      "outputs": [],
      "source": [
        "model = Pipeline([\n",
        "    (\"vectorizer\", TfidfVectorizer(min_df=3)), # df stands for document frequency.\n",
        "    (\"classifier\", LogisticRegression())\n",
        "])"
      ]
    },
    {
      "cell_type": "markdown",
      "metadata": {
        "id": "BlU4nBov9IPo"
      },
      "source": [
        "Let's fit the model as above..."
      ]
    },
    {
      "cell_type": "code",
      "execution_count": null,
      "metadata": {
        "id": "84ujhE7B9IPo"
      },
      "outputs": [],
      "source": [
        "model.fit(reviews_train.text, reviews_train.label);"
      ]
    },
    {
      "cell_type": "markdown",
      "metadata": {
        "id": "tfGd227X9IPo"
      },
      "source": [
        "Looking at the fit vectorizer, the number of dimensions is now much lower..."
      ]
    },
    {
      "cell_type": "code",
      "execution_count": null,
      "metadata": {
        "colab": {
          "base_uri": "https://localhost:8080/"
        },
        "id": "koXs4jxM9IPp",
        "outputId": "bd01b83a-42c2-482f-fe5a-43acdbb2f550"
      },
      "outputs": [
        {
          "output_type": "stream",
          "name": "stderr",
          "text": [
            "/usr/local/lib/python3.7/dist-packages/sklearn/utils/deprecation.py:87: FutureWarning: Function get_feature_names is deprecated; get_feature_names is deprecated in 1.0 and will be removed in 1.2. Please use get_feature_names_out instead.\n",
            "  warnings.warn(msg, category=FutureWarning)\n"
          ]
        },
        {
          "output_type": "execute_result",
          "data": {
            "text/plain": [
              "16127"
            ]
          },
          "metadata": {},
          "execution_count": 138
        }
      ],
      "source": [
        "len(model.named_steps[\"vectorizer\"].get_feature_names())"
      ]
    },
    {
      "cell_type": "markdown",
      "metadata": {
        "id": "0d-ti6q79IPp"
      },
      "source": [
        "...but the accuracy is close to the previous value"
      ]
    },
    {
      "cell_type": "code",
      "execution_count": null,
      "metadata": {
        "colab": {
          "base_uri": "https://localhost:8080/"
        },
        "id": "6R5wO9wf9IPq",
        "outputId": "6396151b-d713-4541-d787-39105a4e9d82"
      },
      "outputs": [
        {
          "output_type": "execute_result",
          "data": {
            "text/plain": [
              "0.8424"
            ]
          },
          "metadata": {},
          "execution_count": 139
        }
      ],
      "source": [
        "model.score(reviews_test.text, reviews_test.label)"
      ]
    },
    {
      "cell_type": "markdown",
      "metadata": {
        "id": "FDT9_dtm9IPq"
      },
      "source": [
        "### Stemming\n",
        "\n",
        "Another way to reduce dimensionality is to group similar terms into an unique feature\n",
        "\n",
        "_Stemming_ is the extraction of the morphological root (_stem_) of a word: using stems of words as features in place of words themselves, we obtain a single feature for possibly several single terms with a common stem (e.g. {run, runned, running} --> \"run\")"
      ]
    },
    {
      "cell_type": "markdown",
      "metadata": {
        "id": "RamgdDXU9IPq"
      },
      "source": [
        "We start creating a `PorterStemmer` object, providing a `stem` method"
      ]
    },
    {
      "cell_type": "code",
      "execution_count": null,
      "metadata": {
        "id": "RmpatPc29IPr"
      },
      "outputs": [],
      "source": [
        "ps = nltk.stem.PorterStemmer()"
      ]
    },
    {
      "cell_type": "code",
      "execution_count": null,
      "metadata": {
        "colab": {
          "base_uri": "https://localhost:8080/"
        },
        "id": "2dc0qOEK9IPr",
        "outputId": "1d94eccf-d9b2-429f-dd3b-a0c3232536f3"
      },
      "outputs": [
        {
          "output_type": "execute_result",
          "data": {
            "text/plain": [
              "('stem', 'stem')"
            ]
          },
          "metadata": {},
          "execution_count": 141
        }
      ],
      "source": [
        "ps.stem(\"stem\"), ps.stem(\"stemming\")"
      ]
    },
    {
      "cell_type": "code",
      "execution_count": null,
      "metadata": {
        "colab": {
          "base_uri": "https://localhost:8080/"
        },
        "id": "cl_591k6v6TZ",
        "outputId": "c1d0d830-57f2-470a-e67c-ad15230fb8f6"
      },
      "outputs": [
        {
          "output_type": "execute_result",
          "data": {
            "text/plain": [
              "('run', 'run', 'run')"
            ]
          },
          "metadata": {},
          "execution_count": 142
        }
      ],
      "source": [
        "ps.stem(\"run\"), ps.stem(\"runned\"), ps.stem(\"running\")"
      ]
    },
    {
      "cell_type": "markdown",
      "metadata": {
        "id": "fwlX4rHf9IPt"
      },
      "source": [
        "We can use that to create a function which uses NLTK to tokenize text into words and return a sequence of stems instead of complete words"
      ]
    },
    {
      "cell_type": "code",
      "execution_count": null,
      "metadata": {
        "id": "ZStwuomf9IPu"
      },
      "outputs": [],
      "source": [
        "def tokenize_with_stemming(text):\n",
        "    return [ps.stem(token) for token # for each word in the tokenized text apply the ps.stem() function\n",
        "        in nltk.tokenize.word_tokenize(text)]"
      ]
    },
    {
      "cell_type": "code",
      "execution_count": null,
      "metadata": {
        "colab": {
          "base_uri": "https://localhost:8080/"
        },
        "id": "DZxdVWzM9IPv",
        "outputId": "f611f5b0-d7ff-4b2a-a089-1f572586897b"
      },
      "outputs": [
        {
          "output_type": "execute_result",
          "data": {
            "text/plain": [
              "['We', 'have', 'shown', 'mani', 'exampl', '!']"
            ]
          },
          "metadata": {},
          "execution_count": 144
        }
      ],
      "source": [
        "tokenize_with_stemming(\"We have shown many examples!\")"
      ]
    },
    {
      "cell_type": "markdown",
      "metadata": {
        "id": "WIs6UWap9IPw"
      },
      "source": [
        "In a vectorizer, we can set the `tokenizer` parameter to use our custom tokenization function in place of scikit-learn default one"
      ]
    },
    {
      "cell_type": "code",
      "execution_count": null,
      "metadata": {
        "id": "Ie7GW6VM9IPw"
      },
      "outputs": [],
      "source": [
        "model = Pipeline([\n",
        "    (\"vectorizer\", TfidfVectorizer(min_df=3, tokenizer=tokenize_with_stemming)),\n",
        "    (\"classifier\", LogisticRegression())\n",
        "])"
      ]
    },
    {
      "cell_type": "markdown",
      "metadata": {
        "id": "2Oxp_WkP9IPx"
      },
      "source": [
        "We can then fit the model as usual"
      ]
    },
    {
      "cell_type": "code",
      "execution_count": null,
      "metadata": {
        "id": "guFzXQvr9IPx"
      },
      "outputs": [],
      "source": [
        "model.fit(reviews_train.text, reviews_train.label);"
      ]
    },
    {
      "cell_type": "markdown",
      "metadata": {
        "id": "Q3dMVXv-9IPy"
      },
      "source": [
        "The number of feature is further reduced"
      ]
    },
    {
      "cell_type": "code",
      "execution_count": null,
      "metadata": {
        "colab": {
          "base_uri": "https://localhost:8080/"
        },
        "id": "_35EZ_i69IPy",
        "outputId": "a9065588-5da9-4a81-8f26-294e753b720e"
      },
      "outputs": [
        {
          "output_type": "stream",
          "name": "stderr",
          "text": [
            "/usr/local/lib/python3.7/dist-packages/sklearn/utils/deprecation.py:87: FutureWarning: Function get_feature_names is deprecated; get_feature_names is deprecated in 1.0 and will be removed in 1.2. Please use get_feature_names_out instead.\n",
            "  warnings.warn(msg, category=FutureWarning)\n"
          ]
        },
        {
          "output_type": "execute_result",
          "data": {
            "text/plain": [
              "12543"
            ]
          },
          "metadata": {},
          "execution_count": 147
        }
      ],
      "source": [
        "len(model.named_steps[\"vectorizer\"].get_feature_names())"
      ]
    },
    {
      "cell_type": "markdown",
      "metadata": {
        "id": "6iysRIvF9IPz"
      },
      "source": [
        "Computing the accuracy..."
      ]
    },
    {
      "cell_type": "code",
      "execution_count": null,
      "metadata": {
        "colab": {
          "base_uri": "https://localhost:8080/"
        },
        "id": "TYBlI3gx9IPz",
        "outputId": "d94d811f-94d2-4656-95ca-abdb85dda1b0"
      },
      "outputs": [
        {
          "output_type": "execute_result",
          "data": {
            "text/plain": [
              "0.8394"
            ]
          },
          "metadata": {},
          "execution_count": 148
        }
      ],
      "source": [
        "model.score(reviews_test.text, reviews_test.label)"
      ]
    },
    {
      "cell_type": "markdown",
      "metadata": {
        "id": "wbXQzbdz9IP0"
      },
      "source": [
        "...we see in this case a minor loss "
      ]
    },
    {
      "cell_type": "markdown",
      "metadata": {
        "id": "k6QpBeJP9IP0"
      },
      "source": [
        "### n-grams\n",
        "\n",
        "An _n-gram_ is a sequence of n consecutive words in a text: in the common cases with n equal to 2 and 3, they are called _bigrams_ and _trigrams_\n",
        "\n",
        "n-grams can be used in addition or replacement to single words as features to represent reviews: they can be useful to spot meaningful expressions composed of more than one word, although we will also get many n-grams with no significant meaning\n",
        "\n",
        "For example, in the sentence \"Sentiment analysis is not bad\" we have meaningful bigrams indicating a concept (\"Sentiment analysis\") and an opinion (\"not bad\")"
      ]
    },
    {
      "cell_type": "markdown",
      "metadata": {
        "id": "ObnuLgHv9IP0"
      },
      "source": [
        "Setting the `ngram_range` parameter of a vectorizer to a tuple `(a,b)`, it will use as features all n-grams with n between a and b; the default value is `(1, 1)`, meaning that only single words (\"1-grams\") are considered\n",
        "\n",
        "Let's see what happens by setting `(1, 2)`, i.e. considering both single words and bigrams, still limiting features to those appearing in 3 reviews at least"
      ]
    },
    {
      "cell_type": "code",
      "execution_count": null,
      "metadata": {
        "id": "xsRwMuQR9IP0"
      },
      "outputs": [],
      "source": [
        "model = Pipeline([\n",
        "    (\"vectorizer\", TfidfVectorizer(min_df=3, ngram_range=(1, 2))), # using 1-grams and 2-grams\n",
        "    (\"classifier\", LogisticRegression())\n",
        "])"
      ]
    },
    {
      "cell_type": "markdown",
      "metadata": {
        "id": "ZSOpCexo9IP1"
      },
      "source": [
        "Fit the model as usual"
      ]
    },
    {
      "cell_type": "code",
      "execution_count": null,
      "metadata": {
        "id": "ha-KoggH9IP1"
      },
      "outputs": [],
      "source": [
        "model.fit(reviews_train[\"text\"], reviews_train[\"label\"]); #reviews_train.text = reviews_train[\"text\"]"
      ]
    },
    {
      "cell_type": "markdown",
      "metadata": {
        "id": "py-_TiXu9IP4"
      },
      "source": [
        "Adding bigrams to single words, the dimensionality is sensibly higher..."
      ]
    },
    {
      "cell_type": "code",
      "execution_count": null,
      "metadata": {
        "colab": {
          "base_uri": "https://localhost:8080/"
        },
        "id": "hA6B_k8q9IP4",
        "outputId": "983247b4-36b8-47bb-b399-5cc705b6de5c"
      },
      "outputs": [
        {
          "output_type": "stream",
          "name": "stderr",
          "text": [
            "/usr/local/lib/python3.7/dist-packages/sklearn/utils/deprecation.py:87: FutureWarning: Function get_feature_names is deprecated; get_feature_names is deprecated in 1.0 and will be removed in 1.2. Please use get_feature_names_out instead.\n",
            "  warnings.warn(msg, category=FutureWarning)\n"
          ]
        },
        {
          "output_type": "execute_result",
          "data": {
            "text/plain": [
              "71800"
            ]
          },
          "metadata": {},
          "execution_count": 151
        }
      ],
      "source": [
        "len(model.named_steps[\"vectorizer\"].get_feature_names()) # \"sentiment\" + \"sentiment analysis\""
      ]
    },
    {
      "cell_type": "markdown",
      "metadata": {
        "id": "tW1Xe-wy9IP5"
      },
      "source": [
        "...but in this case we successfully increase the accuracy"
      ]
    },
    {
      "cell_type": "code",
      "execution_count": null,
      "metadata": {
        "colab": {
          "base_uri": "https://localhost:8080/"
        },
        "id": "-zKZ1Eq_9IP5",
        "outputId": "1d83f4da-8484-4746-9271-5c2b2a4935e1"
      },
      "outputs": [
        {
          "output_type": "execute_result",
          "data": {
            "text/plain": [
              "0.851"
            ]
          },
          "metadata": {},
          "execution_count": 152
        }
      ],
      "source": [
        "model.score(reviews_test[\"text\"], reviews_test[\"label\"])"
      ]
    },
    {
      "cell_type": "markdown",
      "metadata": {
        "id": "n_k_q0uh9IP5"
      },
      "source": [
        "### Sentiment analysis with NLTK\n",
        "\n",
        "NLTK integrates specific functions for sentiment analysis, allowing to evaluate the subjectivity and the sentiment of text\n",
        "\n",
        "Let's see for example how to classify reviews using VADER (_Valence Aware Dictionary for sEntiment Reasoning_), a lexicon and rule-based sentiment estimator specifically oriented to social media, of which NLTK provides an implementation\n",
        "\n",
        "- **Reference:** Hutto, C. J., and Eric Gilbert. \"VADER: A Parsimonious Rule-Based Model for Sentiment Analysis of Social Media Text.\" _Eighth International AAAI Conference on Weblogs and Social Media_. 2014."
      ]
    },
    {
      "cell_type": "markdown",
      "metadata": {
        "id": "rgCSzAi59IP6"
      },
      "source": [
        "Download the necessary data"
      ]
    },
    {
      "cell_type": "code",
      "execution_count": null,
      "metadata": {
        "colab": {
          "base_uri": "https://localhost:8080/"
        },
        "id": "mmAuvsax9IP6",
        "outputId": "e474a85d-f399-4ce8-fc7d-cb0f29fd3ea5"
      },
      "outputs": [
        {
          "output_type": "stream",
          "name": "stdout",
          "text": [
            "[nltk_data] Downloading package vader_lexicon to /root/nltk_data...\n"
          ]
        },
        {
          "output_type": "execute_result",
          "data": {
            "text/plain": [
              "True"
            ]
          },
          "metadata": {},
          "execution_count": 153
        }
      ],
      "source": [
        "nltk.download(\"vader_lexicon\")"
      ]
    },
    {
      "cell_type": "markdown",
      "metadata": {
        "id": "C_-UnfYU9IP6"
      },
      "source": [
        "Import the class and create an analyzer object"
      ]
    },
    {
      "cell_type": "code",
      "execution_count": null,
      "metadata": {
        "colab": {
          "base_uri": "https://localhost:8080/"
        },
        "id": "WNOc25rqu1GP",
        "outputId": "e7d7d3b3-30fc-4f20-a971-b86392344c83"
      },
      "outputs": [
        {
          "output_type": "stream",
          "name": "stdout",
          "text": [
            "Looking in indexes: https://pypi.org/simple, https://us-python.pkg.dev/colab-wheels/public/simple/\n",
            "Collecting twython\n",
            "  Downloading twython-3.9.1-py3-none-any.whl (33 kB)\n",
            "Requirement already satisfied: requests>=2.1.0 in /usr/local/lib/python3.7/dist-packages (from twython) (2.23.0)\n",
            "Requirement already satisfied: requests-oauthlib>=0.4.0 in /usr/local/lib/python3.7/dist-packages (from twython) (1.3.1)\n",
            "Requirement already satisfied: urllib3!=1.25.0,!=1.25.1,<1.26,>=1.21.1 in /usr/local/lib/python3.7/dist-packages (from requests>=2.1.0->twython) (1.24.3)\n",
            "Requirement already satisfied: chardet<4,>=3.0.2 in /usr/local/lib/python3.7/dist-packages (from requests>=2.1.0->twython) (3.0.4)\n",
            "Requirement already satisfied: certifi>=2017.4.17 in /usr/local/lib/python3.7/dist-packages (from requests>=2.1.0->twython) (2022.5.18.1)\n",
            "Requirement already satisfied: idna<3,>=2.5 in /usr/local/lib/python3.7/dist-packages (from requests>=2.1.0->twython) (2.10)\n",
            "Requirement already satisfied: oauthlib>=3.0.0 in /usr/local/lib/python3.7/dist-packages (from requests-oauthlib>=0.4.0->twython) (3.2.0)\n",
            "Installing collected packages: twython\n",
            "Successfully installed twython-3.9.1\n"
          ]
        }
      ],
      "source": [
        "!pip install twython # nltk.sentiment dependency"
      ]
    },
    {
      "cell_type": "code",
      "execution_count": null,
      "metadata": {
        "id": "nnZ6wPt_9IP6"
      },
      "outputs": [],
      "source": [
        "from nltk.sentiment.vader import SentimentIntensityAnalyzer\n",
        "vader = SentimentIntensityAnalyzer()"
      ]
    },
    {
      "cell_type": "markdown",
      "metadata": {
        "id": "MoLmF1HV9IP7"
      },
      "source": [
        "We can see some words in the VADER lexicon along with the positive or negative orientation assigned to them: we can see that typical social media language is recognized"
      ]
    },
    {
      "cell_type": "code",
      "execution_count": null,
      "metadata": {
        "colab": {
          "base_uri": "https://localhost:8080/"
        },
        "id": "_5T7h5oA9IP7",
        "outputId": "4ca96c62-cea2-4cea-ff6b-fd0ac53f7ea9"
      },
      "outputs": [
        {
          "output_type": "execute_result",
          "data": {
            "text/plain": [
              "2.7"
            ]
          },
          "metadata": {},
          "execution_count": 156
        }
      ],
      "source": [
        "vader.lexicon[\"excellent\"]"
      ]
    },
    {
      "cell_type": "code",
      "execution_count": null,
      "metadata": {
        "colab": {
          "base_uri": "https://localhost:8080/"
        },
        "id": "OxOoK2PH9IP8",
        "outputId": "fc71f37d-49cc-4ede-f19f-c5aff9ea060a"
      },
      "outputs": [
        {
          "output_type": "execute_result",
          "data": {
            "text/plain": [
              "-1.5"
            ]
          },
          "metadata": {},
          "execution_count": 157
        }
      ],
      "source": [
        "vader.lexicon[\"sux\"]"
      ]
    },
    {
      "cell_type": "code",
      "execution_count": null,
      "metadata": {
        "colab": {
          "base_uri": "https://localhost:8080/"
        },
        "id": "TGFlq5j59IP8",
        "outputId": "17a97158-1d3d-42fc-fc13-062d2ecde2b4"
      },
      "outputs": [
        {
          "output_type": "execute_result",
          "data": {
            "text/plain": [
              "-2.8"
            ]
          },
          "metadata": {},
          "execution_count": 158
        }
      ],
      "source": [
        "vader.lexicon[\"wtf\"]"
      ]
    },
    {
      "cell_type": "code",
      "execution_count": null,
      "metadata": {
        "colab": {
          "base_uri": "https://localhost:8080/"
        },
        "id": "9Z-AOTKC9IP9",
        "outputId": "98dca619-c424-4b63-e36d-aad3b90249d9"
      },
      "outputs": [
        {
          "output_type": "execute_result",
          "data": {
            "text/plain": [
              "1.3"
            ]
          },
          "metadata": {},
          "execution_count": 159
        }
      ],
      "source": [
        "vader.lexicon[\":-)\"]"
      ]
    },
    {
      "cell_type": "markdown",
      "metadata": {
        "id": "DwkZwp419IP_"
      },
      "source": [
        "Using the `polarity_score` method, given some text, we obtain a dictionary stating the probability of the sentence being either positive, negative or sentiment-neutral.\n",
        "\n",
        "The `compound` score is a metric that calculates the sum of all the lexicon ratings which have been normalized between -1 (most extreme negative) and +1 (most extreme positive)."
      ]
    },
    {
      "cell_type": "code",
      "execution_count": null,
      "metadata": {
        "colab": {
          "base_uri": "https://localhost:8080/"
        },
        "id": "9w-Tk-NI9IP_",
        "outputId": "800aceb5-da5c-418d-ef1c-d70370c48454"
      },
      "outputs": [
        {
          "output_type": "execute_result",
          "data": {
            "text/plain": [
              "{'compound': 0.431, 'neg': 0.0, 'neu': 0.412, 'pos': 0.588}"
            ]
          },
          "metadata": {},
          "execution_count": 160
        }
      ],
      "source": [
        "vader.polarity_scores(\"Not a bad movie\")"
      ]
    },
    {
      "cell_type": "code",
      "execution_count": null,
      "metadata": {
        "colab": {
          "base_uri": "https://localhost:8080/"
        },
        "id": "AMFpr1YA9IQA",
        "outputId": "9139bc59-9d5f-4e5c-e6f9-11471b33f772"
      },
      "outputs": [
        {
          "output_type": "execute_result",
          "data": {
            "text/plain": [
              "{'compound': -0.2755, 'neg': 0.413, 'neu': 0.587, 'pos': 0.0}"
            ]
          },
          "metadata": {},
          "execution_count": 161
        }
      ],
      "source": [
        "vader.polarity_scores(\"I wouldn't recommend this movie\")"
      ]
    },
    {
      "cell_type": "code",
      "execution_count": null,
      "metadata": {
        "colab": {
          "base_uri": "https://localhost:8080/"
        },
        "id": "-28eatr59IQC",
        "outputId": "1db4254d-ad5e-4fce-c8be-ab7ad0f6ebea"
      },
      "outputs": [
        {
          "output_type": "execute_result",
          "data": {
            "text/plain": [
              "{'compound': 0.4588, 'neg': 0.0, 'neu': 0.667, 'pos': 0.333}"
            ]
          },
          "metadata": {},
          "execution_count": 162
        }
      ],
      "source": [
        "vader.polarity_scores(\"This movie is candidated to 3 Academy awards\")"
      ]
    },
    {
      "cell_type": "markdown",
      "metadata": {
        "id": "wnBSC1np9IQE"
      },
      "source": [
        "We can see that the model is reasonably good in detecting compound statements such as negations"
      ]
    },
    {
      "cell_type": "markdown",
      "metadata": {
        "id": "L6s63IFF9IQE"
      },
      "source": [
        "Let's create a function that, given a review, returns a \"pos\" or \"neg\" label according to VADER scores"
      ]
    },
    {
      "cell_type": "code",
      "execution_count": null,
      "metadata": {
        "id": "cNMhwi1i9IQE"
      },
      "outputs": [],
      "source": [
        "def vader_classify(text):\n",
        "    scores = vader.polarity_scores(text)\n",
        "    return \"pos\" if scores[\"pos\"] >= scores[\"neg\"] else \"neg\""
      ]
    },
    {
      "cell_type": "markdown",
      "metadata": {
        "id": "MW-iJVP-9IQF"
      },
      "source": [
        "Using the `apply` method of series, we apply the function to each review text obtaining a series of pos/neg labels"
      ]
    },
    {
      "cell_type": "code",
      "execution_count": null,
      "metadata": {
        "id": "bUtWVwWa9IQF"
      },
      "outputs": [],
      "source": [
        "vader_preds = reviews_test[\"text\"].apply(vader_classify)"
      ]
    },
    {
      "cell_type": "markdown",
      "metadata": {
        "id": "uIS92sBh9IQH"
      },
      "source": [
        "We compare this series with actual labels, obtaining a boolean series stating for which reviews the classifier indicated the correct label"
      ]
    },
    {
      "cell_type": "code",
      "execution_count": null,
      "metadata": {
        "id": "xPTLs0SR9IQH"
      },
      "outputs": [],
      "source": [
        "vader_hits = vader_preds == reviews_test[\"label\"]"
      ]
    },
    {
      "cell_type": "code",
      "execution_count": null,
      "metadata": {
        "colab": {
          "base_uri": "https://localhost:8080/"
        },
        "id": "Q9_JcA9v9IQJ",
        "outputId": "eab90236-623b-40cf-d6eb-5e483ceb8c1b"
      },
      "outputs": [
        {
          "output_type": "execute_result",
          "data": {
            "text/plain": [
              "array([ True,  True,  True,  True,  True,  True,  True, False,  True])"
            ]
          },
          "metadata": {},
          "execution_count": 166
        }
      ],
      "source": [
        "vader_hits.values[:9]"
      ]
    },
    {
      "cell_type": "markdown",
      "metadata": {
        "id": "AWYLf4HU9IQL"
      },
      "source": [
        "Computing the mean, we obtain the ratio of `True` values"
      ]
    },
    {
      "cell_type": "code",
      "execution_count": null,
      "metadata": {
        "colab": {
          "base_uri": "https://localhost:8080/"
        },
        "id": "BT_IrQIf9IQL",
        "outputId": "c9cc73e0-3c0b-4265-c0e7-f68868012f5c"
      },
      "outputs": [
        {
          "output_type": "execute_result",
          "data": {
            "text/plain": [
              "0.6936"
            ]
          },
          "metadata": {},
          "execution_count": 167
        }
      ],
      "source": [
        "vader_hits.mean()"
      ]
    },
    {
      "cell_type": "markdown",
      "metadata": {
        "id": "whSM4e3_9IQM"
      },
      "source": [
        "Here VADER achieves a lower accuracy than our supervised model, which however required a large set of pre-labeled reviews to be trained"
      ]
    },
    {
      "cell_type": "markdown",
      "metadata": {
        "id": "BKe42xjW9IQM"
      },
      "source": [
        "### Exercise 2: test new methods on tweets\n",
        "\n",
        "In this activity we have seen two sentiment classification methods\n",
        "- using a classifier trained on the labeled reviews used here\n",
        "- using the pretrained VADER model\n",
        "\n",
        "Test both these new methods on airline tweets from the first activity, giving each tweet a score of -5 or 5 according to the negative or positive response of the classifier, then compare as above summary scores obtained by both methods with ACSI scores\n",
        "\n",
        "Which of the two methods do you expect to be more accurate?"
      ]
    }
  ],
  "metadata": {
    "colab": {
      "collapsed_sections": [
        "ZwNfCgBU9IOR",
        "Qr17VRMp9IOw"
      ],
      "name": "1_opinion_lab.ipynb",
      "provenance": []
    },
    "kernelspec": {
      "display_name": "Python 3",
      "language": "python",
      "name": "python3"
    },
    "language_info": {
      "codemirror_mode": {
        "name": "ipython",
        "version": 3
      },
      "file_extension": ".py",
      "mimetype": "text/x-python",
      "name": "python",
      "nbconvert_exporter": "python",
      "pygments_lexer": "ipython3",
      "version": "3.9.1"
    }
  },
  "nbformat": 4,
  "nbformat_minor": 0
}