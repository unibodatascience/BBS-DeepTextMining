{
  "nbformat": 4,
  "nbformat_minor": 0,
  "metadata": {
    "kernelspec": {
      "display_name": "Python 3",
      "language": "python",
      "name": "python3"
    },
    "language_info": {
      "codemirror_mode": {
        "name": "ipython",
        "version": 3
      },
      "file_extension": ".py",
      "mimetype": "text/x-python",
      "name": "python",
      "nbconvert_exporter": "python",
      "pygments_lexer": "ipython3",
      "version": "3.5.2"
    },
    "colab": {
      "name": "text-mining-exercises-solution.ipynb",
      "provenance": [],
      "collapsed_sections": []
    }
  },
  "cells": [
    {
      "cell_type": "markdown",
      "metadata": {
        "id": "fzuf3cVHi6TS"
      },
      "source": [
        "# Text Mining Unit Exercises\n",
        "\n",
        "**Text Classification and Sentiment Analysis**\n",
        "\n",
        "_Prof. Gianluca Moro, Dott. Ing. Nicola Piscaglia – DISI, University of Bologna_\n",
        "\n",
        "**Bologna Business School** - Alma Mater Studiorum Università di Bologna"
      ]
    },
    {
      "cell_type": "markdown",
      "metadata": {
        "id": "WOBjMeN9i6TV"
      },
      "source": [
        "## Instructions\n",
        "\n",
        "- The provided exercises must be executed by teams up to 4 students\n",
        "\n",
        "- It is allowed to consult course material and the Web for advice\n",
        "\n",
        "- If still in doubt about anything, ask the teacher\n",
        "\n",
        "- At the end, the file must contain all the required results (as code cell outputs) along with all the commands necessary to reproduce them\n",
        "\n",
        "- The function of every command or group of related commands\n",
        "must be documented clearly and concisely. \n",
        "\n",
        "- You have 1 hour to complete the test."
      ]
    },
    {
      "cell_type": "markdown",
      "metadata": {
        "id": "9APLha11i6TX"
      },
      "source": [
        "## Setup\n",
        "\n",
        "The following cell contains all necessary imports"
      ]
    },
    {
      "cell_type": "code",
      "metadata": {
        "id": "sQSnHTwOi6TZ"
      },
      "source": [
        "import numpy as np\n",
        "import pandas as pd\n",
        "import gzip\n",
        "import json\n",
        "import nltk\n",
        "from sklearn.model_selection import train_test_split\n",
        "from sklearn.feature_extraction.text import TfidfVectorizer\n",
        "from sklearn.linear_model import LogisticRegression\n",
        "from imblearn.under_sampling import RandomUnderSampler\n",
        "from sklearn.metrics import confusion_matrix, ConfusionMatrixDisplay\n",
        "import os\n",
        "from urllib.request import urlretrieve"
      ],
      "execution_count": null,
      "outputs": []
    },
    {
      "cell_type": "markdown",
      "metadata": {
        "id": "5dIq4xWzi6Th"
      },
      "source": [
        "Run the following to download the necessary files"
      ]
    },
    {
      "cell_type": "code",
      "metadata": {
        "id": "GEUzfMXAi6Ti"
      },
      "source": [
        "def download(file, url):\n",
        "    if not os.path.exists(file):\n",
        "        urlretrieve(url, file)"
      ],
      "execution_count": null,
      "outputs": []
    },
    {
      "cell_type": "code",
      "source": [
        "download(\"Magazine_Subscriptions.json.gz\", \"https://www.dropbox.com/s/g6om8q8c8pvirw8/Magazine_Subscriptions.json.gz?dl=1\")"
      ],
      "metadata": {
        "id": "Rw7H0NU2z9dw"
      },
      "execution_count": null,
      "outputs": []
    },
    {
      "cell_type": "code",
      "metadata": {
        "id": "T94vizGRi6Tq",
        "colab": {
          "base_uri": "https://localhost:8080/"
        },
        "outputId": "77ad0861-a0a1-43bd-fd4b-de2b14ddd038"
      },
      "source": [
        "nltk.download(\"punkt\")"
      ],
      "execution_count": null,
      "outputs": [
        {
          "output_type": "stream",
          "name": "stdout",
          "text": [
            "[nltk_data] Downloading package punkt to /root/nltk_data...\n",
            "[nltk_data]   Unzipping tokenizers/punkt.zip.\n"
          ]
        },
        {
          "output_type": "execute_result",
          "data": {
            "text/plain": [
              "True"
            ]
          },
          "metadata": {},
          "execution_count": 4
        }
      ]
    },
    {
      "cell_type": "markdown",
      "metadata": {
        "id": "HefuXgg9i6Tv"
      },
      "source": [
        "## Dataset\n",
        "\n",
        "We provide in the `Magazine_Subscriptions.json.gz` file a dataset of 89,689 reviews posted on Amazon.com about Magazine Subscriptions.\n",
        "\n",
        "Afterwards the dataset loading, we undersample the data to 26115 reviews in order to provide you with a class balanced dataset.\n",
        "\n",
        "Each review is labeled with a score between 1 and 5 stars (represented by the ```overall``` feature).\n",
        "\n",
        "The text of each review is represented by the ```reviewText``` feature which is going to be our input data along with the ```overall``` one.\n",
        "\n",
        "\n",
        "\n",
        "\n",
        "\n",
        "Run the following to correctly load the file into a pandas DataFrame."
      ]
    },
    {
      "cell_type": "code",
      "source": [
        "def parse(path):\n",
        "  gzip_file = gzip.open(path, 'rb')\n",
        "  for file_line in gzip_file:\n",
        "    yield json.loads(file_line)\n",
        "\n",
        "def getDF(path):\n",
        "  index = 0\n",
        "  df = {}\n",
        "  for entry in parse(path):\n",
        "    df[index] = entry\n",
        "    index += 1\n",
        "  return pd.DataFrame.from_dict(df, orient='index')\n",
        "\n",
        "data = getDF('Magazine_Subscriptions.json.gz')"
      ],
      "metadata": {
        "id": "qqLm25MdN77n"
      },
      "execution_count": null,
      "outputs": []
    },
    {
      "cell_type": "code",
      "metadata": {
        "id": "UgasEHGHLsTL"
      },
      "source": [
        "rus = RandomUnderSampler(random_state=42)\n",
        "data, _ = rus.fit_resample(data, data[\"overall\"])"
      ],
      "execution_count": null,
      "outputs": []
    },
    {
      "cell_type": "code",
      "source": [
        "# Cast the review text type in order to be able to use it with sklearn later\n",
        "data[\"reviewText\"] = data[\"reviewText\"].values.astype('U')"
      ],
      "metadata": {
        "id": "-oAmSwKDXb8S"
      },
      "execution_count": null,
      "outputs": []
    },
    {
      "cell_type": "code",
      "metadata": {
        "id": "ZRi-zmR6i6T1",
        "colab": {
          "base_uri": "https://localhost:8080/",
          "height": 476
        },
        "outputId": "a1e56a25-8cef-4f98-bad6-cc8b866a61cf"
      },
      "source": [
        "data.head()"
      ],
      "execution_count": null,
      "outputs": [
        {
          "output_type": "execute_result",
          "data": {
            "text/plain": [
              "   overall vote  verified   reviewTime      reviewerID        asin  \\\n",
              "0      1.0   22     False  08 14, 2007  A2P7ETBL7020DF  B000O1PKOG   \n",
              "1      1.0    3     False   01 9, 2014   AONC3Q7956CQ6  B00005N7T5   \n",
              "2      1.0   11     False   09 7, 2009   A9004RLMUCQCJ  B00077B7M6   \n",
              "3      1.0  NaN     False   10 9, 2015  A1DEYML4ZKN1WV  B00HG1BP0U   \n",
              "4      1.0  NaN      True  07 23, 2014  A3ULPJ814I5LP6  B000IOEK7M   \n",
              "\n",
              "  reviewerName                                         reviewText  \\\n",
              "0   Gary Smith  This magazine has a catchy title and very nice...   \n",
              "1       J-Lick  Before it was easy to go directly to the New Y...   \n",
              "2           PT  I don't really understand why this product is ...   \n",
              "3        Angie                        Looked nicer in the picture   \n",
              "4         John                                    Never received.   \n",
              "\n",
              "                                   summary  unixReviewTime  \\\n",
              "0                         Just plain lame.      1187049600   \n",
              "1  Very Dissapointed in the on line format      1389225600   \n",
              "2                      Extremely Expensive      1252281600   \n",
              "3                                 One Star      1444348800   \n",
              "4                                 One Star      1406073600   \n",
              "\n",
              "                            style image  \n",
              "0  {'Format:': ' Print Magazine'}   NaN  \n",
              "1  {'Format:': ' Kindle Edition'}   NaN  \n",
              "2  {'Format:': ' Kindle Edition'}   NaN  \n",
              "3  {'Format:': ' Print Magazine'}   NaN  \n",
              "4                             NaN   NaN  "
            ],
            "text/html": [
              "\n",
              "  <div id=\"df-08e8473a-0fb5-4c66-af0e-16cd0fdb691a\">\n",
              "    <div class=\"colab-df-container\">\n",
              "      <div>\n",
              "<style scoped>\n",
              "    .dataframe tbody tr th:only-of-type {\n",
              "        vertical-align: middle;\n",
              "    }\n",
              "\n",
              "    .dataframe tbody tr th {\n",
              "        vertical-align: top;\n",
              "    }\n",
              "\n",
              "    .dataframe thead th {\n",
              "        text-align: right;\n",
              "    }\n",
              "</style>\n",
              "<table border=\"1\" class=\"dataframe\">\n",
              "  <thead>\n",
              "    <tr style=\"text-align: right;\">\n",
              "      <th></th>\n",
              "      <th>overall</th>\n",
              "      <th>vote</th>\n",
              "      <th>verified</th>\n",
              "      <th>reviewTime</th>\n",
              "      <th>reviewerID</th>\n",
              "      <th>asin</th>\n",
              "      <th>reviewerName</th>\n",
              "      <th>reviewText</th>\n",
              "      <th>summary</th>\n",
              "      <th>unixReviewTime</th>\n",
              "      <th>style</th>\n",
              "      <th>image</th>\n",
              "    </tr>\n",
              "  </thead>\n",
              "  <tbody>\n",
              "    <tr>\n",
              "      <th>0</th>\n",
              "      <td>1.0</td>\n",
              "      <td>22</td>\n",
              "      <td>False</td>\n",
              "      <td>08 14, 2007</td>\n",
              "      <td>A2P7ETBL7020DF</td>\n",
              "      <td>B000O1PKOG</td>\n",
              "      <td>Gary Smith</td>\n",
              "      <td>This magazine has a catchy title and very nice...</td>\n",
              "      <td>Just plain lame.</td>\n",
              "      <td>1187049600</td>\n",
              "      <td>{'Format:': ' Print Magazine'}</td>\n",
              "      <td>NaN</td>\n",
              "    </tr>\n",
              "    <tr>\n",
              "      <th>1</th>\n",
              "      <td>1.0</td>\n",
              "      <td>3</td>\n",
              "      <td>False</td>\n",
              "      <td>01 9, 2014</td>\n",
              "      <td>AONC3Q7956CQ6</td>\n",
              "      <td>B00005N7T5</td>\n",
              "      <td>J-Lick</td>\n",
              "      <td>Before it was easy to go directly to the New Y...</td>\n",
              "      <td>Very Dissapointed in the on line format</td>\n",
              "      <td>1389225600</td>\n",
              "      <td>{'Format:': ' Kindle Edition'}</td>\n",
              "      <td>NaN</td>\n",
              "    </tr>\n",
              "    <tr>\n",
              "      <th>2</th>\n",
              "      <td>1.0</td>\n",
              "      <td>11</td>\n",
              "      <td>False</td>\n",
              "      <td>09 7, 2009</td>\n",
              "      <td>A9004RLMUCQCJ</td>\n",
              "      <td>B00077B7M6</td>\n",
              "      <td>PT</td>\n",
              "      <td>I don't really understand why this product is ...</td>\n",
              "      <td>Extremely Expensive</td>\n",
              "      <td>1252281600</td>\n",
              "      <td>{'Format:': ' Kindle Edition'}</td>\n",
              "      <td>NaN</td>\n",
              "    </tr>\n",
              "    <tr>\n",
              "      <th>3</th>\n",
              "      <td>1.0</td>\n",
              "      <td>NaN</td>\n",
              "      <td>False</td>\n",
              "      <td>10 9, 2015</td>\n",
              "      <td>A1DEYML4ZKN1WV</td>\n",
              "      <td>B00HG1BP0U</td>\n",
              "      <td>Angie</td>\n",
              "      <td>Looked nicer in the picture</td>\n",
              "      <td>One Star</td>\n",
              "      <td>1444348800</td>\n",
              "      <td>{'Format:': ' Print Magazine'}</td>\n",
              "      <td>NaN</td>\n",
              "    </tr>\n",
              "    <tr>\n",
              "      <th>4</th>\n",
              "      <td>1.0</td>\n",
              "      <td>NaN</td>\n",
              "      <td>True</td>\n",
              "      <td>07 23, 2014</td>\n",
              "      <td>A3ULPJ814I5LP6</td>\n",
              "      <td>B000IOEK7M</td>\n",
              "      <td>John</td>\n",
              "      <td>Never received.</td>\n",
              "      <td>One Star</td>\n",
              "      <td>1406073600</td>\n",
              "      <td>NaN</td>\n",
              "      <td>NaN</td>\n",
              "    </tr>\n",
              "  </tbody>\n",
              "</table>\n",
              "</div>\n",
              "      <button class=\"colab-df-convert\" onclick=\"convertToInteractive('df-08e8473a-0fb5-4c66-af0e-16cd0fdb691a')\"\n",
              "              title=\"Convert this dataframe to an interactive table.\"\n",
              "              style=\"display:none;\">\n",
              "        \n",
              "  <svg xmlns=\"http://www.w3.org/2000/svg\" height=\"24px\"viewBox=\"0 0 24 24\"\n",
              "       width=\"24px\">\n",
              "    <path d=\"M0 0h24v24H0V0z\" fill=\"none\"/>\n",
              "    <path d=\"M18.56 5.44l.94 2.06.94-2.06 2.06-.94-2.06-.94-.94-2.06-.94 2.06-2.06.94zm-11 1L8.5 8.5l.94-2.06 2.06-.94-2.06-.94L8.5 2.5l-.94 2.06-2.06.94zm10 10l.94 2.06.94-2.06 2.06-.94-2.06-.94-.94-2.06-.94 2.06-2.06.94z\"/><path d=\"M17.41 7.96l-1.37-1.37c-.4-.4-.92-.59-1.43-.59-.52 0-1.04.2-1.43.59L10.3 9.45l-7.72 7.72c-.78.78-.78 2.05 0 2.83L4 21.41c.39.39.9.59 1.41.59.51 0 1.02-.2 1.41-.59l7.78-7.78 2.81-2.81c.8-.78.8-2.07 0-2.86zM5.41 20L4 18.59l7.72-7.72 1.47 1.35L5.41 20z\"/>\n",
              "  </svg>\n",
              "      </button>\n",
              "      \n",
              "  <style>\n",
              "    .colab-df-container {\n",
              "      display:flex;\n",
              "      flex-wrap:wrap;\n",
              "      gap: 12px;\n",
              "    }\n",
              "\n",
              "    .colab-df-convert {\n",
              "      background-color: #E8F0FE;\n",
              "      border: none;\n",
              "      border-radius: 50%;\n",
              "      cursor: pointer;\n",
              "      display: none;\n",
              "      fill: #1967D2;\n",
              "      height: 32px;\n",
              "      padding: 0 0 0 0;\n",
              "      width: 32px;\n",
              "    }\n",
              "\n",
              "    .colab-df-convert:hover {\n",
              "      background-color: #E2EBFA;\n",
              "      box-shadow: 0px 1px 2px rgba(60, 64, 67, 0.3), 0px 1px 3px 1px rgba(60, 64, 67, 0.15);\n",
              "      fill: #174EA6;\n",
              "    }\n",
              "\n",
              "    [theme=dark] .colab-df-convert {\n",
              "      background-color: #3B4455;\n",
              "      fill: #D2E3FC;\n",
              "    }\n",
              "\n",
              "    [theme=dark] .colab-df-convert:hover {\n",
              "      background-color: #434B5C;\n",
              "      box-shadow: 0px 1px 3px 1px rgba(0, 0, 0, 0.15);\n",
              "      filter: drop-shadow(0px 1px 2px rgba(0, 0, 0, 0.3));\n",
              "      fill: #FFFFFF;\n",
              "    }\n",
              "  </style>\n",
              "\n",
              "      <script>\n",
              "        const buttonEl =\n",
              "          document.querySelector('#df-08e8473a-0fb5-4c66-af0e-16cd0fdb691a button.colab-df-convert');\n",
              "        buttonEl.style.display =\n",
              "          google.colab.kernel.accessAllowed ? 'block' : 'none';\n",
              "\n",
              "        async function convertToInteractive(key) {\n",
              "          const element = document.querySelector('#df-08e8473a-0fb5-4c66-af0e-16cd0fdb691a');\n",
              "          const dataTable =\n",
              "            await google.colab.kernel.invokeFunction('convertToInteractive',\n",
              "                                                     [key], {});\n",
              "          if (!dataTable) return;\n",
              "\n",
              "          const docLinkHtml = 'Like what you see? Visit the ' +\n",
              "            '<a target=\"_blank\" href=https://colab.research.google.com/notebooks/data_table.ipynb>data table notebook</a>'\n",
              "            + ' to learn more about interactive tables.';\n",
              "          element.innerHTML = '';\n",
              "          dataTable['output_type'] = 'display_data';\n",
              "          await google.colab.output.renderOutput(dataTable, element);\n",
              "          const docLink = document.createElement('div');\n",
              "          docLink.innerHTML = docLinkHtml;\n",
              "          element.appendChild(docLink);\n",
              "        }\n",
              "      </script>\n",
              "    </div>\n",
              "  </div>\n",
              "  "
            ]
          },
          "metadata": {},
          "execution_count": 8
        }
      ]
    },
    {
      "cell_type": "code",
      "source": [
        "data.index.size"
      ],
      "metadata": {
        "colab": {
          "base_uri": "https://localhost:8080/"
        },
        "id": "2OZYwhLlVyAk",
        "outputId": "6e2560f6-336a-4b88-d368-6e673924c6e7"
      },
      "execution_count": null,
      "outputs": [
        {
          "output_type": "execute_result",
          "data": {
            "text/plain": [
              "26115"
            ]
          },
          "metadata": {},
          "execution_count": 9
        }
      ]
    },
    {
      "cell_type": "markdown",
      "metadata": {
        "id": "Pz9CqwIPi6UA"
      },
      "source": [
        "## Exercises"
      ]
    },
    {
      "cell_type": "markdown",
      "source": [
        "**1)** Select from data only the features named ```reviewText``` and ```overall``` putting them in a dataframe\n",
        "\n",
        "\n",
        "\n"
      ],
      "metadata": {
        "id": "_7uRHPMRS2oj"
      }
    },
    {
      "cell_type": "code",
      "source": [
        "data = data[[\"reviewText\", \"overall\"]]"
      ],
      "metadata": {
        "id": "T5cqgwFFTUwC"
      },
      "execution_count": null,
      "outputs": []
    },
    {
      "cell_type": "markdown",
      "metadata": {
        "id": "jLk7gkZji6UB"
      },
      "source": [
        "**2)** Verify the distribution of the number of stars"
      ]
    },
    {
      "cell_type": "code",
      "metadata": {
        "id": "AqSk4ERQi6UC",
        "colab": {
          "base_uri": "https://localhost:8080/"
        },
        "outputId": "6afbef91-c6a7-4189-8ffc-42554e03568d"
      },
      "source": [
        "data[\"overall\"].value_counts()"
      ],
      "execution_count": null,
      "outputs": [
        {
          "output_type": "execute_result",
          "data": {
            "text/plain": [
              "1.0    5223\n",
              "2.0    5223\n",
              "3.0    5223\n",
              "4.0    5223\n",
              "5.0    5223\n",
              "Name: overall, dtype: int64"
            ]
          },
          "metadata": {},
          "execution_count": 11
        }
      ]
    },
    {
      "cell_type": "markdown",
      "source": [
        "**3)** Remove from data the reviews rated with 3 stars."
      ],
      "metadata": {
        "id": "h7TL47guxDsK"
      }
    },
    {
      "cell_type": "code",
      "source": [
        "data = data[data[\"overall\"] != 3]"
      ],
      "metadata": {
        "id": "FkyZSnkByHdl"
      },
      "execution_count": null,
      "outputs": []
    },
    {
      "cell_type": "markdown",
      "metadata": {
        "id": "c5JNI0iWi6UH"
      },
      "source": [
        "**4)** Add a `label` column to the DataFrame whose value is `\"pos\"` for reviews with 4 stars, `\"very_pos\"` for 5-rated reviews, `\"neg\"` for reviews with 2 stars and `\"very_neg\"` for 1-rated reviews."
      ]
    },
    {
      "cell_type": "code",
      "source": [
        "def mapToLabel(value):\n",
        "  if value == 1:\n",
        "    return \"very_neg\"\n",
        "  elif value == 2:\n",
        "    return \"neg\"\n",
        "  elif value == 4:\n",
        "    return \"pos\"\n",
        "  elif value == 5:\n",
        "    return \"very_pos\""
      ],
      "metadata": {
        "id": "2ol1Bn9L0iqs"
      },
      "execution_count": null,
      "outputs": []
    },
    {
      "cell_type": "code",
      "metadata": {
        "id": "68H30da7i6UH",
        "colab": {
          "base_uri": "https://localhost:8080/",
          "height": 206
        },
        "outputId": "727e2203-1735-444b-f336-6d3b4d38d90d"
      },
      "source": [
        "data[\"label\"] = data[\"overall\"].apply(mapToLabel)\n",
        "\n",
        "data.head() # To visualize the new dataframe"
      ],
      "execution_count": null,
      "outputs": [
        {
          "output_type": "execute_result",
          "data": {
            "text/plain": [
              "                                          reviewText  overall     label\n",
              "0  This magazine has a catchy title and very nice...      1.0  very_neg\n",
              "1  Before it was easy to go directly to the New Y...      1.0  very_neg\n",
              "2  I don't really understand why this product is ...      1.0  very_neg\n",
              "3                        Looked nicer in the picture      1.0  very_neg\n",
              "4                                    Never received.      1.0  very_neg"
            ],
            "text/html": [
              "\n",
              "  <div id=\"df-59bfe7c5-bb10-4bf1-93a3-815f79096fde\">\n",
              "    <div class=\"colab-df-container\">\n",
              "      <div>\n",
              "<style scoped>\n",
              "    .dataframe tbody tr th:only-of-type {\n",
              "        vertical-align: middle;\n",
              "    }\n",
              "\n",
              "    .dataframe tbody tr th {\n",
              "        vertical-align: top;\n",
              "    }\n",
              "\n",
              "    .dataframe thead th {\n",
              "        text-align: right;\n",
              "    }\n",
              "</style>\n",
              "<table border=\"1\" class=\"dataframe\">\n",
              "  <thead>\n",
              "    <tr style=\"text-align: right;\">\n",
              "      <th></th>\n",
              "      <th>reviewText</th>\n",
              "      <th>overall</th>\n",
              "      <th>label</th>\n",
              "    </tr>\n",
              "  </thead>\n",
              "  <tbody>\n",
              "    <tr>\n",
              "      <th>0</th>\n",
              "      <td>This magazine has a catchy title and very nice...</td>\n",
              "      <td>1.0</td>\n",
              "      <td>very_neg</td>\n",
              "    </tr>\n",
              "    <tr>\n",
              "      <th>1</th>\n",
              "      <td>Before it was easy to go directly to the New Y...</td>\n",
              "      <td>1.0</td>\n",
              "      <td>very_neg</td>\n",
              "    </tr>\n",
              "    <tr>\n",
              "      <th>2</th>\n",
              "      <td>I don't really understand why this product is ...</td>\n",
              "      <td>1.0</td>\n",
              "      <td>very_neg</td>\n",
              "    </tr>\n",
              "    <tr>\n",
              "      <th>3</th>\n",
              "      <td>Looked nicer in the picture</td>\n",
              "      <td>1.0</td>\n",
              "      <td>very_neg</td>\n",
              "    </tr>\n",
              "    <tr>\n",
              "      <th>4</th>\n",
              "      <td>Never received.</td>\n",
              "      <td>1.0</td>\n",
              "      <td>very_neg</td>\n",
              "    </tr>\n",
              "  </tbody>\n",
              "</table>\n",
              "</div>\n",
              "      <button class=\"colab-df-convert\" onclick=\"convertToInteractive('df-59bfe7c5-bb10-4bf1-93a3-815f79096fde')\"\n",
              "              title=\"Convert this dataframe to an interactive table.\"\n",
              "              style=\"display:none;\">\n",
              "        \n",
              "  <svg xmlns=\"http://www.w3.org/2000/svg\" height=\"24px\"viewBox=\"0 0 24 24\"\n",
              "       width=\"24px\">\n",
              "    <path d=\"M0 0h24v24H0V0z\" fill=\"none\"/>\n",
              "    <path d=\"M18.56 5.44l.94 2.06.94-2.06 2.06-.94-2.06-.94-.94-2.06-.94 2.06-2.06.94zm-11 1L8.5 8.5l.94-2.06 2.06-.94-2.06-.94L8.5 2.5l-.94 2.06-2.06.94zm10 10l.94 2.06.94-2.06 2.06-.94-2.06-.94-.94-2.06-.94 2.06-2.06.94z\"/><path d=\"M17.41 7.96l-1.37-1.37c-.4-.4-.92-.59-1.43-.59-.52 0-1.04.2-1.43.59L10.3 9.45l-7.72 7.72c-.78.78-.78 2.05 0 2.83L4 21.41c.39.39.9.59 1.41.59.51 0 1.02-.2 1.41-.59l7.78-7.78 2.81-2.81c.8-.78.8-2.07 0-2.86zM5.41 20L4 18.59l7.72-7.72 1.47 1.35L5.41 20z\"/>\n",
              "  </svg>\n",
              "      </button>\n",
              "      \n",
              "  <style>\n",
              "    .colab-df-container {\n",
              "      display:flex;\n",
              "      flex-wrap:wrap;\n",
              "      gap: 12px;\n",
              "    }\n",
              "\n",
              "    .colab-df-convert {\n",
              "      background-color: #E8F0FE;\n",
              "      border: none;\n",
              "      border-radius: 50%;\n",
              "      cursor: pointer;\n",
              "      display: none;\n",
              "      fill: #1967D2;\n",
              "      height: 32px;\n",
              "      padding: 0 0 0 0;\n",
              "      width: 32px;\n",
              "    }\n",
              "\n",
              "    .colab-df-convert:hover {\n",
              "      background-color: #E2EBFA;\n",
              "      box-shadow: 0px 1px 2px rgba(60, 64, 67, 0.3), 0px 1px 3px 1px rgba(60, 64, 67, 0.15);\n",
              "      fill: #174EA6;\n",
              "    }\n",
              "\n",
              "    [theme=dark] .colab-df-convert {\n",
              "      background-color: #3B4455;\n",
              "      fill: #D2E3FC;\n",
              "    }\n",
              "\n",
              "    [theme=dark] .colab-df-convert:hover {\n",
              "      background-color: #434B5C;\n",
              "      box-shadow: 0px 1px 3px 1px rgba(0, 0, 0, 0.15);\n",
              "      filter: drop-shadow(0px 1px 2px rgba(0, 0, 0, 0.3));\n",
              "      fill: #FFFFFF;\n",
              "    }\n",
              "  </style>\n",
              "\n",
              "      <script>\n",
              "        const buttonEl =\n",
              "          document.querySelector('#df-59bfe7c5-bb10-4bf1-93a3-815f79096fde button.colab-df-convert');\n",
              "        buttonEl.style.display =\n",
              "          google.colab.kernel.accessAllowed ? 'block' : 'none';\n",
              "\n",
              "        async function convertToInteractive(key) {\n",
              "          const element = document.querySelector('#df-59bfe7c5-bb10-4bf1-93a3-815f79096fde');\n",
              "          const dataTable =\n",
              "            await google.colab.kernel.invokeFunction('convertToInteractive',\n",
              "                                                     [key], {});\n",
              "          if (!dataTable) return;\n",
              "\n",
              "          const docLinkHtml = 'Like what you see? Visit the ' +\n",
              "            '<a target=\"_blank\" href=https://colab.research.google.com/notebooks/data_table.ipynb>data table notebook</a>'\n",
              "            + ' to learn more about interactive tables.';\n",
              "          element.innerHTML = '';\n",
              "          dataTable['output_type'] = 'display_data';\n",
              "          await google.colab.output.renderOutput(dataTable, element);\n",
              "          const docLink = document.createElement('div');\n",
              "          docLink.innerHTML = docLinkHtml;\n",
              "          element.appendChild(docLink);\n",
              "        }\n",
              "      </script>\n",
              "    </div>\n",
              "  </div>\n",
              "  "
            ]
          },
          "metadata": {},
          "execution_count": 14
        }
      ]
    },
    {
      "cell_type": "markdown",
      "metadata": {
        "id": "gk3O4Igei6UK"
      },
      "source": [
        "**5)** Split the dataset randomly into a training set with 80% of data and a test set with the remaining 20%, stratifying the split by the `label` variable"
      ]
    },
    {
      "cell_type": "code",
      "metadata": {
        "id": "6wN8ID9ii6UL",
        "colab": {
          "base_uri": "https://localhost:8080/"
        },
        "outputId": "cb29130f-ee8e-4d22-84d5-9f1e062c31cc"
      },
      "source": [
        "y = data[\"label\"]\n",
        "X = data[\"reviewText\"]\n",
        "X_train, X_test, y_train, y_test = train_test_split(X, y, test_size=0.2, random_state=42, stratify=y)\n",
        "\n",
        "print(\"training set shape: \" + str(X_train.shape))\n",
        "print(\"Test set shape: \" + str(X_test.shape))"
      ],
      "execution_count": null,
      "outputs": [
        {
          "output_type": "stream",
          "name": "stdout",
          "text": [
            "training set shape: (16713,)\n",
            "Test set shape: (4179,)\n"
          ]
        }
      ]
    },
    {
      "cell_type": "code",
      "source": [
        "y_train.value_counts()"
      ],
      "metadata": {
        "colab": {
          "base_uri": "https://localhost:8080/"
        },
        "id": "JyocOUFR1WjA",
        "outputId": "b504b582-6ea2-4983-dfc0-c86487971f9c"
      },
      "execution_count": null,
      "outputs": [
        {
          "output_type": "execute_result",
          "data": {
            "text/plain": [
              "pos         4179\n",
              "neg         4178\n",
              "very_neg    4178\n",
              "very_pos    4178\n",
              "Name: label, dtype: int64"
            ]
          },
          "metadata": {},
          "execution_count": 16
        }
      ]
    },
    {
      "cell_type": "code",
      "source": [
        "y_test.value_counts()"
      ],
      "metadata": {
        "colab": {
          "base_uri": "https://localhost:8080/"
        },
        "id": "5xMEoSz41jSd",
        "outputId": "c4956a0d-9c25-4623-a0f0-e1fe74f93947"
      },
      "execution_count": null,
      "outputs": [
        {
          "output_type": "execute_result",
          "data": {
            "text/plain": [
              "very_neg    1045\n",
              "very_pos    1045\n",
              "neg         1045\n",
              "pos         1044\n",
              "Name: label, dtype: int64"
            ]
          },
          "metadata": {},
          "execution_count": 17
        }
      ]
    },
    {
      "cell_type": "markdown",
      "metadata": {
        "id": "BLD_buBZi6U6"
      },
      "source": [
        "**6)** Create a tf.idf vector space model from training reviews excluding words appearing in less than 3 documents and using bigrams in addition to single words. Then, extract the document-term matrix for them."
      ]
    },
    {
      "cell_type": "code",
      "metadata": {
        "id": "mlZ0Om1Qi6U7"
      },
      "source": [
        "vect = TfidfVectorizer(min_df=3, ngram_range=(1,2))\n",
        "train_dtm = vect.fit_transform(X_train)"
      ],
      "execution_count": null,
      "outputs": []
    },
    {
      "cell_type": "markdown",
      "metadata": {
        "id": "F7Xy6Oymi6VC"
      },
      "source": [
        "**7)** Train a logistic regression classifier on the training reviews, using the representation created above"
      ]
    },
    {
      "cell_type": "code",
      "metadata": {
        "id": "-l3dzmV0i6VG",
        "colab": {
          "base_uri": "https://localhost:8080/"
        },
        "outputId": "32d8ce77-51f2-4179-969f-a6f40904385d"
      },
      "source": [
        "%%time\n",
        "model = LogisticRegression(max_iter=500)\n",
        "model.fit(train_dtm, y_train);"
      ],
      "execution_count": null,
      "outputs": [
        {
          "output_type": "stream",
          "name": "stdout",
          "text": [
            "CPU times: user 23.5 s, sys: 1min 13s, total: 1min 36s\n",
            "Wall time: 53.5 s\n"
          ]
        }
      ]
    },
    {
      "cell_type": "markdown",
      "metadata": {
        "id": "K1gSb6gDi6VM"
      },
      "source": [
        "**8)** Verify the accuracy of the classifier on the test set"
      ]
    },
    {
      "cell_type": "code",
      "metadata": {
        "id": "ooWsEbBmi6VN",
        "colab": {
          "base_uri": "https://localhost:8080/"
        },
        "outputId": "92b18841-c570-459b-eb7e-b585703b5f12"
      },
      "source": [
        "test_dtm = vect.transform(X_test)\n",
        "model.score(test_dtm, y_test)"
      ],
      "execution_count": null,
      "outputs": [
        {
          "output_type": "execute_result",
          "data": {
            "text/plain": [
              "0.6042115338597751"
            ]
          },
          "metadata": {},
          "execution_count": 20
        }
      ]
    },
    {
      "cell_type": "markdown",
      "source": [
        "**9)** Print the confusion matrix"
      ],
      "metadata": {
        "id": "lvQRHc_55w0b"
      }
    },
    {
      "cell_type": "code",
      "source": [
        "y_pred = model.predict(test_dtm)"
      ],
      "metadata": {
        "id": "ElBYnKIl8jFH"
      },
      "execution_count": null,
      "outputs": []
    },
    {
      "cell_type": "code",
      "source": [
        "calculated_confusion_matrix = confusion_matrix(y_test, y_pred)\n",
        "confusion_matrix_display = ConfusionMatrixDisplay(calculated_confusion_matrix)\n",
        "confusion_matrix_display.plot()"
      ],
      "metadata": {
        "colab": {
          "base_uri": "https://localhost:8080/",
          "height": 296
        },
        "id": "luTN5AGr55MB",
        "outputId": "516a66ce-97a9-4f80-ebca-90082f6a2fcb"
      },
      "execution_count": null,
      "outputs": [
        {
          "output_type": "execute_result",
          "data": {
            "text/plain": [
              "<sklearn.metrics._plot.confusion_matrix.ConfusionMatrixDisplay at 0x7fc8b883be90>"
            ]
          },
          "metadata": {},
          "execution_count": 22
        },
        {
          "output_type": "display_data",
          "data": {
            "text/plain": [
              "<Figure size 432x288 with 2 Axes>"
            ],
            "image/png": "[encoded data removed]"
          },
          "metadata": {
            "needs_background": "light"
          }
        }
      ]
    }
  ]
}