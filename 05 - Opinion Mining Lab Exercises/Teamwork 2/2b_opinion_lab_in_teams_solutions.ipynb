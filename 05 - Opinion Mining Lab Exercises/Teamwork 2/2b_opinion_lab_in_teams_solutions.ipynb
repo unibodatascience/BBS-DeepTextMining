{
  "nbformat": 4,
  "nbformat_minor": 0,
  "metadata": {
    "kernelspec": {
      "display_name": "Python 3",
      "language": "python",
      "name": "python3"
    },
    "language_info": {
      "codemirror_mode": {
        "name": "ipython",
        "version": 3
      },
      "file_extension": ".py",
      "mimetype": "text/x-python",
      "name": "python",
      "nbconvert_exporter": "python",
      "pygments_lexer": "ipython3",
      "version": "3.5.2"
    },
    "colab": {
      "name": "2b-opinion-lab-in-teams-solutions.ipynb",
      "provenance": [],
      "collapsed_sections": []
    }
  },
  "cells": [
    {
      "cell_type": "markdown",
      "metadata": {
        "id": "fzuf3cVHi6TS"
      },
      "source": [
        "# Opinion Mining and Sentiment Analysis: Lab In Teams\n",
        "\n",
        "**Text Mining unit**\n",
        "\n",
        "_Prof. Gianluca Moro, Dott. Ing. Nicola Piscaglia – DISI, University of Bologna_\n",
        "\n",
        "**Bologna Business School** - Alma Mater Studiorum Università di Bologna"
      ]
    },
    {
      "cell_type": "markdown",
      "metadata": {
        "id": "WOBjMeN9i6TV"
      },
      "source": [
        "## Instructions\n",
        "- The provided exercises must be executed by teams up to 4 students indicated by the teacher, different teams should not communicate with each other\n",
        "\n",
        "- It is allowed to consult course material and the Web for advice\n",
        "\n",
        "- If still in doubt about anything, ask the teacher\n",
        "\n",
        "- At the end, the file must contain all the required results (as code cell outputs) along with all the commands necessary to reproduce them; \n",
        "\n",
        "- The function of every command or group of related commands\n",
        "must be documented clearly and concisely. \n",
        "\n",
        "- In order to work in pairs, you can access the same Google account that you created for your group and edit the notebook on Google Colab, but be careful to not overwrite the changes made by the other member of your group (to avoid this, you can edit a separate copy of the notebook and then merge the two members results before the end of the test). \n",
        "\n",
        "- You have 1.5 hours to complete the exercises."
      ]
    },
    {
      "cell_type": "markdown",
      "metadata": {
        "id": "9APLha11i6TX"
      },
      "source": [
        "## Setup\n",
        "\n",
        "The following cell contains all necessary imports"
      ]
    },
    {
      "cell_type": "code",
      "metadata": {
        "id": "sQSnHTwOi6TZ"
      },
      "source": [
        "import numpy as np\n",
        "import pandas as pd\n",
        "import nltk\n",
        "from sklearn.model_selection import train_test_split\n",
        "from sklearn.feature_extraction.text import TfidfVectorizer\n",
        "from sklearn.linear_model import LogisticRegression"
      ],
      "execution_count": null,
      "outputs": []
    },
    {
      "cell_type": "markdown",
      "metadata": {
        "id": "5dIq4xWzi6Th"
      },
      "source": [
        "Run the following to download the necessary files"
      ]
    },
    {
      "cell_type": "code",
      "metadata": {
        "id": "GEUzfMXAi6Ti"
      },
      "source": [
        "import os\n",
        "from urllib.request import urlretrieve\n",
        "def download(file, url):\n",
        "    if not os.path.exists(file):\n",
        "        urlretrieve(url, file)"
      ],
      "execution_count": null,
      "outputs": []
    },
    {
      "cell_type": "code",
      "metadata": {
        "id": "DXEZShfti6Tn"
      },
      "source": [
        "download(\"100k_reviews.tsv.gz\", \"https://www.dropbox.com/s/9fkjz84dnzfyimt/estore_reviews_100k.tsv.gz?dl=1\")\n",
        "download(\"positive-words.txt\", \"https://github.com/datascienceunibo/bbs-opinion-lab-2019/raw/master/positive-words.txt\")\n",
        "download(\"negative-words.txt\", \"https://github.com/datascienceunibo/bbs-opinion-lab-2019/raw/master/negative-words.txt\")"
      ],
      "execution_count": null,
      "outputs": []
    },
    {
      "cell_type": "code",
      "metadata": {
        "id": "T94vizGRi6Tq",
        "colab": {
          "base_uri": "https://localhost:8080/"
        },
        "outputId": "083b6732-16c0-45b7-9e87-b30745d2e7c6"
      },
      "source": [
        "nltk.download(\"punkt\")"
      ],
      "execution_count": null,
      "outputs": [
        {
          "output_type": "stream",
          "name": "stdout",
          "text": [
            "[nltk_data] Downloading package punkt to /root/nltk_data...\n",
            "[nltk_data]   Unzipping tokenizers/punkt.zip.\n"
          ]
        },
        {
          "output_type": "execute_result",
          "data": {
            "text/plain": [
              "True"
            ]
          },
          "metadata": {},
          "execution_count": 4
        }
      ]
    },
    {
      "cell_type": "markdown",
      "metadata": {
        "id": "HefuXgg9i6Tv"
      },
      "source": [
        "## Dataset\n",
        "\n",
        "We provide in the `100k_reviews.tsv.gz` file a dataset of 100,000 reviews posted on Amazon.com about DVDs of movies and TV series. Each review is labeled with a score between 1 and 5 stars.\n",
        "\n",
        "Run the following to correctly load the file into a pandas DataFrame."
      ]
    },
    {
      "cell_type": "code",
      "metadata": {
        "id": "YbYgg9e_i6Tx"
      },
      "source": [
        "data = pd.read_csv(\"100k_reviews.tsv.gz\", sep=\"\\t\", compression=\"gzip\")"
      ],
      "execution_count": null,
      "outputs": []
    },
    {
      "cell_type": "code",
      "metadata": {
        "id": "ZRi-zmR6i6T1",
        "colab": {
          "base_uri": "https://localhost:8080/",
          "height": 206
        },
        "outputId": "0abf0953-c38d-477a-f34e-ce8d4a4a3188"
      },
      "source": [
        "data.head()"
      ],
      "execution_count": null,
      "outputs": [
        {
          "output_type": "execute_result",
          "data": {
            "text/plain": [
              "                                                text  stars\n",
              "0  George Romero did the right thing when he pick...      5\n",
              "1  OK, that makes it sound like something out of ...      5\n",
              "2  - At a tribal village, a pensive Elizabeth Cur...      5\n",
              "3  Wow! This has to be one of the more unusual mo...      5\n",
              "4  Kevin Costner is one of those actors that I ne...      5"
            ],
            "text/html": [
              "\n",
              "  <div id=\"df-b3984fd3-5d31-4786-b72a-ce8c65de8e5b\">\n",
              "    <div class=\"colab-df-container\">\n",
              "      <div>\n",
              "<style scoped>\n",
              "    .dataframe tbody tr th:only-of-type {\n",
              "        vertical-align: middle;\n",
              "    }\n",
              "\n",
              "    .dataframe tbody tr th {\n",
              "        vertical-align: top;\n",
              "    }\n",
              "\n",
              "    .dataframe thead th {\n",
              "        text-align: right;\n",
              "    }\n",
              "</style>\n",
              "<table border=\"1\" class=\"dataframe\">\n",
              "  <thead>\n",
              "    <tr style=\"text-align: right;\">\n",
              "      <th></th>\n",
              "      <th>text</th>\n",
              "      <th>stars</th>\n",
              "    </tr>\n",
              "  </thead>\n",
              "  <tbody>\n",
              "    <tr>\n",
              "      <th>0</th>\n",
              "      <td>George Romero did the right thing when he pick...</td>\n",
              "      <td>5</td>\n",
              "    </tr>\n",
              "    <tr>\n",
              "      <th>1</th>\n",
              "      <td>OK, that makes it sound like something out of ...</td>\n",
              "      <td>5</td>\n",
              "    </tr>\n",
              "    <tr>\n",
              "      <th>2</th>\n",
              "      <td>- At a tribal village, a pensive Elizabeth Cur...</td>\n",
              "      <td>5</td>\n",
              "    </tr>\n",
              "    <tr>\n",
              "      <th>3</th>\n",
              "      <td>Wow! This has to be one of the more unusual mo...</td>\n",
              "      <td>5</td>\n",
              "    </tr>\n",
              "    <tr>\n",
              "      <th>4</th>\n",
              "      <td>Kevin Costner is one of those actors that I ne...</td>\n",
              "      <td>5</td>\n",
              "    </tr>\n",
              "  </tbody>\n",
              "</table>\n",
              "</div>\n",
              "      <button class=\"colab-df-convert\" onclick=\"convertToInteractive('df-b3984fd3-5d31-4786-b72a-ce8c65de8e5b')\"\n",
              "              title=\"Convert this dataframe to an interactive table.\"\n",
              "              style=\"display:none;\">\n",
              "        \n",
              "  <svg xmlns=\"http://www.w3.org/2000/svg\" height=\"24px\"viewBox=\"0 0 24 24\"\n",
              "       width=\"24px\">\n",
              "    <path d=\"M0 0h24v24H0V0z\" fill=\"none\"/>\n",
              "    <path d=\"M18.56 5.44l.94 2.06.94-2.06 2.06-.94-2.06-.94-.94-2.06-.94 2.06-2.06.94zm-11 1L8.5 8.5l.94-2.06 2.06-.94-2.06-.94L8.5 2.5l-.94 2.06-2.06.94zm10 10l.94 2.06.94-2.06 2.06-.94-2.06-.94-.94-2.06-.94 2.06-2.06.94z\"/><path d=\"M17.41 7.96l-1.37-1.37c-.4-.4-.92-.59-1.43-.59-.52 0-1.04.2-1.43.59L10.3 9.45l-7.72 7.72c-.78.78-.78 2.05 0 2.83L4 21.41c.39.39.9.59 1.41.59.51 0 1.02-.2 1.41-.59l7.78-7.78 2.81-2.81c.8-.78.8-2.07 0-2.86zM5.41 20L4 18.59l7.72-7.72 1.47 1.35L5.41 20z\"/>\n",
              "  </svg>\n",
              "      </button>\n",
              "      \n",
              "  <style>\n",
              "    .colab-df-container {\n",
              "      display:flex;\n",
              "      flex-wrap:wrap;\n",
              "      gap: 12px;\n",
              "    }\n",
              "\n",
              "    .colab-df-convert {\n",
              "      background-color: #E8F0FE;\n",
              "      border: none;\n",
              "      border-radius: 50%;\n",
              "      cursor: pointer;\n",
              "      display: none;\n",
              "      fill: #1967D2;\n",
              "      height: 32px;\n",
              "      padding: 0 0 0 0;\n",
              "      width: 32px;\n",
              "    }\n",
              "\n",
              "    .colab-df-convert:hover {\n",
              "      background-color: #E2EBFA;\n",
              "      box-shadow: 0px 1px 2px rgba(60, 64, 67, 0.3), 0px 1px 3px 1px rgba(60, 64, 67, 0.15);\n",
              "      fill: #174EA6;\n",
              "    }\n",
              "\n",
              "    [theme=dark] .colab-df-convert {\n",
              "      background-color: #3B4455;\n",
              "      fill: #D2E3FC;\n",
              "    }\n",
              "\n",
              "    [theme=dark] .colab-df-convert:hover {\n",
              "      background-color: #434B5C;\n",
              "      box-shadow: 0px 1px 3px 1px rgba(0, 0, 0, 0.15);\n",
              "      filter: drop-shadow(0px 1px 2px rgba(0, 0, 0, 0.3));\n",
              "      fill: #FFFFFF;\n",
              "    }\n",
              "  </style>\n",
              "\n",
              "      <script>\n",
              "        const buttonEl =\n",
              "          document.querySelector('#df-b3984fd3-5d31-4786-b72a-ce8c65de8e5b button.colab-df-convert');\n",
              "        buttonEl.style.display =\n",
              "          google.colab.kernel.accessAllowed ? 'block' : 'none';\n",
              "\n",
              "        async function convertToInteractive(key) {\n",
              "          const element = document.querySelector('#df-b3984fd3-5d31-4786-b72a-ce8c65de8e5b');\n",
              "          const dataTable =\n",
              "            await google.colab.kernel.invokeFunction('convertToInteractive',\n",
              "                                                     [key], {});\n",
              "          if (!dataTable) return;\n",
              "\n",
              "          const docLinkHtml = 'Like what you see? Visit the ' +\n",
              "            '<a target=\"_blank\" href=https://colab.research.google.com/notebooks/data_table.ipynb>data table notebook</a>'\n",
              "            + ' to learn more about interactive tables.';\n",
              "          element.innerHTML = '';\n",
              "          dataTable['output_type'] = 'display_data';\n",
              "          await google.colab.output.renderOutput(dataTable, element);\n",
              "          const docLink = document.createElement('div');\n",
              "          docLink.innerHTML = docLinkHtml;\n",
              "          element.appendChild(docLink);\n",
              "        }\n",
              "      </script>\n",
              "    </div>\n",
              "  </div>\n",
              "  "
            ]
          },
          "metadata": {},
          "execution_count": 6
        }
      ]
    },
    {
      "cell_type": "code",
      "metadata": {
        "id": "UgasEHGHLsTL"
      },
      "source": [
        "data = data.sample(5000)"
      ],
      "execution_count": null,
      "outputs": []
    },
    {
      "cell_type": "markdown",
      "metadata": {
        "id": "0OpDNZWvi6T7"
      },
      "source": [
        "Within the teamwork you will also make use of the Hu and Liu sentiment lexicon: run the following to load sets of positive and negative words."
      ]
    },
    {
      "cell_type": "code",
      "metadata": {
        "id": "WbTxjuJBi6T8"
      },
      "source": [
        "def scan_hu_liu(f):\n",
        "    for line in f:\n",
        "        line = line.decode(errors=\"ignore\").strip()\n",
        "        if line and not line.startswith(\";\"):\n",
        "            yield line\n",
        "\n",
        "def load_hu_liu(filename):\n",
        "    with open(filename, \"rb\") as f:\n",
        "        return set(scan_hu_liu(f))\n",
        "\n",
        "hu_liu_pos = load_hu_liu(\"positive-words.txt\")\n",
        "hu_liu_neg = load_hu_liu(\"negative-words.txt\")"
      ],
      "execution_count": null,
      "outputs": []
    },
    {
      "cell_type": "markdown",
      "metadata": {
        "id": "Pz9CqwIPi6UA"
      },
      "source": [
        "## Exercises"
      ]
    },
    {
      "cell_type": "markdown",
      "metadata": {
        "id": "jLk7gkZji6UB"
      },
      "source": [
        "**1)** Verify the distribution of the number of stars"
      ]
    },
    {
      "cell_type": "code",
      "metadata": {
        "id": "AqSk4ERQi6UC",
        "colab": {
          "base_uri": "https://localhost:8080/"
        },
        "outputId": "76e9c4a3-8cfc-4326-89e7-5bf4618bc2a9"
      },
      "source": [
        "data[\"stars\"].value_counts()"
      ],
      "execution_count": null,
      "outputs": [
        {
          "output_type": "execute_result",
          "data": {
            "text/plain": [
              "5    2406\n",
              "4    1305\n",
              "3     696\n",
              "2     343\n",
              "1     250\n",
              "Name: stars, dtype: int64"
            ]
          },
          "metadata": {},
          "execution_count": 9
        }
      ]
    },
    {
      "cell_type": "markdown",
      "metadata": {
        "id": "c5JNI0iWi6UH"
      },
      "source": [
        "**2)** Add a `label` column to the DataFrame whose value is `\"pos\"` for reviews with 4 or 5 stars and `\"neg\"` for reviews with 3 stars or less"
      ]
    },
    {
      "cell_type": "code",
      "metadata": {
        "id": "68H30da7i6UH",
        "colab": {
          "base_uri": "https://localhost:8080/",
          "height": 206
        },
        "outputId": "c9f5b6c3-84a1-4bba-c852-5df4aca3eed5"
      },
      "source": [
        "data[\"label\"] = np.where(data[\"stars\"] >= 4, \"pos\", \"neg\")\n",
        "\n",
        "data.head() # To visualize the new dataframe"
      ],
      "execution_count": null,
      "outputs": [
        {
          "output_type": "execute_result",
          "data": {
            "text/plain": [
              "                                                    text  stars label\n",
              "7724   Here is a film that just might be less effecti...      5   pos\n",
              "72819  I'm talking about Chaplain of course.  In City...      5   pos\n",
              "5034   This series was a excellent vampire experience...      5   pos\n",
              "9585   The movie is about famed novelist and writer I...      3   neg\n",
              "95801  If you're considering buying Season 1 of Enter...      5   pos"
            ],
            "text/html": [
              "\n",
              "  <div id=\"df-d5a892b6-23b8-47ad-a833-daef1672aa2a\">\n",
              "    <div class=\"colab-df-container\">\n",
              "      <div>\n",
              "<style scoped>\n",
              "    .dataframe tbody tr th:only-of-type {\n",
              "        vertical-align: middle;\n",
              "    }\n",
              "\n",
              "    .dataframe tbody tr th {\n",
              "        vertical-align: top;\n",
              "    }\n",
              "\n",
              "    .dataframe thead th {\n",
              "        text-align: right;\n",
              "    }\n",
              "</style>\n",
              "<table border=\"1\" class=\"dataframe\">\n",
              "  <thead>\n",
              "    <tr style=\"text-align: right;\">\n",
              "      <th></th>\n",
              "      <th>text</th>\n",
              "      <th>stars</th>\n",
              "      <th>label</th>\n",
              "    </tr>\n",
              "  </thead>\n",
              "  <tbody>\n",
              "    <tr>\n",
              "      <th>7724</th>\n",
              "      <td>Here is a film that just might be less effecti...</td>\n",
              "      <td>5</td>\n",
              "      <td>pos</td>\n",
              "    </tr>\n",
              "    <tr>\n",
              "      <th>72819</th>\n",
              "      <td>I'm talking about Chaplain of course.  In City...</td>\n",
              "      <td>5</td>\n",
              "      <td>pos</td>\n",
              "    </tr>\n",
              "    <tr>\n",
              "      <th>5034</th>\n",
              "      <td>This series was a excellent vampire experience...</td>\n",
              "      <td>5</td>\n",
              "      <td>pos</td>\n",
              "    </tr>\n",
              "    <tr>\n",
              "      <th>9585</th>\n",
              "      <td>The movie is about famed novelist and writer I...</td>\n",
              "      <td>3</td>\n",
              "      <td>neg</td>\n",
              "    </tr>\n",
              "    <tr>\n",
              "      <th>95801</th>\n",
              "      <td>If you're considering buying Season 1 of Enter...</td>\n",
              "      <td>5</td>\n",
              "      <td>pos</td>\n",
              "    </tr>\n",
              "  </tbody>\n",
              "</table>\n",
              "</div>\n",
              "      <button class=\"colab-df-convert\" onclick=\"convertToInteractive('df-d5a892b6-23b8-47ad-a833-daef1672aa2a')\"\n",
              "              title=\"Convert this dataframe to an interactive table.\"\n",
              "              style=\"display:none;\">\n",
              "        \n",
              "  <svg xmlns=\"http://www.w3.org/2000/svg\" height=\"24px\"viewBox=\"0 0 24 24\"\n",
              "       width=\"24px\">\n",
              "    <path d=\"M0 0h24v24H0V0z\" fill=\"none\"/>\n",
              "    <path d=\"M18.56 5.44l.94 2.06.94-2.06 2.06-.94-2.06-.94-.94-2.06-.94 2.06-2.06.94zm-11 1L8.5 8.5l.94-2.06 2.06-.94-2.06-.94L8.5 2.5l-.94 2.06-2.06.94zm10 10l.94 2.06.94-2.06 2.06-.94-2.06-.94-.94-2.06-.94 2.06-2.06.94z\"/><path d=\"M17.41 7.96l-1.37-1.37c-.4-.4-.92-.59-1.43-.59-.52 0-1.04.2-1.43.59L10.3 9.45l-7.72 7.72c-.78.78-.78 2.05 0 2.83L4 21.41c.39.39.9.59 1.41.59.51 0 1.02-.2 1.41-.59l7.78-7.78 2.81-2.81c.8-.78.8-2.07 0-2.86zM5.41 20L4 18.59l7.72-7.72 1.47 1.35L5.41 20z\"/>\n",
              "  </svg>\n",
              "      </button>\n",
              "      \n",
              "  <style>\n",
              "    .colab-df-container {\n",
              "      display:flex;\n",
              "      flex-wrap:wrap;\n",
              "      gap: 12px;\n",
              "    }\n",
              "\n",
              "    .colab-df-convert {\n",
              "      background-color: #E8F0FE;\n",
              "      border: none;\n",
              "      border-radius: 50%;\n",
              "      cursor: pointer;\n",
              "      display: none;\n",
              "      fill: #1967D2;\n",
              "      height: 32px;\n",
              "      padding: 0 0 0 0;\n",
              "      width: 32px;\n",
              "    }\n",
              "\n",
              "    .colab-df-convert:hover {\n",
              "      background-color: #E2EBFA;\n",
              "      box-shadow: 0px 1px 2px rgba(60, 64, 67, 0.3), 0px 1px 3px 1px rgba(60, 64, 67, 0.15);\n",
              "      fill: #174EA6;\n",
              "    }\n",
              "\n",
              "    [theme=dark] .colab-df-convert {\n",
              "      background-color: #3B4455;\n",
              "      fill: #D2E3FC;\n",
              "    }\n",
              "\n",
              "    [theme=dark] .colab-df-convert:hover {\n",
              "      background-color: #434B5C;\n",
              "      box-shadow: 0px 1px 3px 1px rgba(0, 0, 0, 0.15);\n",
              "      filter: drop-shadow(0px 1px 2px rgba(0, 0, 0, 0.3));\n",
              "      fill: #FFFFFF;\n",
              "    }\n",
              "  </style>\n",
              "\n",
              "      <script>\n",
              "        const buttonEl =\n",
              "          document.querySelector('#df-d5a892b6-23b8-47ad-a833-daef1672aa2a button.colab-df-convert');\n",
              "        buttonEl.style.display =\n",
              "          google.colab.kernel.accessAllowed ? 'block' : 'none';\n",
              "\n",
              "        async function convertToInteractive(key) {\n",
              "          const element = document.querySelector('#df-d5a892b6-23b8-47ad-a833-daef1672aa2a');\n",
              "          const dataTable =\n",
              "            await google.colab.kernel.invokeFunction('convertToInteractive',\n",
              "                                                     [key], {});\n",
              "          if (!dataTable) return;\n",
              "\n",
              "          const docLinkHtml = 'Like what you see? Visit the ' +\n",
              "            '<a target=\"_blank\" href=https://colab.research.google.com/notebooks/data_table.ipynb>data table notebook</a>'\n",
              "            + ' to learn more about interactive tables.';\n",
              "          element.innerHTML = '';\n",
              "          dataTable['output_type'] = 'display_data';\n",
              "          await google.colab.output.renderOutput(dataTable, element);\n",
              "          const docLink = document.createElement('div');\n",
              "          docLink.innerHTML = docLinkHtml;\n",
              "          element.appendChild(docLink);\n",
              "        }\n",
              "      </script>\n",
              "    </div>\n",
              "  </div>\n",
              "  "
            ]
          },
          "metadata": {},
          "execution_count": 10
        }
      ]
    },
    {
      "cell_type": "markdown",
      "metadata": {
        "id": "gk3O4Igei6UK"
      },
      "source": [
        "**3)** Split the dataset randomly into a training set with 80\\% of data and a test set with the remaining 20\\%"
      ]
    },
    {
      "cell_type": "code",
      "metadata": {
        "id": "6wN8ID9ii6UL",
        "colab": {
          "base_uri": "https://localhost:8080/"
        },
        "outputId": "0ec3b96d-3b16-49bc-8831-196deefb4dec"
      },
      "source": [
        "trainset, testset = train_test_split(data, test_size=0.2)\n",
        "\n",
        "print(\"training set shape: \" + str(trainset.shape))\n",
        "print(\"Test set shape: \" + str(testset.shape))"
      ],
      "execution_count": null,
      "outputs": [
        {
          "output_type": "stream",
          "name": "stdout",
          "text": [
            "training set shape: (4000, 3)\n",
            "Test set shape: (1000, 3)\n"
          ]
        }
      ]
    },
    {
      "cell_type": "markdown",
      "metadata": {
        "id": "T1LGzNIyi6UP"
      },
      "source": [
        "**4)** Create a function which accepts a text as input, counts the occurrences of positive and negative words from the Hu \\& Liu lexicon and return `\"pos\"` if there are more positive words than negative or `\"neg\"` otherwise"
      ]
    },
    {
      "cell_type": "code",
      "metadata": {
        "id": "x70_o09Ei6UQ"
      },
      "source": [
        "def sentiment_label(text):\n",
        "    words = nltk.word_tokenize(text)\n",
        "    pos_count = sum(1 for word in words if word in hu_liu_pos)\n",
        "    neg_count = sum(1 for word in words if word in hu_liu_neg)\n",
        "    return \"pos\" if pos_count > neg_count else \"neg\""
      ],
      "execution_count": null,
      "outputs": []
    },
    {
      "cell_type": "code",
      "metadata": {
        "id": "iEAE8_SAi6UX",
        "colab": {
          "base_uri": "https://localhost:8080/"
        },
        "outputId": "9d1d8b4b-acc8-4a3a-cff2-66157f78694c"
      },
      "source": [
        "# test\n",
        "(sentiment_label(\"This is awesome!\"),\n",
        " sentiment_label(\"This is horrible!\"))"
      ],
      "execution_count": null,
      "outputs": [
        {
          "output_type": "execute_result",
          "data": {
            "text/plain": [
              "('pos', 'neg')"
            ]
          },
          "metadata": {},
          "execution_count": 13
        }
      ]
    },
    {
      "cell_type": "markdown",
      "metadata": {
        "id": "b0mQn2iCi6Un"
      },
      "source": [
        "**4bis)** Apply the function above to test reviews and get the percentage of cases where the output function matches the known label"
      ]
    },
    {
      "cell_type": "code",
      "metadata": {
        "id": "tZSE8A7Di6Up",
        "colab": {
          "base_uri": "https://localhost:8080/"
        },
        "outputId": "f6a0a183-9343-4c53-db5d-2e1e4845a281"
      },
      "source": [
        "%%time\n",
        "lexicon_label = testset[\"text\"].apply(sentiment_label)\n",
        "\n",
        "print(lexicon_label)"
      ],
      "execution_count": null,
      "outputs": [
        {
          "output_type": "stream",
          "name": "stdout",
          "text": [
            "13300    pos\n",
            "23877    pos\n",
            "90444    pos\n",
            "22763    pos\n",
            "29277    neg\n",
            "        ... \n",
            "68387    pos\n",
            "46199    pos\n",
            "77561    pos\n",
            "62437    pos\n",
            "4712     neg\n",
            "Name: text, Length: 1000, dtype: object\n",
            "CPU times: user 3.28 s, sys: 19.8 ms, total: 3.3 s\n",
            "Wall time: 4.24 s\n"
          ]
        }
      ]
    },
    {
      "cell_type": "markdown",
      "metadata": {
        "id": "RRQh_43oOVWZ"
      },
      "source": [
        "or..."
      ]
    },
    {
      "cell_type": "code",
      "metadata": {
        "id": "joOKBGmiNuos"
      },
      "source": [
        "lexicon_label = list(map(sentiment_label, testset[\"text\"]))"
      ],
      "execution_count": null,
      "outputs": []
    },
    {
      "cell_type": "code",
      "metadata": {
        "id": "WrHhUtT3kifF",
        "colab": {
          "base_uri": "https://localhost:8080/"
        },
        "outputId": "cc1f4d68-86f1-48a4-c67d-e1b9b9319cf7"
      },
      "source": [
        "lexicon_label == testset[\"label\"] # This way we check the calculated sentiment vs the known label"
      ],
      "execution_count": null,
      "outputs": [
        {
          "output_type": "execute_result",
          "data": {
            "text/plain": [
              "13300     True\n",
              "23877     True\n",
              "90444     True\n",
              "22763    False\n",
              "29277    False\n",
              "         ...  \n",
              "68387     True\n",
              "46199     True\n",
              "77561    False\n",
              "62437    False\n",
              "4712     False\n",
              "Name: label, Length: 1000, dtype: bool"
            ]
          },
          "metadata": {},
          "execution_count": 16
        }
      ]
    },
    {
      "cell_type": "code",
      "metadata": {
        "id": "Bl_-KH9si6Ux",
        "colab": {
          "base_uri": "https://localhost:8080/"
        },
        "outputId": "804ac7f7-d1c8-42d3-989d-cc3fa0699516"
      },
      "source": [
        "np.mean(lexicon_label == testset[\"label\"]) # True is converted to 1 and False to 0"
      ],
      "execution_count": null,
      "outputs": [
        {
          "output_type": "execute_result",
          "data": {
            "text/plain": [
              "0.634"
            ]
          },
          "metadata": {},
          "execution_count": 17
        }
      ]
    },
    {
      "cell_type": "markdown",
      "metadata": {
        "id": "BLD_buBZi6U6"
      },
      "source": [
        "**5)** Create a tf.idf vector space model from training reviews excluding words appearing in less than 3 documents and extract the document-term matrix for them"
      ]
    },
    {
      "cell_type": "code",
      "metadata": {
        "id": "mlZ0Om1Qi6U7"
      },
      "source": [
        "vect = TfidfVectorizer(min_df=3)\n",
        "train_dtm = vect.fit_transform(trainset[\"text\"])"
      ],
      "execution_count": null,
      "outputs": []
    },
    {
      "cell_type": "markdown",
      "metadata": {
        "id": "F7Xy6Oymi6VC"
      },
      "source": [
        "**6)** Train a logistic regression classifier on the training reviews, using the representation created above"
      ]
    },
    {
      "cell_type": "code",
      "metadata": {
        "id": "-l3dzmV0i6VG",
        "colab": {
          "base_uri": "https://localhost:8080/"
        },
        "outputId": "c679d0d5-2856-4c48-b805-89c51c5ad708"
      },
      "source": [
        "%%time\n",
        "model = LogisticRegression(max_iter=500)\n",
        "model.fit(train_dtm, trainset[\"label\"]);"
      ],
      "execution_count": null,
      "outputs": [
        {
          "output_type": "stream",
          "name": "stdout",
          "text": [
            "CPU times: user 557 ms, sys: 586 ms, total: 1.14 s\n",
            "Wall time: 1.13 s\n"
          ]
        }
      ]
    },
    {
      "cell_type": "markdown",
      "metadata": {
        "id": "K1gSb6gDi6VM"
      },
      "source": [
        "**7)** Verify the accuracy of the classifier on the test set"
      ]
    },
    {
      "cell_type": "code",
      "metadata": {
        "id": "ooWsEbBmi6VN",
        "colab": {
          "base_uri": "https://localhost:8080/"
        },
        "outputId": "0d669586-6bfc-4f0a-ee42-11f17ca378d7"
      },
      "source": [
        "test_dtm = vect.transform(testset[\"text\"])\n",
        "model.score(test_dtm, testset[\"label\"])"
      ],
      "execution_count": null,
      "outputs": [
        {
          "output_type": "execute_result",
          "data": {
            "text/plain": [
              "0.778"
            ]
          },
          "metadata": {},
          "execution_count": 20
        }
      ]
    },
    {
      "cell_type": "markdown",
      "metadata": {
        "id": "JXQS-y1mi6VU"
      },
      "source": [
        "**8)** Extract the 10 words with the highest regression coefficient and the 10 words with the lowest coefficient"
      ]
    },
    {
      "cell_type": "code",
      "metadata": {
        "id": "sxhhdb0ri6VV",
        "colab": {
          "base_uri": "https://localhost:8080/"
        },
        "outputId": "6471e446-33da-4ece-c0a5-c979d1003214"
      },
      "source": [
        "coefs = pd.Series(\n",
        "          model.coef_[0],\n",
        "    index=vect.get_feature_names()\n",
        ").sort_values()"
      ],
      "execution_count": null,
      "outputs": [
        {
          "output_type": "stream",
          "name": "stderr",
          "text": [
            "/usr/local/lib/python3.7/dist-packages/sklearn/utils/deprecation.py:87: FutureWarning: Function get_feature_names is deprecated; get_feature_names is deprecated in 1.0 and will be removed in 1.2. Please use get_feature_names_out instead.\n",
            "  warnings.warn(msg, category=FutureWarning)\n"
          ]
        }
      ]
    },
    {
      "cell_type": "code",
      "metadata": {
        "id": "KKHuRd9Di6Vh",
        "colab": {
          "base_uri": "https://localhost:8080/"
        },
        "outputId": "40bad859-fd83-4db1-e597-d2b2140abda7"
      },
      "source": [
        "coefs.head(10)"
      ],
      "execution_count": null,
      "outputs": [
        {
          "output_type": "execute_result",
          "data": {
            "text/plain": [
              "boring   -2.958191\n",
              "bad      -2.735670\n",
              "but      -2.665958\n",
              "worst    -2.657898\n",
              "stupid   -1.872586\n",
              "no       -1.847642\n",
              "not      -1.767202\n",
              "much     -1.610942\n",
              "only     -1.598726\n",
              "money    -1.597942\n",
              "dtype: float64"
            ]
          },
          "metadata": {},
          "execution_count": 22
        }
      ]
    },
    {
      "cell_type": "code",
      "metadata": {
        "id": "h1ZI_81Gi6Vn",
        "colab": {
          "base_uri": "https://localhost:8080/"
        },
        "outputId": "5a65d735-68f7-49b2-9652-d69ffd48865d"
      },
      "source": [
        "coefs.tail(10)"
      ],
      "execution_count": null,
      "outputs": [
        {
          "output_type": "execute_result",
          "data": {
            "text/plain": [
              "enjoy        1.565964\n",
              "favorite     1.597295\n",
              "wonderful    1.633455\n",
              "love         1.635895\n",
              "dvd          1.716200\n",
              "excellent    1.743889\n",
              "you          1.756413\n",
              "and          2.298236\n",
              "best         2.309310\n",
              "great        3.925792\n",
              "dtype: float64"
            ]
          },
          "metadata": {},
          "execution_count": 23
        }
      ]
    },
    {
      "cell_type": "markdown",
      "metadata": {
        "id": "XAC_soPwi6Vt"
      },
      "source": [
        "**9)** Create a function which accepts a text as input and returns a list of the only words from the text which are also present in the Hu and Liu lexicon (each distinct word must appear in the list as many times as it appears in the text)"
      ]
    },
    {
      "cell_type": "code",
      "metadata": {
        "id": "xuIK35Uri6Vu"
      },
      "source": [
        "hu_liu_all = hu_liu_pos | hu_liu_neg # union of two sets of positive and negative Hu&Liu opinion words\n",
        "\n",
        "def tokenize_hu_liu(text):\n",
        "    words = nltk.word_tokenize(text) # text tokenization in order to split words in the given text\n",
        "    return [word for word in words if word in hu_liu_all]"
      ],
      "execution_count": null,
      "outputs": []
    },
    {
      "cell_type": "code",
      "metadata": {
        "id": "2HEkfeTJi6V0",
        "colab": {
          "base_uri": "https://localhost:8080/"
        },
        "outputId": "2bf5e3d7-1cb9-42c3-9f1d-f6519bce3329"
      },
      "source": [
        "# test\n",
        "(tokenize_hu_liu(\"This is awesome awesome!\"), # \"This is awesome awesome\" --> [\"this\", \"is\", \"awesome\", \"awesome\"] --> [\"awesome\", \"awesome\"]\n",
        " tokenize_hu_liu(\"This is horrible!\")) # \"This is horrible\" --> [\"this\", \"is\", \"horrible\"] --> [\"horrible\"]"
      ],
      "execution_count": null,
      "outputs": [
        {
          "output_type": "execute_result",
          "data": {
            "text/plain": [
              "(['awesome', 'awesome'], ['horrible'])"
            ]
          },
          "metadata": {},
          "execution_count": 25
        }
      ]
    },
    {
      "cell_type": "markdown",
      "metadata": {
        "id": "-EV50BWMi6V7"
      },
      "source": [
        "**10)** Repeat points from 5 to 7 with a tf.idf vectorizer which uses the function above to extract tokens from text"
      ]
    },
    {
      "cell_type": "code",
      "metadata": {
        "id": "avs12WeZi6V8"
      },
      "source": [
        "vect = TfidfVectorizer(min_df=3, tokenizer=tokenize_hu_liu)\n",
        "train_dtm = vect.fit_transform(trainset[\"text\"])"
      ],
      "execution_count": null,
      "outputs": []
    },
    {
      "cell_type": "code",
      "metadata": {
        "id": "2YODtt9Ji6WB",
        "colab": {
          "base_uri": "https://localhost:8080/"
        },
        "outputId": "9d561ee7-3586-483c-a791-46238056e32e"
      },
      "source": [
        "%%time\n",
        "model = LogisticRegression(max_iter=500)\n",
        "model.fit(train_dtm, trainset[\"label\"]);"
      ],
      "execution_count": null,
      "outputs": [
        {
          "output_type": "stream",
          "name": "stdout",
          "text": [
            "CPU times: user 77.7 ms, sys: 34 µs, total: 77.8 ms\n",
            "Wall time: 77.7 ms\n"
          ]
        }
      ]
    },
    {
      "cell_type": "code",
      "metadata": {
        "id": "yOy8Tdr-i6WF",
        "colab": {
          "base_uri": "https://localhost:8080/"
        },
        "outputId": "6ccd761e-ea77-4fe3-aa6b-cb781c943e32"
      },
      "source": [
        "test_dtm = vect.transform(testset[\"text\"])\n",
        "print(model.score(test_dtm, testset[\"label\"]))"
      ],
      "execution_count": null,
      "outputs": [
        {
          "output_type": "stream",
          "name": "stdout",
          "text": [
            "0.792\n"
          ]
        }
      ]
    }
  ]
}