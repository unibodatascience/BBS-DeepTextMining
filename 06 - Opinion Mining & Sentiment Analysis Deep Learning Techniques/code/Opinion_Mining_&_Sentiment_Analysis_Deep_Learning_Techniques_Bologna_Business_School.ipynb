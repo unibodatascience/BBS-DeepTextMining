{
  "nbformat": 4,
  "nbformat_minor": 0,
  "metadata": {
    "accelerator": "GPU",
    "colab": {
      "name": "Opinion_Mining_&_Sentiment_Analysis_Deep_Learning_Techniques_Bologna_Business_School.ipynb",
      "provenance": [],
      "collapsed_sections": [
        "phOqAYXkijh9"
      ]
    },
    "kernelspec": {
      "display_name": "Python 3",
      "language": "python",
      "name": "python3"
    },
    "language_info": {
      "codemirror_mode": {
        "name": "ipython",
        "version": 3
      },
      "file_extension": ".py",
      "mimetype": "text/x-python",
      "name": "python",
      "nbconvert_exporter": "python",
      "pygments_lexer": "ipython3",
      "version": "3.7.10"
    }
  },
  "cells": [
    {
      "cell_type": "markdown",
      "metadata": {
        "id": "X5-GCnvKijfl"
      },
      "source": [
        "# Opinion Mining & Sentiment Analysis: Deep Learning Techniques\n",
        "\n",
        "**Text Mining unit**\n",
        "\n",
        "_Prof. Gianluca Moro^, Dott. Ing. Nicola Piscaglia° – DISI, University of Bologna_\n",
        "\n",
        "^name.surname@unibo.it\n",
        "\n",
        "\n",
        "°name.surname@bbs.unibo.it\n",
        "\n",
        "\n",
        "**Bologna Business School** - Alma Mater Studiorum Università di Bologna"
      ]
    },
    {
      "cell_type": "markdown",
      "metadata": {
        "id": "hdU4Z5sWijfn"
      },
      "source": [
        "## Setup\n",
        "\n",
        "Import external libraries (thus verifying they are correctly installed)"
      ]
    },
    {
      "cell_type": "code",
      "metadata": {
        "id": "luAnTvuXijfp",
        "colab": {
          "base_uri": "https://localhost:8080/"
        },
        "outputId": "0562ab8e-c00d-48ab-ed23-5019e2664559"
      },
      "source": [
        "%tensorflow_version 1.x\n",
        "\n",
        "import gzip\n",
        "import numpy as np\n",
        "import pandas as pd\n",
        "import gensim\n",
        "import tensorflow as tf\n",
        "import keras\n",
        "import matplotlib.pyplot as plt\n",
        "%matplotlib inline"
      ],
      "execution_count": null,
      "outputs": [
        {
          "output_type": "stream",
          "name": "stdout",
          "text": [
            "TensorFlow 1.x selected.\n"
          ]
        },
        {
          "output_type": "stream",
          "name": "stderr",
          "text": [
            "Using TensorFlow backend.\n"
          ]
        }
      ]
    },
    {
      "cell_type": "markdown",
      "metadata": {
        "id": "bbc8oQnRun1S"
      },
      "source": [
        "Check GPU and limit memory usage"
      ]
    },
    {
      "cell_type": "code",
      "metadata": {
        "id": "8jGBfE49k62l",
        "colab": {
          "base_uri": "https://localhost:8080/"
        },
        "outputId": "16272afc-8a34-4ad5-bed0-fe4e9d7a06e4"
      },
      "source": [
        "devices = tf.config.experimental_list_devices()\n",
        "\n",
        "[print(device) for device in devices] # print all devices\n",
        "\n",
        "#!nvidia-smi # check GPU configuration\n",
        "\n",
        "if devices:\n",
        "  try:\n",
        "    tf.config.experimental.set_memory_growth = True\n",
        "    logical_gpus = tf.config.experimental.list_logical_devices('GPU')\n",
        "    gpus = tf.config.experimental.list_physical_devices('GPU')\n",
        "    print(len(gpus), \"Physical GPUs,\", len(logical_gpus), \"Logical GPUs\")\n",
        "  except RuntimeError as e:\n",
        "    # Virtual devices must be set before GPUs have been initialized\n",
        "    print(e)"
      ],
      "execution_count": null,
      "outputs": [
        {
          "output_type": "stream",
          "name": "stdout",
          "text": [
            "/job:localhost/replica:0/task:0/device:CPU:0\n",
            "/job:localhost/replica:0/task:0/device:XLA_CPU:0\n",
            "/job:localhost/replica:0/task:0/device:XLA_GPU:0\n",
            "/job:localhost/replica:0/task:0/device:GPU:0\n",
            "1 Physical GPUs, 1 Logical GPUs\n"
          ]
        }
      ]
    },
    {
      "cell_type": "markdown",
      "metadata": {
        "id": "vRGJ_Ufdijf0"
      },
      "source": [
        "Define a utility function to download data files if they are not already present in working directory"
      ]
    },
    {
      "cell_type": "code",
      "metadata": {
        "id": "tMRsk6PDijf1"
      },
      "source": [
        "import os\n",
        "from urllib.request import urlretrieve\n",
        "def download(file, url):\n",
        "    if not os.path.isfile(file):\n",
        "        urlretrieve(url, file)"
      ],
      "execution_count": null,
      "outputs": []
    },
    {
      "cell_type": "markdown",
      "metadata": {
        "id": "ZoSfmx3cijf7"
      },
      "source": [
        "## Deep Learning and Neural Networks for Text Mining and Sentiment Analysis\n",
        "\n",
        "_Deep learning_ denotes a general approach to machine learning employing **multi-layered models** to obtain **accurate representation of input data**: features are no longer extracted manually, but infered in the learning process\n",
        "\n",
        "DL is mostly based on _neural networks_, very flexible learning models with arbitrary complexity\n",
        "\n",
        "The use of DL and NN allows deep understanding of text without manually defining rules, lexicons, etc."
      ]
    },
    {
      "cell_type": "markdown",
      "metadata": {
        "id": "22jD9LW4ijf9"
      },
      "source": [
        "## TensorFlow and Keras\n",
        "\n",
        "- **TensorFlow** by Google is one of the most used computation frameworks for deep learning\n",
        "  - TF works by building a _computational graph_ where each node represents an operation between _tensors_ (N-dimensional arrays)\n",
        "    - sums, products, derivatives, ...\n",
        "  - a graph can run either on CPU or (where available) on GPU for accelerated parallel computation\n",
        "- **Keras** provides an high-level API for building and training neural networks using TensorFlow as a backend\n",
        "  - networks can be built simply by stacking different layers with many configurable (hyper)parameters\n",
        "  - high-level commands are provided to train and evaluate networks on given datasets"
      ]
    },
    {
      "cell_type": "markdown",
      "metadata": {
        "id": "4MldDiptijf-"
      },
      "source": [
        "## Dataset: Movie Reviews\n",
        "\n",
        "We have a collection of user reviews extracted from IMDb (the _Internet Movie Database_) labeled as positive or negative\n",
        "\n",
        "We want to train a model to understand the positive or negative orientation of any review\n",
        "\n",
        "We start by loading the training dataset, containing 25,000 samples with two attributes\n",
        "- `label` indicates the orientation of the review, can be \"pos\" or \"neg\"\n",
        "- `text` contains the full text of the review"
      ]
    },
    {
      "cell_type": "code",
      "metadata": {
        "id": "dJZSpzfEijf_"
      },
      "source": [
        "download(\"imdb-train.csv.gz\", \"https://github.com/datascienceunibo/bbs-dl-lab-2019/raw/master/imdb-train.csv.gz\")"
      ],
      "execution_count": null,
      "outputs": []
    },
    {
      "cell_type": "code",
      "metadata": {
        "id": "ixJ7gGxvijgD"
      },
      "source": [
        "train_set = pd.read_csv(\"imdb-train.csv.gz\", sep=\"\\t\", names=[\"label\", \"text\"])"
      ],
      "execution_count": null,
      "outputs": []
    },
    {
      "cell_type": "code",
      "metadata": {
        "id": "u20J-GJNijgH",
        "colab": {
          "base_uri": "https://localhost:8080/"
        },
        "outputId": "f3df43f4-67af-48be-bff5-0841f5fe7cb2"
      },
      "source": [
        "train_set.shape"
      ],
      "execution_count": null,
      "outputs": [
        {
          "output_type": "execute_result",
          "data": {
            "text/plain": [
              "(25000, 2)"
            ]
          },
          "metadata": {},
          "execution_count": 6
        }
      ]
    },
    {
      "cell_type": "markdown",
      "metadata": {
        "id": "GX30ypnMijgM"
      },
      "source": [
        "Let's view some rows of the dataset, after increasing the lenght of shown text"
      ]
    },
    {
      "cell_type": "code",
      "metadata": {
        "id": "W7zi6nMDijgN"
      },
      "source": [
        "pd.options.display.max_colwidth = 100"
      ],
      "execution_count": null,
      "outputs": []
    },
    {
      "cell_type": "code",
      "metadata": {
        "id": "s7tSOPO7ijgR",
        "colab": {
          "base_uri": "https://localhost:8080/",
          "height": 206
        },
        "outputId": "465a2e3f-ae77-42d2-e309-dcaa11bf03b6"
      },
      "source": [
        "train_set.head()"
      ],
      "execution_count": null,
      "outputs": [
        {
          "output_type": "execute_result",
          "data": {
            "text/plain": [
              "  label  \\\n",
              "0   pos   \n",
              "1   neg   \n",
              "2   pos   \n",
              "3   neg   \n",
              "4   pos   \n",
              "\n",
              "                                                                                                  text  \n",
              "0  Bromwell High is a cartoon comedy. It ran at the same time as some other programs about school l...  \n",
              "1  Story of a man who has unnatural feelings for a pig. Starts out with a opening scene that is a t...  \n",
              "2  If you like adult comedy cartoons, like South Park, then this is nearly a similar format about t...  \n",
              "3  Robert DeNiro plays the most unbelievably intelligent illiterate of all time. This movie is so w...  \n",
              "4  Bromwell High is nothing short of brilliant. Expertly scripted and perfectly delivered, this sea...  "
            ],
            "text/html": [
              "\n",
              "  <div id=\"df-baad4cea-6c6f-4e12-bbc4-c26b2c1a2b7f\">\n",
              "    <div class=\"colab-df-container\">\n",
              "      <div>\n",
              "<style scoped>\n",
              "    .dataframe tbody tr th:only-of-type {\n",
              "        vertical-align: middle;\n",
              "    }\n",
              "\n",
              "    .dataframe tbody tr th {\n",
              "        vertical-align: top;\n",
              "    }\n",
              "\n",
              "    .dataframe thead th {\n",
              "        text-align: right;\n",
              "    }\n",
              "</style>\n",
              "<table border=\"1\" class=\"dataframe\">\n",
              "  <thead>\n",
              "    <tr style=\"text-align: right;\">\n",
              "      <th></th>\n",
              "      <th>label</th>\n",
              "      <th>text</th>\n",
              "    </tr>\n",
              "  </thead>\n",
              "  <tbody>\n",
              "    <tr>\n",
              "      <th>0</th>\n",
              "      <td>pos</td>\n",
              "      <td>Bromwell High is a cartoon comedy. It ran at the same time as some other programs about school l...</td>\n",
              "    </tr>\n",
              "    <tr>\n",
              "      <th>1</th>\n",
              "      <td>neg</td>\n",
              "      <td>Story of a man who has unnatural feelings for a pig. Starts out with a opening scene that is a t...</td>\n",
              "    </tr>\n",
              "    <tr>\n",
              "      <th>2</th>\n",
              "      <td>pos</td>\n",
              "      <td>If you like adult comedy cartoons, like South Park, then this is nearly a similar format about t...</td>\n",
              "    </tr>\n",
              "    <tr>\n",
              "      <th>3</th>\n",
              "      <td>neg</td>\n",
              "      <td>Robert DeNiro plays the most unbelievably intelligent illiterate of all time. This movie is so w...</td>\n",
              "    </tr>\n",
              "    <tr>\n",
              "      <th>4</th>\n",
              "      <td>pos</td>\n",
              "      <td>Bromwell High is nothing short of brilliant. Expertly scripted and perfectly delivered, this sea...</td>\n",
              "    </tr>\n",
              "  </tbody>\n",
              "</table>\n",
              "</div>\n",
              "      <button class=\"colab-df-convert\" onclick=\"convertToInteractive('df-baad4cea-6c6f-4e12-bbc4-c26b2c1a2b7f')\"\n",
              "              title=\"Convert this dataframe to an interactive table.\"\n",
              "              style=\"display:none;\">\n",
              "        \n",
              "  <svg xmlns=\"http://www.w3.org/2000/svg\" height=\"24px\"viewBox=\"0 0 24 24\"\n",
              "       width=\"24px\">\n",
              "    <path d=\"M0 0h24v24H0V0z\" fill=\"none\"/>\n",
              "    <path d=\"M18.56 5.44l.94 2.06.94-2.06 2.06-.94-2.06-.94-.94-2.06-.94 2.06-2.06.94zm-11 1L8.5 8.5l.94-2.06 2.06-.94-2.06-.94L8.5 2.5l-.94 2.06-2.06.94zm10 10l.94 2.06.94-2.06 2.06-.94-2.06-.94-.94-2.06-.94 2.06-2.06.94z\"/><path d=\"M17.41 7.96l-1.37-1.37c-.4-.4-.92-.59-1.43-.59-.52 0-1.04.2-1.43.59L10.3 9.45l-7.72 7.72c-.78.78-.78 2.05 0 2.83L4 21.41c.39.39.9.59 1.41.59.51 0 1.02-.2 1.41-.59l7.78-7.78 2.81-2.81c.8-.78.8-2.07 0-2.86zM5.41 20L4 18.59l7.72-7.72 1.47 1.35L5.41 20z\"/>\n",
              "  </svg>\n",
              "      </button>\n",
              "      \n",
              "  <style>\n",
              "    .colab-df-container {\n",
              "      display:flex;\n",
              "      flex-wrap:wrap;\n",
              "      gap: 12px;\n",
              "    }\n",
              "\n",
              "    .colab-df-convert {\n",
              "      background-color: #E8F0FE;\n",
              "      border: none;\n",
              "      border-radius: 50%;\n",
              "      cursor: pointer;\n",
              "      display: none;\n",
              "      fill: #1967D2;\n",
              "      height: 32px;\n",
              "      padding: 0 0 0 0;\n",
              "      width: 32px;\n",
              "    }\n",
              "\n",
              "    .colab-df-convert:hover {\n",
              "      background-color: #E2EBFA;\n",
              "      box-shadow: 0px 1px 2px rgba(60, 64, 67, 0.3), 0px 1px 3px 1px rgba(60, 64, 67, 0.15);\n",
              "      fill: #174EA6;\n",
              "    }\n",
              "\n",
              "    [theme=dark] .colab-df-convert {\n",
              "      background-color: #3B4455;\n",
              "      fill: #D2E3FC;\n",
              "    }\n",
              "\n",
              "    [theme=dark] .colab-df-convert:hover {\n",
              "      background-color: #434B5C;\n",
              "      box-shadow: 0px 1px 3px 1px rgba(0, 0, 0, 0.15);\n",
              "      filter: drop-shadow(0px 1px 2px rgba(0, 0, 0, 0.3));\n",
              "      fill: #FFFFFF;\n",
              "    }\n",
              "  </style>\n",
              "\n",
              "      <script>\n",
              "        const buttonEl =\n",
              "          document.querySelector('#df-baad4cea-6c6f-4e12-bbc4-c26b2c1a2b7f button.colab-df-convert');\n",
              "        buttonEl.style.display =\n",
              "          google.colab.kernel.accessAllowed ? 'block' : 'none';\n",
              "\n",
              "        async function convertToInteractive(key) {\n",
              "          const element = document.querySelector('#df-baad4cea-6c6f-4e12-bbc4-c26b2c1a2b7f');\n",
              "          const dataTable =\n",
              "            await google.colab.kernel.invokeFunction('convertToInteractive',\n",
              "                                                     [key], {});\n",
              "          if (!dataTable) return;\n",
              "\n",
              "          const docLinkHtml = 'Like what you see? Visit the ' +\n",
              "            '<a target=\"_blank\" href=https://colab.research.google.com/notebooks/data_table.ipynb>data table notebook</a>'\n",
              "            + ' to learn more about interactive tables.';\n",
              "          element.innerHTML = '';\n",
              "          dataTable['output_type'] = 'display_data';\n",
              "          await google.colab.output.renderOutput(dataTable, element);\n",
              "          const docLink = document.createElement('div');\n",
              "          docLink.innerHTML = docLinkHtml;\n",
              "          element.appendChild(docLink);\n",
              "        }\n",
              "      </script>\n",
              "    </div>\n",
              "  </div>\n",
              "  "
            ]
          },
          "metadata": {},
          "execution_count": 8
        }
      ]
    },
    {
      "cell_type": "markdown",
      "metadata": {
        "id": "zBDgzSABijgX"
      },
      "source": [
        "Some HTML tags are present within reviews, specifically `<br />` to indicate newlines: we write a function which, applied on a text, replaces such tags with ASCII newline `\\n`"
      ]
    },
    {
      "cell_type": "code",
      "metadata": {
        "id": "hfNSsvFDijgY"
      },
      "source": [
        "def strip_tags(text):\n",
        "    return text.replace(\"<br />\", \"\\n\")"
      ],
      "execution_count": null,
      "outputs": []
    },
    {
      "cell_type": "markdown",
      "metadata": {
        "id": "su4ya93jijgd"
      },
      "source": [
        "We apply the function to all texts in the dataset"
      ]
    },
    {
      "cell_type": "code",
      "metadata": {
        "id": "P_QwwWL5ijge"
      },
      "source": [
        "train_set[\"text\"] = train_set[\"text\"].apply(strip_tags)"
      ],
      "execution_count": null,
      "outputs": []
    },
    {
      "cell_type": "markdown",
      "metadata": {
        "id": "zBKiXF1Tijgh"
      },
      "source": [
        "Positive and negative reviews are evenly distributed"
      ]
    },
    {
      "cell_type": "code",
      "metadata": {
        "id": "hNlJoLAjijgi",
        "colab": {
          "base_uri": "https://localhost:8080/"
        },
        "outputId": "27855c8a-6011-4366-d8ca-aa2084a3f7bd"
      },
      "source": [
        "train_set[\"label\"].value_counts()"
      ],
      "execution_count": null,
      "outputs": [
        {
          "output_type": "execute_result",
          "data": {
            "text/plain": [
              "pos    12500\n",
              "neg    12500\n",
              "Name: label, dtype: int64"
            ]
          },
          "metadata": {},
          "execution_count": 11
        }
      ]
    },
    {
      "cell_type": "markdown",
      "metadata": {
        "id": "ckkhL-emijgl"
      },
      "source": [
        "## Multi-Layer Perceptron\n",
        "\n",
        "In their usual form, neural networks are composed by a stack of _densely connected_ layers of nodes: each node in a layer receives the output of all nodes of the underlying layer. Such networks are also known as _multi-layer perceptrons_.\n",
        "\n",
        "A MLP receives a vector as input and its topmost layer produces a vector as output, an arbitrary number of _hidden layers_ can be inserted inbetween to produce intermediate representations of data"
      ]
    },
    {
      "cell_type": "markdown",
      "metadata": {
        "id": "3nmAT3olijgm"
      },
      "source": [
        "Let's start by training a neural network for sentiment classification feeded with vector space model representations of reviews\n",
        "\n",
        "We initialize a vector space using tf.idf term weighting and filtering out very rare terms"
      ]
    },
    {
      "cell_type": "code",
      "metadata": {
        "id": "kXHi0YZoijgm"
      },
      "source": [
        "from sklearn.feature_extraction.text import TfidfVectorizer\n",
        "vect = TfidfVectorizer(min_df=3)"
      ],
      "execution_count": null,
      "outputs": []
    },
    {
      "cell_type": "markdown",
      "metadata": {
        "id": "w8DNh4VIijgp"
      },
      "source": [
        "Such vector space is built upon the training reviews and their document-term matrix is produced"
      ]
    },
    {
      "cell_type": "code",
      "metadata": {
        "id": "6WQsBrJBijgq",
        "colab": {
          "base_uri": "https://localhost:8080/"
        },
        "outputId": "19a6f47b-ad01-4f53-a73b-2b91e5683305"
      },
      "source": [
        "train_dtm = vect.fit_transform(train_set[\"text\"])\n",
        "train_dtm"
      ],
      "execution_count": null,
      "outputs": [
        {
          "output_type": "execute_result",
          "data": {
            "text/plain": [
              "<25000x35852 sparse matrix of type '<class 'numpy.float64'>'\n",
              "\twith 3383253 stored elements in Compressed Sparse Row format>"
            ]
          },
          "metadata": {},
          "execution_count": 13
        }
      ]
    },
    {
      "cell_type": "markdown",
      "metadata": {
        "id": "vBbLIk4sijgt"
      },
      "source": [
        "Similarly to training matrices for scikit-learn models, this is a 2D array where each row (1st axis) is a training observation and each column (2nd axis) is a feature: each row is a possible input to the neural network"
      ]
    },
    {
      "cell_type": "markdown",
      "metadata": {
        "id": "1nIpGSnPijgu"
      },
      "source": [
        "We extract the number of distinct terms in the vector space, used to define the structure of the neural network"
      ]
    },
    {
      "cell_type": "code",
      "metadata": {
        "id": "75ljR5t8ijgu"
      },
      "source": [
        "num_terms = len(vect.get_feature_names_out())"
      ],
      "execution_count": null,
      "outputs": []
    },
    {
      "cell_type": "code",
      "metadata": {
        "id": "JTpOW3u_ijgx",
        "colab": {
          "base_uri": "https://localhost:8080/"
        },
        "outputId": "b8987fcb-e02a-4db6-a3fd-3c1eb8da4acb"
      },
      "source": [
        "num_terms"
      ],
      "execution_count": null,
      "outputs": [
        {
          "output_type": "execute_result",
          "data": {
            "text/plain": [
              "35852"
            ]
          },
          "metadata": {},
          "execution_count": 15
        }
      ]
    },
    {
      "cell_type": "markdown",
      "metadata": {
        "id": "2BPRJINJijgz"
      },
      "source": [
        "We want our neural network to indicate in output the correct class of each review, either \"pos\" or \"neg\"\n",
        "\n",
        "The common approach to classification with neural networks is to have one output node for each class and train them to output 1 on the right node and 0 on the others\n",
        "\n",
        "For this, we must extract from the `label` column a \"target\" matrix, where each row contains the values which the network should give as output for each review\n",
        "- `[1, 0]` for positive reviews\n",
        "- `[0, 1]` for negative reviews\n",
        "\n",
        "We define a function `make_target` which converts a given pos/neg labels series into a target matrix"
      ]
    },
    {
      "cell_type": "code",
      "metadata": {
        "id": "4Ag3JHLcijgz"
      },
      "source": [
        "def make_target(labels):\n",
        "    return pd.DataFrame({\n",
        "        \"pos\": labels == \"pos\", # if the label is \"pos\" then return 1 else return 0\n",
        "        \"neg\": labels == \"neg\" # if the label is \"neg\" then return 1 else 0\n",
        "    }).astype(int)"
      ],
      "execution_count": null,
      "outputs": []
    },
    {
      "cell_type": "markdown",
      "metadata": {
        "id": "Q5u1aRO_ijg3"
      },
      "source": [
        "We then apply it to the training set labels"
      ]
    },
    {
      "cell_type": "code",
      "metadata": {
        "id": "-ri-b_2sijg4"
      },
      "source": [
        "train_target = make_target(train_set[\"label\"])"
      ],
      "execution_count": null,
      "outputs": []
    },
    {
      "cell_type": "markdown",
      "metadata": {
        "id": "XdFtJC0eijg7"
      },
      "source": [
        "We obtain a matrix where each row is the expected network output, either `[1, 0]` (positive) or `[0, 1]` (negative)"
      ]
    },
    {
      "cell_type": "code",
      "metadata": {
        "id": "-ZnzNjEQijg8",
        "colab": {
          "base_uri": "https://localhost:8080/",
          "height": 206
        },
        "outputId": "83462ab6-950b-4edd-9521-17db3b1ebc36"
      },
      "source": [
        "train_target.head()"
      ],
      "execution_count": null,
      "outputs": [
        {
          "output_type": "execute_result",
          "data": {
            "text/plain": [
              "   pos  neg\n",
              "0    1    0\n",
              "1    0    1\n",
              "2    1    0\n",
              "3    0    1\n",
              "4    1    0"
            ],
            "text/html": [
              "\n",
              "  <div id=\"df-1572b727-4aef-4131-aff8-ce322b0e4877\">\n",
              "    <div class=\"colab-df-container\">\n",
              "      <div>\n",
              "<style scoped>\n",
              "    .dataframe tbody tr th:only-of-type {\n",
              "        vertical-align: middle;\n",
              "    }\n",
              "\n",
              "    .dataframe tbody tr th {\n",
              "        vertical-align: top;\n",
              "    }\n",
              "\n",
              "    .dataframe thead th {\n",
              "        text-align: right;\n",
              "    }\n",
              "</style>\n",
              "<table border=\"1\" class=\"dataframe\">\n",
              "  <thead>\n",
              "    <tr style=\"text-align: right;\">\n",
              "      <th></th>\n",
              "      <th>pos</th>\n",
              "      <th>neg</th>\n",
              "    </tr>\n",
              "  </thead>\n",
              "  <tbody>\n",
              "    <tr>\n",
              "      <th>0</th>\n",
              "      <td>1</td>\n",
              "      <td>0</td>\n",
              "    </tr>\n",
              "    <tr>\n",
              "      <th>1</th>\n",
              "      <td>0</td>\n",
              "      <td>1</td>\n",
              "    </tr>\n",
              "    <tr>\n",
              "      <th>2</th>\n",
              "      <td>1</td>\n",
              "      <td>0</td>\n",
              "    </tr>\n",
              "    <tr>\n",
              "      <th>3</th>\n",
              "      <td>0</td>\n",
              "      <td>1</td>\n",
              "    </tr>\n",
              "    <tr>\n",
              "      <th>4</th>\n",
              "      <td>1</td>\n",
              "      <td>0</td>\n",
              "    </tr>\n",
              "  </tbody>\n",
              "</table>\n",
              "</div>\n",
              "      <button class=\"colab-df-convert\" onclick=\"convertToInteractive('df-1572b727-4aef-4131-aff8-ce322b0e4877')\"\n",
              "              title=\"Convert this dataframe to an interactive table.\"\n",
              "              style=\"display:none;\">\n",
              "        \n",
              "  <svg xmlns=\"http://www.w3.org/2000/svg\" height=\"24px\"viewBox=\"0 0 24 24\"\n",
              "       width=\"24px\">\n",
              "    <path d=\"M0 0h24v24H0V0z\" fill=\"none\"/>\n",
              "    <path d=\"M18.56 5.44l.94 2.06.94-2.06 2.06-.94-2.06-.94-.94-2.06-.94 2.06-2.06.94zm-11 1L8.5 8.5l.94-2.06 2.06-.94-2.06-.94L8.5 2.5l-.94 2.06-2.06.94zm10 10l.94 2.06.94-2.06 2.06-.94-2.06-.94-.94-2.06-.94 2.06-2.06.94z\"/><path d=\"M17.41 7.96l-1.37-1.37c-.4-.4-.92-.59-1.43-.59-.52 0-1.04.2-1.43.59L10.3 9.45l-7.72 7.72c-.78.78-.78 2.05 0 2.83L4 21.41c.39.39.9.59 1.41.59.51 0 1.02-.2 1.41-.59l7.78-7.78 2.81-2.81c.8-.78.8-2.07 0-2.86zM5.41 20L4 18.59l7.72-7.72 1.47 1.35L5.41 20z\"/>\n",
              "  </svg>\n",
              "      </button>\n",
              "      \n",
              "  <style>\n",
              "    .colab-df-container {\n",
              "      display:flex;\n",
              "      flex-wrap:wrap;\n",
              "      gap: 12px;\n",
              "    }\n",
              "\n",
              "    .colab-df-convert {\n",
              "      background-color: #E8F0FE;\n",
              "      border: none;\n",
              "      border-radius: 50%;\n",
              "      cursor: pointer;\n",
              "      display: none;\n",
              "      fill: #1967D2;\n",
              "      height: 32px;\n",
              "      padding: 0 0 0 0;\n",
              "      width: 32px;\n",
              "    }\n",
              "\n",
              "    .colab-df-convert:hover {\n",
              "      background-color: #E2EBFA;\n",
              "      box-shadow: 0px 1px 2px rgba(60, 64, 67, 0.3), 0px 1px 3px 1px rgba(60, 64, 67, 0.15);\n",
              "      fill: #174EA6;\n",
              "    }\n",
              "\n",
              "    [theme=dark] .colab-df-convert {\n",
              "      background-color: #3B4455;\n",
              "      fill: #D2E3FC;\n",
              "    }\n",
              "\n",
              "    [theme=dark] .colab-df-convert:hover {\n",
              "      background-color: #434B5C;\n",
              "      box-shadow: 0px 1px 3px 1px rgba(0, 0, 0, 0.15);\n",
              "      filter: drop-shadow(0px 1px 2px rgba(0, 0, 0, 0.3));\n",
              "      fill: #FFFFFF;\n",
              "    }\n",
              "  </style>\n",
              "\n",
              "      <script>\n",
              "        const buttonEl =\n",
              "          document.querySelector('#df-1572b727-4aef-4131-aff8-ce322b0e4877 button.colab-df-convert');\n",
              "        buttonEl.style.display =\n",
              "          google.colab.kernel.accessAllowed ? 'block' : 'none';\n",
              "\n",
              "        async function convertToInteractive(key) {\n",
              "          const element = document.querySelector('#df-1572b727-4aef-4131-aff8-ce322b0e4877');\n",
              "          const dataTable =\n",
              "            await google.colab.kernel.invokeFunction('convertToInteractive',\n",
              "                                                     [key], {});\n",
              "          if (!dataTable) return;\n",
              "\n",
              "          const docLinkHtml = 'Like what you see? Visit the ' +\n",
              "            '<a target=\"_blank\" href=https://colab.research.google.com/notebooks/data_table.ipynb>data table notebook</a>'\n",
              "            + ' to learn more about interactive tables.';\n",
              "          element.innerHTML = '';\n",
              "          dataTable['output_type'] = 'display_data';\n",
              "          await google.colab.output.renderOutput(dataTable, element);\n",
              "          const docLink = document.createElement('div');\n",
              "          docLink.innerHTML = docLinkHtml;\n",
              "          element.appendChild(docLink);\n",
              "        }\n",
              "      </script>\n",
              "    </div>\n",
              "  </div>\n",
              "  "
            ]
          },
          "metadata": {},
          "execution_count": 18
        }
      ]
    },
    {
      "cell_type": "markdown",
      "metadata": {
        "id": "ZnexXb3qijg_"
      },
      "source": [
        "Let's define the structure of the neural network\n",
        "\n",
        "We create a _sequential_ model, i.e. we define the network as a sequence of interconnected layers (alternatively, we could create non-linear structures by manually connecting layers to each other using Keras Functional API. To learn more, see: https://keras.io/guides/functional_api/)"
      ]
    },
    {
      "cell_type": "code",
      "metadata": {
        "id": "nNu5VDT4ijhA"
      },
      "source": [
        "from keras.models import Sequential\n",
        "model = Sequential()"
      ],
      "execution_count": null,
      "outputs": []
    },
    {
      "cell_type": "code",
      "metadata": {
        "id": "eiFVkuuwyT0-"
      },
      "source": [
        "#Functional API version\n",
        "# inputs = keras.Input(shape=(num_terms,))"
      ],
      "execution_count": null,
      "outputs": []
    },
    {
      "cell_type": "markdown",
      "metadata": {
        "id": "syikncPfijhC"
      },
      "source": [
        "In this first example we create a single-layered network, where inputs are directly connected to the output nodes\n",
        "\n",
        "As discussed above, the output nodes must be 2, one for each class; we use the _softmax_ activation function to ensure that the output is a valid probability distribution\n",
        "- we will never get a perfect `[1, 0]` as output in practice, but we will get outputs like `[0.99, 0.01]`\n",
        "\n",
        "In the first layer (in this case the only one) we also have to specify with `input_dim` the size of input vectors, in this case the number of terms in the vector space"
      ]
    },
    {
      "cell_type": "code",
      "metadata": {
        "id": "K387d-7uijhD",
        "colab": {
          "base_uri": "https://localhost:8080/"
        },
        "outputId": "52cd2b01-6e19-4fa4-ba60-5714910ce1c9"
      },
      "source": [
        "from keras.layers import Dense\n",
        "model.add(Dense(2, activation=\"softmax\", input_dim=num_terms))"
      ],
      "execution_count": null,
      "outputs": [
        {
          "output_type": "stream",
          "name": "stdout",
          "text": [
            "WARNING:tensorflow:From /tensorflow-1.15.2/python3.7/tensorflow_core/python/ops/resource_variable_ops.py:1630: calling BaseResourceVariable.__init__ (from tensorflow.python.ops.resource_variable_ops) with constraint is deprecated and will be removed in a future version.\n",
            "Instructions for updating:\n",
            "If using Keras pass *_constraint arguments to layers.\n"
          ]
        }
      ]
    },
    {
      "cell_type": "code",
      "metadata": {
        "id": "MprGhojHyFu8"
      },
      "source": [
        "# Functional API version\n",
        "# outputs = keras.layers.Dense(2, activation=\"softmax\", input_dim=num_terms)(inputs)\n",
        "# model = keras.Model(inputs=inputs, outputs=outputs, name=\"my_model\")"
      ],
      "execution_count": null,
      "outputs": []
    },
    {
      "cell_type": "markdown",
      "metadata": {
        "id": "uiVFxjStijhF"
      },
      "source": [
        "With `summary` we can analyze the structure of our network and get the count of trainable parameters"
      ]
    },
    {
      "cell_type": "code",
      "metadata": {
        "id": "zaNQ0pm-ijhF",
        "colab": {
          "base_uri": "https://localhost:8080/"
        },
        "outputId": "3550e980-6d11-495f-a474-3154c994a286"
      },
      "source": [
        "model.summary()"
      ],
      "execution_count": null,
      "outputs": [
        {
          "output_type": "stream",
          "name": "stdout",
          "text": [
            "Model: \"sequential_1\"\n",
            "_________________________________________________________________\n",
            "Layer (type)                 Output Shape              Param #   \n",
            "=================================================================\n",
            "dense_1 (Dense)              (None, 2)                 71706     \n",
            "=================================================================\n",
            "Total params: 71,706\n",
            "Trainable params: 71,706\n",
            "Non-trainable params: 0\n",
            "_________________________________________________________________\n"
          ]
        }
      ]
    },
    {
      "cell_type": "markdown",
      "metadata": {
        "id": "8J83C6k9ijhI"
      },
      "source": [
        "In this case we have 35,852×2 = 71,704 weights + 2 biases = 71,706 trainable parameters"
      ]
    },
    {
      "cell_type": "markdown",
      "metadata": {
        "id": "iHMrkxAbijhI"
      },
      "source": [
        "After defining the network structure, we _compile_ it to provide some general settings of the network and initialize accordingly the underlying TensorFlow data structures"
      ]
    },
    {
      "cell_type": "code",
      "metadata": {
        "id": "rh-BWg-bijhJ"
      },
      "source": [
        "model.compile(optimizer=\"adam\", loss=\"categorical_crossentropy\", metrics=[\"accuracy\"])"
      ],
      "execution_count": null,
      "outputs": []
    },
    {
      "cell_type": "markdown",
      "metadata": {
        "id": "nr3kQaO6ijhM"
      },
      "source": [
        "- The _optimizer_ is the algorithm used to train the network: _Adam_ and other valid options are different variants of stochastic gradient descent (SGD), including learning rate decay, momentum, etc.\n",
        "- The _loss_ is the measure to be minimized in the training process: the _cross entropy_ penalizes outputs which are not close to 1 on the correct class\n",
        "- Additional _metrics_ can be computed for evaluation purposes: we use the accuracy, i.e. the percentage of correctly classified examples"
      ]
    },
    {
      "cell_type": "markdown",
      "metadata": {
        "id": "KC5OK7bhijhM"
      },
      "source": [
        "We are now ready to train (_fit_) the network on given training examples, composed of inputs (tf.idf vectors) and target outputs (`[1, 0]` for positive reviews and `[0, 1]` for negative)\n",
        "\n",
        "The training examples are shuffled and used to run SGD steps on _minibatches_ of a specified size (`batch_size`): this process is repeated for a given number of training _epochs_\n",
        "\n",
        "`callbacks` parameters let us define a list of functions to be called by keras at the end of each epoch. This option is mainly used to implement some training logic (e.g. EarlyStopping) but if we runned out of memory we also could use it to call gc.collect() after each epoch in order to free some memory."
      ]
    },
    {
      "cell_type": "code",
      "metadata": {
        "id": "OoX-MmG1ijhN",
        "colab": {
          "base_uri": "https://localhost:8080/"
        },
        "outputId": "184e5fdd-8950-4b14-f31e-c71a6c16ad37"
      },
      "source": [
        "# Garbage Collector library\n",
        "import gc\n",
        "\n",
        "# Custom Callback To Include in Callbacks List At Training Time\n",
        "class GarbageCollectorCallback(keras.callbacks.Callback):\n",
        "    def on_epoch_end(self, epoch, logs=None):\n",
        "        gc.collect()\n",
        "\n",
        "fit_history = model.fit(train_dtm, train_target, batch_size=200, epochs=10, callbacks=[GarbageCollectorCallback()])"
      ],
      "execution_count": null,
      "outputs": [
        {
          "output_type": "stream",
          "name": "stdout",
          "text": [
            "WARNING:tensorflow:From /tensorflow-1.15.2/python3.7/keras/backend/tensorflow_backend.py:422: The name tf.global_variables is deprecated. Please use tf.compat.v1.global_variables instead.\n",
            "\n",
            "Epoch 1/10\n",
            "25000/25000 [==============================] - 5s 201us/step - loss: 0.6569 - accuracy: 0.8013\n",
            "Epoch 2/10\n",
            "25000/25000 [==============================] - 5s 203us/step - loss: 0.5872 - accuracy: 0.8645\n",
            "Epoch 3/10\n",
            "25000/25000 [==============================] - 4s 158us/step - loss: 0.5327 - accuracy: 0.8776\n",
            "Epoch 4/10\n",
            "25000/25000 [==============================] - 4s 159us/step - loss: 0.4890 - accuracy: 0.8865\n",
            "Epoch 5/10\n",
            "25000/25000 [==============================] - 4s 159us/step - loss: 0.4533 - accuracy: 0.8930\n",
            "Epoch 6/10\n",
            "25000/25000 [==============================] - 4s 159us/step - loss: 0.4234 - accuracy: 0.8999\n",
            "Epoch 7/10\n",
            "25000/25000 [==============================] - 4s 161us/step - loss: 0.3980 - accuracy: 0.9056\n",
            "Epoch 8/10\n",
            "25000/25000 [==============================] - 4s 159us/step - loss: 0.3762 - accuracy: 0.9110\n",
            "Epoch 9/10\n",
            "25000/25000 [==============================] - 4s 159us/step - loss: 0.3570 - accuracy: 0.9158\n",
            "Epoch 10/10\n",
            "25000/25000 [==============================] - 4s 159us/step - loss: 0.3400 - accuracy: 0.9195\n"
          ]
        }
      ]
    },
    {
      "cell_type": "markdown",
      "metadata": {
        "id": "G_rHoQ3GijhO"
      },
      "source": [
        "During the training process we see how loss and accuracy measured on the training set vary, their evolution can also be obtained from the \"history\" object returned by `fit`"
      ]
    },
    {
      "cell_type": "code",
      "metadata": {
        "id": "5ZAUswkRijhP",
        "colab": {
          "base_uri": "https://localhost:8080/",
          "height": 265
        },
        "outputId": "cb95b595-0b32-43de-86d8-0df45fdc7d8f"
      },
      "source": [
        "plt.plot(fit_history.history[\"loss\"], \"ro-\")\n",
        "plt.plot(fit_history.history[\"accuracy\"], \"bo-\")\n",
        "plt.legend([\"Train loss\", \"Train accuracy\"]);"
      ],
      "execution_count": null,
      "outputs": [
        {
          "output_type": "display_data",
          "data": {
            "text/plain": [
              "<Figure size 432x288 with 1 Axes>"
            ],
            "image/png": "[encoded data removed]"
          },
          "metadata": {
            "needs_background": "light"
          }
        }
      ]
    },
    {
      "cell_type": "markdown",
      "metadata": {
        "id": "g8IEIw07ijhQ"
      },
      "source": [
        "We can see in the plot how the loss progressively decreases and accuracy progressively increases through training epochs"
      ]
    },
    {
      "cell_type": "markdown",
      "metadata": {
        "id": "RMJIumEVijhQ"
      },
      "source": [
        "To get the raw output given by the network for a given input, we use the `predict` method: let's see for example the output for the first training review (labeled positive)"
      ]
    },
    {
      "cell_type": "code",
      "metadata": {
        "id": "XS1kfh2gUS8l",
        "colab": {
          "base_uri": "https://localhost:8080/"
        },
        "outputId": "d4062d05-395c-431e-977d-1ac793a13390"
      },
      "source": [
        "train_dtm[0]"
      ],
      "execution_count": null,
      "outputs": [
        {
          "output_type": "execute_result",
          "data": {
            "text/plain": [
              "<1x35852 sparse matrix of type '<class 'numpy.float64'>'\n",
              "\twith 86 stored elements in Compressed Sparse Row format>"
            ]
          },
          "metadata": {},
          "execution_count": 25
        }
      ]
    },
    {
      "cell_type": "code",
      "metadata": {
        "id": "c9xvYkoBijhR",
        "colab": {
          "base_uri": "https://localhost:8080/"
        },
        "outputId": "846475c1-3b7a-4968-a2a7-e96a7e0c57ed"
      },
      "source": [
        "model.predict(train_dtm[0])"
      ],
      "execution_count": null,
      "outputs": [
        {
          "output_type": "execute_result",
          "data": {
            "text/plain": [
              "array([[0.59364957, 0.40635043]], dtype=float32)"
            ]
          },
          "metadata": {},
          "execution_count": 26
        }
      ]
    },
    {
      "cell_type": "markdown",
      "metadata": {
        "id": "Z0mqomIPijhS"
      },
      "source": [
        "We see that the first class (positive) has higher probability\n",
        "\n",
        "We can directly get the predicted class index with `predict_classes`"
      ]
    },
    {
      "cell_type": "code",
      "metadata": {
        "id": "ZHZq9_RWijhS"
      },
      "source": [
        "# model.predict_classes(train_dtm[0].toarray()) --> [0]"
      ],
      "execution_count": null,
      "outputs": []
    },
    {
      "cell_type": "markdown",
      "metadata": {
        "id": "ytFtEhPwWABp"
      },
      "source": [
        "or..."
      ]
    },
    {
      "cell_type": "code",
      "metadata": {
        "id": "gOjYjx9CU-aI",
        "colab": {
          "base_uri": "https://localhost:8080/"
        },
        "outputId": "9967a074-b562-4e7f-d69b-3db62558f5fb"
      },
      "source": [
        "# Alternative Version working with Functional API / Tensorflow 2.0\n",
        "prediction = model.predict(train_dtm[0])\n",
        "print(prediction)\n",
        "\n",
        "np.argmax(prediction, axis=-1)"
      ],
      "execution_count": null,
      "outputs": [
        {
          "output_type": "stream",
          "name": "stdout",
          "text": [
            "[[0.59364957 0.40635043]]\n"
          ]
        },
        {
          "output_type": "execute_result",
          "data": {
            "text/plain": [
              "array([0])"
            ]
          },
          "metadata": {},
          "execution_count": 27
        }
      ]
    },
    {
      "cell_type": "markdown",
      "metadata": {
        "id": "g4S_QpdtijhU"
      },
      "source": [
        "Let's now evaluate the network on a separate test set of labeled reviews, provided in the `imdb-test.csv.gz` file"
      ]
    },
    {
      "cell_type": "code",
      "metadata": {
        "id": "mAloDfs_ijhU"
      },
      "source": [
        "download(\"imdb-test.csv.gz\", \"https://github.com/datascienceunibo/bbs-dl-lab-2019/raw/master/imdb-test.csv.gz\")"
      ],
      "execution_count": null,
      "outputs": []
    },
    {
      "cell_type": "code",
      "metadata": {
        "id": "cLNJREo7ijhW"
      },
      "source": [
        "test_set = pd.read_csv(\"imdb-test.csv.gz\", sep=\"\\t\", names=[\"label\", \"text\"])"
      ],
      "execution_count": null,
      "outputs": []
    },
    {
      "cell_type": "code",
      "metadata": {
        "id": "cCVKmpdHijhX",
        "colab": {
          "base_uri": "https://localhost:8080/",
          "height": 206
        },
        "outputId": "9edf0ad8-3c45-486f-e190-fea93c390bbe"
      },
      "source": [
        "test_set.head(5)"
      ],
      "execution_count": null,
      "outputs": [
        {
          "output_type": "execute_result",
          "data": {
            "text/plain": [
              "  label  \\\n",
              "0   pos   \n",
              "1   neg   \n",
              "2   pos   \n",
              "3   neg   \n",
              "4   pos   \n",
              "\n",
              "                                                                                                  text  \n",
              "0  I went and saw this movie last night after being coaxed to by a few friends of mine. I'll admit ...  \n",
              "1  Once again Mr. Costner has dragged out a movie for far longer than necessary. Aside from the ter...  \n",
              "2  My boyfriend and I went to watch The Guardian.At first I didn't want to watch it, but I loved th...  \n",
              "3  This is a pale imitation of 'Officer and a Gentleman.' There is NO chemistry between Kutcher and...  \n",
              "4  My yardstick for measuring a movie's watch-ability is if I get squirmy. If I start shifting posi...  "
            ],
            "text/html": [
              "\n",
              "  <div id=\"df-c9adf83f-4d53-476b-acc2-a3bf20c9b35c\">\n",
              "    <div class=\"colab-df-container\">\n",
              "      <div>\n",
              "<style scoped>\n",
              "    .dataframe tbody tr th:only-of-type {\n",
              "        vertical-align: middle;\n",
              "    }\n",
              "\n",
              "    .dataframe tbody tr th {\n",
              "        vertical-align: top;\n",
              "    }\n",
              "\n",
              "    .dataframe thead th {\n",
              "        text-align: right;\n",
              "    }\n",
              "</style>\n",
              "<table border=\"1\" class=\"dataframe\">\n",
              "  <thead>\n",
              "    <tr style=\"text-align: right;\">\n",
              "      <th></th>\n",
              "      <th>label</th>\n",
              "      <th>text</th>\n",
              "    </tr>\n",
              "  </thead>\n",
              "  <tbody>\n",
              "    <tr>\n",
              "      <th>0</th>\n",
              "      <td>pos</td>\n",
              "      <td>I went and saw this movie last night after being coaxed to by a few friends of mine. I'll admit ...</td>\n",
              "    </tr>\n",
              "    <tr>\n",
              "      <th>1</th>\n",
              "      <td>neg</td>\n",
              "      <td>Once again Mr. Costner has dragged out a movie for far longer than necessary. Aside from the ter...</td>\n",
              "    </tr>\n",
              "    <tr>\n",
              "      <th>2</th>\n",
              "      <td>pos</td>\n",
              "      <td>My boyfriend and I went to watch The Guardian.At first I didn't want to watch it, but I loved th...</td>\n",
              "    </tr>\n",
              "    <tr>\n",
              "      <th>3</th>\n",
              "      <td>neg</td>\n",
              "      <td>This is a pale imitation of 'Officer and a Gentleman.' There is NO chemistry between Kutcher and...</td>\n",
              "    </tr>\n",
              "    <tr>\n",
              "      <th>4</th>\n",
              "      <td>pos</td>\n",
              "      <td>My yardstick for measuring a movie's watch-ability is if I get squirmy. If I start shifting posi...</td>\n",
              "    </tr>\n",
              "  </tbody>\n",
              "</table>\n",
              "</div>\n",
              "      <button class=\"colab-df-convert\" onclick=\"convertToInteractive('df-c9adf83f-4d53-476b-acc2-a3bf20c9b35c')\"\n",
              "              title=\"Convert this dataframe to an interactive table.\"\n",
              "              style=\"display:none;\">\n",
              "        \n",
              "  <svg xmlns=\"http://www.w3.org/2000/svg\" height=\"24px\"viewBox=\"0 0 24 24\"\n",
              "       width=\"24px\">\n",
              "    <path d=\"M0 0h24v24H0V0z\" fill=\"none\"/>\n",
              "    <path d=\"M18.56 5.44l.94 2.06.94-2.06 2.06-.94-2.06-.94-.94-2.06-.94 2.06-2.06.94zm-11 1L8.5 8.5l.94-2.06 2.06-.94-2.06-.94L8.5 2.5l-.94 2.06-2.06.94zm10 10l.94 2.06.94-2.06 2.06-.94-2.06-.94-.94-2.06-.94 2.06-2.06.94z\"/><path d=\"M17.41 7.96l-1.37-1.37c-.4-.4-.92-.59-1.43-.59-.52 0-1.04.2-1.43.59L10.3 9.45l-7.72 7.72c-.78.78-.78 2.05 0 2.83L4 21.41c.39.39.9.59 1.41.59.51 0 1.02-.2 1.41-.59l7.78-7.78 2.81-2.81c.8-.78.8-2.07 0-2.86zM5.41 20L4 18.59l7.72-7.72 1.47 1.35L5.41 20z\"/>\n",
              "  </svg>\n",
              "      </button>\n",
              "      \n",
              "  <style>\n",
              "    .colab-df-container {\n",
              "      display:flex;\n",
              "      flex-wrap:wrap;\n",
              "      gap: 12px;\n",
              "    }\n",
              "\n",
              "    .colab-df-convert {\n",
              "      background-color: #E8F0FE;\n",
              "      border: none;\n",
              "      border-radius: 50%;\n",
              "      cursor: pointer;\n",
              "      display: none;\n",
              "      fill: #1967D2;\n",
              "      height: 32px;\n",
              "      padding: 0 0 0 0;\n",
              "      width: 32px;\n",
              "    }\n",
              "\n",
              "    .colab-df-convert:hover {\n",
              "      background-color: #E2EBFA;\n",
              "      box-shadow: 0px 1px 2px rgba(60, 64, 67, 0.3), 0px 1px 3px 1px rgba(60, 64, 67, 0.15);\n",
              "      fill: #174EA6;\n",
              "    }\n",
              "\n",
              "    [theme=dark] .colab-df-convert {\n",
              "      background-color: #3B4455;\n",
              "      fill: #D2E3FC;\n",
              "    }\n",
              "\n",
              "    [theme=dark] .colab-df-convert:hover {\n",
              "      background-color: #434B5C;\n",
              "      box-shadow: 0px 1px 3px 1px rgba(0, 0, 0, 0.15);\n",
              "      filter: drop-shadow(0px 1px 2px rgba(0, 0, 0, 0.3));\n",
              "      fill: #FFFFFF;\n",
              "    }\n",
              "  </style>\n",
              "\n",
              "      <script>\n",
              "        const buttonEl =\n",
              "          document.querySelector('#df-c9adf83f-4d53-476b-acc2-a3bf20c9b35c button.colab-df-convert');\n",
              "        buttonEl.style.display =\n",
              "          google.colab.kernel.accessAllowed ? 'block' : 'none';\n",
              "\n",
              "        async function convertToInteractive(key) {\n",
              "          const element = document.querySelector('#df-c9adf83f-4d53-476b-acc2-a3bf20c9b35c');\n",
              "          const dataTable =\n",
              "            await google.colab.kernel.invokeFunction('convertToInteractive',\n",
              "                                                     [key], {});\n",
              "          if (!dataTable) return;\n",
              "\n",
              "          const docLinkHtml = 'Like what you see? Visit the ' +\n",
              "            '<a target=\"_blank\" href=https://colab.research.google.com/notebooks/data_table.ipynb>data table notebook</a>'\n",
              "            + ' to learn more about interactive tables.';\n",
              "          element.innerHTML = '';\n",
              "          dataTable['output_type'] = 'display_data';\n",
              "          await google.colab.output.renderOutput(dataTable, element);\n",
              "          const docLink = document.createElement('div');\n",
              "          docLink.innerHTML = docLinkHtml;\n",
              "          element.appendChild(docLink);\n",
              "        }\n",
              "      </script>\n",
              "    </div>\n",
              "  </div>\n",
              "  "
            ]
          },
          "metadata": {},
          "execution_count": 30
        }
      ]
    },
    {
      "cell_type": "markdown",
      "metadata": {
        "id": "4tewY_AhijhZ"
      },
      "source": [
        "Also in this dataset we have 25,000 reviews evenly distributed"
      ]
    },
    {
      "cell_type": "code",
      "metadata": {
        "id": "FcMI31SWijha",
        "colab": {
          "base_uri": "https://localhost:8080/"
        },
        "outputId": "648d9778-2b93-4e5d-ce85-7f640f70a2dc"
      },
      "source": [
        "test_set[\"label\"].value_counts()"
      ],
      "execution_count": null,
      "outputs": [
        {
          "output_type": "execute_result",
          "data": {
            "text/plain": [
              "pos    12500\n",
              "neg    12500\n",
              "Name: label, dtype: int64"
            ]
          },
          "metadata": {},
          "execution_count": 31
        }
      ]
    },
    {
      "cell_type": "markdown",
      "metadata": {
        "id": "emn3o3LNijhc"
      },
      "source": [
        "As before, we apply the HTML strip function to reviews"
      ]
    },
    {
      "cell_type": "code",
      "metadata": {
        "id": "OxuwoPh7ijhc"
      },
      "source": [
        "test_set[\"text\"] = test_set[\"text\"].apply(strip_tags)"
      ],
      "execution_count": null,
      "outputs": []
    },
    {
      "cell_type": "markdown",
      "metadata": {
        "id": "-clrrU8lijhf"
      },
      "source": [
        "We represent the test reviews in the vector space created on training reviews"
      ]
    },
    {
      "cell_type": "code",
      "metadata": {
        "id": "ez5mF5gDijhf",
        "colab": {
          "base_uri": "https://localhost:8080/"
        },
        "outputId": "a27d78e6-2148-4b40-e4e6-109840836cb2"
      },
      "source": [
        "test_dtm = vect.transform(test_set[\"text\"])\n",
        "test_dtm"
      ],
      "execution_count": null,
      "outputs": [
        {
          "output_type": "execute_result",
          "data": {
            "text/plain": [
              "<25000x35852 sparse matrix of type '<class 'numpy.float64'>'\n",
              "\twith 3291409 stored elements in Compressed Sparse Row format>"
            ]
          },
          "metadata": {},
          "execution_count": 33
        }
      ]
    },
    {
      "cell_type": "markdown",
      "metadata": {
        "id": "TSX4Xm2_ijhh"
      },
      "source": [
        "We then convert pos/neg labels for test examples into target vectors"
      ]
    },
    {
      "cell_type": "code",
      "metadata": {
        "id": "JaIS1xc4ijhi",
        "colab": {
          "base_uri": "https://localhost:8080/",
          "height": 424
        },
        "outputId": "66fd5c52-4b66-4c6e-b193-4a857861a444"
      },
      "source": [
        "test_target = make_target(test_set[\"label\"])\n",
        "test_target"
      ],
      "execution_count": null,
      "outputs": [
        {
          "output_type": "execute_result",
          "data": {
            "text/plain": [
              "       pos  neg\n",
              "0        1    0\n",
              "1        0    1\n",
              "2        1    0\n",
              "3        0    1\n",
              "4        1    0\n",
              "...    ...  ...\n",
              "24995    0    1\n",
              "24996    1    0\n",
              "24997    0    1\n",
              "24998    1    0\n",
              "24999    0    1\n",
              "\n",
              "[25000 rows x 2 columns]"
            ],
            "text/html": [
              "\n",
              "  <div id=\"df-13e10404-5ea5-4b5e-81c8-e84b6e09c822\">\n",
              "    <div class=\"colab-df-container\">\n",
              "      <div>\n",
              "<style scoped>\n",
              "    .dataframe tbody tr th:only-of-type {\n",
              "        vertical-align: middle;\n",
              "    }\n",
              "\n",
              "    .dataframe tbody tr th {\n",
              "        vertical-align: top;\n",
              "    }\n",
              "\n",
              "    .dataframe thead th {\n",
              "        text-align: right;\n",
              "    }\n",
              "</style>\n",
              "<table border=\"1\" class=\"dataframe\">\n",
              "  <thead>\n",
              "    <tr style=\"text-align: right;\">\n",
              "      <th></th>\n",
              "      <th>pos</th>\n",
              "      <th>neg</th>\n",
              "    </tr>\n",
              "  </thead>\n",
              "  <tbody>\n",
              "    <tr>\n",
              "      <th>0</th>\n",
              "      <td>1</td>\n",
              "      <td>0</td>\n",
              "    </tr>\n",
              "    <tr>\n",
              "      <th>1</th>\n",
              "      <td>0</td>\n",
              "      <td>1</td>\n",
              "    </tr>\n",
              "    <tr>\n",
              "      <th>2</th>\n",
              "      <td>1</td>\n",
              "      <td>0</td>\n",
              "    </tr>\n",
              "    <tr>\n",
              "      <th>3</th>\n",
              "      <td>0</td>\n",
              "      <td>1</td>\n",
              "    </tr>\n",
              "    <tr>\n",
              "      <th>4</th>\n",
              "      <td>1</td>\n",
              "      <td>0</td>\n",
              "    </tr>\n",
              "    <tr>\n",
              "      <th>...</th>\n",
              "      <td>...</td>\n",
              "      <td>...</td>\n",
              "    </tr>\n",
              "    <tr>\n",
              "      <th>24995</th>\n",
              "      <td>0</td>\n",
              "      <td>1</td>\n",
              "    </tr>\n",
              "    <tr>\n",
              "      <th>24996</th>\n",
              "      <td>1</td>\n",
              "      <td>0</td>\n",
              "    </tr>\n",
              "    <tr>\n",
              "      <th>24997</th>\n",
              "      <td>0</td>\n",
              "      <td>1</td>\n",
              "    </tr>\n",
              "    <tr>\n",
              "      <th>24998</th>\n",
              "      <td>1</td>\n",
              "      <td>0</td>\n",
              "    </tr>\n",
              "    <tr>\n",
              "      <th>24999</th>\n",
              "      <td>0</td>\n",
              "      <td>1</td>\n",
              "    </tr>\n",
              "  </tbody>\n",
              "</table>\n",
              "<p>25000 rows × 2 columns</p>\n",
              "</div>\n",
              "      <button class=\"colab-df-convert\" onclick=\"convertToInteractive('df-13e10404-5ea5-4b5e-81c8-e84b6e09c822')\"\n",
              "              title=\"Convert this dataframe to an interactive table.\"\n",
              "              style=\"display:none;\">\n",
              "        \n",
              "  <svg xmlns=\"http://www.w3.org/2000/svg\" height=\"24px\"viewBox=\"0 0 24 24\"\n",
              "       width=\"24px\">\n",
              "    <path d=\"M0 0h24v24H0V0z\" fill=\"none\"/>\n",
              "    <path d=\"M18.56 5.44l.94 2.06.94-2.06 2.06-.94-2.06-.94-.94-2.06-.94 2.06-2.06.94zm-11 1L8.5 8.5l.94-2.06 2.06-.94-2.06-.94L8.5 2.5l-.94 2.06-2.06.94zm10 10l.94 2.06.94-2.06 2.06-.94-2.06-.94-.94-2.06-.94 2.06-2.06.94z\"/><path d=\"M17.41 7.96l-1.37-1.37c-.4-.4-.92-.59-1.43-.59-.52 0-1.04.2-1.43.59L10.3 9.45l-7.72 7.72c-.78.78-.78 2.05 0 2.83L4 21.41c.39.39.9.59 1.41.59.51 0 1.02-.2 1.41-.59l7.78-7.78 2.81-2.81c.8-.78.8-2.07 0-2.86zM5.41 20L4 18.59l7.72-7.72 1.47 1.35L5.41 20z\"/>\n",
              "  </svg>\n",
              "      </button>\n",
              "      \n",
              "  <style>\n",
              "    .colab-df-container {\n",
              "      display:flex;\n",
              "      flex-wrap:wrap;\n",
              "      gap: 12px;\n",
              "    }\n",
              "\n",
              "    .colab-df-convert {\n",
              "      background-color: #E8F0FE;\n",
              "      border: none;\n",
              "      border-radius: 50%;\n",
              "      cursor: pointer;\n",
              "      display: none;\n",
              "      fill: #1967D2;\n",
              "      height: 32px;\n",
              "      padding: 0 0 0 0;\n",
              "      width: 32px;\n",
              "    }\n",
              "\n",
              "    .colab-df-convert:hover {\n",
              "      background-color: #E2EBFA;\n",
              "      box-shadow: 0px 1px 2px rgba(60, 64, 67, 0.3), 0px 1px 3px 1px rgba(60, 64, 67, 0.15);\n",
              "      fill: #174EA6;\n",
              "    }\n",
              "\n",
              "    [theme=dark] .colab-df-convert {\n",
              "      background-color: #3B4455;\n",
              "      fill: #D2E3FC;\n",
              "    }\n",
              "\n",
              "    [theme=dark] .colab-df-convert:hover {\n",
              "      background-color: #434B5C;\n",
              "      box-shadow: 0px 1px 3px 1px rgba(0, 0, 0, 0.15);\n",
              "      filter: drop-shadow(0px 1px 2px rgba(0, 0, 0, 0.3));\n",
              "      fill: #FFFFFF;\n",
              "    }\n",
              "  </style>\n",
              "\n",
              "      <script>\n",
              "        const buttonEl =\n",
              "          document.querySelector('#df-13e10404-5ea5-4b5e-81c8-e84b6e09c822 button.colab-df-convert');\n",
              "        buttonEl.style.display =\n",
              "          google.colab.kernel.accessAllowed ? 'block' : 'none';\n",
              "\n",
              "        async function convertToInteractive(key) {\n",
              "          const element = document.querySelector('#df-13e10404-5ea5-4b5e-81c8-e84b6e09c822');\n",
              "          const dataTable =\n",
              "            await google.colab.kernel.invokeFunction('convertToInteractive',\n",
              "                                                     [key], {});\n",
              "          if (!dataTable) return;\n",
              "\n",
              "          const docLinkHtml = 'Like what you see? Visit the ' +\n",
              "            '<a target=\"_blank\" href=https://colab.research.google.com/notebooks/data_table.ipynb>data table notebook</a>'\n",
              "            + ' to learn more about interactive tables.';\n",
              "          element.innerHTML = '';\n",
              "          dataTable['output_type'] = 'display_data';\n",
              "          await google.colab.output.renderOutput(dataTable, element);\n",
              "          const docLink = document.createElement('div');\n",
              "          docLink.innerHTML = docLinkHtml;\n",
              "          element.appendChild(docLink);\n",
              "        }\n",
              "      </script>\n",
              "    </div>\n",
              "  </div>\n",
              "  "
            ]
          },
          "metadata": {},
          "execution_count": 34
        }
      ]
    },
    {
      "cell_type": "markdown",
      "metadata": {
        "id": "p3kfF1gxijhj"
      },
      "source": [
        "After processing the test set, we can fed it to the neural network for evaluation using the `evaluate` method"
      ]
    },
    {
      "cell_type": "code",
      "metadata": {
        "id": "Q7apXO-kijhk",
        "colab": {
          "base_uri": "https://localhost:8080/"
        },
        "outputId": "13b38601-7f8a-4e23-b083-52174c43c5a0"
      },
      "source": [
        "model.evaluate(test_dtm, test_target)"
      ],
      "execution_count": null,
      "outputs": [
        {
          "output_type": "stream",
          "name": "stdout",
          "text": [
            "25000/25000 [==============================] - 4s 157us/step\n"
          ]
        },
        {
          "output_type": "execute_result",
          "data": {
            "text/plain": [
              "[0.3994659994697571, 0.8704400062561035]"
            ]
          },
          "metadata": {},
          "execution_count": 35
        }
      ]
    },
    {
      "cell_type": "markdown",
      "metadata": {
        "id": "_Gj_OgxTijhm"
      },
      "source": [
        "The method reports the loss (first value) and the accuracy (second value) measured on the given test set: our final goal is to maximize the accuracy"
      ]
    },
    {
      "cell_type": "markdown",
      "metadata": {
        "id": "xbDiUSuVijhm"
      },
      "source": [
        "Let's now introduce a _hidden layer_ in the network between input and output, for example a layer of 128 nodes with linear activation which receive input vectors"
      ]
    },
    {
      "cell_type": "code",
      "metadata": {
        "id": "nyvQ21f2ijhm"
      },
      "source": [
        "model = Sequential()\n",
        "model.add(Dense(128, input_dim=num_terms))"
      ],
      "execution_count": null,
      "outputs": []
    },
    {
      "cell_type": "code",
      "metadata": {
        "id": "eZtBdx0p5P-t"
      },
      "source": [
        "# Functional API version\n",
        "# inputs = keras.layers.Input(shape=(num_terms,))\n",
        "# x = Dense(128)(inputs)"
      ],
      "execution_count": null,
      "outputs": []
    },
    {
      "cell_type": "markdown",
      "metadata": {
        "id": "QYqtpAIyijho"
      },
      "source": [
        "The output of these 128 will be fed to the output layer, composed as above by 2 nodes with softmax activation"
      ]
    },
    {
      "cell_type": "code",
      "metadata": {
        "id": "CjpSTK-3ijhp"
      },
      "source": [
        "model.add(Dense(2, activation=\"softmax\"))"
      ],
      "execution_count": null,
      "outputs": []
    },
    {
      "cell_type": "code",
      "metadata": {
        "id": "tQWstbwR5fH7"
      },
      "source": [
        "# Functional API Version\n",
        "# outputs = Dense(2, activation=\"softmax\")(x)\n",
        "# model = keras.Model(inputs = inputs, outputs=outputs, name=\"model_with_hidden_layer\")"
      ],
      "execution_count": null,
      "outputs": []
    },
    {
      "cell_type": "markdown",
      "metadata": {
        "id": "UH97JkRfijhr"
      },
      "source": [
        "The number of network parameters to be trained is now much higher"
      ]
    },
    {
      "cell_type": "code",
      "metadata": {
        "id": "77gkoVQOijhr",
        "colab": {
          "base_uri": "https://localhost:8080/"
        },
        "outputId": "655b14ee-f922-4712-8993-0703af853dd4"
      },
      "source": [
        "model.summary()"
      ],
      "execution_count": null,
      "outputs": [
        {
          "output_type": "stream",
          "name": "stdout",
          "text": [
            "Model: \"sequential_2\"\n",
            "_________________________________________________________________\n",
            "Layer (type)                 Output Shape              Param #   \n",
            "=================================================================\n",
            "dense_2 (Dense)              (None, 128)               4589184   \n",
            "_________________________________________________________________\n",
            "dense_3 (Dense)              (None, 2)                 258       \n",
            "=================================================================\n",
            "Total params: 4,589,442\n",
            "Trainable params: 4,589,442\n",
            "Non-trainable params: 0\n",
            "_________________________________________________________________\n"
          ]
        }
      ]
    },
    {
      "cell_type": "markdown",
      "metadata": {
        "id": "Ya32qKjyijht"
      },
      "source": [
        "Let's compile the network as before"
      ]
    },
    {
      "cell_type": "code",
      "metadata": {
        "id": "44A5mJmpijht"
      },
      "source": [
        "model.compile(optimizer=\"adam\", loss=\"categorical_crossentropy\", metrics=[\"accuracy\"])"
      ],
      "execution_count": null,
      "outputs": []
    },
    {
      "cell_type": "markdown",
      "metadata": {
        "id": "tgf2l7fqijhu"
      },
      "source": [
        "To keep compute times limited, we fit this and subsequent networks running only 3 training epochs"
      ]
    },
    {
      "cell_type": "code",
      "metadata": {
        "id": "cbNLJJMLijhu",
        "colab": {
          "base_uri": "https://localhost:8080/"
        },
        "outputId": "a93ea0b9-6db1-422c-954d-487f4d8132a4"
      },
      "source": [
        "model.fit(train_dtm, train_target, batch_size=200, epochs=3, callbacks=[GarbageCollectorCallback()])"
      ],
      "execution_count": null,
      "outputs": [
        {
          "output_type": "stream",
          "name": "stdout",
          "text": [
            "Epoch 1/3\n",
            "25000/25000 [==============================] - 5s 182us/step - loss: 0.4118 - accuracy: 0.8514\n",
            "Epoch 2/3\n",
            "25000/25000 [==============================] - 4s 178us/step - loss: 0.1654 - accuracy: 0.9455\n",
            "Epoch 3/3\n",
            "25000/25000 [==============================] - 4s 178us/step - loss: 0.0891 - accuracy: 0.9768\n"
          ]
        },
        {
          "output_type": "execute_result",
          "data": {
            "text/plain": [
              "<keras.callbacks.callbacks.History at 0x7f6ee2006250>"
            ]
          },
          "metadata": {},
          "execution_count": 40
        }
      ]
    },
    {
      "cell_type": "markdown",
      "metadata": {
        "id": "t452JASpijhw"
      },
      "source": [
        "Let's evaluate this new network on the same test set as before"
      ]
    },
    {
      "cell_type": "code",
      "metadata": {
        "id": "E7ZIIDp2ijhw",
        "colab": {
          "base_uri": "https://localhost:8080/"
        },
        "outputId": "3e1c5591-1768-4dd3-85b0-830a2f2f01de"
      },
      "source": [
        "model.evaluate(test_dtm, test_target)"
      ],
      "execution_count": null,
      "outputs": [
        {
          "output_type": "stream",
          "name": "stdout",
          "text": [
            "25000/25000 [==============================] - 4s 160us/step\n"
          ]
        },
        {
          "output_type": "execute_result",
          "data": {
            "text/plain": [
              "[0.3168804416036606, 0.8714799880981445]"
            ]
          },
          "metadata": {},
          "execution_count": 41
        }
      ]
    },
    {
      "cell_type": "markdown",
      "metadata": {
        "id": "UxhI79Tuijhy"
      },
      "source": [
        "Thanks to the hidden layer we had a very slight improvement, despite the lower number of training epochs"
      ]
    },
    {
      "cell_type": "markdown",
      "metadata": {
        "id": "LT68VXmSijhy"
      },
      "source": [
        "To make the model more expressive, we have to introduce non-linearity in hidden layers: for example, we replicate the model above using sigmoid activation in the hidden layer\n",
        "\n",
        "We can create the model more concisely by providing the list of layers to be stacked"
      ]
    },
    {
      "cell_type": "code",
      "metadata": {
        "id": "Xn9Rz1nNijhy"
      },
      "source": [
        "model = Sequential([\n",
        "    Dense(128, activation=\"sigmoid\", input_dim=num_terms),\n",
        "    Dense(2, activation=\"softmax\")\n",
        "])\n",
        "model.compile(optimizer=\"adam\", loss=\"categorical_crossentropy\", metrics=[\"accuracy\"])"
      ],
      "execution_count": null,
      "outputs": []
    },
    {
      "cell_type": "code",
      "metadata": {
        "id": "x4V-pU5mijh0",
        "colab": {
          "base_uri": "https://localhost:8080/"
        },
        "outputId": "144605a3-a2bd-42d2-ef37-21e8f4b7f6d1"
      },
      "source": [
        "model.fit(train_dtm, train_target, batch_size=200, epochs=3, callbacks=[GarbageCollectorCallback()])"
      ],
      "execution_count": null,
      "outputs": [
        {
          "output_type": "stream",
          "name": "stdout",
          "text": [
            "Epoch 1/3\n",
            "25000/25000 [==============================] - 5s 183us/step - loss: 0.6293 - accuracy: 0.7565\n",
            "Epoch 2/3\n",
            "25000/25000 [==============================] - 4s 178us/step - loss: 0.4611 - accuracy: 0.8800\n",
            "Epoch 3/3\n",
            "25000/25000 [==============================] - 5s 180us/step - loss: 0.3205 - accuracy: 0.9107\n"
          ]
        },
        {
          "output_type": "execute_result",
          "data": {
            "text/plain": [
              "<keras.callbacks.callbacks.History at 0x7f6ede018710>"
            ]
          },
          "metadata": {},
          "execution_count": 43
        }
      ]
    },
    {
      "cell_type": "code",
      "metadata": {
        "id": "lSv2Qj2rijh2",
        "colab": {
          "base_uri": "https://localhost:8080/"
        },
        "outputId": "3e66a9df-324c-4c60-dc36-3373d625e05c"
      },
      "source": [
        "model.evaluate(test_dtm, test_target)"
      ],
      "execution_count": null,
      "outputs": [
        {
          "output_type": "stream",
          "name": "stdout",
          "text": [
            "25000/25000 [==============================] - 5s 180us/step\n"
          ]
        },
        {
          "output_type": "execute_result",
          "data": {
            "text/plain": [
              "[0.34417421193122866, 0.8758800029754639]"
            ]
          },
          "metadata": {},
          "execution_count": 44
        }
      ]
    },
    {
      "cell_type": "markdown",
      "metadata": {
        "id": "81z0mJXgijh3"
      },
      "source": [
        "Finally, let's test a deep model with three non-linear hidden layers"
      ]
    },
    {
      "cell_type": "code",
      "metadata": {
        "id": "WeIVFiroijh3"
      },
      "source": [
        "model = Sequential([\n",
        "    Dense(256, activation=\"sigmoid\", input_dim=num_terms),\n",
        "    Dense(64, activation=\"sigmoid\"),\n",
        "    Dense(16, activation=\"sigmoid\"),\n",
        "    Dense(2, activation=\"softmax\")\n",
        "])\n",
        "model.compile(optimizer=\"adam\", loss=\"categorical_crossentropy\", metrics=[\"accuracy\"])"
      ],
      "execution_count": null,
      "outputs": []
    },
    {
      "cell_type": "code",
      "metadata": {
        "id": "4MRD8OIYijh5",
        "colab": {
          "base_uri": "https://localhost:8080/"
        },
        "outputId": "76e3e227-d89c-4848-c5f1-8d5d5b890046"
      },
      "source": [
        "model.summary()"
      ],
      "execution_count": null,
      "outputs": [
        {
          "output_type": "stream",
          "name": "stdout",
          "text": [
            "Model: \"sequential_4\"\n",
            "_________________________________________________________________\n",
            "Layer (type)                 Output Shape              Param #   \n",
            "=================================================================\n",
            "dense_6 (Dense)              (None, 256)               9178368   \n",
            "_________________________________________________________________\n",
            "dense_7 (Dense)              (None, 64)                16448     \n",
            "_________________________________________________________________\n",
            "dense_8 (Dense)              (None, 16)                1040      \n",
            "_________________________________________________________________\n",
            "dense_9 (Dense)              (None, 2)                 34        \n",
            "=================================================================\n",
            "Total params: 9,195,890\n",
            "Trainable params: 9,195,890\n",
            "Non-trainable params: 0\n",
            "_________________________________________________________________\n"
          ]
        }
      ]
    },
    {
      "cell_type": "code",
      "metadata": {
        "id": "1PolQv6Eijh6",
        "colab": {
          "base_uri": "https://localhost:8080/"
        },
        "outputId": "2524bcc0-db0d-4f81-9dcc-d1a6f8405b9a"
      },
      "source": [
        "model.fit(train_dtm, train_target, batch_size=200, epochs=3)"
      ],
      "execution_count": null,
      "outputs": [
        {
          "output_type": "stream",
          "name": "stdout",
          "text": [
            "Epoch 1/3\n",
            "25000/25000 [==============================] - 5s 206us/step - loss: 0.6837 - accuracy: 0.5892\n",
            "Epoch 2/3\n",
            "25000/25000 [==============================] - 5s 201us/step - loss: 0.4553 - accuracy: 0.8575\n",
            "Epoch 3/3\n",
            "25000/25000 [==============================] - 5s 201us/step - loss: 0.2041 - accuracy: 0.9279\n"
          ]
        },
        {
          "output_type": "execute_result",
          "data": {
            "text/plain": [
              "<keras.callbacks.callbacks.History at 0x7f6ecfcff1d0>"
            ]
          },
          "metadata": {},
          "execution_count": 47
        }
      ]
    },
    {
      "cell_type": "code",
      "metadata": {
        "id": "VU-3khHcijh8",
        "colab": {
          "base_uri": "https://localhost:8080/"
        },
        "outputId": "6e6c5962-6ff2-4eef-f14c-3062558761c9"
      },
      "source": [
        "model.evaluate(test_dtm, test_target)"
      ],
      "execution_count": null,
      "outputs": [
        {
          "output_type": "stream",
          "name": "stdout",
          "text": [
            "25000/25000 [==============================] - 4s 176us/step\n"
          ]
        },
        {
          "output_type": "execute_result",
          "data": {
            "text/plain": [
              "[0.27963479736328123, 0.8828799724578857]"
            ]
          },
          "metadata": {},
          "execution_count": 48
        }
      ]
    },
    {
      "cell_type": "markdown",
      "source": [
        "Once the right network structure has been found, you can also tune the regularization of your neural network adding Dropout layers or playing with L1/L2 reg values as in the following training example. Notice that due to the regularization effect, more training epoch could be needed."
      ],
      "metadata": {
        "id": "IDnX4xg020Hu"
      }
    },
    {
      "cell_type": "code",
      "source": [
        "from keras import regularizers\n",
        "\n",
        "model = Sequential([\n",
        "    Dense(256, activation=\"sigmoid\", input_dim=num_terms, kernel_regularizer=regularizers.L1L2(l1=1e-8, l2=1e-6)),\n",
        "    Dense(64, activation=\"sigmoid\"),\n",
        "    Dense(16, activation=\"sigmoid\"),\n",
        "    Dense(2, activation=\"softmax\")\n",
        "])\n",
        "model.compile(optimizer=\"adam\", loss=\"categorical_crossentropy\", metrics=[\"accuracy\"])"
      ],
      "metadata": {
        "id": "1X3MCSla2WoP"
      },
      "execution_count": null,
      "outputs": []
    },
    {
      "cell_type": "code",
      "metadata": {
        "colab": {
          "base_uri": "https://localhost:8080/"
        },
        "outputId": "cb6a829c-8512-452a-9f59-ce001a2c1887",
        "id": "vCe-7ay_2o9N"
      },
      "source": [
        "model.fit(train_dtm, train_target, batch_size=200, epochs=3)"
      ],
      "execution_count": null,
      "outputs": [
        {
          "output_type": "stream",
          "name": "stdout",
          "text": [
            "Epoch 1/3\n",
            "25000/25000 [==============================] - 6s 238us/step - loss: 0.6869 - accuracy: 0.5955\n",
            "Epoch 2/3\n",
            "25000/25000 [==============================] - 6s 229us/step - loss: 0.4773 - accuracy: 0.8502\n",
            "Epoch 3/3\n",
            "25000/25000 [==============================] - 5s 219us/step - loss: 0.2334 - accuracy: 0.9213\n"
          ]
        },
        {
          "output_type": "execute_result",
          "data": {
            "text/plain": [
              "<keras.callbacks.callbacks.History at 0x7f6ecfb5a1d0>"
            ]
          },
          "metadata": {},
          "execution_count": 50
        }
      ]
    },
    {
      "cell_type": "code",
      "metadata": {
        "colab": {
          "base_uri": "https://localhost:8080/"
        },
        "outputId": "0b5b36e2-0ee2-406b-87cb-733f89ced325",
        "id": "Egtod_Qp2o9O"
      },
      "source": [
        "model.evaluate(test_dtm, test_target)"
      ],
      "execution_count": null,
      "outputs": [
        {
          "output_type": "stream",
          "name": "stdout",
          "text": [
            "25000/25000 [==============================] - 5s 189us/step\n"
          ]
        },
        {
          "output_type": "execute_result",
          "data": {
            "text/plain": [
              "[0.28912080417633057, 0.8863199949264526]"
            ]
          },
          "metadata": {},
          "execution_count": 51
        }
      ]
    },
    {
      "cell_type": "markdown",
      "metadata": {
        "id": "phOqAYXkijh9"
      },
      "source": [
        "## Word Embedding\n",
        "\n",
        "A _word embedding_ model is a dictionary mapping each known word to a **N-dimensional vector**\n",
        "\n",
        "Such model is built by training a neural network on a bunch of text to predict the most likely word in a context defined by other words\n",
        "- training is unsupervised: no labeling of text is needed\n",
        "\n",
        "\n",
        "The resulting vector of each word somehow denotes its meaning: **semantically similar words are represented with similar vectors**. Moreover, operations between vectors can be used to **find words semantically related** to each other.\n",
        "\n",
        "Word embedding models can be used to represent text in NLP tasks, including sentiment analysis\n",
        "\n",
        "The **gensim** library provides means to represent and build word embedding models"
      ]
    },
    {
      "cell_type": "markdown",
      "metadata": {
        "id": "twCE1oaJijh9"
      },
      "source": [
        "## Training a Word2Vec model\n",
        "\n",
        "We have a set of 5,000 movie reviews without any labeling: we can't train a sentiment classifier on them but we can train a word embedding model\n",
        "\n",
        "We read the compressed text file `imdb-unsup-5k.txt.gz`, containing one review per line"
      ]
    },
    {
      "cell_type": "code",
      "metadata": {
        "id": "9OavdQnUijh-"
      },
      "source": [
        "download(\"imdb-unsup-5k.txt.gz\", \"https://github.com/datascienceunibo/bbs-dl-lab-2019/raw/master/imdb-unsup-5k.txt.gz\")"
      ],
      "execution_count": null,
      "outputs": []
    },
    {
      "cell_type": "code",
      "metadata": {
        "id": "nyBYGNk3ijiA"
      },
      "source": [
        "with gzip.open(\"imdb-unsup-5k.txt.gz\", \"rt\", encoding=\"utf8\") as f: # open gzip file containing the dataset\n",
        "    we_train_set = [strip_tags(line.strip()) for line in f] # for each line (review) of the file, strip the string and map tags"
      ],
      "execution_count": null,
      "outputs": []
    },
    {
      "cell_type": "markdown",
      "metadata": {
        "id": "Y5GZooXWijiH"
      },
      "source": [
        "We have to preprocess each review by splitting text into tokens\n",
        "\n",
        "gensim, the library used to train the word embedding model, provides a simple utility function for this\n",
        "- alternatively any tokenization function can be used, e.g. `nltk.word_tokenize`"
      ]
    },
    {
      "cell_type": "code",
      "metadata": {
        "id": "PfutSnpbijiH"
      },
      "source": [
        "from gensim.utils import simple_preprocess"
      ],
      "execution_count": null,
      "outputs": []
    },
    {
      "cell_type": "code",
      "metadata": {
        "id": "85unLKi1ijiI",
        "colab": {
          "base_uri": "https://localhost:8080/"
        },
        "outputId": "ab1db933-a334-46a8-b0d8-7abda31a5d65"
      },
      "source": [
        "%%time\n",
        "\n",
        "we_train_tokens = [simple_preprocess(text) for text in we_train_set] # we_train_tokens will be a matrix where the first axis contains each review tokens array while the second one represents the review tokens\n",
        "\n",
        "# Wall time: time elapsed according to the computer's internal clock\n",
        "# User-cpu time: the amount of time spent executing user-code \n",
        "# Sys cpu time: the amount of time spent in the kernel due to the need of privileged operations (like IO to disk)"
      ],
      "execution_count": null,
      "outputs": [
        {
          "output_type": "stream",
          "name": "stdout",
          "text": [
            "CPU times: user 1.08 s, sys: 27.3 ms, total: 1.11 s\n",
            "Wall time: 1.11 s\n"
          ]
        }
      ]
    },
    {
      "cell_type": "code",
      "metadata": {
        "id": "gQK-0EreijiJ",
        "colab": {
          "base_uri": "https://localhost:8080/",
          "height": 35
        },
        "outputId": "ab9e432a-235d-4782-9a04-95a21bcbfc7c"
      },
      "source": [
        "we_train_set[0][:82]"
      ],
      "execution_count": null,
      "outputs": [
        {
          "output_type": "execute_result",
          "data": {
            "text/plain": [
              "'I admit, the great majority of films released before say 1933 are just not for me.'"
            ],
            "application/vnd.google.colaboratory.intrinsic+json": {
              "type": "string"
            }
          },
          "metadata": {},
          "execution_count": 56
        }
      ]
    },
    {
      "cell_type": "code",
      "metadata": {
        "id": "v0s69SngijiK",
        "colab": {
          "base_uri": "https://localhost:8080/"
        },
        "outputId": "debce64e-87a0-4251-a83d-948bd3848cd0"
      },
      "source": [
        "we_train_tokens[0][:8]"
      ],
      "execution_count": null,
      "outputs": [
        {
          "output_type": "execute_result",
          "data": {
            "text/plain": [
              "['admit', 'the', 'great', 'majority', 'of', 'films', 'released', 'before']"
            ]
          },
          "metadata": {},
          "execution_count": 62
        }
      ]
    },
    {
      "cell_type": "markdown",
      "metadata": {
        "id": "ja20QoU3ijiM"
      },
      "source": [
        "We can now use the token sequences to train the Word2Vec embedding model\n",
        "\n",
        "The most important parameter is the size of the word vectors we want to obtain\n",
        "- in the original Word2Vec paper 300 is indicated as a good value\n",
        "- here we use 50 as a tradeoff between accuracy and efficiency"
      ]
    },
    {
      "cell_type": "code",
      "metadata": {
        "id": "TutdIlQPijiM"
      },
      "source": [
        "wordvecs_size = 50"
      ],
      "execution_count": null,
      "outputs": []
    },
    {
      "cell_type": "markdown",
      "metadata": {
        "id": "5RqPntI9ijiO"
      },
      "source": [
        "Other relevant parameters are\n",
        "- the _window size_, i.e. the number of words before and after any word to consider as its context\n",
        "- the minimum appearances of a term to be included in the model\n",
        "\n",
        "We specify these options in the `Word2Vec` initializer, together with the set of token sequences used to train the model"
      ]
    },
    {
      "cell_type": "code",
      "metadata": {
        "id": "ozAYVO4DijiO",
        "colab": {
          "base_uri": "https://localhost:8080/"
        },
        "outputId": "9b7c4cab-20ae-4a1c-d97f-5768a9ad3292"
      },
      "source": [
        "%%time\n",
        "wv_model = gensim.models.Word2Vec(\n",
        "    we_train_tokens,\n",
        "    size=wordvecs_size,\n",
        "    window=5,\n",
        "    min_count=5\n",
        ")"
      ],
      "execution_count": null,
      "outputs": [
        {
          "output_type": "stream",
          "name": "stdout",
          "text": [
            "CPU times: user 14.4 s, sys: 115 ms, total: 14.5 s\n",
            "Wall time: 8.6 s\n"
          ]
        }
      ]
    },
    {
      "cell_type": "markdown",
      "metadata": {
        "id": "uqu4z2HdijiQ"
      },
      "source": [
        "Our Word2Vec model is now trained, we can get a reference to the word->vector mapping itself `wv` and drop the rest of the model object to free some memory"
      ]
    },
    {
      "cell_type": "code",
      "metadata": {
        "id": "NJ9oaU44ijiQ"
      },
      "source": [
        "wv = wv_model.wv\n",
        "del wv_model"
      ],
      "execution_count": null,
      "outputs": []
    },
    {
      "cell_type": "markdown",
      "metadata": {
        "id": "e-ZJts5QijiR"
      },
      "source": [
        "## Exploring the word embedding model\n",
        "\n",
        "How many distinct terms are represented in the model?"
      ]
    },
    {
      "cell_type": "code",
      "metadata": {
        "id": "6cqNQUweijiR",
        "colab": {
          "base_uri": "https://localhost:8080/"
        },
        "outputId": "4c37bab6-a40a-48c6-9a41-48c6ea010887"
      },
      "source": [
        "len(wv.vocab)"
      ],
      "execution_count": null,
      "outputs": [
        {
          "output_type": "execute_result",
          "data": {
            "text/plain": [
              "12070"
            ]
          },
          "metadata": {},
          "execution_count": 60
        }
      ]
    },
    {
      "cell_type": "markdown",
      "metadata": {
        "id": "8mMR884oijiT"
      },
      "source": [
        "Which are these terms? `index2word` is an ordered list with more common terms coming first"
      ]
    },
    {
      "cell_type": "code",
      "metadata": {
        "id": "KnGJ4SZpijiT",
        "colab": {
          "base_uri": "https://localhost:8080/"
        },
        "outputId": "afa9bb0e-c38b-4210-fdf4-74cc5977a140"
      },
      "source": [
        "wv.index2word[:10]"
      ],
      "execution_count": null,
      "outputs": [
        {
          "output_type": "execute_result",
          "data": {
            "text/plain": [
              "['the', 'and', 'of', 'to', 'is', 'in', 'it', 'this', 'that', 'as']"
            ]
          },
          "metadata": {},
          "execution_count": 61
        }
      ]
    },
    {
      "cell_type": "markdown",
      "metadata": {
        "id": "UmCb-FNoijiU"
      },
      "source": [
        "Let's see the vector of a word, e.g. \"excellent\""
      ]
    },
    {
      "cell_type": "code",
      "metadata": {
        "id": "Tte_Q-IjijiU",
        "colab": {
          "base_uri": "https://localhost:8080/"
        },
        "outputId": "aa6788d3-dc9d-4517-a96a-5a112e9a66e9"
      },
      "source": [
        "wv.word_vec(\"excellent\")"
      ],
      "execution_count": null,
      "outputs": [
        {
          "output_type": "execute_result",
          "data": {
            "text/plain": [
              "array([-2.4980035 , -0.14969406, -1.8101636 ,  0.4116657 ,  0.31193823,\n",
              "       -0.11041771, -0.5238655 ,  0.38178992,  2.162841  ,  1.6679823 ,\n",
              "       -0.4137649 ,  0.13453671, -0.26821765, -0.28783432, -0.9977914 ,\n",
              "        0.05385574, -0.9408156 ,  1.4003984 ,  0.62501556, -0.58989525,\n",
              "        1.4667829 ,  0.13285218, -1.1394736 , -1.5052167 , -0.47079226,\n",
              "        0.673453  , -0.24326678, -1.1836985 ,  0.07904789,  0.24690366,\n",
              "       -0.96292096, -1.2462395 ,  0.8703872 ,  0.44818866,  0.02352279,\n",
              "       -0.07354163, -2.3970087 , -2.0810559 , -0.22669289, -0.80077904,\n",
              "       -0.73145676, -0.97802854, -0.26276267,  1.9163396 ,  0.10927846,\n",
              "        0.84992033, -0.2662893 , -0.41152915,  0.71904075,  1.2974087 ],\n",
              "      dtype=float32)"
            ]
          },
          "metadata": {},
          "execution_count": 62
        }
      ]
    },
    {
      "cell_type": "markdown",
      "metadata": {
        "id": "0bJN2kXWijiV"
      },
      "source": [
        "We can also compute and get (L2) normalized word vectors (for each vector the sum of the respective components squares will always be up to 1), used to compute cosine similarity"
      ]
    },
    {
      "cell_type": "code",
      "metadata": {
        "id": "A6YbcAZtijiV"
      },
      "source": [
        "wv.init_sims()   # compute and cache normalized vectors (using L2-Normalization)"
      ],
      "execution_count": null,
      "outputs": []
    },
    {
      "cell_type": "code",
      "metadata": {
        "id": "EHTppXSMijiW",
        "colab": {
          "base_uri": "https://localhost:8080/"
        },
        "outputId": "f8fad3d5-472d-47ab-a7ac-9264c41f9728"
      },
      "source": [
        "# True indicates to normalize the vector\n",
        "wv.word_vec(\"excellent\", True)"
      ],
      "execution_count": null,
      "outputs": [
        {
          "output_type": "execute_result",
          "data": {
            "text/plain": [
              "array([-0.34253526, -0.02052659, -0.24821617,  0.05644909,  0.0427741 ,\n",
              "       -0.01514087, -0.07183433,  0.05235241,  0.29657656,  0.22871976,\n",
              "       -0.05673693,  0.01844816, -0.03677897, -0.03946888, -0.13682076,\n",
              "        0.00738489, -0.12900804,  0.19202767,  0.08570439, -0.08088856,\n",
              "        0.20113057,  0.01821717, -0.15624872, -0.20640075, -0.06455673,\n",
              "        0.0923463 , -0.03335762, -0.16231301,  0.01083933,  0.03385632,\n",
              "       -0.13203919, -0.17088886,  0.11935063,  0.06145725,  0.00322553,\n",
              "       -0.01008429, -0.32868648, -0.2853619 , -0.03108495, -0.10980571,\n",
              "       -0.10029999, -0.13411081, -0.03603096,  0.2627754 ,  0.01498466,\n",
              "        0.11654414, -0.03651455, -0.05643036,  0.09859746,  0.17790537],\n",
              "      dtype=float32)"
            ]
          },
          "metadata": {},
          "execution_count": 64
        }
      ]
    },
    {
      "cell_type": "markdown",
      "metadata": {
        "id": "unRqX91gijiX"
      },
      "source": [
        "The word vector by itself doesn't give much information, but we can search for example which are the words with vectors most similar to this...\n",
        "\n",
        "Let's use the `cosine_similarities` function to compute similarity between this vector and all the other ones, stored in the `vector` array"
      ]
    },
    {
      "cell_type": "code",
      "metadata": {
        "id": "3xhp5jb5ijiX"
      },
      "source": [
        "similarities_to_excellent = wv.cosine_similarities(\n",
        "    wv.word_vec(\"excellent\"),\n",
        "    wv.vectors\n",
        ")"
      ],
      "execution_count": null,
      "outputs": []
    },
    {
      "cell_type": "markdown",
      "metadata": {
        "id": "Eyh_jJsKijiZ"
      },
      "source": [
        "We obtain an array of cosine similarity scores that has a component for each word represented in the model"
      ]
    },
    {
      "cell_type": "code",
      "metadata": {
        "id": "Oh2tZ8_hbkDA",
        "colab": {
          "base_uri": "https://localhost:8080/"
        },
        "outputId": "584907fe-cbd7-479e-8674-fe922f005322"
      },
      "source": [
        "similarities_to_excellent.shape"
      ],
      "execution_count": null,
      "outputs": [
        {
          "output_type": "execute_result",
          "data": {
            "text/plain": [
              "(12070,)"
            ]
          },
          "metadata": {},
          "execution_count": 66
        }
      ]
    },
    {
      "cell_type": "code",
      "metadata": {
        "id": "q2YQMfI4ijiZ",
        "colab": {
          "base_uri": "https://localhost:8080/"
        },
        "outputId": "42f35c5d-792b-498d-d3e3-b822b21ace0d"
      },
      "source": [
        "similarities_to_excellent[:5]"
      ],
      "execution_count": null,
      "outputs": [
        {
          "output_type": "execute_result",
          "data": {
            "text/plain": [
              "array([ 0.06719482,  0.2600503 ,  0.09208315, -0.14226678,  0.2710683 ],\n",
              "      dtype=float32)"
            ]
          },
          "metadata": {},
          "execution_count": 67
        }
      ]
    },
    {
      "cell_type": "markdown",
      "metadata": {
        "id": "6fbKEv9Pijic"
      },
      "source": [
        "Let's label them with the term they refer to and sort by descending values"
      ]
    },
    {
      "cell_type": "code",
      "metadata": {
        "id": "yX-uIkfLijic",
        "colab": {
          "base_uri": "https://localhost:8080/"
        },
        "outputId": "54ed006d-330e-4117-f033-9e12a2784c8a"
      },
      "source": [
        "pd.Series(\n",
        "    similarities_to_excellent,\n",
        "    wv.index2word\n",
        ").sort_values(ascending=False).head(10) # sort the values by descending similarity score and take the first 10"
      ],
      "execution_count": null,
      "outputs": [
        {
          "output_type": "execute_result",
          "data": {
            "text/plain": [
              "excellent      1.000000\n",
              "outstanding    0.902485\n",
              "brilliant      0.901978\n",
              "terrific       0.891061\n",
              "amazing        0.885479\n",
              "fine           0.877729\n",
              "superb         0.870027\n",
              "directing      0.864877\n",
              "fantastic      0.858256\n",
              "impressive     0.855457\n",
              "dtype: float32"
            ]
          },
          "metadata": {},
          "execution_count": 68
        }
      ]
    },
    {
      "cell_type": "markdown",
      "metadata": {
        "id": "vwyeiX8Yijih"
      },
      "source": [
        "In this way we found **other words** other than \"excellent\" with a **strong positive connotation**!\n",
        "\n",
        "For this the model provides a `most_similar` method, which also removes the reference word from the results"
      ]
    },
    {
      "cell_type": "code",
      "metadata": {
        "id": "ThbC8lr_ijih",
        "colab": {
          "base_uri": "https://localhost:8080/"
        },
        "outputId": "ecb086aa-5f85-42db-d65f-8e1cec9a8ae0"
      },
      "source": [
        "wv.most_similar(\"excellent\")"
      ],
      "execution_count": null,
      "outputs": [
        {
          "output_type": "execute_result",
          "data": {
            "text/plain": [
              "[('outstanding', 0.9024852514266968),\n",
              " ('brilliant', 0.9019781351089478),\n",
              " ('terrific', 0.8910612463951111),\n",
              " ('amazing', 0.8854790329933167),\n",
              " ('fine', 0.8777288198471069),\n",
              " ('superb', 0.8700267672538757),\n",
              " ('directing', 0.8648768663406372),\n",
              " ('fantastic', 0.8582562208175659),\n",
              " ('impressive', 0.8554567098617554),\n",
              " ('wonderful', 0.8441264629364014)]"
            ]
          },
          "metadata": {},
          "execution_count": 69
        }
      ]
    },
    {
      "cell_type": "markdown",
      "metadata": {
        "id": "eD6Rkhv-ijij"
      },
      "source": [
        "We can similarly see what happens with a strongly negative word, e.g. \"terrible\""
      ]
    },
    {
      "cell_type": "code",
      "metadata": {
        "id": "rLCZfn4Tijij",
        "colab": {
          "base_uri": "https://localhost:8080/"
        },
        "outputId": "af2af9d9-c7e0-4c50-e8c7-0c0353234f2f"
      },
      "source": [
        "wv.most_similar(\"terrible\")"
      ],
      "execution_count": null,
      "outputs": [
        {
          "output_type": "execute_result",
          "data": {
            "text/plain": [
              "[('totally', 0.920531153678894),\n",
              " ('horrible', 0.9157000780105591),\n",
              " ('ok', 0.9080965518951416),\n",
              " ('scary', 0.880188524723053),\n",
              " ('boring', 0.8787528872489929),\n",
              " ('awful', 0.8708726167678833),\n",
              " ('cheesy', 0.8657823204994202),\n",
              " ('ridiculous', 0.8632988333702087),\n",
              " ('hilarious', 0.8592098355293274),\n",
              " ('amazing', 0.8530741333961487)]"
            ]
          },
          "metadata": {},
          "execution_count": 70
        }
      ]
    },
    {
      "cell_type": "markdown",
      "metadata": {
        "id": "oRbp83_Mijil"
      },
      "source": [
        "Other strongly negative words are found!"
      ]
    },
    {
      "cell_type": "markdown",
      "metadata": {
        "id": "VmXN-LSoijil"
      },
      "source": [
        "Another powerful function of word embedding models is to find words with specific syntactic and semantic relationships using vector arithmetics\n",
        "\n",
        "Consider the relationship _\"man\" is to \"woman\" as \"actor\" is to X_ where the model has to find out that X = \"actress\"\n",
        "\n",
        "Word2Vec produces vectors in such a way that _\"man\" - \"woman\" = \"actor\" - X_, so we can find X as the term whose vector is closest to _\"actor\" + \"woman\" - \"man\"_\n",
        "\n",
        "Let's produce the vector representation of X..."
      ]
    },
    {
      "cell_type": "code",
      "metadata": {
        "id": "i2Qt-RL2ijim"
      },
      "source": [
        "composition = (wv.word_vec(\"actor\", True)\n",
        "             + wv.word_vec(\"woman\", True)\n",
        "             - wv.word_vec(\"man\", True))"
      ],
      "execution_count": null,
      "outputs": []
    },
    {
      "cell_type": "markdown",
      "metadata": {
        "id": "AA_gUAY0ijio"
      },
      "source": [
        "...and then find the words most similar to this composition"
      ]
    },
    {
      "cell_type": "code",
      "metadata": {
        "id": "UrKeBry3ijio",
        "colab": {
          "base_uri": "https://localhost:8080/"
        },
        "outputId": "86440b7a-f55f-401b-f03d-a1fb4d44ec3a"
      },
      "source": [
        "pd.Series(\n",
        "    wv.cosine_similarities(composition, wv.vectors),\n",
        "    wv.index2word\n",
        ").sort_values(ascending=False).head(10)"
      ],
      "execution_count": null,
      "outputs": [
        {
          "output_type": "execute_result",
          "data": {
            "text/plain": [
              "actor          0.911516\n",
              "actress        0.906861\n",
              "role           0.839133\n",
              "bruce          0.812796\n",
              "chaney         0.794021\n",
              "davis          0.789406\n",
              "performance    0.786315\n",
              "played         0.785893\n",
              "visconti       0.775002\n",
              "star           0.768095\n",
              "dtype: float32"
            ]
          },
          "metadata": {},
          "execution_count": 72
        }
      ]
    },
    {
      "cell_type": "markdown",
      "metadata": {
        "id": "KQgwZw9mijiq"
      },
      "source": [
        "Also in this case we can use `most_similar`, distinguishing words with positive and negative weight"
      ]
    },
    {
      "cell_type": "code",
      "metadata": {
        "id": "XUswR_k4ijiq",
        "colab": {
          "base_uri": "https://localhost:8080/"
        },
        "outputId": "d656642c-55c8-4ab5-dec7-736e4d5cb8c5"
      },
      "source": [
        "wv.most_similar(\n",
        "    positive=[\"actor\", \"woman\"],\n",
        "    negative=[\"man\"]\n",
        ")"
      ],
      "execution_count": null,
      "outputs": [
        {
          "output_type": "execute_result",
          "data": {
            "text/plain": [
              "[('actress', 0.9068607091903687),\n",
              " ('role', 0.8391326069831848),\n",
              " ('bruce', 0.8127957582473755),\n",
              " ('chaney', 0.7940212488174438),\n",
              " ('davis', 0.789406418800354),\n",
              " ('performance', 0.7863155007362366),\n",
              " ('played', 0.7858928442001343),\n",
              " ('visconti', 0.7750020623207092),\n",
              " ('star', 0.7680947780609131),\n",
              " ('robin', 0.7602735757827759)]"
            ]
          },
          "metadata": {},
          "execution_count": 73
        }
      ]
    },
    {
      "cell_type": "markdown",
      "metadata": {
        "id": "b6AiDV0Oijir"
      },
      "source": [
        "According to randomness in the training process, the correct answer \"actress\" might be the most similar word or very close to it, but still the confidence of the model is limited"
      ]
    },
    {
      "cell_type": "markdown",
      "metadata": {
        "id": "OUhtaQjaijir"
      },
      "source": [
        "We proceed our analysis on a pretrained GloVe (_Global Vectors_) word embedding model, whose training procedure is similar to Word2Vec\n",
        "\n",
        "We use a version trimmed down to the most common 100,000 terms of the 100d model trained on Wikipedia, available here: https://nlp.stanford.edu/projects/glove/\n",
        "\n",
        "Arrays with words and vectors are provided in the `glove.npz` file"
      ]
    },
    {
      "cell_type": "code",
      "metadata": {
        "id": "LtxBxAWlijir"
      },
      "source": [
        "download(\"glove.npz\", \"https://github.com/datascienceunibo/bbs-dl-lab-2019/raw/master/glove.npz\")"
      ],
      "execution_count": null,
      "outputs": []
    },
    {
      "cell_type": "code",
      "metadata": {
        "id": "Ro3dVXHVijis"
      },
      "source": [
        "with np.load(\"glove.npz\") as f:\n",
        "    glove_words = f[\"words\"]\n",
        "    glove_vectors = f[\"vectors\"]"
      ],
      "execution_count": null,
      "outputs": []
    },
    {
      "cell_type": "markdown",
      "metadata": {
        "id": "0gqHrkpgijiu"
      },
      "source": [
        "We read the vector size from the loaded array"
      ]
    },
    {
      "cell_type": "code",
      "metadata": {
        "id": "zc8Ezgocijiu",
        "colab": {
          "base_uri": "https://localhost:8080/"
        },
        "outputId": "f2ac97ad-e63c-4ca6-a498-e575df65b7ec"
      },
      "source": [
        "wordvecs_size = glove_vectors.shape[1]\n",
        "wordvecs_size"
      ],
      "execution_count": null,
      "outputs": [
        {
          "output_type": "execute_result",
          "data": {
            "text/plain": [
              "100"
            ]
          },
          "metadata": {},
          "execution_count": 76
        }
      ]
    },
    {
      "cell_type": "markdown",
      "metadata": {
        "id": "vXSAB-Fiijiv"
      },
      "source": [
        "We then create the word embedding model from the words"
      ]
    },
    {
      "cell_type": "code",
      "metadata": {
        "id": "810O0gzOijiv"
      },
      "source": [
        "wv = gensim.models.KeyedVectors(wordvecs_size)\n",
        "wv[glove_words.tolist()] = glove_vectors\n",
        "wv.init_sims()"
      ],
      "execution_count": null,
      "outputs": []
    },
    {
      "cell_type": "markdown",
      "metadata": {
        "id": "BXM_8bZBijiw"
      },
      "source": [
        "Searching on this model for the answer to _man : woman = actor : X_..."
      ]
    },
    {
      "cell_type": "code",
      "metadata": {
        "id": "Ts4n0Lzoijiw",
        "colab": {
          "base_uri": "https://localhost:8080/"
        },
        "outputId": "b54be6b1-3442-488e-cf94-10242a685876"
      },
      "source": [
        "wv.most_similar(\n",
        "    positive=[\"actor\", \"woman\"],\n",
        "    negative=[\"man\"]\n",
        ")"
      ],
      "execution_count": null,
      "outputs": [
        {
          "output_type": "execute_result",
          "data": {
            "text/plain": [
              "[('actress', 0.9073609113693237),\n",
              " ('comedian', 0.6890829205513),\n",
              " ('actresses', 0.6826434135437012),\n",
              " ('screenwriter', 0.6554961204528809),\n",
              " ('starred', 0.6533135175704956),\n",
              " ('starring', 0.6514240503311157),\n",
              " ('actors', 0.6402771472930908),\n",
              " ('dancer', 0.6378583908081055),\n",
              " ('singer', 0.6346279382705688),\n",
              " ('filmmaker', 0.6279778480529785)]"
            ]
          },
          "metadata": {},
          "execution_count": 78
        }
      ]
    },
    {
      "cell_type": "markdown",
      "metadata": {
        "id": "Zqk6qXhPijix"
      },
      "source": [
        "...the correct answer \"actress\" is more dominant on the other ones"
      ]
    },
    {
      "cell_type": "markdown",
      "metadata": {
        "id": "VHOqPlRtijix"
      },
      "source": [
        "Other examples with multiple pairs: finding the plural of a singular word..."
      ]
    },
    {
      "cell_type": "code",
      "metadata": {
        "id": "pmdt3u5Lijiy",
        "colab": {
          "base_uri": "https://localhost:8080/"
        },
        "outputId": "eaa31114-7233-4299-f17d-8352479591b5"
      },
      "source": [
        "wv.most_similar(\n",
        "    positive=[\"mouse\", \"dogs\", \"cats\"],\n",
        "    negative=[         \"dog\",  \"cat\"]\n",
        ")"
      ],
      "execution_count": null,
      "outputs": [
        {
          "output_type": "execute_result",
          "data": {
            "text/plain": [
              "[('mice', 0.710668683052063),\n",
              " ('rabbits', 0.681904673576355),\n",
              " ('rodents', 0.6771590709686279),\n",
              " ('rats', 0.6427716016769409),\n",
              " ('animals', 0.6243681907653809),\n",
              " ('monkeys', 0.6002902984619141),\n",
              " ('ferrets', 0.5910987854003906),\n",
              " ('mammals', 0.5888075828552246),\n",
              " ('foxes', 0.5750464200973511),\n",
              " ('raccoons', 0.5635854005813599)]"
            ]
          },
          "metadata": {},
          "execution_count": 79
        }
      ]
    },
    {
      "cell_type": "markdown",
      "metadata": {
        "id": "QEzzTgM6ijiz"
      },
      "source": [
        "...and finding the capital of a State"
      ]
    },
    {
      "cell_type": "code",
      "metadata": {
        "id": "W6xfzMegijiz",
        "colab": {
          "base_uri": "https://localhost:8080/"
        },
        "outputId": "5e86bf71-07b9-48e2-df1b-cad0b021a4b2"
      },
      "source": [
        "wv.most_similar(\n",
        "    positive=[\"france\", \"rome\",  \"berlin\"],\n",
        "    negative=[          \"italy\", \"germany\"]\n",
        ")"
      ],
      "execution_count": null,
      "outputs": [
        {
          "output_type": "execute_result",
          "data": {
            "text/plain": [
              "[('paris', 0.7584174871444702),\n",
              " ('cairo', 0.6146870851516724),\n",
              " ('london', 0.5959091186523438),\n",
              " ('versailles', 0.5937519669532776),\n",
              " ('vienna', 0.5896108150482178),\n",
              " ('brussels', 0.5775601863861084),\n",
              " ('petersburg', 0.5704914331436157),\n",
              " ('palace', 0.5681281089782715),\n",
              " ('sorbonne', 0.5556104183197021),\n",
              " ('strasbourg', 0.555298388004303)]"
            ]
          },
          "metadata": {},
          "execution_count": 80
        }
      ]
    },
    {
      "cell_type": "markdown",
      "metadata": {
        "id": "dtlGXDtDiji0"
      },
      "source": [
        "Another method provided by the model is `doesnt_match` finding the word which is the least related to the others in a given list"
      ]
    },
    {
      "cell_type": "code",
      "metadata": {
        "id": "ggqHsg-Ciji0",
        "colab": {
          "base_uri": "https://localhost:8080/",
          "height": 90
        },
        "outputId": "582b94f4-3316-4f81-daa4-236bbc62fb14"
      },
      "source": [
        "wv.doesnt_match([\"cat\", \"mouse\", \"dog\", \"keyboard\", \"frog\"])"
      ],
      "execution_count": null,
      "outputs": [
        {
          "output_type": "stream",
          "name": "stderr",
          "text": [
            "/usr/local/lib/python3.7/dist-packages/gensim/models/keyedvectors.py:895: FutureWarning: arrays to stack must be passed as a \"sequence\" type such as list or tuple. Support for non-sequence iterables such as generators is deprecated as of NumPy 1.16 and will raise an error in the future.\n",
            "  vectors = vstack(self.word_vec(word, use_norm=True) for word in used_words).astype(REAL)\n"
          ]
        },
        {
          "output_type": "execute_result",
          "data": {
            "text/plain": [
              "'keyboard'"
            ],
            "application/vnd.google.colaboratory.intrinsic+json": {
              "type": "string"
            }
          },
          "metadata": {},
          "execution_count": 81
        }
      ]
    },
    {
      "cell_type": "markdown",
      "metadata": {
        "id": "zbF34BR6iji1"
      },
      "source": [
        "## Representing text with word embedding\n",
        "\n",
        "We now see how to leverage the word embedding model in a neural network for sentiment classification\n",
        "\n",
        "We start by tokenizing texts of training reviews"
      ]
    },
    {
      "cell_type": "code",
      "metadata": {
        "id": "Fl71GbuEiji1",
        "colab": {
          "base_uri": "https://localhost:8080/"
        },
        "outputId": "2744f062-a727-4a42-b725-f55ecdbcd5f1"
      },
      "source": [
        "%%time\n",
        "train_tokens = [gensim.utils.simple_preprocess(text) for text in train_set[\"text\"]]"
      ],
      "execution_count": null,
      "outputs": [
        {
          "output_type": "stream",
          "name": "stdout",
          "text": [
            "CPU times: user 5.43 s, sys: 174 ms, total: 5.6 s\n",
            "Wall time: 5.6 s\n"
          ]
        }
      ]
    },
    {
      "cell_type": "markdown",
      "metadata": {
        "id": "dxQCdAA2iji2"
      },
      "source": [
        "Let's see an example of tokenized review"
      ]
    },
    {
      "cell_type": "code",
      "metadata": {
        "id": "LeDkVtk2iji2",
        "colab": {
          "base_uri": "https://localhost:8080/",
          "height": 35
        },
        "outputId": "9aaf21c6-2ece-411b-d3dd-ba7807dbcf03"
      },
      "source": [
        "train_set[\"text\"][0][:34]"
      ],
      "execution_count": null,
      "outputs": [
        {
          "output_type": "execute_result",
          "data": {
            "text/plain": [
              "'Bromwell High is a cartoon comedy.'"
            ],
            "application/vnd.google.colaboratory.intrinsic+json": {
              "type": "string"
            }
          },
          "metadata": {},
          "execution_count": 83
        }
      ]
    },
    {
      "cell_type": "code",
      "metadata": {
        "id": "ExehX2fviji3",
        "colab": {
          "base_uri": "https://localhost:8080/"
        },
        "outputId": "748e7ccb-a6f4-4ea6-e401-330f15706da1"
      },
      "source": [
        "train_tokens[0][:5]"
      ],
      "execution_count": null,
      "outputs": [
        {
          "output_type": "execute_result",
          "data": {
            "text/plain": [
              "['bromwell', 'high', 'is', 'cartoon', 'comedy']"
            ]
          },
          "metadata": {},
          "execution_count": 84
        }
      ]
    },
    {
      "cell_type": "markdown",
      "metadata": {
        "id": "ogIckRWKiji4"
      },
      "source": [
        "We now convert these lists of text tokens into lists of indices of terms in the word embedding model, leaving out terms not present in the model"
      ]
    },
    {
      "cell_type": "code",
      "metadata": {
        "id": "w3iIvvERiji4"
      },
      "source": [
        "train_indices = [\n",
        "    [wv.vocab[word].index for word in text if word in wv.vocab] # for each token (word) in the review, that is present in our Word2Vec vocabulary, get its index in the Word2Vec vocabulary\n",
        "    for text in train_tokens # i.e. for each tokenized review\n",
        "]"
      ],
      "execution_count": null,
      "outputs": []
    },
    {
      "cell_type": "markdown",
      "metadata": {
        "id": "eRPPA1oeiji5"
      },
      "source": [
        "For example the begin of the review above is now represented with..."
      ]
    },
    {
      "cell_type": "code",
      "metadata": {
        "id": "DIsZ8aQniji5",
        "colab": {
          "base_uri": "https://localhost:8080/"
        },
        "outputId": "c144a23e-1a91-4762-e7ee-48f6ecdc855d"
      },
      "source": [
        "train_indices[0][:5] # [0] is the index of the first review, [:5] is used to get the first five word indexes of the first review"
      ],
      "execution_count": null,
      "outputs": [
        {
          "output_type": "execute_result",
          "data": {
            "text/plain": [
              "[152, 14, 7362, 2841, 20]"
            ]
          },
          "metadata": {},
          "execution_count": 86
        }
      ]
    },
    {
      "cell_type": "markdown",
      "metadata": {
        "id": "pxbZlUmZiji6"
      },
      "source": [
        "...which translated back into words would be... (notice that the first term was removed because not in the embedding model)"
      ]
    },
    {
      "cell_type": "code",
      "metadata": {
        "id": "2OZ7A9BIiji6",
        "colab": {
          "base_uri": "https://localhost:8080/"
        },
        "outputId": "8e8fb1eb-362f-4f47-f06f-26d8d970e83a"
      },
      "source": [
        "[wv.index2word[i] for i in train_indices[0][:5]]"
      ],
      "execution_count": null,
      "outputs": [
        {
          "output_type": "execute_result",
          "data": {
            "text/plain": [
              "['high', 'is', 'cartoon', 'comedy', 'it']"
            ]
          },
          "metadata": {},
          "execution_count": 87
        }
      ]
    },
    {
      "cell_type": "markdown",
      "metadata": {
        "id": "pHMbszeJiji8"
      },
      "source": [
        "Since we want to perform a review-level sentiment analysis, we have to find a way to represent each review using the respective word vectors.\n",
        "As a first solution, we represent each review with the mean of normalized vectors of words contained in it: we obtain such vectors for all train reviews and stack them together in a matrix"
      ]
    },
    {
      "cell_type": "code",
      "metadata": {
        "id": "kbiYYgapiji8",
        "colab": {
          "base_uri": "https://localhost:8080/"
        },
        "outputId": "7d5c36b0-3aa6-4fe5-a4ee-2c3aa7b6e8f8"
      },
      "source": [
        "train_we_repr = np.vstack([wv.vectors_norm[indices].mean(0) for indices in train_indices]) # i.e. for each review indices, get the relative word2vec vectors, compute their means and stack the resulting vectors in a matrix.\n",
        "\n",
        "# This way we now have a matrix that has a row per training set review and as many columns as the number of word vector features (100)\n",
        "train_we_repr.shape"
      ],
      "execution_count": null,
      "outputs": [
        {
          "output_type": "execute_result",
          "data": {
            "text/plain": [
              "(25000, 100)"
            ]
          },
          "metadata": {},
          "execution_count": 88
        }
      ]
    },
    {
      "cell_type": "markdown",
      "metadata": {
        "id": "itLB8GMyiji9"
      },
      "source": [
        "We then create a MLP network with one hidden layer accepting such vectors in input"
      ]
    },
    {
      "cell_type": "code",
      "metadata": {
        "id": "nImeccYXiji9"
      },
      "source": [
        "model = Sequential([\n",
        "    Dense(128, activation=\"sigmoid\", input_dim=wordvecs_size),\n",
        "    Dense(2, activation=\"softmax\")\n",
        "])\n",
        "model.compile(optimizer=\"adam\", loss=\"categorical_crossentropy\", metrics=[\"accuracy\"])"
      ],
      "execution_count": null,
      "outputs": []
    },
    {
      "cell_type": "markdown",
      "metadata": {
        "id": "mXR0j5rJiji-"
      },
      "source": [
        "As the input size of the network is much lower, so it is the number of parameters"
      ]
    },
    {
      "cell_type": "code",
      "metadata": {
        "id": "M7LO5JNKiji-",
        "colab": {
          "base_uri": "https://localhost:8080/"
        },
        "outputId": "b1f73f48-5b5c-4c58-f760-3fb855fc16c0"
      },
      "source": [
        "model.summary()"
      ],
      "execution_count": null,
      "outputs": [
        {
          "output_type": "stream",
          "name": "stdout",
          "text": [
            "Model: \"sequential_6\"\n",
            "_________________________________________________________________\n",
            "Layer (type)                 Output Shape              Param #   \n",
            "=================================================================\n",
            "dense_14 (Dense)             (None, 128)               12928     \n",
            "_________________________________________________________________\n",
            "dense_15 (Dense)             (None, 2)                 258       \n",
            "=================================================================\n",
            "Total params: 13,186\n",
            "Trainable params: 13,186\n",
            "Non-trainable params: 0\n",
            "_________________________________________________________________\n"
          ]
        }
      ]
    },
    {
      "cell_type": "markdown",
      "metadata": {
        "id": "zerzdpkFiji_"
      },
      "source": [
        "Training is much faster than before, so we can increment the epochs and reduce the batch size, thus making more SGD steps in each epoch"
      ]
    },
    {
      "cell_type": "code",
      "metadata": {
        "id": "sVyXA1WkijjA",
        "colab": {
          "base_uri": "https://localhost:8080/"
        },
        "outputId": "d6b127e1-808c-4172-f928-c5cac4eacb69"
      },
      "source": [
        "model.fit(train_we_repr, train_target, batch_size=20, epochs=10)"
      ],
      "execution_count": null,
      "outputs": [
        {
          "output_type": "stream",
          "name": "stdout",
          "text": [
            "Epoch 1/10\n",
            "25000/25000 [==============================] - 3s 121us/step - loss: 0.6490 - accuracy: 0.6338\n",
            "Epoch 2/10\n",
            "25000/25000 [==============================] - 3s 118us/step - loss: 0.5673 - accuracy: 0.7267\n",
            "Epoch 3/10\n",
            "25000/25000 [==============================] - 3s 119us/step - loss: 0.5171 - accuracy: 0.7604\n",
            "Epoch 4/10\n",
            "25000/25000 [==============================] - 3s 121us/step - loss: 0.4924 - accuracy: 0.7713\n",
            "Epoch 5/10\n",
            "25000/25000 [==============================] - 3s 120us/step - loss: 0.4778 - accuracy: 0.7788\n",
            "Epoch 6/10\n",
            "25000/25000 [==============================] - 3s 120us/step - loss: 0.4693 - accuracy: 0.7824\n",
            "Epoch 7/10\n",
            "25000/25000 [==============================] - 3s 118us/step - loss: 0.4650 - accuracy: 0.7844\n",
            "Epoch 8/10\n",
            "25000/25000 [==============================] - 3s 121us/step - loss: 0.4593 - accuracy: 0.7884\n",
            "Epoch 9/10\n",
            "25000/25000 [==============================] - 3s 122us/step - loss: 0.4571 - accuracy: 0.7886\n",
            "Epoch 10/10\n",
            "25000/25000 [==============================] - 3s 121us/step - loss: 0.4555 - accuracy: 0.7913\n"
          ]
        },
        {
          "output_type": "execute_result",
          "data": {
            "text/plain": [
              "<keras.callbacks.callbacks.History at 0x7f6e6d953990>"
            ]
          },
          "metadata": {},
          "execution_count": 91
        }
      ]
    },
    {
      "cell_type": "markdown",
      "metadata": {
        "id": "NukXqBTwijjB"
      },
      "source": [
        "Let's preprocess test reviews as we did for training ones, thus extracting tokens and converting them to indices..."
      ]
    },
    {
      "cell_type": "code",
      "metadata": {
        "id": "yBNZ24koijjB"
      },
      "source": [
        "test_tokens = [gensim.utils.simple_preprocess(text) for text in test_set[\"text\"]]\n",
        "test_indices = [\n",
        "    [wv.vocab[word].index for word in text if word in wv.vocab]\n",
        "    for text in test_tokens\n",
        "]"
      ],
      "execution_count": null,
      "outputs": []
    },
    {
      "cell_type": "markdown",
      "metadata": {
        "id": "75n6Yyz8ijjC"
      },
      "source": [
        "...and obtaining means of word vectors for each review"
      ]
    },
    {
      "cell_type": "code",
      "metadata": {
        "id": "M_hMmd8aijjC"
      },
      "source": [
        "test_we_repr = np.vstack([wv.vectors_norm[indices].mean(0) for indices in test_indices])"
      ],
      "execution_count": null,
      "outputs": []
    },
    {
      "cell_type": "markdown",
      "metadata": {
        "id": "LPWB-1nEijjF"
      },
      "source": [
        "We can now evaluate the network on the test reviews"
      ]
    },
    {
      "cell_type": "code",
      "metadata": {
        "id": "XjiIP9UpijjF",
        "colab": {
          "base_uri": "https://localhost:8080/"
        },
        "outputId": "8532eeaf-af98-41a7-ec80-8d63b9360612"
      },
      "source": [
        "model.evaluate(test_we_repr, test_target)"
      ],
      "execution_count": null,
      "outputs": [
        {
          "output_type": "stream",
          "name": "stdout",
          "text": [
            "25000/25000 [==============================] - 1s 48us/step\n"
          ]
        },
        {
          "output_type": "execute_result",
          "data": {
            "text/plain": [
              "[0.45756174417495726, 0.7890400290489197]"
            ]
          },
          "metadata": {},
          "execution_count": 94
        }
      ]
    },
    {
      "cell_type": "markdown",
      "metadata": {
        "id": "sapvLiNFijjH"
      },
      "source": [
        "The accuracy is not as good as before: with this representation we lose identity of the words in the documents other than their order"
      ]
    },
    {
      "cell_type": "markdown",
      "metadata": {
        "id": "q67ydteQijjI"
      },
      "source": [
        "## Recurrent neural networks\n",
        "\n",
        "MLPs are _feed-forward_ networks: their output at any time is only dependent from their input at the same time\n",
        "\n",
        "On the other side, if we somehow introduce **memory** inside a network, we can make its output dependent from current as well as past inputs, thus we can process **sequential data**\n",
        "\n",
        "_Recurrent_ neural networks include **cyclic connections** between nodes, making the output dependent from the state of the network at previous time steps and thus from previous inputs"
      ]
    },
    {
      "cell_type": "markdown",
      "metadata": {
        "id": "EtGrQj7AijjI"
      },
      "source": [
        "### Sequential data\n",
        "\n",
        "While an input example for a MLP must be represented with a vector of size S, an example for a recurrent NN is represented with a **sequence of vectors**, fed to the network in T subsequent time steps (T is equal for all examples)\n",
        "\n",
        "Thus N input samples with input size S are no longer represented with a N×S array, but with a N×T×S array\n",
        "\n",
        "Leveraging the word embedding model, we represent each review with the **sequence of word vectors** for the terms contained in it\n",
        "- in this way, we consider both the identity of words (the vectors) and their order!"
      ]
    },
    {
      "cell_type": "markdown",
      "metadata": {
        "id": "t9ig7jcbijjJ"
      },
      "source": [
        "We start from the sequences of word indices `*_indices` (train_indices, test_indices) extracted above\n",
        "\n",
        "We need to make all sequences of the same length (the T term above): we set a desired sequence size T, then we trim longer sequences to that size (taking the final T elements) and pad shorter sequences with null values: Keras' `pad_sequences` function does this\n",
        "- larger T values would make training much slower"
      ]
    },
    {
      "cell_type": "code",
      "metadata": {
        "id": "xrJ9m443ijjK"
      },
      "source": [
        "from keras.preprocessing.sequence import pad_sequences\n",
        "max_words = 200\n",
        "train_seq = pad_sequences(train_indices, max_words)"
      ],
      "execution_count": null,
      "outputs": []
    },
    {
      "cell_type": "code",
      "metadata": {
        "id": "uzShlwn7ijjL",
        "colab": {
          "base_uri": "https://localhost:8080/"
        },
        "outputId": "9b964545-1f26-49f1-adda-327be5f677a3"
      },
      "source": [
        "train_seq"
      ],
      "execution_count": null,
      "outputs": [
        {
          "output_type": "execute_result",
          "data": {
            "text/plain": [
              "array([[    0,     0,     0, ...,    12,    20, 75360],\n",
              "       [    0,     0,     0, ...,    30,   541,  3442],\n",
              "       [    0,     0,     0, ...,   219,   191,   219],\n",
              "       ...,\n",
              "       [    0,     0,     0, ..., 29080,  1075,    48],\n",
              "       [  460,     4,    30, ...,   227,    30,  4254],\n",
              "       [    0,     0,     0, ...,  1666,    13, 13664]], dtype=int32)"
            ]
          },
          "metadata": {},
          "execution_count": 96
        }
      ]
    },
    {
      "cell_type": "markdown",
      "metadata": {
        "id": "sTgjsU67ijjN"
      },
      "source": [
        "The size of the matrix is the number of samples times the sequence length, i.e. N×T"
      ]
    },
    {
      "cell_type": "code",
      "metadata": {
        "id": "Eso0uIZoijjO",
        "colab": {
          "base_uri": "https://localhost:8080/"
        },
        "outputId": "0d355d4b-9cdc-4f84-ae36-cf6b0f742fba"
      },
      "source": [
        "train_seq.shape"
      ],
      "execution_count": null,
      "outputs": [
        {
          "output_type": "execute_result",
          "data": {
            "text/plain": [
              "(25000, 200)"
            ]
          },
          "metadata": {},
          "execution_count": 97
        }
      ]
    },
    {
      "cell_type": "markdown",
      "metadata": {
        "id": "T9sOFUNDijjP"
      },
      "source": [
        "### Building the network\n",
        "\n",
        "Let's now create a neural network which gets such sequences as input"
      ]
    },
    {
      "cell_type": "code",
      "metadata": {
        "id": "dCVlPbB9ijjP"
      },
      "source": [
        "model = Sequential()"
      ],
      "execution_count": null,
      "outputs": []
    },
    {
      "cell_type": "markdown",
      "metadata": {
        "id": "EuPG_WpcijjQ"
      },
      "source": [
        "We first insert an `Embedding` layer, which translates each received value into the word vector from the embedding model\n",
        "\n",
        "We need to specify the size of input and output and the word vectors to be used, taking them from the model; we also specify `trainable=False` to \"freeze\" our pretrained word vectors and exclude them from training"
      ]
    },
    {
      "cell_type": "code",
      "metadata": {
        "id": "n0_fyctsijjQ"
      },
      "source": [
        "from keras.layers import Embedding\n",
        "model.add(Embedding( # [1, 2, 3, ] --> [[2.23232, 2.4423, 223,2, ....], [], [] ]\n",
        "    input_dim=len(wv.vocab),    # number of distinct vocabulary terms in Word2Vec model\n",
        "    output_dim=wordvecs_size,   # size of word vectors (S)\n",
        "    input_length=max_words,     # length of sequences (T)\n",
        "    weights=[wv.vectors],       # pretrained Word2Vec vectors\n",
        "    trainable=False\n",
        "))"
      ],
      "execution_count": null,
      "outputs": []
    },
    {
      "cell_type": "markdown",
      "metadata": {
        "id": "-iusgIq9ijjR"
      },
      "source": [
        "The output of this layer is a N×T×S tensor, we feed it to a recurrent layer which receives S-sized vectors for T time steps\n",
        "\n",
        "_Gated Recurrent Units_ (GRU) are a simplified version of _Long Short-Term Memory_ (LSTM) units, which can potentially hold information in memory across many time steps; we use here a layer of 128 GRU cells\n",
        "\n",
        "_Dropout_ randomly drops (sets to zero) a given ratio of input values at each time step: it is a technique to prevent model overfitting"
      ]
    },
    {
      "cell_type": "code",
      "metadata": {
        "id": "dE2umoGqijjS"
      },
      "source": [
        "from keras.layers import GRU\n",
        "model.add(GRU(128, dropout=0.2))"
      ],
      "execution_count": null,
      "outputs": []
    },
    {
      "cell_type": "markdown",
      "metadata": {
        "id": "fz6cZX6tijjT"
      },
      "source": [
        "While producing 128 output values at each time step, the GRU layer by default only returns the outputs at the final steps, i.e. when the whole input sequence has been fed to the network, thus the output size of this layer is N×128 (the time dimension collapses)\n",
        "\n",
        "We can now finalize the network with the output layer, which receives the output of the GRU layer"
      ]
    },
    {
      "cell_type": "code",
      "metadata": {
        "id": "oQQXSfhLijjT"
      },
      "source": [
        "model.add(Dense(2, activation=\"softmax\"))"
      ],
      "execution_count": null,
      "outputs": []
    },
    {
      "cell_type": "markdown",
      "metadata": {
        "id": "yQz40ZwHijjU"
      },
      "source": [
        "The model summary gives a recap of shapes of data across network layers other than parameters"
      ]
    },
    {
      "cell_type": "code",
      "metadata": {
        "id": "Z8XBIRFIijjU",
        "colab": {
          "base_uri": "https://localhost:8080/"
        },
        "outputId": "46fbae37-e328-4c43-d019-0f04d709caf3"
      },
      "source": [
        "model.summary()"
      ],
      "execution_count": null,
      "outputs": [
        {
          "output_type": "stream",
          "name": "stdout",
          "text": [
            "Model: \"sequential_8\"\n",
            "_________________________________________________________________\n",
            "Layer (type)                 Output Shape              Param #   \n",
            "=================================================================\n",
            "embedding_3 (Embedding)      (None, 200, 100)          10000000  \n",
            "_________________________________________________________________\n",
            "gru_1 (GRU)                  (None, 128)               87936     \n",
            "_________________________________________________________________\n",
            "dense_16 (Dense)             (None, 2)                 258       \n",
            "=================================================================\n",
            "Total params: 10,088,194\n",
            "Trainable params: 88,194\n",
            "Non-trainable params: 10,000,000\n",
            "_________________________________________________________________\n"
          ]
        }
      ]
    },
    {
      "cell_type": "markdown",
      "metadata": {
        "id": "vIP-bm4SijjV"
      },
      "source": [
        "We can now compile the network and train it on the padded sequences of word indices\n",
        "- training of RNNs is quite slow, we again limit training to 3 epochs"
      ]
    },
    {
      "cell_type": "code",
      "metadata": {
        "id": "lpWVXKdoijjW",
        "colab": {
          "base_uri": "https://localhost:8080/"
        },
        "outputId": "be89d91c-7977-4424-8fc4-e897e89b2e26"
      },
      "source": [
        "model.compile(loss=\"categorical_crossentropy\", optimizer=\"adam\", metrics=[\"accuracy\"])\n",
        "model.fit(train_seq, train_target, batch_size=200, epochs=3)"
      ],
      "execution_count": null,
      "outputs": [
        {
          "output_type": "stream",
          "name": "stdout",
          "text": [
            "Epoch 1/3\n",
            "25000/25000 [==============================] - 23s 919us/step - loss: 0.6094 - accuracy: 0.6546\n",
            "Epoch 2/3\n",
            "25000/25000 [==============================] - 22s 898us/step - loss: 0.4540 - accuracy: 0.7878\n",
            "Epoch 3/3\n",
            "25000/25000 [==============================] - 22s 900us/step - loss: 0.3959 - accuracy: 0.8221\n"
          ]
        },
        {
          "output_type": "execute_result",
          "data": {
            "text/plain": [
              "<keras.callbacks.callbacks.History at 0x7f6e4f52ad50>"
            ]
          },
          "metadata": {},
          "execution_count": 106
        }
      ]
    },
    {
      "cell_type": "markdown",
      "metadata": {
        "id": "jgwxQH-bijjX"
      },
      "source": [
        "Let's now obtain the padded sequences also for the test reviews..."
      ]
    },
    {
      "cell_type": "code",
      "metadata": {
        "id": "qo6fNOX1ijjY"
      },
      "source": [
        "test_seq = pad_sequences(test_indices, max_words)"
      ],
      "execution_count": null,
      "outputs": []
    },
    {
      "cell_type": "code",
      "source": [
        "test_seq"
      ],
      "metadata": {
        "colab": {
          "base_uri": "https://localhost:8080/"
        },
        "id": "uGhdCU03Jwzq",
        "outputId": "4b5e085a-9aa1-4c92-8e10-dce09ba9f558"
      },
      "execution_count": null,
      "outputs": [
        {
          "output_type": "execute_result",
          "data": {
            "text/plain": [
              "array([[    0,     0,     0, ...,   106,    81,   924],\n",
              "       [    0,     0,     0, ...,    29,  1152,     6],\n",
              "       [    0,     0,     0, ...,    20,    83,    94],\n",
              "       ...,\n",
              "       [    0,     0,     0, ...,   260,  1174, 12565],\n",
              "       [    0,     0,     0, ...,  5989,  2926, 25495],\n",
              "       [    0,     0,     0, ...,  1005,    36,  5466]], dtype=int32)"
            ]
          },
          "metadata": {},
          "execution_count": 108
        }
      ]
    },
    {
      "cell_type": "markdown",
      "metadata": {
        "id": "g20kvlPHijjZ"
      },
      "source": [
        "...and use them to evaluate the model"
      ]
    },
    {
      "cell_type": "code",
      "metadata": {
        "id": "5oOOjw0KijjZ",
        "colab": {
          "base_uri": "https://localhost:8080/"
        },
        "outputId": "d8fadb1d-58eb-4ba6-d435-f2027ffd2d2a"
      },
      "source": [
        "model.evaluate(test_seq, test_target)"
      ],
      "execution_count": null,
      "outputs": [
        {
          "output_type": "stream",
          "name": "stdout",
          "text": [
            "25000/25000 [==============================] - 60s 2ms/step\n"
          ]
        },
        {
          "output_type": "execute_result",
          "data": {
            "text/plain": [
              "[0.3464177102565765, 0.8486800193786621]"
            ]
          },
          "metadata": {},
          "execution_count": 109
        }
      ]
    },
    {
      "cell_type": "markdown",
      "metadata": {
        "id": "F3Xvt97jZAM_"
      },
      "source": [
        "We have got an higher accuracy than the previous solution, thanks to the reviews representation as word sequences and the memory capability of the GRU network"
      ]
    },
    {
      "cell_type": "markdown",
      "metadata": {
        "id": "_O5CvEQVijja"
      },
      "source": [
        "## Cross domain classification\n",
        "\n",
        "We trained our network on reviews of movies and tested its ability to classify sentiment in reviews of movies\n",
        "\n",
        "Can we successfully apply our model to reviews pertaining to a different domain?\n",
        "\n",
        "The `yelp-test-10k.csv.gz` file contains 10,000 labeled user reviews about restaurants extracted from Yelp"
      ]
    },
    {
      "cell_type": "code",
      "metadata": {
        "id": "ruAqMWKuijja"
      },
      "source": [
        "download(\"yelp-test-10k.csv.gz\", \"https://github.com/datascienceunibo/bbs-dl-lab-2019/raw/master/yelp-test-10k.csv.gz\")"
      ],
      "execution_count": null,
      "outputs": []
    },
    {
      "cell_type": "code",
      "metadata": {
        "id": "E9WF8IjCijjb"
      },
      "source": [
        "xdom_set = pd.read_csv(\"yelp-test-10k.csv.gz\", sep=\"\\t\", names=[\"label\", \"text\"])"
      ],
      "execution_count": null,
      "outputs": []
    },
    {
      "cell_type": "code",
      "metadata": {
        "id": "VVAq0BiMijjc",
        "colab": {
          "base_uri": "https://localhost:8080/",
          "height": 206
        },
        "outputId": "1e97d407-e746-486b-8cf9-288eb75ec016"
      },
      "source": [
        "xdom_set.head(5)"
      ],
      "execution_count": null,
      "outputs": [
        {
          "output_type": "execute_result",
          "data": {
            "text/plain": [
              "  label  \\\n",
              "0   pos   \n",
              "1   neg   \n",
              "2   pos   \n",
              "3   neg   \n",
              "4   pos   \n",
              "\n",
              "                                                                                                  text  \n",
              "0   My wife took me here on my birthday for breakfast and it was excellent.  The weather was perfec...  \n",
              "1   U can go there n check the car out. If u wanna buy 1 there? That's wrong move! If u even want a...  \n",
              "2   I have no idea why some people give bad reviews about this place. It goes to show you, you can ...  \n",
              "3   Disgusting!  Had a Groupon so my daughter and I tried it out.  Very outdated and gaudy 80's sty...  \n",
              "4   Rosie, Dakota, and I LOVE Chaparral Dog Park!!! It's very convenient and surrounded by a lot of...  "
            ],
            "text/html": [
              "\n",
              "  <div id=\"df-5cd0c7c6-1254-4328-b58e-4e80b206fffe\">\n",
              "    <div class=\"colab-df-container\">\n",
              "      <div>\n",
              "<style scoped>\n",
              "    .dataframe tbody tr th:only-of-type {\n",
              "        vertical-align: middle;\n",
              "    }\n",
              "\n",
              "    .dataframe tbody tr th {\n",
              "        vertical-align: top;\n",
              "    }\n",
              "\n",
              "    .dataframe thead th {\n",
              "        text-align: right;\n",
              "    }\n",
              "</style>\n",
              "<table border=\"1\" class=\"dataframe\">\n",
              "  <thead>\n",
              "    <tr style=\"text-align: right;\">\n",
              "      <th></th>\n",
              "      <th>label</th>\n",
              "      <th>text</th>\n",
              "    </tr>\n",
              "  </thead>\n",
              "  <tbody>\n",
              "    <tr>\n",
              "      <th>0</th>\n",
              "      <td>pos</td>\n",
              "      <td>My wife took me here on my birthday for breakfast and it was excellent.  The weather was perfec...</td>\n",
              "    </tr>\n",
              "    <tr>\n",
              "      <th>1</th>\n",
              "      <td>neg</td>\n",
              "      <td>U can go there n check the car out. If u wanna buy 1 there? That's wrong move! If u even want a...</td>\n",
              "    </tr>\n",
              "    <tr>\n",
              "      <th>2</th>\n",
              "      <td>pos</td>\n",
              "      <td>I have no idea why some people give bad reviews about this place. It goes to show you, you can ...</td>\n",
              "    </tr>\n",
              "    <tr>\n",
              "      <th>3</th>\n",
              "      <td>neg</td>\n",
              "      <td>Disgusting!  Had a Groupon so my daughter and I tried it out.  Very outdated and gaudy 80's sty...</td>\n",
              "    </tr>\n",
              "    <tr>\n",
              "      <th>4</th>\n",
              "      <td>pos</td>\n",
              "      <td>Rosie, Dakota, and I LOVE Chaparral Dog Park!!! It's very convenient and surrounded by a lot of...</td>\n",
              "    </tr>\n",
              "  </tbody>\n",
              "</table>\n",
              "</div>\n",
              "      <button class=\"colab-df-convert\" onclick=\"convertToInteractive('df-5cd0c7c6-1254-4328-b58e-4e80b206fffe')\"\n",
              "              title=\"Convert this dataframe to an interactive table.\"\n",
              "              style=\"display:none;\">\n",
              "        \n",
              "  <svg xmlns=\"http://www.w3.org/2000/svg\" height=\"24px\"viewBox=\"0 0 24 24\"\n",
              "       width=\"24px\">\n",
              "    <path d=\"M0 0h24v24H0V0z\" fill=\"none\"/>\n",
              "    <path d=\"M18.56 5.44l.94 2.06.94-2.06 2.06-.94-2.06-.94-.94-2.06-.94 2.06-2.06.94zm-11 1L8.5 8.5l.94-2.06 2.06-.94-2.06-.94L8.5 2.5l-.94 2.06-2.06.94zm10 10l.94 2.06.94-2.06 2.06-.94-2.06-.94-.94-2.06-.94 2.06-2.06.94z\"/><path d=\"M17.41 7.96l-1.37-1.37c-.4-.4-.92-.59-1.43-.59-.52 0-1.04.2-1.43.59L10.3 9.45l-7.72 7.72c-.78.78-.78 2.05 0 2.83L4 21.41c.39.39.9.59 1.41.59.51 0 1.02-.2 1.41-.59l7.78-7.78 2.81-2.81c.8-.78.8-2.07 0-2.86zM5.41 20L4 18.59l7.72-7.72 1.47 1.35L5.41 20z\"/>\n",
              "  </svg>\n",
              "      </button>\n",
              "      \n",
              "  <style>\n",
              "    .colab-df-container {\n",
              "      display:flex;\n",
              "      flex-wrap:wrap;\n",
              "      gap: 12px;\n",
              "    }\n",
              "\n",
              "    .colab-df-convert {\n",
              "      background-color: #E8F0FE;\n",
              "      border: none;\n",
              "      border-radius: 50%;\n",
              "      cursor: pointer;\n",
              "      display: none;\n",
              "      fill: #1967D2;\n",
              "      height: 32px;\n",
              "      padding: 0 0 0 0;\n",
              "      width: 32px;\n",
              "    }\n",
              "\n",
              "    .colab-df-convert:hover {\n",
              "      background-color: #E2EBFA;\n",
              "      box-shadow: 0px 1px 2px rgba(60, 64, 67, 0.3), 0px 1px 3px 1px rgba(60, 64, 67, 0.15);\n",
              "      fill: #174EA6;\n",
              "    }\n",
              "\n",
              "    [theme=dark] .colab-df-convert {\n",
              "      background-color: #3B4455;\n",
              "      fill: #D2E3FC;\n",
              "    }\n",
              "\n",
              "    [theme=dark] .colab-df-convert:hover {\n",
              "      background-color: #434B5C;\n",
              "      box-shadow: 0px 1px 3px 1px rgba(0, 0, 0, 0.15);\n",
              "      filter: drop-shadow(0px 1px 2px rgba(0, 0, 0, 0.3));\n",
              "      fill: #FFFFFF;\n",
              "    }\n",
              "  </style>\n",
              "\n",
              "      <script>\n",
              "        const buttonEl =\n",
              "          document.querySelector('#df-5cd0c7c6-1254-4328-b58e-4e80b206fffe button.colab-df-convert');\n",
              "        buttonEl.style.display =\n",
              "          google.colab.kernel.accessAllowed ? 'block' : 'none';\n",
              "\n",
              "        async function convertToInteractive(key) {\n",
              "          const element = document.querySelector('#df-5cd0c7c6-1254-4328-b58e-4e80b206fffe');\n",
              "          const dataTable =\n",
              "            await google.colab.kernel.invokeFunction('convertToInteractive',\n",
              "                                                     [key], {});\n",
              "          if (!dataTable) return;\n",
              "\n",
              "          const docLinkHtml = 'Like what you see? Visit the ' +\n",
              "            '<a target=\"_blank\" href=https://colab.research.google.com/notebooks/data_table.ipynb>data table notebook</a>'\n",
              "            + ' to learn more about interactive tables.';\n",
              "          element.innerHTML = '';\n",
              "          dataTable['output_type'] = 'display_data';\n",
              "          await google.colab.output.renderOutput(dataTable, element);\n",
              "          const docLink = document.createElement('div');\n",
              "          docLink.innerHTML = docLinkHtml;\n",
              "          element.appendChild(docLink);\n",
              "        }\n",
              "      </script>\n",
              "    </div>\n",
              "  </div>\n",
              "  "
            ]
          },
          "metadata": {},
          "execution_count": 114
        }
      ]
    },
    {
      "cell_type": "code",
      "metadata": {
        "id": "4pH0eU8nijjf",
        "colab": {
          "base_uri": "https://localhost:8080/"
        },
        "outputId": "a0a8daa5-c7ab-4fa9-a37d-694b3fcffccd"
      },
      "source": [
        "xdom_set[\"label\"].value_counts()"
      ],
      "execution_count": null,
      "outputs": [
        {
          "output_type": "execute_result",
          "data": {
            "text/plain": [
              "pos    5000\n",
              "neg    5000\n",
              "Name: label, dtype: int64"
            ]
          },
          "metadata": {},
          "execution_count": 115
        }
      ]
    },
    {
      "cell_type": "markdown",
      "metadata": {
        "id": "bn2HaiYOijji"
      },
      "source": [
        "We apply the same preprocessing steps we applied above"
      ]
    },
    {
      "cell_type": "code",
      "metadata": {
        "id": "dbvFQXrHijji"
      },
      "source": [
        "xdom_set[\"text\"] = xdom_set[\"text\"].apply(strip_tags)\n",
        "xdom_tokens = [gensim.utils.simple_preprocess(text) for text in xdom_set[\"text\"]]\n",
        "xdom_indices = [\n",
        "    [wv.vocab[word].index for word in text if word in wv.vocab]\n",
        "    for text in xdom_tokens\n",
        "]\n",
        "xdom_seq = pad_sequences(xdom_indices, max_words)\n",
        "xdom_target = make_target(xdom_set[\"label\"])"
      ],
      "execution_count": null,
      "outputs": []
    },
    {
      "cell_type": "code",
      "metadata": {
        "id": "kSNJx7E-ijjj",
        "colab": {
          "base_uri": "https://localhost:8080/"
        },
        "outputId": "15861a31-8996-4820-ce34-60bf4a88b40b"
      },
      "source": [
        "model.evaluate(xdom_seq, xdom_target)"
      ],
      "execution_count": null,
      "outputs": [
        {
          "output_type": "stream",
          "name": "stdout",
          "text": [
            "10000/10000 [==============================] - 23s 2ms/step\n"
          ]
        },
        {
          "output_type": "execute_result",
          "data": {
            "text/plain": [
              "[0.3851295549869537, 0.850600004196167]"
            ]
          },
          "metadata": {},
          "execution_count": 117
        }
      ]
    },
    {
      "cell_type": "markdown",
      "metadata": {
        "id": "co0Aap_qijjj"
      },
      "source": [
        "The network is fairly accurate, although it was trained on reviews of a different domain\n",
        "\n",
        "Can we further improve this?"
      ]
    },
    {
      "cell_type": "markdown",
      "metadata": {
        "id": "m49UfOgBijjk"
      },
      "source": [
        "## Fine tuning the network\n",
        "\n",
        "In the `yelp-train-2k.csv.gz` we have a set of 2,000 labeled Yelp reviews which can be used for training\n",
        "\n",
        "We would like to make use of these in-domain reviews, without throwing away the model trained on the richer set of cross-domain reviews\n",
        "\n",
        "We can \"tune\" the trained model with an additional training run on the new set of reviews, thus making it more oriented to the new domain and still using knowledge from the other\n",
        "\n",
        "Let's load and view a summary of the file..."
      ]
    },
    {
      "cell_type": "code",
      "metadata": {
        "id": "nxlsR6mBijjk"
      },
      "source": [
        "download(\"yelp-train-2k.csv.gz\", \"https://github.com/datascienceunibo/bbs-dl-lab-2019/raw/master/yelp-train-2k.csv.gz\")"
      ],
      "execution_count": null,
      "outputs": []
    },
    {
      "cell_type": "code",
      "metadata": {
        "id": "DxpazN57ijjk"
      },
      "source": [
        "tune_set = pd.read_csv(\"yelp-train-2k.csv.gz\", sep=\"\\t\", names=[\"label\", \"text\"])"
      ],
      "execution_count": null,
      "outputs": []
    },
    {
      "cell_type": "code",
      "metadata": {
        "id": "MCs5AdGVijjl",
        "colab": {
          "base_uri": "https://localhost:8080/",
          "height": 206
        },
        "outputId": "0abf67ea-257c-45da-8b36-5d75db696dfd"
      },
      "source": [
        "tune_set.head(5)"
      ],
      "execution_count": null,
      "outputs": [
        {
          "output_type": "execute_result",
          "data": {
            "text/plain": [
              "  label  \\\n",
              "0   pos   \n",
              "1   neg   \n",
              "2   pos   \n",
              "3   neg   \n",
              "4   pos   \n",
              "\n",
              "                                                                                                  text  \n",
              "0   Great local yoga studio. Had flexible hours like early morning and late night to fit any schedu...  \n",
              "1   I've been craving a good roast beef sandwich for a few days now, and finally had the chance to ...  \n",
              "2   Super tasty, love the cozy atmosphere, excellent and friendly service!  The naan was a bit thin...  \n",
              "3     After waiting 4 days to get an appointment, Flores was a no show and didn't even bother to call.  \n",
              "4   I have had my kitty Miller for 8 years. She has never been to any other vet.  I like this place...  "
            ],
            "text/html": [
              "\n",
              "  <div id=\"df-f52e010c-8a6e-4c8d-93e8-5091aedf90c9\">\n",
              "    <div class=\"colab-df-container\">\n",
              "      <div>\n",
              "<style scoped>\n",
              "    .dataframe tbody tr th:only-of-type {\n",
              "        vertical-align: middle;\n",
              "    }\n",
              "\n",
              "    .dataframe tbody tr th {\n",
              "        vertical-align: top;\n",
              "    }\n",
              "\n",
              "    .dataframe thead th {\n",
              "        text-align: right;\n",
              "    }\n",
              "</style>\n",
              "<table border=\"1\" class=\"dataframe\">\n",
              "  <thead>\n",
              "    <tr style=\"text-align: right;\">\n",
              "      <th></th>\n",
              "      <th>label</th>\n",
              "      <th>text</th>\n",
              "    </tr>\n",
              "  </thead>\n",
              "  <tbody>\n",
              "    <tr>\n",
              "      <th>0</th>\n",
              "      <td>pos</td>\n",
              "      <td>Great local yoga studio. Had flexible hours like early morning and late night to fit any schedu...</td>\n",
              "    </tr>\n",
              "    <tr>\n",
              "      <th>1</th>\n",
              "      <td>neg</td>\n",
              "      <td>I've been craving a good roast beef sandwich for a few days now, and finally had the chance to ...</td>\n",
              "    </tr>\n",
              "    <tr>\n",
              "      <th>2</th>\n",
              "      <td>pos</td>\n",
              "      <td>Super tasty, love the cozy atmosphere, excellent and friendly service!  The naan was a bit thin...</td>\n",
              "    </tr>\n",
              "    <tr>\n",
              "      <th>3</th>\n",
              "      <td>neg</td>\n",
              "      <td>After waiting 4 days to get an appointment, Flores was a no show and didn't even bother to call.</td>\n",
              "    </tr>\n",
              "    <tr>\n",
              "      <th>4</th>\n",
              "      <td>pos</td>\n",
              "      <td>I have had my kitty Miller for 8 years. She has never been to any other vet.  I like this place...</td>\n",
              "    </tr>\n",
              "  </tbody>\n",
              "</table>\n",
              "</div>\n",
              "      <button class=\"colab-df-convert\" onclick=\"convertToInteractive('df-f52e010c-8a6e-4c8d-93e8-5091aedf90c9')\"\n",
              "              title=\"Convert this dataframe to an interactive table.\"\n",
              "              style=\"display:none;\">\n",
              "        \n",
              "  <svg xmlns=\"http://www.w3.org/2000/svg\" height=\"24px\"viewBox=\"0 0 24 24\"\n",
              "       width=\"24px\">\n",
              "    <path d=\"M0 0h24v24H0V0z\" fill=\"none\"/>\n",
              "    <path d=\"M18.56 5.44l.94 2.06.94-2.06 2.06-.94-2.06-.94-.94-2.06-.94 2.06-2.06.94zm-11 1L8.5 8.5l.94-2.06 2.06-.94-2.06-.94L8.5 2.5l-.94 2.06-2.06.94zm10 10l.94 2.06.94-2.06 2.06-.94-2.06-.94-.94-2.06-.94 2.06-2.06.94z\"/><path d=\"M17.41 7.96l-1.37-1.37c-.4-.4-.92-.59-1.43-.59-.52 0-1.04.2-1.43.59L10.3 9.45l-7.72 7.72c-.78.78-.78 2.05 0 2.83L4 21.41c.39.39.9.59 1.41.59.51 0 1.02-.2 1.41-.59l7.78-7.78 2.81-2.81c.8-.78.8-2.07 0-2.86zM5.41 20L4 18.59l7.72-7.72 1.47 1.35L5.41 20z\"/>\n",
              "  </svg>\n",
              "      </button>\n",
              "      \n",
              "  <style>\n",
              "    .colab-df-container {\n",
              "      display:flex;\n",
              "      flex-wrap:wrap;\n",
              "      gap: 12px;\n",
              "    }\n",
              "\n",
              "    .colab-df-convert {\n",
              "      background-color: #E8F0FE;\n",
              "      border: none;\n",
              "      border-radius: 50%;\n",
              "      cursor: pointer;\n",
              "      display: none;\n",
              "      fill: #1967D2;\n",
              "      height: 32px;\n",
              "      padding: 0 0 0 0;\n",
              "      width: 32px;\n",
              "    }\n",
              "\n",
              "    .colab-df-convert:hover {\n",
              "      background-color: #E2EBFA;\n",
              "      box-shadow: 0px 1px 2px rgba(60, 64, 67, 0.3), 0px 1px 3px 1px rgba(60, 64, 67, 0.15);\n",
              "      fill: #174EA6;\n",
              "    }\n",
              "\n",
              "    [theme=dark] .colab-df-convert {\n",
              "      background-color: #3B4455;\n",
              "      fill: #D2E3FC;\n",
              "    }\n",
              "\n",
              "    [theme=dark] .colab-df-convert:hover {\n",
              "      background-color: #434B5C;\n",
              "      box-shadow: 0px 1px 3px 1px rgba(0, 0, 0, 0.15);\n",
              "      filter: drop-shadow(0px 1px 2px rgba(0, 0, 0, 0.3));\n",
              "      fill: #FFFFFF;\n",
              "    }\n",
              "  </style>\n",
              "\n",
              "      <script>\n",
              "        const buttonEl =\n",
              "          document.querySelector('#df-f52e010c-8a6e-4c8d-93e8-5091aedf90c9 button.colab-df-convert');\n",
              "        buttonEl.style.display =\n",
              "          google.colab.kernel.accessAllowed ? 'block' : 'none';\n",
              "\n",
              "        async function convertToInteractive(key) {\n",
              "          const element = document.querySelector('#df-f52e010c-8a6e-4c8d-93e8-5091aedf90c9');\n",
              "          const dataTable =\n",
              "            await google.colab.kernel.invokeFunction('convertToInteractive',\n",
              "                                                     [key], {});\n",
              "          if (!dataTable) return;\n",
              "\n",
              "          const docLinkHtml = 'Like what you see? Visit the ' +\n",
              "            '<a target=\"_blank\" href=https://colab.research.google.com/notebooks/data_table.ipynb>data table notebook</a>'\n",
              "            + ' to learn more about interactive tables.';\n",
              "          element.innerHTML = '';\n",
              "          dataTable['output_type'] = 'display_data';\n",
              "          await google.colab.output.renderOutput(dataTable, element);\n",
              "          const docLink = document.createElement('div');\n",
              "          docLink.innerHTML = docLinkHtml;\n",
              "          element.appendChild(docLink);\n",
              "        }\n",
              "      </script>\n",
              "    </div>\n",
              "  </div>\n",
              "  "
            ]
          },
          "metadata": {},
          "execution_count": 120
        }
      ]
    },
    {
      "cell_type": "code",
      "metadata": {
        "id": "K8DJfLp6ijjm",
        "colab": {
          "base_uri": "https://localhost:8080/"
        },
        "outputId": "21b76cee-aff1-4cad-e374-e899fc2c864c"
      },
      "source": [
        "tune_set[\"label\"].value_counts()"
      ],
      "execution_count": null,
      "outputs": [
        {
          "output_type": "execute_result",
          "data": {
            "text/plain": [
              "pos    1000\n",
              "neg    1000\n",
              "Name: label, dtype: int64"
            ]
          },
          "metadata": {},
          "execution_count": 121
        }
      ]
    },
    {
      "cell_type": "markdown",
      "metadata": {
        "id": "UzUliT1fijjn"
      },
      "source": [
        "...and apply the usual preprocessing steps"
      ]
    },
    {
      "cell_type": "code",
      "metadata": {
        "id": "Sljc7xaKijjn"
      },
      "source": [
        "tune_set[\"text\"] = tune_set[\"text\"].apply(strip_tags)\n",
        "tune_tokens = [gensim.utils.simple_preprocess(text) for text in tune_set[\"text\"]]\n",
        "tune_indices = [\n",
        "    [wv.vocab[word].index for word in text if word in wv.vocab]\n",
        "    for text in tune_tokens\n",
        "]\n",
        "tune_seq = pad_sequences(tune_indices, max_words)\n",
        "tune_target = make_target(tune_set[\"label\"])"
      ],
      "execution_count": null,
      "outputs": []
    },
    {
      "cell_type": "markdown",
      "metadata": {
        "id": "m_tp7lZjijjo"
      },
      "source": [
        "We now repeat the model training process on this set of reviews: the process is very fast due to the limited size of the dataset"
      ]
    },
    {
      "cell_type": "code",
      "metadata": {
        "id": "c0UcqKYrijjo",
        "colab": {
          "base_uri": "https://localhost:8080/"
        },
        "outputId": "db39c698-84af-4324-e8e8-882f22255438"
      },
      "source": [
        "model.fit(tune_seq, tune_target, epochs=5, batch_size=200)"
      ],
      "execution_count": null,
      "outputs": [
        {
          "output_type": "stream",
          "name": "stdout",
          "text": [
            "Epoch 1/5\n",
            "2000/2000 [==============================] - 2s 891us/step - loss: 0.3954 - accuracy: 0.8165\n",
            "Epoch 2/5\n",
            "2000/2000 [==============================] - 2s 878us/step - loss: 0.3156 - accuracy: 0.8670\n",
            "Epoch 3/5\n",
            "2000/2000 [==============================] - 2s 851us/step - loss: 0.2867 - accuracy: 0.8785\n",
            "Epoch 4/5\n",
            "2000/2000 [==============================] - 2s 857us/step - loss: 0.2718 - accuracy: 0.8875\n",
            "Epoch 5/5\n",
            "2000/2000 [==============================] - 2s 876us/step - loss: 0.2512 - accuracy: 0.9005\n"
          ]
        },
        {
          "output_type": "execute_result",
          "data": {
            "text/plain": [
              "<keras.callbacks.callbacks.History at 0x7f226adf8c10>"
            ]
          },
          "metadata": {},
          "execution_count": 123
        }
      ]
    },
    {
      "cell_type": "markdown",
      "metadata": {
        "id": "pUtScIhQijjp"
      },
      "source": [
        "Let's now repeat the evaluation on the Yelp test set loaded before"
      ]
    },
    {
      "cell_type": "code",
      "metadata": {
        "id": "jKPuFAkRijjp",
        "colab": {
          "base_uri": "https://localhost:8080/"
        },
        "outputId": "fff1ecae-4da3-43a0-c395-79eb203f4b1b"
      },
      "source": [
        "model.evaluate(xdom_seq, xdom_target)"
      ],
      "execution_count": null,
      "outputs": [
        {
          "output_type": "stream",
          "name": "stdout",
          "text": [
            "10000/10000 [==============================] - 23s 2ms/step\n"
          ]
        },
        {
          "output_type": "execute_result",
          "data": {
            "text/plain": [
              "[0.2260189118742943, 0.9085000157356262]"
            ]
          },
          "metadata": {},
          "execution_count": 124
        }
      ]
    },
    {
      "cell_type": "markdown",
      "metadata": {
        "id": "a3MGAFWQijjq"
      },
      "source": [
        "We successfully boosted the model accuracy, combining even limited knowledge of the target domain with large knowledge extracted from a different domain"
      ]
    },
    {
      "cell_type": "markdown",
      "metadata": {
        "id": "YKdSeUmVSXah"
      },
      "source": [
        "## Introduction to the Transformer\n",
        "The transformers library is an open-source, community-based repository to train, use and share models based on \n",
        "the Transformer architecture [(Vaswani & al., 2017)](https://arxiv.org/abs/1706.03762) such as Bert [(Devlin & al., 2018)](https://arxiv.org/abs/1810.04805),\n",
        "Roberta [(Liu & al., 2019)](https://arxiv.org/abs/1907.11692), GPT2 [(Radford & al., 2019)](https://cdn.openai.com/better-language-models/language_models_are_unsupervised_multitask_learners.pdf),\n",
        "XLNet [(Yang & al., 2019)](https://arxiv.org/abs/1906.08237), etc. \n",
        "\n",
        "Along with the models, the library contains multiple variations of each of them for a large variety of \n",
        "downstream-tasks like **Named Entity Recognition (NER)**, **Sentiment Analysis**, \n",
        "**Language Modeling**, **Question Answering** and so on.\n",
        "\n",
        "### Before Transformer\n",
        "\n",
        "Back to 2017, most of the people using Neural Networks when working on Natural Language Processing were relying on \n",
        "sequential processing of the input through [Recurrent Neural Network (RNN)](https://en.wikipedia.org/wiki/Recurrent_neural_network).\n",
        "\n",
        "![rnn](http://colah.github.io/posts/2015-09-NN-Types-FP/img/RNN-general.png)   \n",
        "\n",
        "RNNs were performing well on large variety of tasks involving sequential dependency over the input sequence. \n",
        "However, this sequentially-dependent process had issues modeling very long range dependencies and \n",
        "was not well suited for the kind of hardware we're currently leveraging due to bad parallelization capabilities. \n",
        "\n",
        "Some extensions were provided by the academic community, such as Bidirectional RNN ([Schuster & Paliwal., 1997](https://www.researchgate.net/publication/3316656_Bidirectional_recurrent_neural_networks), [Graves & al., 2005](https://mediatum.ub.tum.de/doc/1290195/file.pdf)), \n",
        "which can be seen as a concatenation of two sequential process, one going forward, the other one going backward over the sequence input.\n",
        "\n",
        "![birnn](https://miro.medium.com/max/764/1*6QnPUSv_t9BY9Fv8_aLb-Q.png)\n",
        "\n",
        "\n",
        "And also, the Attention mechanism, which introduced a good improvement over \"raw\" RNNs by giving \n",
        "a learned, weighted-importance to each element in the sequence, allowing the model to focus on important elements.\n",
        "\n",
        "![attention_rnn](https://3qeqpr26caki16dnhd19sv6by6v-wpengine.netdna-ssl.com/wp-content/uploads/2017/08/Example-of-Attention.png)  \n",
        "\n",
        "### Then comes the Transformer  \n",
        "\n",
        "The Transformers era originally started from the work of [(Vaswani & al., 2017)](https://arxiv.org/abs/1706.03762) who\n",
        "demonstrated its superiority over [Recurrent Neural Network (RNN)](https://en.wikipedia.org/wiki/Recurrent_neural_network)\n",
        "on translation tasks but it quickly extended to almost all the tasks RNNs were State-of-the-Art at that time.\n",
        "\n",
        "One advantage of Transformer over its RNN counterpart was its non sequential attention model. Remember, the RNNs had to\n",
        "iterate over each element of the input sequence one-by-one and carry an \"updatable-state\" between each hop. With Transformer, the model is able to look at every position in the sequence, at the same time, in one operation.\n",
        "\n",
        "For a deep-dive into the Transformer architecture, [The Annotated Transformer](https://nlp.seas.harvard.edu/2018/04/03/attention.html#encoder-and-decoder-stacks) \n",
        "will drive you along all the details of the paper.\n",
        "\n",
        "![transformer-encoder-decoder](https://nlp.seas.harvard.edu/images/the-annotated-transformer_14_0.png)"
      ]
    },
    {
      "cell_type": "markdown",
      "source": [
        "### BERT\n",
        "For the rest of this introduction and some summarisation tasks, we will use the [BERT (Devlin & al., 2018)](https://arxiv.org/abs/1810.04805) architecture, as it's one of the most powerful for text processing and there are plenty of content about it\n",
        "over the internet, it will be easy to dig more over this architecture if you want to. \n",
        "\n",
        "BERT was trained on a large text corpus, which gives architecture/model the ability to better understand the language and to learn variability in data patterns and generalizes well on several NLP tasks. As it is bidirectional that means BERT learns information from both the left and the right side of a token’s context during the training phase.\n",
        "\n",
        "One key point of this model is that it can be used to generate **contextual** word embeddings: as opposed to Word2Vec and GloVe each token is represented differently based on the context. For instance, in BERT the word \"bank\" is represented with two different vectors for the sentences \"open a bank account\" and \"on the river bank\" as they have different meanings. Instead W2C and GloVe are context-free representations, so they would represent \"bank\" with the same vector for all the sentences in the corpus.\n",
        "\n",
        "BERT is mostly composed by Encoder blocks from the Transformer architecture that let BERT achieve high performance in language modeling/understanding tasks.\n",
        "\n",
        "<img src=\"https://humboldt-wi.github.io/blog/img/seminar/bert/bert_architecture.png\"></img>\n",
        "\n",
        "This model is first pre-trained in two ways: \n",
        "\n",
        "1) First, it is (pre)trained on large corpora of text to solve a LM task (predicting masked words in sequences of tokens); \n",
        "<img src=\"https://jalammar.github.io/images/BERT-language-modeling-masked-lm.png\"></img>\n",
        "\n",
        "2) To make BERT better at handling relationships between multiple sentences, the pre-training process includes an additional task: Given two sentences (A and B), is B likely to be the sentence that follows A, or not?\n",
        "<img src=\"https://jalammar.github.io/images/bert-next-sentence-prediction.png\"></img>\n",
        "\n",
        "Finally BERT can be fine-tuned for downstream tasks, as sentiment classification, adding a classification (usually linear) layer on top of the model."
      ],
      "metadata": {
        "id": "RmHf31Ru63id"
      }
    },
    {
      "cell_type": "markdown",
      "metadata": {
        "id": "TFHTP6CFSXai"
      },
      "source": [
        "### Getting started with transformers\n",
        "\n",
        "\n",
        "\n",
        "The transformers library allows you to benefits from large, pretrained language models without requiring a huge and costly computational\n",
        "infrastructure. Most of the State-of-the-Art models are provided directly by their author and made available in the library \n",
        "in PyTorch and TensorFlow in a transparent and interchangeable way. \n",
        "\n",
        "You will need to install the transformers library (if not already loaded). You can do so with this command:"
      ]
    },
    {
      "cell_type": "code",
      "metadata": {
        "colab": {
          "base_uri": "https://localhost:8080/"
        },
        "id": "KnT3Jn6fSXai",
        "scrolled": true,
        "outputId": "6d5971e0-0ed5-41ae-8045-bac8c9b2c4c1"
      },
      "source": [
        "!pip install transformers"
      ],
      "execution_count": null,
      "outputs": [
        {
          "output_type": "stream",
          "name": "stdout",
          "text": [
            "Looking in indexes: https://pypi.org/simple, https://us-python.pkg.dev/colab-wheels/public/simple/\n",
            "Requirement already satisfied: transformers in /usr/local/lib/python3.7/dist-packages (4.19.2)\n",
            "Requirement already satisfied: importlib-metadata in /usr/local/lib/python3.7/dist-packages (from transformers) (4.11.4)\n",
            "Requirement already satisfied: tokenizers!=0.11.3,<0.13,>=0.11.1 in /usr/local/lib/python3.7/dist-packages (from transformers) (0.12.1)\n",
            "Requirement already satisfied: pyyaml>=5.1 in /usr/local/lib/python3.7/dist-packages (from transformers) (6.0)\n",
            "Requirement already satisfied: regex!=2019.12.17 in /usr/local/lib/python3.7/dist-packages (from transformers) (2019.12.20)\n",
            "Requirement already satisfied: packaging>=20.0 in /usr/local/lib/python3.7/dist-packages (from transformers) (21.3)\n",
            "Requirement already satisfied: requests in /usr/local/lib/python3.7/dist-packages (from transformers) (2.23.0)\n",
            "Requirement already satisfied: numpy>=1.17 in /usr/local/lib/python3.7/dist-packages (from transformers) (1.21.6)\n",
            "Requirement already satisfied: huggingface-hub<1.0,>=0.1.0 in /usr/local/lib/python3.7/dist-packages (from transformers) (0.7.0)\n",
            "Requirement already satisfied: tqdm>=4.27 in /usr/local/lib/python3.7/dist-packages (from transformers) (4.64.0)\n",
            "Requirement already satisfied: filelock in /usr/local/lib/python3.7/dist-packages (from transformers) (3.7.0)\n",
            "Requirement already satisfied: typing-extensions>=3.7.4.3 in /usr/local/lib/python3.7/dist-packages (from huggingface-hub<1.0,>=0.1.0->transformers) (4.2.0)\n",
            "Requirement already satisfied: pyparsing!=3.0.5,>=2.0.2 in /usr/local/lib/python3.7/dist-packages (from packaging>=20.0->transformers) (3.0.9)\n",
            "Requirement already satisfied: zipp>=0.5 in /usr/local/lib/python3.7/dist-packages (from importlib-metadata->transformers) (3.8.0)\n",
            "Requirement already satisfied: chardet<4,>=3.0.2 in /usr/local/lib/python3.7/dist-packages (from requests->transformers) (3.0.4)\n",
            "Requirement already satisfied: certifi>=2017.4.17 in /usr/local/lib/python3.7/dist-packages (from requests->transformers) (2022.5.18.1)\n",
            "Requirement already satisfied: idna<3,>=2.5 in /usr/local/lib/python3.7/dist-packages (from requests->transformers) (2.10)\n",
            "Requirement already satisfied: urllib3!=1.25.0,!=1.25.1,<1.26,>=1.21.1 in /usr/local/lib/python3.7/dist-packages (from requests->transformers) (1.24.3)\n"
          ]
        }
      ]
    },
    {
      "cell_type": "code",
      "metadata": {
        "colab": {
          "base_uri": "https://localhost:8080/"
        },
        "id": "UIQGDTIDSXai",
        "outputId": "899cffff-c700-4d04-ef60-e7f53be3062f"
      },
      "source": [
        "import torch\n",
        "from transformers import AutoModel, AutoTokenizer, BertTokenizer\n",
        "\n",
        "torch.set_grad_enabled(False) # we initially do not train any model so we disable gradient calculation"
      ],
      "execution_count": null,
      "outputs": [
        {
          "output_type": "execute_result",
          "data": {
            "text/plain": [
              "<torch.autograd.grad_mode.set_grad_enabled at 0x7f226adf87d0>"
            ]
          },
          "metadata": {},
          "execution_count": 126
        }
      ]
    },
    {
      "cell_type": "code",
      "metadata": {
        "colab": {
          "base_uri": "https://localhost:8080/"
        },
        "id": "1xMDTHQXSXai",
        "outputId": "09711eec-9f2a-43f4-d4d3-171c870964c7"
      },
      "source": [
        "# Store the model we want to use\n",
        "MODEL_NAME = \"bert-base-uncased\"\n",
        "\n",
        "# We need to create the model and tokenizer\n",
        "model = AutoModel.from_pretrained(MODEL_NAME)\n",
        "tokenizer = AutoTokenizer.from_pretrained(MODEL_NAME)"
      ],
      "execution_count": null,
      "outputs": [
        {
          "output_type": "stream",
          "name": "stderr",
          "text": [
            "Some weights of the model checkpoint at bert-base-uncased were not used when initializing BertModel: ['cls.predictions.transform.LayerNorm.bias', 'cls.predictions.bias', 'cls.predictions.transform.LayerNorm.weight', 'cls.predictions.transform.dense.bias', 'cls.seq_relationship.weight', 'cls.predictions.transform.dense.weight', 'cls.predictions.decoder.weight', 'cls.seq_relationship.bias']\n",
            "- This IS expected if you are initializing BertModel from the checkpoint of a model trained on another task or with another architecture (e.g. initializing a BertForSequenceClassification model from a BertForPreTraining model).\n",
            "- This IS NOT expected if you are initializing BertModel from the checkpoint of a model that you expect to be exactly identical (initializing a BertForSequenceClassification model from a BertForSequenceClassification model).\n"
          ]
        }
      ]
    },
    {
      "cell_type": "markdown",
      "metadata": {
        "id": "l6EcynhYSXai"
      },
      "source": [
        "With only the above two lines of code, you're ready to use a BERT pre-trained model. \n",
        "The tokenizers will allow us to map a raw textual input to a sequence of integers representing our textual input\n",
        "in a way the model can manipulate. Since we will be using a PyTorch model, we ask the tokenizer to return to us PyTorch tensors.\n",
        "\n",
        "We can visualize this process graphically and then via code:\n",
        "<img src=\"https://jalammar.github.io/images/distilBERT/bert-distilbert-tokenization-2-token-ids.png\" />\n",
        "\n",
        "You may have noticed that the word \"rumination\" has been splitted into two tokens (rum, ##ination). This is because BERT uses what is called a WordPiece tokenizer. It works by splitting words either into the full forms (e.g., one word becomes one token) or into word pieces — where one word can be broken into multiple tokens.\n",
        "\n",
        "An example of where this can be useful is where we have multiple forms of words. For example:\n",
        "\n",
        "| Word          | Token(s)                           |\n",
        "| ------------- | ---------------------------------- |\n",
        "| surf          | \\['surf'\\]                         |\n",
        "| surfing       | \\['surf', '##ing'\\]                 |\n",
        "| surfboarding  | \\['surf', '##board', '##ing'\\]       |\n",
        "| surfboard     | \\['surf', '##board'\\]               |\n",
        "| snowboard     | \\['snow', '##board'\\]               |\n",
        "| snowboarding  | \\['snow', '##board', '##ing'\\]       |\n",
        "| snow          | \\['snow'\\]                         |\n",
        "| snowing       | \\['snow', '##ing'\\]                 |\n",
        "\n",
        "\n",
        "By splitting words into word pieces, we have already identified that the words \"surfboard\" and \"snowboard\" share meaning through the wordpiece \"##board\" We have done this without even encoding our tokens or processing them in any way through BERT.\n",
        "\n",
        "Using word pieces allows BERT to easily identify related words as they will usually share some of the same input tokens, which are then fed into the first layers of BERT."
      ]
    },
    {
      "cell_type": "code",
      "metadata": {
        "colab": {
          "base_uri": "https://localhost:8080/"
        },
        "id": "rtovcEfC3Iiv",
        "outputId": "2537ebda-e8e9-4966-dbf8-e33407c59b69"
      },
      "source": [
        "tokens_pt = tokenizer(\"a visually stunning rumination on love\", return_tensors=\"pt\")\n",
        "\n",
        "for key, value in tokens_pt.items():\n",
        "    print(\"{}:\\n\\t{}\".format(key, value))"
      ],
      "execution_count": null,
      "outputs": [
        {
          "output_type": "stream",
          "name": "stdout",
          "text": [
            "input_ids:\n",
            "\ttensor([[  101,  1037, 17453, 14726, 19379, 12758,  2006,  2293,   102]])\n",
            "token_type_ids:\n",
            "\ttensor([[0, 0, 0, 0, 0, 0, 0, 0, 0]])\n",
            "attention_mask:\n",
            "\ttensor([[1, 1, 1, 1, 1, 1, 1, 1, 1]])\n"
          ]
        }
      ]
    },
    {
      "cell_type": "markdown",
      "metadata": {
        "id": "Og0qqOMj3Iix"
      },
      "source": [
        "The tokenizer automatically converted our input to all the inputs expected by the model. It generated some additional tensors on top of the IDs: \n",
        "\n",
        "- token_type_ids: This tensor will map every tokens to their corresponding segment (see below).\n",
        "- attention_mask: This tensor is used to \"mask\" padded values in a batch of sequence with different lengths (see below).\n",
        "\n",
        "You can check the Transformers [glossary](https://huggingface.co/transformers/glossary.html) for more information about each of those keys. "
      ]
    },
    {
      "cell_type": "markdown",
      "source": [
        "Let's see some tokenized input examples to better understand  the meaning of the token type ids and attention masks."
      ],
      "metadata": {
        "id": "F9Pa9fWaHgGA"
      }
    },
    {
      "cell_type": "code",
      "metadata": {
        "colab": {
          "base_uri": "https://localhost:8080/"
        },
        "id": "Pl2HIcwDSXal",
        "outputId": "f0c386e1-3525-41f5-fa10-8cfbb8646cac"
      },
      "source": [
        "# Single segment input\n",
        "single_seg_input = tokenizer(\"This is a sample input\")\n",
        "\n",
        "# Multiple segment input\n",
        "multi_seg_input = tokenizer(\"This is segment A\", \"This is segment B\")\n",
        "\n",
        "print(\"Single segment token (str): {}\".format(tokenizer.convert_ids_to_tokens(single_seg_input['input_ids'])))\n",
        "print(\"Single segment token (int): {}\".format(single_seg_input['input_ids']))\n",
        "print(\"Single segment type       : {}\".format(single_seg_input['token_type_ids']))\n",
        "\n",
        "# Segments are concatened in the input to the model, with \n",
        "print() \n",
        "print(\"Multi segment token (str): {}\".format(tokenizer.convert_ids_to_tokens(multi_seg_input['input_ids'])))\n",
        "print(\"Multi segment token (int): {}\".format(multi_seg_input['input_ids']))\n",
        "print(\"Multi segment type       : {}\".format(multi_seg_input['token_type_ids']))"
      ],
      "execution_count": null,
      "outputs": [
        {
          "output_type": "stream",
          "name": "stdout",
          "text": [
            "Single segment token (str): ['[CLS]', 'this', 'is', 'a', 'sample', 'input', '[SEP]']\n",
            "Single segment token (int): [101, 2023, 2003, 1037, 7099, 7953, 102]\n",
            "Single segment type       : [0, 0, 0, 0, 0, 0, 0]\n",
            "\n",
            "Multi segment token (str): ['[CLS]', 'this', 'is', 'segment', 'a', '[SEP]', 'this', 'is', 'segment', 'b', '[SEP]']\n",
            "Multi segment token (int): [101, 2023, 2003, 6903, 1037, 102, 2023, 2003, 6903, 1038, 102]\n",
            "Multi segment type       : [0, 0, 0, 0, 0, 0, 1, 1, 1, 1, 1]\n"
          ]
        }
      ]
    },
    {
      "cell_type": "code",
      "metadata": {
        "colab": {
          "base_uri": "https://localhost:8080/"
        },
        "id": "1NtvWOgzSXam",
        "outputId": "97b8206d-a4f7-490c-fc12-fc70bcd7d62e"
      },
      "source": [
        "# Padding highlight\n",
        "tokens = tokenizer(\n",
        "    [\"This is a sample\", \"This is another longer sample text\"], \n",
        "    padding=True  # First sentence will have some PADDED tokens to match second sequence length\n",
        ")\n",
        "\n",
        "for i in range(2):\n",
        "    print(\"Tokens (int)      : {}\".format(tokens['input_ids'][i]))\n",
        "    print(\"Tokens (str)      : {}\".format([tokenizer.convert_ids_to_tokens(s) for s in tokens['input_ids'][i]]))\n",
        "    print(\"Tokens (attn_mask): {}\".format(tokens['attention_mask'][i]))\n",
        "    print()"
      ],
      "execution_count": null,
      "outputs": [
        {
          "output_type": "stream",
          "name": "stdout",
          "text": [
            "Tokens (int)      : [101, 2023, 2003, 1037, 7099, 102, 0, 0]\n",
            "Tokens (str)      : ['[CLS]', 'this', 'is', 'a', 'sample', '[SEP]', '[PAD]', '[PAD]']\n",
            "Tokens (attn_mask): [1, 1, 1, 1, 1, 1, 0, 0]\n",
            "\n",
            "Tokens (int)      : [101, 2023, 2003, 2178, 2936, 7099, 3793, 102]\n",
            "Tokens (str)      : ['[CLS]', 'this', 'is', 'another', 'longer', 'sample', 'text', '[SEP]']\n",
            "Tokens (attn_mask): [1, 1, 1, 1, 1, 1, 1, 1]\n",
            "\n"
          ]
        }
      ]
    },
    {
      "cell_type": "markdown",
      "source": [
        "Now we can just feed the tokenized inputs directly into our model:"
      ],
      "metadata": {
        "id": "MrJH5OoAIafD"
      }
    },
    {
      "cell_type": "code",
      "metadata": {
        "colab": {
          "base_uri": "https://localhost:8080/"
        },
        "id": "XgkFg52fSXai",
        "outputId": "b1ef31cf-e6a5-469d-dbe9-1f4d92f3cdf2"
      },
      "source": [
        "outputs = model(**tokens_pt)\n",
        "last_hidden_state = outputs.last_hidden_state\n",
        "pooler_output = outputs.pooler_output\n",
        "\n",
        "print(\"Token wise output: {}, Pooled output: {}\".format(last_hidden_state.shape, pooler_output.shape))"
      ],
      "execution_count": null,
      "outputs": [
        {
          "output_type": "stream",
          "name": "stdout",
          "text": [
            "Token wise output: torch.Size([1, 9, 768]), Pooled output: torch.Size([1, 768])\n"
          ]
        }
      ]
    },
    {
      "cell_type": "markdown",
      "metadata": {
        "id": "lBbvwNKXSXaj"
      },
      "source": [
        "As you can see, BERT outputs two tensors:\n",
        " - One with the generated representation for every token in the input `(1, NB_TOKENS, REPRESENTATION_SIZE)`\n",
        " - One with an aggregated representation for the whole input `(1, REPRESENTATION_SIZE)`\n",
        " where:\n",
        "  - `NB_TOKENS` represents the number of tokens in the sentence\n",
        "  - `REPRESENTATION_SIZE` is the dimension of the hidden layer of the chosen BERT model (BERT-base has a 768-dim hidden layer)\n",
        "\n",
        "The first, token-based, representation can be leveraged if your task requires to keep the sequence representation and you\n",
        "want to operate at a token-level. This is particularly useful for Named Entity Recognition and Question-Answering.\n",
        "\n",
        "\n",
        "\n"
      ]
    },
    {
      "cell_type": "markdown",
      "source": [
        "For example, if you want the first token ([CLS]) last hidden state:"
      ],
      "metadata": {
        "id": "Dnte7rtWD5wB"
      }
    },
    {
      "cell_type": "code",
      "source": [
        "last_hidden_state[:, 0, :].numpy().shape"
      ],
      "metadata": {
        "id": "-k3JsY3HC4rc",
        "colab": {
          "base_uri": "https://localhost:8080/"
        },
        "outputId": "285624ca-5318-4441-f899-e50eea8c9337"
      },
      "execution_count": null,
      "outputs": [
        {
          "output_type": "execute_result",
          "data": {
            "text/plain": [
              "(1, 768)"
            ]
          },
          "metadata": {},
          "execution_count": 132
        }
      ]
    },
    {
      "cell_type": "markdown",
      "source": [
        "We can also visualize the tensors graphically (considering that `last_hidden_states[0]` in the image matches our `last_hidden_state` tensor)."
      ],
      "metadata": {
        "id": "35OcbAJgplPh"
      }
    },
    {
      "cell_type": "markdown",
      "source": [
        "<img src=\"https://jalammar.github.io/images/distilBERT/bert-output-tensor-selection.png\" />"
      ],
      "metadata": {
        "id": "HTfk6AmznvKg"
      }
    },
    {
      "cell_type": "markdown",
      "source": [
        "The second, aggregated, representation is especially useful if you need to extract the overall context of the sequence and don't\n",
        "require a fine-grained token-level. This is the case for Sentiment-Analysis of the sequence or Information Retrieval. Note that the first token of every sequence is always a special classification token ([CLS]). The final hidden state corresponding to this token is used as the aggregate sequence representation for classification tasks. Indeed, Pooler output is calculated as the last layer hidden-state of the first token of the sequence (classification token) further processed by a Linear layer and a Tanh activation function. "
      ],
      "metadata": {
        "id": "2NohPl0dDpq7"
      }
    },
    {
      "cell_type": "markdown",
      "metadata": {
        "id": "vkRYm2HESXan"
      },
      "source": [
        "### Model loading\n",
        "\n",
        "Here we load a pre-trained Bert-base (12 Encoder layers and 768-d for hidden states) model which has been fitted on cased texts.\n",
        "\n",
        "One of the most powerful feature of transformers is its ability to seamlessly move from PyTorch to Tensorflow\n",
        "without pain for the user.\n",
        "\n",
        "For the rest of this notebook we will use the PyTorch version that is the default version in Transformers library. "
      ]
    },
    {
      "cell_type": "code",
      "metadata": {
        "colab": {
          "base_uri": "https://localhost:8080/"
        },
        "id": "Kubwm-wJSXan",
        "outputId": "a0857526-0af2-452c-f59b-c7e9b86a0a7a"
      },
      "source": [
        "from transformers import TFBertModel, BertModel\n",
        "\n",
        "# Let's load a BERT model for PyTorch\n",
        "model_pt = BertModel.from_pretrained('bert-base-cased', output_hidden_states=True)\n",
        "\n",
        "# Tensorflow Version\n",
        "#model_tf = TFBertModel.from_pretrained('bert-base-cased') "
      ],
      "execution_count": null,
      "outputs": [
        {
          "output_type": "stream",
          "name": "stderr",
          "text": [
            "Some weights of the model checkpoint at bert-base-cased were not used when initializing BertModel: ['cls.predictions.transform.LayerNorm.bias', 'cls.predictions.bias', 'cls.predictions.transform.LayerNorm.weight', 'cls.predictions.transform.dense.bias', 'cls.seq_relationship.weight', 'cls.predictions.transform.dense.weight', 'cls.predictions.decoder.weight', 'cls.seq_relationship.bias']\n",
            "- This IS expected if you are initializing BertModel from the checkpoint of a model trained on another task or with another architecture (e.g. initializing a BertForSequenceClassification model from a BertForPreTraining model).\n",
            "- This IS NOT expected if you are initializing BertModel from the checkpoint of a model that you expect to be exactly identical (initializing a BertForSequenceClassification model from a BertForSequenceClassification model).\n"
          ]
        }
      ]
    },
    {
      "cell_type": "code",
      "metadata": {
        "id": "lJ13tlzOSXan",
        "colab": {
          "base_uri": "https://localhost:8080/"
        },
        "outputId": "b65c40a6-c3d7-45d2-f53d-5b37f93ced8e"
      },
      "source": [
        "# transformers generates a ready to use dictionary with all the required parameters for the specific framework.\n",
        "input_pt = tokenizer(\"This is a sample input\", return_tensors=\"pt\")\n",
        "\n",
        "# Tensorflow version\n",
        "# input_tf = tokenizer(\"This is a sample input\", return_tensors=\"tf\")\n",
        "\n",
        "# Let's compare the outputs\n",
        "output_pt = model_pt(**input_pt)\n",
        "\n",
        "# Tensorflow version\n",
        "# output_tf = model_tf(input_tf)\n",
        "\n",
        "# Models outputs 2 values (The value for each tokens, the pooled representation of the input sentence)\n",
        "for name in [\"last_hidden_state\", \"pooler_output\"]:\n",
        "    print(name)\n",
        "    print(output_pt[name].shape)\n",
        "    print()"
      ],
      "execution_count": null,
      "outputs": [
        {
          "output_type": "stream",
          "name": "stdout",
          "text": [
            "last_hidden_state\n",
            "torch.Size([1, 7, 768])\n",
            "\n",
            "pooler_output\n",
            "torch.Size([1, 768])\n",
            "\n"
          ]
        }
      ]
    },
    {
      "cell_type": "markdown",
      "source": [
        "Everything is great so far, but how can we get word embeddings from this? As discussed, BERT base model uses 12 layers of transformer encoders, each output per token from each layer of these can be used as a word embedding! You probably wonder, which one is the best though? \n",
        "\n",
        "Well, this depends on the task but empirically, the authors identified that one of the best performing choices was to sum the last 4 layers, which is what we will be doing.\n",
        "\n",
        "<img src=\"http://jalammar.github.io/images/bert-feature-extraction-contextualized-embeddings.png\"></img>"
      ],
      "metadata": {
        "id": "nle6TqM9siWL"
      }
    },
    {
      "cell_type": "markdown",
      "source": [
        "As illustrated the best performing option is to concatenate the last 4 layers but in this post, the summing approach is used for convenience. More particularly, the performance difference is not that much, and also there is more flexibility for truncating the dimensions further, without losing much information."
      ],
      "metadata": {
        "id": "LDyfiEKatJZu"
      }
    },
    {
      "cell_type": "markdown",
      "source": [
        "Last 4 hidden states can be selected by slicing the hidden_states property"
      ],
      "metadata": {
        "id": "udxwY79X1gye"
      }
    },
    {
      "cell_type": "code",
      "source": [
        "output_pt[\"hidden_states\"][8:12]"
      ],
      "metadata": {
        "id": "usR-PdPs0t7f",
        "colab": {
          "base_uri": "https://localhost:8080/"
        },
        "outputId": "9e5b1c20-8bb5-43cf-bd1a-89b85dcd2326"
      },
      "execution_count": null,
      "outputs": [
        {
          "output_type": "execute_result",
          "data": {
            "text/plain": [
              "(tensor([[[ 5.0949e-01,  1.2568e-01,  1.4170e-01,  ..., -6.8661e-01,\n",
              "           -3.0614e-01, -5.8370e-02],\n",
              "          [-2.1895e-01, -7.6798e-01, -4.7462e-01,  ..., -2.2554e-01,\n",
              "           -1.1486e+00, -2.5854e-01],\n",
              "          [ 6.2587e-01, -9.0022e-01,  4.1598e-01,  ..., -3.6310e-01,\n",
              "           -3.1535e-02,  6.9147e-01],\n",
              "          ...,\n",
              "          [-8.6508e-01, -8.5378e-01,  1.4677e+00,  ..., -3.1464e-02,\n",
              "           -2.6015e-01,  2.1508e-01],\n",
              "          [ 1.9642e-01, -1.2238e+00,  3.8423e-01,  ..., -8.1968e-01,\n",
              "           -5.5445e-01,  1.9815e-01],\n",
              "          [ 4.2663e-04,  6.7820e-02,  4.1154e-02,  ...,  1.0856e-02,\n",
              "            7.2198e-04, -9.9041e-02]]]),\n",
              " tensor([[[ 0.5634, -0.0709,  0.2514,  ..., -1.0085, -0.0236,  0.1489],\n",
              "          [-0.2600, -1.3276,  0.3158,  ..., -0.6942, -1.2079,  0.0365],\n",
              "          [ 0.6420, -0.5635,  0.5121,  ..., -0.3535, -0.1724,  0.5748],\n",
              "          ...,\n",
              "          [-0.7321, -0.9149,  1.4974,  ...,  0.1848, -0.2513,  0.1922],\n",
              "          [ 0.3115, -1.1061,  0.3373,  ..., -0.5618, -0.5739,  0.3319],\n",
              "          [-0.0253,  0.0923,  0.0455,  ...,  0.0268, -0.0119, -0.0964]]]),\n",
              " tensor([[[ 0.5092, -0.0279, -0.0351,  ..., -0.7707,  0.1456, -0.0987],\n",
              "          [-0.0669, -1.8601,  0.0914,  ..., -0.7429, -0.9002, -0.0725],\n",
              "          [ 0.6637, -0.8451,  0.4605,  ..., -0.1528, -0.3336,  0.3557],\n",
              "          ...,\n",
              "          [-0.7534, -1.2212,  1.4982,  ...,  0.5080, -0.1812,  0.4926],\n",
              "          [ 0.2901, -1.1854,  0.4022,  ..., -0.4646,  0.0251,  0.5001],\n",
              "          [-0.0501,  0.0669,  0.0508,  ..., -0.0062, -0.0274, -0.0676]]]),\n",
              " tensor([[[ 0.6002, -0.0211,  0.2627,  ..., -0.6083,  0.2631,  0.0751],\n",
              "          [-0.0686, -1.3231,  0.3056,  ..., -0.8516, -0.7424, -0.4819],\n",
              "          [ 0.5579, -0.4338,  0.3970,  ..., -0.1668, -0.1380, -0.0257],\n",
              "          ...,\n",
              "          [-0.8104, -0.8268,  1.4778,  ...,  0.3442, -0.1242,  0.3889],\n",
              "          [ 0.4310, -0.7450,  0.4766,  ..., -0.2841,  0.4921,  0.3966],\n",
              "          [-0.0545,  0.0577,  0.0297,  ...,  0.0034,  0.0065, -0.0333]]]))"
            ]
          },
          "metadata": {},
          "execution_count": 135
        }
      ]
    },
    {
      "cell_type": "markdown",
      "source": [
        "One simple and really powerful Python library to deal with transformer embeddings including BERT and a large variety of NLP tasks is Flair. https://github.com/flairNLP/flair"
      ],
      "metadata": {
        "id": "JkEXll_2ROnH"
      }
    },
    {
      "cell_type": "markdown",
      "metadata": {
        "id": "CQf_fpApSXao"
      },
      "source": [
        "### Want it lighter? Faster? Let's talk distillation! \n",
        "\n",
        "One of the main concerns when using these Transformer based models is the computational power they require. All over this notebook we are using BERT model as it can be run on common machines but that's not the case for all of the models.\n",
        "\n",
        "For example, Google released **T5** an Encoder/Decoder architecture based on Transformer and available in `transformers` with no more than 11 billions parameters. Microsoft also recently entered the game with **Turing-NLG** using 17 billions parameters. This kind of model requires tens of gigabytes to store the weights and a tremendous compute infrastructure to run such models which makes it impracticable for the common man !\n",
        "\n",
        "![transformers-parameters](https://raw.githubusercontent.com/huggingface/notebooks/main/examples/images/model_parameters.png)\n",
        "\n",
        "With the goal of making Transformer-based NLP accessible to everyone Huggingface developed models that take advantage of a training process called **Distillation** which allows us to drastically reduce the resources needed to run such models with almost zero drop in performances.\n",
        "\n",
        "Intuitively you can think of distillation as a process in which a lighter model is trained to replicate the predictions made by another larger model.\n",
        "\n",
        "Going over the whole Distillation process is out of the scope of this notebook, but if you want more information on the subject you may refer to [this Medium article written by my colleague Victor SANH, author of DistilBERT paper](https://medium.com/huggingface/distilbert-8cf3380435b5), you might also want to directly have a look at the paper [(Sanh & al., 2019)](https://arxiv.org/abs/1910.01108)\n",
        "\n",
        "In `transformers` some models have been distilled and made available directly in the library. "
      ]
    },
    {
      "cell_type": "code",
      "metadata": {
        "colab": {
          "base_uri": "https://localhost:8080/"
        },
        "id": "wfxMOXb-SXao",
        "outputId": "5aa685e9-720b-4774-a30c-2dbb7213b454"
      },
      "source": [
        "from transformers import DistilBertModel\n",
        "\n",
        "bert_distil = DistilBertModel.from_pretrained('distilbert-base-cased')\n",
        "input_pt = tokenizer(\n",
        "    'This is a sample input to demonstrate performance of distiled models especially inference time', \n",
        "    return_tensors=\"pt\"\n",
        ")\n",
        "\n",
        "# Forward pass time comparison between BERT and DistillBERT\n",
        "%time _ = bert_distil(input_pt['input_ids'])\n",
        "%time _ = model_pt(input_pt['input_ids'])"
      ],
      "execution_count": null,
      "outputs": [
        {
          "output_type": "stream",
          "name": "stderr",
          "text": [
            "Some weights of the model checkpoint at distilbert-base-cased were not used when initializing DistilBertModel: ['vocab_projector.bias', 'vocab_transform.bias', 'vocab_projector.weight', 'vocab_layer_norm.bias', 'vocab_transform.weight', 'vocab_layer_norm.weight']\n",
            "- This IS expected if you are initializing DistilBertModel from the checkpoint of a model trained on another task or with another architecture (e.g. initializing a BertForSequenceClassification model from a BertForPreTraining model).\n",
            "- This IS NOT expected if you are initializing DistilBertModel from the checkpoint of a model that you expect to be exactly identical (initializing a BertForSequenceClassification model from a BertForSequenceClassification model).\n"
          ]
        },
        {
          "output_type": "stream",
          "name": "stdout",
          "text": [
            "CPU times: user 67.1 ms, sys: 0 ns, total: 67.1 ms\n",
            "Wall time: 80.7 ms\n",
            "CPU times: user 135 ms, sys: 629 µs, total: 136 ms\n",
            "Wall time: 190 ms\n"
          ]
        }
      ]
    },
    {
      "cell_type": "markdown",
      "source": [
        "## Sentiment Classification with DistillBERT\n",
        "\n"
      ],
      "metadata": {
        "id": "k5oWmY0MblUK"
      }
    },
    {
      "cell_type": "markdown",
      "source": [
        "Here we replicate the experiment above about in-domain sentiment classification of the IMDB dataset, but this time using a BERT-based model via the HuggingFaces Transformers library. This will give you some insights how BERT can be used to improve the results in this task. "
      ],
      "metadata": {
        "id": "QCgxUDNfX3vx"
      }
    },
    {
      "cell_type": "markdown",
      "source": [
        "Let's convert the labels to integer values using sklearn LabelEncoder class."
      ],
      "metadata": {
        "id": "-3uG1NnTJh61"
      }
    },
    {
      "cell_type": "code",
      "source": [
        "from sklearn import preprocessing\n",
        "\n",
        "# String labels conversion to integers\n",
        "le = preprocessing.LabelEncoder()\n",
        "\n",
        "train_labels = le.fit_transform(train_set.label)\n",
        "train_labels"
      ],
      "metadata": {
        "colab": {
          "base_uri": "https://localhost:8080/"
        },
        "id": "p99KaJo-Jpzu",
        "outputId": "82798617-94ce-45ad-9b07-aa71ae9c05a7"
      },
      "execution_count": null,
      "outputs": [
        {
          "output_type": "execute_result",
          "data": {
            "text/plain": [
              "array([1, 0, 1, ..., 0, 1, 0])"
            ]
          },
          "metadata": {},
          "execution_count": 137
        }
      ]
    },
    {
      "cell_type": "code",
      "source": [
        "# String labels conversion to integers\n",
        "test_labels = le.fit_transform(test_set[\"label\"])\n",
        "test_labels"
      ],
      "metadata": {
        "colab": {
          "base_uri": "https://localhost:8080/"
        },
        "id": "ECsdi1I-J-dt",
        "outputId": "36bc0d3f-c2a9-47b4-8154-348065e3a82a"
      },
      "execution_count": null,
      "outputs": [
        {
          "output_type": "execute_result",
          "data": {
            "text/plain": [
              "array([1, 0, 1, ..., 0, 1, 0])"
            ]
          },
          "metadata": {},
          "execution_count": 138
        }
      ]
    },
    {
      "cell_type": "markdown",
      "metadata": {
        "id": "MA-d5SSY5zlN"
      },
      "source": [
        "We already have a train and test dataset, but let's also also create a validation set which we can use for for evaluation\n",
        "and tuning without training our test set results. Sklearn has a convenient utility for creating such splits:"
      ]
    },
    {
      "cell_type": "code",
      "metadata": {
        "id": "fQoo2V4U5zlO"
      },
      "source": [
        "from sklearn.model_selection import train_test_split\n",
        "\n",
        "train_texts, val_texts, train_labels, val_labels = train_test_split(train_set[\"text\"].tolist(), train_labels, test_size=.1)"
      ],
      "execution_count": null,
      "outputs": []
    },
    {
      "cell_type": "markdown",
      "metadata": {
        "id": "dVfQ6hVv5zlO"
      },
      "source": [
        "Alright, we are read in our dataset. Now let's tackle tokenization. We'll eventually train a classifier using\n",
        "pre-trained DistilBert, so let's use the DistilBert tokenizer."
      ]
    },
    {
      "cell_type": "code",
      "metadata": {
        "id": "v_SLf3G75zlP"
      },
      "source": [
        "from transformers import DistilBertTokenizerFast\n",
        "\n",
        "tokenizer = DistilBertTokenizerFast.from_pretrained('distilbert-base-uncased')"
      ],
      "execution_count": null,
      "outputs": []
    },
    {
      "cell_type": "markdown",
      "metadata": {
        "id": "Vj2760j85zlP"
      },
      "source": [
        "Now we can simply pass our texts to the tokenizer. We'll pass `truncation=True` and `padding=True`, which will\n",
        "ensure that all of our sequences are padded to the same length and are truncated to be no longer model's maximum input\n",
        "length. This will allow us to feed batches of sequences into the model at the same time."
      ]
    },
    {
      "cell_type": "code",
      "metadata": {
        "id": "WcLf_BZm5zlQ"
      },
      "source": [
        "train_encodings = tokenizer(train_texts, truncation=True, padding=True)\n",
        "val_encodings = tokenizer(val_texts, truncation=True, padding=True)\n",
        "test_encodings = tokenizer(test_set[\"text\"].tolist(), truncation=True, padding=True)"
      ],
      "execution_count": null,
      "outputs": []
    },
    {
      "cell_type": "markdown",
      "metadata": {
        "id": "z-ysjUdG5zlQ"
      },
      "source": [
        "Now, let's turn our labels and encodings into a Dataset object. In PyTorch, this is done by subclassing a\n",
        "`torch.utils.data.Dataset` object and implementing `__len__` and `__getitem__`. In TensorFlow, we pass our input\n",
        "encodings and labels to the `from_tensor_slices` constructor method. We put the data in this format so that the data\n",
        "can be easily batched such that each key in the batch encoding corresponds to a named parameter of the\n",
        "`DistilBertForSequenceClassification.forward` method of the model we will train."
      ]
    },
    {
      "cell_type": "code",
      "metadata": {
        "id": "b5595ba05zlR"
      },
      "source": [
        "## PYTORCH CODE\n",
        "import torch\n",
        "\n",
        "class IMDbDataset(torch.utils.data.Dataset):\n",
        "    def __init__(self, encodings, labels):\n",
        "        self.encodings = encodings\n",
        "        self.labels = labels\n",
        "\n",
        "    def __getitem__(self, idx):\n",
        "        item = {key: torch.tensor(val[idx]) for key, val in self.encodings.items()}\n",
        "        item['labels'] = torch.tensor(self.labels[idx])\n",
        "        return item\n",
        "\n",
        "    def __len__(self):\n",
        "        return len(self.labels)\n",
        "\n",
        "train_dataset = IMDbDataset(train_encodings, train_labels)\n",
        "val_dataset = IMDbDataset(val_encodings, val_labels)\n",
        "test_dataset = IMDbDataset(test_encodings, test_labels)"
      ],
      "execution_count": null,
      "outputs": []
    },
    {
      "cell_type": "markdown",
      "metadata": {
        "id": "e06toXF35zlS"
      },
      "source": [
        "Now that our datasets our ready, we can fine-tune a model either with the 🤗\n",
        "`Trainer`/`TFTrainer` or with native PyTorch/TensorFlow. See [training](https://huggingface.co/transformers/training.html)."
      ]
    },
    {
      "cell_type": "markdown",
      "metadata": {
        "id": "DSaVZYo45zlT"
      },
      "source": [
        "#### Fine-tuning with Trainer"
      ]
    },
    {
      "cell_type": "markdown",
      "metadata": {
        "id": "6FhdEJmo89Mr"
      },
      "source": [
        "Let's create our custom metrics calculation function in order to measure the performance of the model"
      ]
    },
    {
      "cell_type": "code",
      "metadata": {
        "id": "OEv-E07ATWRg"
      },
      "source": [
        "from sklearn.metrics import accuracy_score, precision_recall_fscore_support\n",
        "\n",
        "def compute_metrics(pred):\n",
        "    labels = pred.label_ids\n",
        "    preds = pred.predictions.argmax(-1)\n",
        "    precision, recall, f1, _ = precision_recall_fscore_support(labels, preds, average='binary')\n",
        "    acc = accuracy_score(labels, preds)\n",
        "    return {\n",
        "        'accuracy': acc,\n",
        "        'f1': f1,\n",
        "        'precision': precision,\n",
        "        'recall': recall\n",
        "    }"
      ],
      "execution_count": null,
      "outputs": []
    },
    {
      "cell_type": "markdown",
      "metadata": {
        "id": "hTXkX7NW5zlT"
      },
      "source": [
        "The steps above prepared the datasets in the way that the trainer is expected. Now all we need to do is create a model\n",
        "to fine-tune, define the `TrainingArguments`/`TFTrainingArguments` and\n",
        "instantiate a `Trainer`/`TFTrainer`."
      ]
    },
    {
      "cell_type": "code",
      "metadata": {
        "id": "0hV_7jKrOqjG",
        "colab": {
          "base_uri": "https://localhost:8080/"
        },
        "outputId": "b1b48619-3af9-43d2-eb8d-48044346c992"
      },
      "source": [
        "from transformers import DistilBertForSequenceClassification\n",
        "\n",
        "model = DistilBertForSequenceClassification.from_pretrained('distilbert-base-uncased')"
      ],
      "execution_count": null,
      "outputs": [
        {
          "output_type": "stream",
          "name": "stderr",
          "text": [
            "Some weights of the model checkpoint at distilbert-base-uncased were not used when initializing DistilBertForSequenceClassification: ['vocab_projector.bias', 'vocab_transform.bias', 'vocab_projector.weight', 'vocab_layer_norm.bias', 'vocab_transform.weight', 'vocab_layer_norm.weight']\n",
            "- This IS expected if you are initializing DistilBertForSequenceClassification from the checkpoint of a model trained on another task or with another architecture (e.g. initializing a BertForSequenceClassification model from a BertForPreTraining model).\n",
            "- This IS NOT expected if you are initializing DistilBertForSequenceClassification from the checkpoint of a model that you expect to be exactly identical (initializing a BertForSequenceClassification model from a BertForSequenceClassification model).\n",
            "Some weights of DistilBertForSequenceClassification were not initialized from the model checkpoint at distilbert-base-uncased and are newly initialized: ['pre_classifier.weight', 'classifier.weight', 'pre_classifier.bias', 'classifier.bias']\n",
            "You should probably TRAIN this model on a down-stream task to be able to use it for predictions and inference.\n"
          ]
        }
      ]
    },
    {
      "cell_type": "markdown",
      "source": [
        "Let's perform the training of our BERT model. We limit the fine-tuning to 1 epoch for time reasons. To get a better performance here you should fine-tune at least for 2-4 epochs."
      ],
      "metadata": {
        "id": "Ak2jRd5wLk1e"
      }
    },
    {
      "cell_type": "code",
      "metadata": {
        "id": "SPk_bOh75zlU",
        "colab": {
          "base_uri": "https://localhost:8080/",
          "height": 1000
        },
        "outputId": "827bf9f2-6562-4226-82ff-941775751f8a"
      },
      "source": [
        "## PYTORCH CODE\n",
        "from transformers import DistilBertForSequenceClassification, Trainer, TrainingArguments, BertForSequenceClassification\n",
        "\n",
        "torch.set_grad_enabled(True) # Enable gradient calculation to perform the training\n",
        "\n",
        "training_args = TrainingArguments(\n",
        "    output_dir='./results',          # output directory\n",
        "    num_train_epochs=1,              # total number of training epochs\n",
        "    per_device_train_batch_size=16,  # batch size per device during training\n",
        "    per_device_eval_batch_size=64,   # batch size for evaluation\n",
        "    warmup_steps=500,                # number of warmup steps for learning rate scheduler\n",
        "    weight_decay=0.01,               # strength of weight decay\n",
        "    logging_dir='./logs',            # directory for storing logs\n",
        "    logging_steps=10,\n",
        ")\n",
        "\n",
        "trainer = Trainer(\n",
        "    model=model,                         # the instantiated 🤗 Transformers model to be trained\n",
        "    args=training_args,                  # training arguments, defined above\n",
        "    train_dataset=train_dataset,         # training dataset\n",
        "    eval_dataset=val_dataset,             # evaluation dataset\n",
        "    compute_metrics=compute_metrics\n",
        ")\n",
        "\n",
        "trainer.train()"
      ],
      "execution_count": null,
      "outputs": [
        {
          "output_type": "stream",
          "name": "stderr",
          "text": [
            "/usr/local/lib/python3.7/dist-packages/transformers/optimization.py:309: FutureWarning: This implementation of AdamW is deprecated and will be removed in a future version. Use the PyTorch implementation torch.optim.AdamW instead, or set `no_deprecation_warning=True` to disable this warning\n",
            "  FutureWarning,\n",
            "***** Running training *****\n",
            "  Num examples = 22500\n",
            "  Num Epochs = 1\n",
            "  Instantaneous batch size per device = 16\n",
            "  Total train batch size (w. parallel, distributed & accumulation) = 16\n",
            "  Gradient Accumulation steps = 1\n",
            "  Total optimization steps = 1407\n"
          ]
        },
        {
          "output_type": "display_data",
          "data": {
            "text/plain": [
              "<IPython.core.display.HTML object>"
            ],
            "text/html": [
              "\n",
              "    <div>\n",
              "      \n",
              "      <progress value='1407' max='1407' style='width:300px; height:20px; vertical-align: middle;'></progress>\n",
              "      [1407/1407 17:40, Epoch 1/1]\n",
              "    </div>\n",
              "    <table border=\"1\" class=\"dataframe\">\n",
              "  <thead>\n",
              " <tr style=\"text-align: left;\">\n",
              "      <th>Step</th>\n",
              "      <th>Training Loss</th>\n",
              "    </tr>\n",
              "  </thead>\n",
              "  <tbody>\n",
              "    <tr>\n",
              "      <td>10</td>\n",
              "      <td>0.703700</td>\n",
              "    </tr>\n",
              "    <tr>\n",
              "      <td>20</td>\n",
              "      <td>0.687900</td>\n",
              "    </tr>\n",
              "    <tr>\n",
              "      <td>30</td>\n",
              "      <td>0.696200</td>\n",
              "    </tr>\n",
              "    <tr>\n",
              "      <td>40</td>\n",
              "      <td>0.691700</td>\n",
              "    </tr>\n",
              "    <tr>\n",
              "      <td>50</td>\n",
              "      <td>0.685900</td>\n",
              "    </tr>\n",
              "    <tr>\n",
              "      <td>60</td>\n",
              "      <td>0.683500</td>\n",
              "    </tr>\n",
              "    <tr>\n",
              "      <td>70</td>\n",
              "      <td>0.679800</td>\n",
              "    </tr>\n",
              "    <tr>\n",
              "      <td>80</td>\n",
              "      <td>0.656100</td>\n",
              "    </tr>\n",
              "    <tr>\n",
              "      <td>90</td>\n",
              "      <td>0.616400</td>\n",
              "    </tr>\n",
              "    <tr>\n",
              "      <td>100</td>\n",
              "      <td>0.535400</td>\n",
              "    </tr>\n",
              "    <tr>\n",
              "      <td>110</td>\n",
              "      <td>0.438900</td>\n",
              "    </tr>\n",
              "    <tr>\n",
              "      <td>120</td>\n",
              "      <td>0.448800</td>\n",
              "    </tr>\n",
              "    <tr>\n",
              "      <td>130</td>\n",
              "      <td>0.418200</td>\n",
              "    </tr>\n",
              "    <tr>\n",
              "      <td>140</td>\n",
              "      <td>0.392200</td>\n",
              "    </tr>\n",
              "    <tr>\n",
              "      <td>150</td>\n",
              "      <td>0.364300</td>\n",
              "    </tr>\n",
              "    <tr>\n",
              "      <td>160</td>\n",
              "      <td>0.329700</td>\n",
              "    </tr>\n",
              "    <tr>\n",
              "      <td>170</td>\n",
              "      <td>0.413900</td>\n",
              "    </tr>\n",
              "    <tr>\n",
              "      <td>180</td>\n",
              "      <td>0.399400</td>\n",
              "    </tr>\n",
              "    <tr>\n",
              "      <td>190</td>\n",
              "      <td>0.406500</td>\n",
              "    </tr>\n",
              "    <tr>\n",
              "      <td>200</td>\n",
              "      <td>0.282500</td>\n",
              "    </tr>\n",
              "    <tr>\n",
              "      <td>210</td>\n",
              "      <td>0.244600</td>\n",
              "    </tr>\n",
              "    <tr>\n",
              "      <td>220</td>\n",
              "      <td>0.326400</td>\n",
              "    </tr>\n",
              "    <tr>\n",
              "      <td>230</td>\n",
              "      <td>0.308000</td>\n",
              "    </tr>\n",
              "    <tr>\n",
              "      <td>240</td>\n",
              "      <td>0.353300</td>\n",
              "    </tr>\n",
              "    <tr>\n",
              "      <td>250</td>\n",
              "      <td>0.368400</td>\n",
              "    </tr>\n",
              "    <tr>\n",
              "      <td>260</td>\n",
              "      <td>0.359000</td>\n",
              "    </tr>\n",
              "    <tr>\n",
              "      <td>270</td>\n",
              "      <td>0.307500</td>\n",
              "    </tr>\n",
              "    <tr>\n",
              "      <td>280</td>\n",
              "      <td>0.401000</td>\n",
              "    </tr>\n",
              "    <tr>\n",
              "      <td>290</td>\n",
              "      <td>0.332500</td>\n",
              "    </tr>\n",
              "    <tr>\n",
              "      <td>300</td>\n",
              "      <td>0.274400</td>\n",
              "    </tr>\n",
              "    <tr>\n",
              "      <td>310</td>\n",
              "      <td>0.352100</td>\n",
              "    </tr>\n",
              "    <tr>\n",
              "      <td>320</td>\n",
              "      <td>0.310300</td>\n",
              "    </tr>\n",
              "    <tr>\n",
              "      <td>330</td>\n",
              "      <td>0.241200</td>\n",
              "    </tr>\n",
              "    <tr>\n",
              "      <td>340</td>\n",
              "      <td>0.286200</td>\n",
              "    </tr>\n",
              "    <tr>\n",
              "      <td>350</td>\n",
              "      <td>0.313200</td>\n",
              "    </tr>\n",
              "    <tr>\n",
              "      <td>360</td>\n",
              "      <td>0.297300</td>\n",
              "    </tr>\n",
              "    <tr>\n",
              "      <td>370</td>\n",
              "      <td>0.237300</td>\n",
              "    </tr>\n",
              "    <tr>\n",
              "      <td>380</td>\n",
              "      <td>0.326100</td>\n",
              "    </tr>\n",
              "    <tr>\n",
              "      <td>390</td>\n",
              "      <td>0.311700</td>\n",
              "    </tr>\n",
              "    <tr>\n",
              "      <td>400</td>\n",
              "      <td>0.254000</td>\n",
              "    </tr>\n",
              "    <tr>\n",
              "      <td>410</td>\n",
              "      <td>0.260000</td>\n",
              "    </tr>\n",
              "    <tr>\n",
              "      <td>420</td>\n",
              "      <td>0.194800</td>\n",
              "    </tr>\n",
              "    <tr>\n",
              "      <td>430</td>\n",
              "      <td>0.355900</td>\n",
              "    </tr>\n",
              "    <tr>\n",
              "      <td>440</td>\n",
              "      <td>0.345700</td>\n",
              "    </tr>\n",
              "    <tr>\n",
              "      <td>450</td>\n",
              "      <td>0.350100</td>\n",
              "    </tr>\n",
              "    <tr>\n",
              "      <td>460</td>\n",
              "      <td>0.292200</td>\n",
              "    </tr>\n",
              "    <tr>\n",
              "      <td>470</td>\n",
              "      <td>0.294200</td>\n",
              "    </tr>\n",
              "    <tr>\n",
              "      <td>480</td>\n",
              "      <td>0.330400</td>\n",
              "    </tr>\n",
              "    <tr>\n",
              "      <td>490</td>\n",
              "      <td>0.292100</td>\n",
              "    </tr>\n",
              "    <tr>\n",
              "      <td>500</td>\n",
              "      <td>0.475200</td>\n",
              "    </tr>\n",
              "    <tr>\n",
              "      <td>510</td>\n",
              "      <td>0.304600</td>\n",
              "    </tr>\n",
              "    <tr>\n",
              "      <td>520</td>\n",
              "      <td>0.421400</td>\n",
              "    </tr>\n",
              "    <tr>\n",
              "      <td>530</td>\n",
              "      <td>0.298900</td>\n",
              "    </tr>\n",
              "    <tr>\n",
              "      <td>540</td>\n",
              "      <td>0.304600</td>\n",
              "    </tr>\n",
              "    <tr>\n",
              "      <td>550</td>\n",
              "      <td>0.276900</td>\n",
              "    </tr>\n",
              "    <tr>\n",
              "      <td>560</td>\n",
              "      <td>0.272400</td>\n",
              "    </tr>\n",
              "    <tr>\n",
              "      <td>570</td>\n",
              "      <td>0.247300</td>\n",
              "    </tr>\n",
              "    <tr>\n",
              "      <td>580</td>\n",
              "      <td>0.311200</td>\n",
              "    </tr>\n",
              "    <tr>\n",
              "      <td>590</td>\n",
              "      <td>0.246100</td>\n",
              "    </tr>\n",
              "    <tr>\n",
              "      <td>600</td>\n",
              "      <td>0.276900</td>\n",
              "    </tr>\n",
              "    <tr>\n",
              "      <td>610</td>\n",
              "      <td>0.276100</td>\n",
              "    </tr>\n",
              "    <tr>\n",
              "      <td>620</td>\n",
              "      <td>0.224700</td>\n",
              "    </tr>\n",
              "    <tr>\n",
              "      <td>630</td>\n",
              "      <td>0.225500</td>\n",
              "    </tr>\n",
              "    <tr>\n",
              "      <td>640</td>\n",
              "      <td>0.358600</td>\n",
              "    </tr>\n",
              "    <tr>\n",
              "      <td>650</td>\n",
              "      <td>0.187600</td>\n",
              "    </tr>\n",
              "    <tr>\n",
              "      <td>660</td>\n",
              "      <td>0.279900</td>\n",
              "    </tr>\n",
              "    <tr>\n",
              "      <td>670</td>\n",
              "      <td>0.244300</td>\n",
              "    </tr>\n",
              "    <tr>\n",
              "      <td>680</td>\n",
              "      <td>0.280700</td>\n",
              "    </tr>\n",
              "    <tr>\n",
              "      <td>690</td>\n",
              "      <td>0.477100</td>\n",
              "    </tr>\n",
              "    <tr>\n",
              "      <td>700</td>\n",
              "      <td>0.242700</td>\n",
              "    </tr>\n",
              "    <tr>\n",
              "      <td>710</td>\n",
              "      <td>0.296000</td>\n",
              "    </tr>\n",
              "    <tr>\n",
              "      <td>720</td>\n",
              "      <td>0.241000</td>\n",
              "    </tr>\n",
              "    <tr>\n",
              "      <td>730</td>\n",
              "      <td>0.216700</td>\n",
              "    </tr>\n",
              "    <tr>\n",
              "      <td>740</td>\n",
              "      <td>0.309300</td>\n",
              "    </tr>\n",
              "    <tr>\n",
              "      <td>750</td>\n",
              "      <td>0.268300</td>\n",
              "    </tr>\n",
              "    <tr>\n",
              "      <td>760</td>\n",
              "      <td>0.274300</td>\n",
              "    </tr>\n",
              "    <tr>\n",
              "      <td>770</td>\n",
              "      <td>0.256900</td>\n",
              "    </tr>\n",
              "    <tr>\n",
              "      <td>780</td>\n",
              "      <td>0.235500</td>\n",
              "    </tr>\n",
              "    <tr>\n",
              "      <td>790</td>\n",
              "      <td>0.267900</td>\n",
              "    </tr>\n",
              "    <tr>\n",
              "      <td>800</td>\n",
              "      <td>0.245700</td>\n",
              "    </tr>\n",
              "    <tr>\n",
              "      <td>810</td>\n",
              "      <td>0.235300</td>\n",
              "    </tr>\n",
              "    <tr>\n",
              "      <td>820</td>\n",
              "      <td>0.139400</td>\n",
              "    </tr>\n",
              "    <tr>\n",
              "      <td>830</td>\n",
              "      <td>0.294800</td>\n",
              "    </tr>\n",
              "    <tr>\n",
              "      <td>840</td>\n",
              "      <td>0.325300</td>\n",
              "    </tr>\n",
              "    <tr>\n",
              "      <td>850</td>\n",
              "      <td>0.181500</td>\n",
              "    </tr>\n",
              "    <tr>\n",
              "      <td>860</td>\n",
              "      <td>0.336600</td>\n",
              "    </tr>\n",
              "    <tr>\n",
              "      <td>870</td>\n",
              "      <td>0.252000</td>\n",
              "    </tr>\n",
              "    <tr>\n",
              "      <td>880</td>\n",
              "      <td>0.186700</td>\n",
              "    </tr>\n",
              "    <tr>\n",
              "      <td>890</td>\n",
              "      <td>0.213500</td>\n",
              "    </tr>\n",
              "    <tr>\n",
              "      <td>900</td>\n",
              "      <td>0.162800</td>\n",
              "    </tr>\n",
              "    <tr>\n",
              "      <td>910</td>\n",
              "      <td>0.269300</td>\n",
              "    </tr>\n",
              "    <tr>\n",
              "      <td>920</td>\n",
              "      <td>0.224000</td>\n",
              "    </tr>\n",
              "    <tr>\n",
              "      <td>930</td>\n",
              "      <td>0.164000</td>\n",
              "    </tr>\n",
              "    <tr>\n",
              "      <td>940</td>\n",
              "      <td>0.246400</td>\n",
              "    </tr>\n",
              "    <tr>\n",
              "      <td>950</td>\n",
              "      <td>0.240400</td>\n",
              "    </tr>\n",
              "    <tr>\n",
              "      <td>960</td>\n",
              "      <td>0.288500</td>\n",
              "    </tr>\n",
              "    <tr>\n",
              "      <td>970</td>\n",
              "      <td>0.292800</td>\n",
              "    </tr>\n",
              "    <tr>\n",
              "      <td>980</td>\n",
              "      <td>0.302400</td>\n",
              "    </tr>\n",
              "    <tr>\n",
              "      <td>990</td>\n",
              "      <td>0.172000</td>\n",
              "    </tr>\n",
              "    <tr>\n",
              "      <td>1000</td>\n",
              "      <td>0.260200</td>\n",
              "    </tr>\n",
              "    <tr>\n",
              "      <td>1010</td>\n",
              "      <td>0.166600</td>\n",
              "    </tr>\n",
              "    <tr>\n",
              "      <td>1020</td>\n",
              "      <td>0.185400</td>\n",
              "    </tr>\n",
              "    <tr>\n",
              "      <td>1030</td>\n",
              "      <td>0.227700</td>\n",
              "    </tr>\n",
              "    <tr>\n",
              "      <td>1040</td>\n",
              "      <td>0.267700</td>\n",
              "    </tr>\n",
              "    <tr>\n",
              "      <td>1050</td>\n",
              "      <td>0.190200</td>\n",
              "    </tr>\n",
              "    <tr>\n",
              "      <td>1060</td>\n",
              "      <td>0.228500</td>\n",
              "    </tr>\n",
              "    <tr>\n",
              "      <td>1070</td>\n",
              "      <td>0.184600</td>\n",
              "    </tr>\n",
              "    <tr>\n",
              "      <td>1080</td>\n",
              "      <td>0.186900</td>\n",
              "    </tr>\n",
              "    <tr>\n",
              "      <td>1090</td>\n",
              "      <td>0.358700</td>\n",
              "    </tr>\n",
              "    <tr>\n",
              "      <td>1100</td>\n",
              "      <td>0.164800</td>\n",
              "    </tr>\n",
              "    <tr>\n",
              "      <td>1110</td>\n",
              "      <td>0.235600</td>\n",
              "    </tr>\n",
              "    <tr>\n",
              "      <td>1120</td>\n",
              "      <td>0.238400</td>\n",
              "    </tr>\n",
              "    <tr>\n",
              "      <td>1130</td>\n",
              "      <td>0.283900</td>\n",
              "    </tr>\n",
              "    <tr>\n",
              "      <td>1140</td>\n",
              "      <td>0.267800</td>\n",
              "    </tr>\n",
              "    <tr>\n",
              "      <td>1150</td>\n",
              "      <td>0.162300</td>\n",
              "    </tr>\n",
              "    <tr>\n",
              "      <td>1160</td>\n",
              "      <td>0.170300</td>\n",
              "    </tr>\n",
              "    <tr>\n",
              "      <td>1170</td>\n",
              "      <td>0.201800</td>\n",
              "    </tr>\n",
              "    <tr>\n",
              "      <td>1180</td>\n",
              "      <td>0.109000</td>\n",
              "    </tr>\n",
              "    <tr>\n",
              "      <td>1190</td>\n",
              "      <td>0.220400</td>\n",
              "    </tr>\n",
              "    <tr>\n",
              "      <td>1200</td>\n",
              "      <td>0.249500</td>\n",
              "    </tr>\n",
              "    <tr>\n",
              "      <td>1210</td>\n",
              "      <td>0.157300</td>\n",
              "    </tr>\n",
              "    <tr>\n",
              "      <td>1220</td>\n",
              "      <td>0.236500</td>\n",
              "    </tr>\n",
              "    <tr>\n",
              "      <td>1230</td>\n",
              "      <td>0.283500</td>\n",
              "    </tr>\n",
              "    <tr>\n",
              "      <td>1240</td>\n",
              "      <td>0.241700</td>\n",
              "    </tr>\n",
              "    <tr>\n",
              "      <td>1250</td>\n",
              "      <td>0.177200</td>\n",
              "    </tr>\n",
              "    <tr>\n",
              "      <td>1260</td>\n",
              "      <td>0.227000</td>\n",
              "    </tr>\n",
              "    <tr>\n",
              "      <td>1270</td>\n",
              "      <td>0.158800</td>\n",
              "    </tr>\n",
              "    <tr>\n",
              "      <td>1280</td>\n",
              "      <td>0.139700</td>\n",
              "    </tr>\n",
              "    <tr>\n",
              "      <td>1290</td>\n",
              "      <td>0.228200</td>\n",
              "    </tr>\n",
              "    <tr>\n",
              "      <td>1300</td>\n",
              "      <td>0.209100</td>\n",
              "    </tr>\n",
              "    <tr>\n",
              "      <td>1310</td>\n",
              "      <td>0.233000</td>\n",
              "    </tr>\n",
              "    <tr>\n",
              "      <td>1320</td>\n",
              "      <td>0.185600</td>\n",
              "    </tr>\n",
              "    <tr>\n",
              "      <td>1330</td>\n",
              "      <td>0.232000</td>\n",
              "    </tr>\n",
              "    <tr>\n",
              "      <td>1340</td>\n",
              "      <td>0.216800</td>\n",
              "    </tr>\n",
              "    <tr>\n",
              "      <td>1350</td>\n",
              "      <td>0.160700</td>\n",
              "    </tr>\n",
              "    <tr>\n",
              "      <td>1360</td>\n",
              "      <td>0.237000</td>\n",
              "    </tr>\n",
              "    <tr>\n",
              "      <td>1370</td>\n",
              "      <td>0.289700</td>\n",
              "    </tr>\n",
              "    <tr>\n",
              "      <td>1380</td>\n",
              "      <td>0.210800</td>\n",
              "    </tr>\n",
              "    <tr>\n",
              "      <td>1390</td>\n",
              "      <td>0.212800</td>\n",
              "    </tr>\n",
              "    <tr>\n",
              "      <td>1400</td>\n",
              "      <td>0.248100</td>\n",
              "    </tr>\n",
              "  </tbody>\n",
              "</table><p>"
            ]
          },
          "metadata": {}
        },
        {
          "output_type": "stream",
          "name": "stderr",
          "text": [
            "Saving model checkpoint to ./results/checkpoint-500\n",
            "Configuration saved in ./results/checkpoint-500/config.json\n",
            "Model weights saved in ./results/checkpoint-500/pytorch_model.bin\n",
            "Saving model checkpoint to ./results/checkpoint-1000\n",
            "Configuration saved in ./results/checkpoint-1000/config.json\n",
            "Model weights saved in ./results/checkpoint-1000/pytorch_model.bin\n",
            "\n",
            "\n",
            "Training completed. Do not forget to share your model on huggingface.co/models =)\n",
            "\n",
            "\n"
          ]
        },
        {
          "output_type": "execute_result",
          "data": {
            "text/plain": [
              "TrainOutput(global_step=1407, training_loss=0.29731812372051747, metrics={'train_runtime': 1061.6399, 'train_samples_per_second': 21.194, 'train_steps_per_second': 1.325, 'total_flos': 2980516469760000.0, 'train_loss': 0.29731812372051747, 'epoch': 1.0})"
            ]
          },
          "metadata": {},
          "execution_count": 145
        }
      ]
    },
    {
      "cell_type": "markdown",
      "metadata": {
        "id": "49MrvWlkpMis"
      },
      "source": [
        "Once the model is trained we can evaluate it on the test set."
      ]
    },
    {
      "cell_type": "code",
      "metadata": {
        "id": "tKXcpaR6PPFB",
        "colab": {
          "base_uri": "https://localhost:8080/",
          "height": 245
        },
        "outputId": "8417e30d-a4bf-42e2-c338-b1690cb62435"
      },
      "source": [
        "trainer.evaluate(test_dataset)"
      ],
      "execution_count": null,
      "outputs": [
        {
          "output_type": "stream",
          "name": "stderr",
          "text": [
            "***** Running Evaluation *****\n",
            "  Num examples = 25000\n",
            "  Batch size = 64\n"
          ]
        },
        {
          "output_type": "display_data",
          "data": {
            "text/plain": [
              "<IPython.core.display.HTML object>"
            ],
            "text/html": [
              "\n",
              "    <div>\n",
              "      \n",
              "      <progress value='391' max='391' style='width:300px; height:20px; vertical-align: middle;'></progress>\n",
              "      [391/391 06:46]\n",
              "    </div>\n",
              "    "
            ]
          },
          "metadata": {}
        },
        {
          "output_type": "execute_result",
          "data": {
            "text/plain": [
              "{'epoch': 1.0,\n",
              " 'eval_accuracy': 0.92824,\n",
              " 'eval_f1': 0.9288941736028538,\n",
              " 'eval_loss': 0.19458365440368652,\n",
              " 'eval_precision': 0.9205027494108405,\n",
              " 'eval_recall': 0.93744,\n",
              " 'eval_runtime': 407.922,\n",
              " 'eval_samples_per_second': 61.286,\n",
              " 'eval_steps_per_second': 0.959}"
            ]
          },
          "metadata": {},
          "execution_count": 146
        }
      ]
    },
    {
      "cell_type": "markdown",
      "source": [
        "We successfully boosted the performance got by the RNNs previously, even if we used the distilled version of BERT fine-tuned for only one epoch. BERT larger models can reach accuracies up to almost 96% on this dataset and task (http://nlpprogress.com/english/sentiment_analysis.html)."
      ],
      "metadata": {
        "id": "rQyJc2G3hJh1"
      }
    },
    {
      "cell_type": "markdown",
      "source": [
        "Finally, you can try to perform the sentiment classification on a arbitrary sentence."
      ],
      "metadata": {
        "id": "7kYGLLACdtvM"
      }
    },
    {
      "cell_type": "code",
      "metadata": {
        "colab": {
          "base_uri": "https://localhost:8080/",
          "height": 196
        },
        "id": "hMOec1eCAl-m",
        "outputId": "05d31b13-dd31-4bcf-cf43-dff6d3702fec"
      },
      "source": [
        "sentence_to_be_classified = \"I won't buy again this product.\"  # You can type an arbitrary sentence to be summarized\n",
        "\n",
        "on_demand_test_encodings = tokenizer([sentence_to_be_classified], truncation=True, padding=True)\n",
        "on_demand_test_dataset = IMDbDataset(on_demand_test_encodings, le.transform(['neg']))\n",
        "\n",
        "result = trainer.predict(on_demand_test_dataset)\n",
        "print(\"Logits: \" + str(result.predictions))"
      ],
      "execution_count": null,
      "outputs": [
        {
          "output_type": "stream",
          "name": "stderr",
          "text": [
            "***** Running Prediction *****\n",
            "  Num examples = 1\n",
            "  Batch size = 64\n"
          ]
        },
        {
          "output_type": "display_data",
          "data": {
            "text/plain": [
              "<IPython.core.display.HTML object>"
            ],
            "text/html": [
              "\n",
              "    <div>\n",
              "      \n",
              "      <progress value='392' max='391' style='width:300px; height:20px; vertical-align: middle;'></progress>\n",
              "      [391/391 06:46]\n",
              "    </div>\n",
              "    "
            ]
          },
          "metadata": {}
        },
        {
          "output_type": "stream",
          "name": "stdout",
          "text": [
            "Logits: [[ 1.523461  -1.1036282]]\n"
          ]
        },
        {
          "output_type": "stream",
          "name": "stderr",
          "text": [
            "/usr/local/lib/python3.7/dist-packages/sklearn/metrics/_classification.py:1318: UndefinedMetricWarning: Precision and F-score are ill-defined and being set to 0.0 due to no predicted samples. Use `zero_division` parameter to control this behavior.\n",
            "  _warn_prf(average, modifier, msg_start, len(result))\n",
            "/usr/local/lib/python3.7/dist-packages/sklearn/metrics/_classification.py:1318: UndefinedMetricWarning: Recall and F-score are ill-defined and being set to 0.0 due to no true samples. Use `zero_division` parameter to control this behavior.\n",
            "  _warn_prf(average, modifier, msg_start, len(result))\n"
          ]
        }
      ]
    },
    {
      "cell_type": "markdown",
      "source": [
        "We got the logit predictions, but if you want probabilities you have to convert them using a softmax transformation. Then we can get the predicted class."
      ],
      "metadata": {
        "id": "_DeYBaU-MMqW"
      }
    },
    {
      "cell_type": "code",
      "source": [
        "import torch\n",
        "\n",
        "# Convert logits to probabilities using softmax\n",
        "p = torch.nn.functional.softmax(torch.from_numpy(result.predictions), dim=1)\n",
        "print(\"Probabilities: \" + str(p))\n",
        "\n",
        "# Get the predicted classes for each output\n",
        "top_p, top_class = p.topk(1, dim = 1)\n",
        "print(\"Top class: \" + str(top_class[0][0].item()))\n",
        "\n",
        "print() \n",
        "\n",
        "if (top_class.numpy()[0] == 1):\n",
        "  print('The sentence polarity is positive')\n",
        "else:\n",
        "  print('The sentence polarity is negative.')"
      ],
      "metadata": {
        "colab": {
          "base_uri": "https://localhost:8080/"
        },
        "id": "d8TAJoL1MIgU",
        "outputId": "942256f6-c239-4e25-c101-99ff85d7c9c4"
      },
      "execution_count": null,
      "outputs": [
        {
          "output_type": "stream",
          "name": "stdout",
          "text": [
            "Probabilities: tensor([[0.9326, 0.0674]])\n",
            "Top class: 0\n",
            "\n",
            "The sentence polarity is negative.\n"
          ]
        }
      ]
    }
  ]
}