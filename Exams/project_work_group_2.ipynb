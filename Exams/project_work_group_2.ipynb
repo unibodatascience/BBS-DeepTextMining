{
  "nbformat": 4,
  "nbformat_minor": 0,
  "metadata": {
    "kernelspec": {
      "name": "python3",
      "display_name": "Python 3"
    },
    "colab": {
      "name": "project-work-group-2.ipynb",
      "provenance": [],
      "collapsed_sections": []
    },
    "language_info": {
      "name": "python"
    }
  },
  "cells": [
    {
      "cell_type": "markdown",
      "metadata": {
        "id": "z0aegAFNihDz"
      },
      "source": [
        "# Text Mining Project Work (Group 2)\n",
        "\n",
        "**Text Classification and Sentiment Analysis**\n",
        "\n",
        "_Prof. Gianluca Moro, Dott. Ing. Nicola Piscaglia – DISI, University of Bologna_\n",
        "\n",
        "**Bologna Business School** - Alma Mater Studiorum Università di Bologna"
      ]
    },
    {
      "cell_type": "markdown",
      "metadata": {
        "id": "WOBjMeN9i6TV"
      },
      "source": [
        "## Instructions\n",
        "- The provided exercises must be executed by the students of Group 2\n",
        "- At the end, the file must contain all the required results (as code cell outputs) along with all the commands necessary to reproduce them; \n",
        "- The function of every command or group of related commands\n",
        "must be documented clearly and concisely. \n",
        "- The submission deadline is the 1st July 2022.\n",
        "- When finished, one team member will send the notebook file (having .ipynb extension) via mail (using your BBS email account) to the teacher (nicola.piscaglia@bbs.unibo.it) indicating “[BBS Teamwork] Your last names” as subject, also keeping an own copy of the file for safety.\n",
        "- You are allowed to consult the teaching material and to search the Web for quick reference. \n",
        "- If still in doubt about anything, ask the teacher\n",
        "- It is severely NOT allowed to communicate with other teams. Ask the teacher for any clarification about the exercises.\n",
        "- Each correctly developed point counts 2/30."
      ]
    },
    {
      "cell_type": "markdown",
      "source": [
        "##Setup"
      ],
      "metadata": {
        "id": "U51JJBSVeIvz"
      }
    },
    {
      "cell_type": "markdown",
      "source": [
        "Run the following to import some necessary packages and download all the needed files."
      ],
      "metadata": {
        "id": "wq-rJLYrfGho"
      }
    },
    {
      "cell_type": "code",
      "source": [
        "import os\n",
        "from urllib.request import urlretrieve\n",
        "import pandas as pd"
      ],
      "metadata": {
        "id": "PnCN7H1geyyf"
      },
      "execution_count": null,
      "outputs": []
    },
    {
      "cell_type": "code",
      "source": [
        "def download(file, url):\n",
        "    if not os.path.exists(file):\n",
        "        urlretrieve(url, file)"
      ],
      "metadata": {
        "id": "fu_7tBMOepHM"
      },
      "execution_count": null,
      "outputs": []
    },
    {
      "cell_type": "code",
      "source": [
        "download(\"reviews-books.csv.gz\", \"https://www.dropbox.com/s/otbdd2u7x9ylzku/reviews-books.csv.gz?dl=1\")\n",
        "download(\"reviews-electronics.csv.gz\", \"https://www.dropbox.com/s/6tjqidwp8cwqfkq/reviews-electronics.csv.gz?dl=1\")\n",
        "download(\"reviews-music.csv.gz\", \"https://www.dropbox.com/s/radmd3pjerw143z/reviews-music.csv.gz?dl=1\")"
      ],
      "metadata": {
        "id": "urxyu9RweWo8"
      },
      "execution_count": null,
      "outputs": []
    },
    {
      "cell_type": "code",
      "source": [
        "download(\"positive-words.txt\", \"https://www.dropbox.com/s/pmju477pv8ayzho/positive-words.txt?dl=1\")\n",
        "download(\"negative-words.txt\", \"https://www.dropbox.com/s/yy4l1ezlrsar8cf/negative-words.txt?dl=1\")"
      ],
      "metadata": {
        "id": "_PZbKB6qfM0G"
      },
      "execution_count": null,
      "outputs": []
    },
    {
      "cell_type": "markdown",
      "source": [
        "##Exercises"
      ],
      "metadata": {
        "id": "arGpnMs2eKMB"
      }
    },
    {
      "cell_type": "markdown",
      "source": [
        "1) Load the dataset contained in `reviews-books.csv.gz` file in a new dataframe named `reviews_A`. Then load the dataset contained in `reviews-electronics.csv.gz` file in a new dataframe named `reviews_B` and the dataset contained in `reviews-music.csv.gz` in a new dataframe named `reviews_C`. Finally, read from `positive-words.txt` and `negative-words.txt` files the opinion word lists putting them to two new variables `pos_words` and `neg_words` respectively"
      ],
      "metadata": {
        "id": "lBSt1y2agFE9"
      }
    },
    {
      "cell_type": "markdown",
      "metadata": {
        "id": "GJADgDZFihEG"
      },
      "source": [
        "2) Print the first five rows of the two datasets. Then, print the cardinality of the 3 `reviews_X` datasets and the distribution of the `label` feature."
      ]
    },
    {
      "cell_type": "markdown",
      "metadata": {
        "id": "WXg0Vw1kihEX"
      },
      "source": [
        "3) Split `reviews_A` into train and test set by selecting the first reviews half as train set and the second one as test set."
      ]
    },
    {
      "cell_type": "markdown",
      "metadata": {
        "id": "c357B6OmihEY"
      },
      "source": [
        "4) Classify the reviews provided in the `reviews_A` test set by first assigning to each a score equal to the number of known positive words within it minus the number of negative words, then return  \"pos\" for reviews with a positive score and \"neg\" for reviews with a negative or null score.\n",
        "\n",
        "Start with the setup of NLTK and the definition of the scoring function.\n",
        "Then, apply the function to all the `reviews_A` in the test set.\n",
        "Finally, compare the obtained labels with the known ones and compute the accuracy as the ratio of matches."
      ]
    },
    {
      "cell_type": "markdown",
      "metadata": {
        "id": "NyroDWVoihEz"
      },
      "source": [
        "5) Create a pipeline including a `CountVectorizer` to convert reviews into word count vectors and a `LogisticRegression` model"
      ]
    },
    {
      "cell_type": "markdown",
      "metadata": {
        "id": "9qy6cAiuihE5"
      },
      "source": [
        "6) Train the model on all `reviews_B` data"
      ]
    },
    {
      "cell_type": "markdown",
      "metadata": {
        "id": "RdC3yKxxihFC"
      },
      "source": [
        "7) Evaluate the model on the `reviews_A` test set"
      ]
    },
    {
      "cell_type": "markdown",
      "metadata": {
        "id": "Crs7chcBihFP"
      },
      "source": [
        "8) Create a new pipeline as above, but replacing the `CountVectorizer` in the pipeline with a `TfidfVectorizer`"
      ]
    },
    {
      "cell_type": "markdown",
      "source": [
        "9) Fit the new pipeline all the `reviews_B` data"
      ],
      "metadata": {
        "id": "nd320SxXu6_9"
      }
    },
    {
      "cell_type": "markdown",
      "source": [
        "10) Evaluate the new model on the `reviews_A` test set"
      ],
      "metadata": {
        "id": "GY0RBnF1vm1L"
      }
    },
    {
      "cell_type": "markdown",
      "metadata": {
        "id": "1SCmzFpYihFm"
      },
      "source": [
        "11) Repeat points 8, 9 and 10 but set the `ngram_range` parameter of the `TfidfVectorizer` to include bigrams"
      ]
    },
    {
      "cell_type": "markdown",
      "metadata": {
        "id": "-Z8-7qwTihF4"
      },
      "source": [
        "12) Repeat the evaluation of the three models above, this time on all the `reviews_C` data"
      ]
    },
    {
      "cell_type": "markdown",
      "source": [
        "13) Get the predictions for each classification model used so far (you should already have the predictions for the first unsupervised model) on the `reviews_A` test data. Then, for each pair of the four classifier considered so far, indicate whether the predictions provided by the two compared classifiers on the `reviews_A` test set are significantly similar or different using the McNemar’s test (consider a 95% confidence level, i.e. p-value must be > 0.05 for models to be significantly similar). \n",
        "\n",
        "To obtain the p-value, use the provided `mcnemar_pval` function providing the arrays with the labels predicted by the two models and the true ones.\n",
        "\n",
        "```\n",
        "mcnemar_pval(model1_predictions, model2_predictions, reviews_A_test[\"label\"])\n",
        "```\n",
        "Note: McNemar test cannot be applied to compare two models on different test set data.\n"
      ],
      "metadata": {
        "id": "Wp6hj-G5zPAd"
      }
    },
    {
      "cell_type": "code",
      "source": [
        "from statsmodels.stats.contingency_tables import mcnemar\n",
        "\n",
        "def mcnemar_pval(p1, p2, y_test):\n",
        "    model1_errors = p1 != y_test\n",
        "    model2_errors = p2 != y_test\n",
        "\n",
        "    # define contingency table\n",
        "    mc_table = pd.crosstab(model1_errors, model2_errors)\n",
        "    \n",
        "    print(mc_table)\n",
        "    \n",
        "    # calculate mcnemar test\n",
        "    mc_result = mcnemar(mc_table)\n",
        "    return mc_result.pvalue"
      ],
      "metadata": {
        "colab": {
          "base_uri": "https://localhost:8080/"
        },
        "id": "deSWd-yM07Hs",
        "outputId": "e35873ac-5c94-4515-e325-c9f611c3d7ee"
      },
      "execution_count": null,
      "outputs": [
        {
          "output_type": "stream",
          "name": "stderr",
          "text": [
            "/usr/local/lib/python3.7/dist-packages/statsmodels/tools/_testing.py:19: FutureWarning: pandas.util.testing is deprecated. Use the functions in the public API at pandas.testing instead.\n",
            "  import pandas.util.testing as tm\n"
          ]
        }
      ]
    },
    {
      "cell_type": "markdown",
      "source": [
        "14) Build a 300-dimensional Word2Vec vector space on all `reviews_A` data using a window size equals to 7 and excluding all the terms that appear less than 10 times."
      ],
      "metadata": {
        "id": "W-ZXVE1Ht4aY"
      }
    },
    {
      "cell_type": "markdown",
      "source": [
        "15) Find the 25 words most similar to the word \"*interesting*\" in the vector space just built."
      ],
      "metadata": {
        "id": "M-tIxApgv00-"
      }
    },
    {
      "cell_type": "markdown",
      "source": [
        "16) Extra: train/fine-tune a transformer-based model (e.g. BERT) on `reviews_A` training reviews and evaluate it on the `reviews_A` test reviews."
      ],
      "metadata": {
        "id": "8JSVjRY1gDzj"
      }
    }
  ]
}